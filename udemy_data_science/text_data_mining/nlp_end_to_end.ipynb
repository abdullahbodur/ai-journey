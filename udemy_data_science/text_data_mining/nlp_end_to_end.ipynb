{
 "cells": [
  {
   "cell_type": "markdown",
   "id": "ca92af54-2d5e-4fde-a829-170cfdbb4a56",
   "metadata": {},
   "source": [
    "## Sentiment Analizi & Sınıflandırma Problemleri"
   ]
  },
  {
   "cell_type": "code",
   "execution_count": 64,
   "id": "c33e2a5c-f7ea-4454-b7d5-e68a6b7a0070",
   "metadata": {},
   "outputs": [],
   "source": [
    "from textblob import TextBlob\n",
    "from sklearn import model_selection, preprocessing, linear_model, naive_bayes, metrics\n",
    "from sklearn.feature_extraction.text import TfidfVectorizer, CountVectorizer\n",
    "from sklearn import decomposition, ensemble\n",
    "\n",
    "import pandas, xgboost, numpy, textblob, string\n",
    "from keras.preprocessing import text, sequence\n",
    "from keras import layers, models, optimizers\n",
    "\n",
    "\n",
    "from warnings import filterwarnings\n",
    "filterwarnings('ignore')"
   ]
  },
  {
   "cell_type": "code",
   "execution_count": null,
   "id": "1da66f97-1a60-4056-a8d6-1a654188bb82",
   "metadata": {},
   "outputs": [],
   "source": []
  },
  {
   "cell_type": "code",
   "execution_count": 2,
   "id": "33a1d7c0-c41c-4af2-9267-ddd2849d4eba",
   "metadata": {},
   "outputs": [],
   "source": [
    "import pandas as pd\n",
    "data = pd.read_csv('train.tsv',sep='\\t')"
   ]
  },
  {
   "cell_type": "code",
   "execution_count": 3,
   "id": "391e23f6-0514-43f7-a12d-a58dc53b19b7",
   "metadata": {},
   "outputs": [
    {
     "data": {
      "text/html": [
       "<div>\n",
       "<style scoped>\n",
       "    .dataframe tbody tr th:only-of-type {\n",
       "        vertical-align: middle;\n",
       "    }\n",
       "\n",
       "    .dataframe tbody tr th {\n",
       "        vertical-align: top;\n",
       "    }\n",
       "\n",
       "    .dataframe thead th {\n",
       "        text-align: right;\n",
       "    }\n",
       "</style>\n",
       "<table border=\"1\" class=\"dataframe\">\n",
       "  <thead>\n",
       "    <tr style=\"text-align: right;\">\n",
       "      <th></th>\n",
       "      <th>PhraseId</th>\n",
       "      <th>SentenceId</th>\n",
       "      <th>Phrase</th>\n",
       "      <th>Sentiment</th>\n",
       "    </tr>\n",
       "  </thead>\n",
       "  <tbody>\n",
       "    <tr>\n",
       "      <th>0</th>\n",
       "      <td>1</td>\n",
       "      <td>1</td>\n",
       "      <td>A series of escapades demonstrating the adage ...</td>\n",
       "      <td>1</td>\n",
       "    </tr>\n",
       "    <tr>\n",
       "      <th>1</th>\n",
       "      <td>2</td>\n",
       "      <td>1</td>\n",
       "      <td>A series of escapades demonstrating the adage ...</td>\n",
       "      <td>2</td>\n",
       "    </tr>\n",
       "    <tr>\n",
       "      <th>2</th>\n",
       "      <td>3</td>\n",
       "      <td>1</td>\n",
       "      <td>A series</td>\n",
       "      <td>2</td>\n",
       "    </tr>\n",
       "    <tr>\n",
       "      <th>3</th>\n",
       "      <td>4</td>\n",
       "      <td>1</td>\n",
       "      <td>A</td>\n",
       "      <td>2</td>\n",
       "    </tr>\n",
       "    <tr>\n",
       "      <th>4</th>\n",
       "      <td>5</td>\n",
       "      <td>1</td>\n",
       "      <td>series</td>\n",
       "      <td>2</td>\n",
       "    </tr>\n",
       "  </tbody>\n",
       "</table>\n",
       "</div>"
      ],
      "text/plain": [
       "   PhraseId  SentenceId                                             Phrase  \\\n",
       "0         1           1  A series of escapades demonstrating the adage ...   \n",
       "1         2           1  A series of escapades demonstrating the adage ...   \n",
       "2         3           1                                           A series   \n",
       "3         4           1                                                  A   \n",
       "4         5           1                                             series   \n",
       "\n",
       "   Sentiment  \n",
       "0          1  \n",
       "1          2  \n",
       "2          2  \n",
       "3          2  \n",
       "4          2  "
      ]
     },
     "execution_count": 3,
     "metadata": {},
     "output_type": "execute_result"
    }
   ],
   "source": [
    "data.head()"
   ]
  },
  {
   "cell_type": "markdown",
   "id": "5402f930-6b89-4217-a821-fb0adcfc57e7",
   "metadata": {},
   "source": [
    "#### Yapacaklarımız\n",
    "\n",
    "Verisetinde hazır sentiment değişkeni oluşturulmuş. Biz bu değişken olmasaydı bile kendimiz bunu oluşturacaktık. <br>\n",
    "\n",
    "* Sentiment değişkenini oluşturma\n",
    "\n",
    "Hazır oluşturulmuş sentiment  0-4 arasında değer almakta... <br><br>\n",
    "\n",
    "0-1 : kötü yorum skorları<br>\n",
    "2 : orta sınıf <br>\n",
    "3-4 : iyi yorum skoraları<br><br>\n",
    "\n",
    "* biz bu aralığı negative-positive taglemesi yapacağız....<br>"
   ]
  },
  {
   "cell_type": "code",
   "execution_count": null,
   "id": "d9d4e065-0373-41f5-9d74-3b8d757b808b",
   "metadata": {},
   "outputs": [],
   "source": []
  },
  {
   "cell_type": "markdown",
   "id": "09fd417e-f878-456c-90bc-11f4dae3c7ca",
   "metadata": {},
   "source": [
    "#### NEG-POS Taglemesi"
   ]
  },
  {
   "cell_type": "code",
   "execution_count": 4,
   "id": "8e1ae70c-ad3e-4c39-a43d-f00cf3237a27",
   "metadata": {},
   "outputs": [],
   "source": [
    "# negatifler"
   ]
  },
  {
   "cell_type": "code",
   "execution_count": 5,
   "id": "ea4c34f8-0e62-47a4-befe-980b83b09780",
   "metadata": {},
   "outputs": [],
   "source": [
    "data['Sentiment'].replace(0,value = 'negative',inplace=True)\n",
    "data['Sentiment'].replace(1,value = 'negative',inplace=True)"
   ]
  },
  {
   "cell_type": "code",
   "execution_count": 6,
   "id": "4cbf9753-9a06-494f-b527-9773a4675b98",
   "metadata": {},
   "outputs": [],
   "source": [
    "# pozitifler"
   ]
  },
  {
   "cell_type": "code",
   "execution_count": 7,
   "id": "1ea27ef4-b297-4e83-b0fc-5b90e5763f7a",
   "metadata": {},
   "outputs": [],
   "source": [
    "data['Sentiment'].replace(3,value = 'positive',inplace=True)\n",
    "data['Sentiment'].replace(4,value = 'positive',inplace=True)"
   ]
  },
  {
   "cell_type": "code",
   "execution_count": 8,
   "id": "fd1dc3c2-55da-4df5-9fea-72039fa2f4c2",
   "metadata": {},
   "outputs": [],
   "source": [
    "# 2 değerini dışarıda bırakalım....."
   ]
  },
  {
   "cell_type": "code",
   "execution_count": 9,
   "id": "8f448599-f05f-4f5a-87f9-3773899cc6b2",
   "metadata": {},
   "outputs": [],
   "source": [
    "data = data[data.Sentiment != 2]"
   ]
  },
  {
   "cell_type": "code",
   "execution_count": 10,
   "id": "40c5f488-d516-4e58-8262-6e19789a4e3d",
   "metadata": {},
   "outputs": [
    {
     "data": {
      "text/html": [
       "<div>\n",
       "<style scoped>\n",
       "    .dataframe tbody tr th:only-of-type {\n",
       "        vertical-align: middle;\n",
       "    }\n",
       "\n",
       "    .dataframe tbody tr th {\n",
       "        vertical-align: top;\n",
       "    }\n",
       "\n",
       "    .dataframe thead th {\n",
       "        text-align: right;\n",
       "    }\n",
       "</style>\n",
       "<table border=\"1\" class=\"dataframe\">\n",
       "  <thead>\n",
       "    <tr style=\"text-align: right;\">\n",
       "      <th></th>\n",
       "      <th>PhraseId</th>\n",
       "      <th>SentenceId</th>\n",
       "      <th>Phrase</th>\n",
       "      <th>Sentiment</th>\n",
       "    </tr>\n",
       "  </thead>\n",
       "  <tbody>\n",
       "    <tr>\n",
       "      <th>0</th>\n",
       "      <td>1</td>\n",
       "      <td>1</td>\n",
       "      <td>A series of escapades demonstrating the adage ...</td>\n",
       "      <td>negative</td>\n",
       "    </tr>\n",
       "    <tr>\n",
       "      <th>21</th>\n",
       "      <td>22</td>\n",
       "      <td>1</td>\n",
       "      <td>good for the goose</td>\n",
       "      <td>positive</td>\n",
       "    </tr>\n",
       "    <tr>\n",
       "      <th>22</th>\n",
       "      <td>23</td>\n",
       "      <td>1</td>\n",
       "      <td>good</td>\n",
       "      <td>positive</td>\n",
       "    </tr>\n",
       "    <tr>\n",
       "      <th>33</th>\n",
       "      <td>34</td>\n",
       "      <td>1</td>\n",
       "      <td>the gander , some of which occasionally amuses...</td>\n",
       "      <td>negative</td>\n",
       "    </tr>\n",
       "    <tr>\n",
       "      <th>46</th>\n",
       "      <td>47</td>\n",
       "      <td>1</td>\n",
       "      <td>amuses</td>\n",
       "      <td>positive</td>\n",
       "    </tr>\n",
       "  </tbody>\n",
       "</table>\n",
       "</div>"
      ],
      "text/plain": [
       "    PhraseId  SentenceId                                             Phrase  \\\n",
       "0          1           1  A series of escapades demonstrating the adage ...   \n",
       "21        22           1                                 good for the goose   \n",
       "22        23           1                                               good   \n",
       "33        34           1  the gander , some of which occasionally amuses...   \n",
       "46        47           1                                             amuses   \n",
       "\n",
       "   Sentiment  \n",
       "0   negative  \n",
       "21  positive  \n",
       "22  positive  \n",
       "33  negative  \n",
       "46  positive  "
      ]
     },
     "execution_count": 10,
     "metadata": {},
     "output_type": "execute_result"
    }
   ],
   "source": [
    "data.head()"
   ]
  },
  {
   "cell_type": "code",
   "execution_count": 11,
   "id": "21cbd4fa-0359-4db2-a27d-5ab4e8da3c59",
   "metadata": {},
   "outputs": [],
   "source": [
    "# kontrol edelim"
   ]
  },
  {
   "cell_type": "code",
   "execution_count": 12,
   "id": "bd25613c-a432-46c1-bd12-d176db1b7adc",
   "metadata": {},
   "outputs": [
    {
     "data": {
      "text/html": [
       "<div>\n",
       "<style scoped>\n",
       "    .dataframe tbody tr th:only-of-type {\n",
       "        vertical-align: middle;\n",
       "    }\n",
       "\n",
       "    .dataframe tbody tr th {\n",
       "        vertical-align: top;\n",
       "    }\n",
       "\n",
       "    .dataframe thead th {\n",
       "        text-align: right;\n",
       "    }\n",
       "</style>\n",
       "<table border=\"1\" class=\"dataframe\">\n",
       "  <thead>\n",
       "    <tr style=\"text-align: right;\">\n",
       "      <th></th>\n",
       "      <th>PhraseId</th>\n",
       "      <th>SentenceId</th>\n",
       "      <th>Phrase</th>\n",
       "    </tr>\n",
       "    <tr>\n",
       "      <th>Sentiment</th>\n",
       "      <th></th>\n",
       "      <th></th>\n",
       "      <th></th>\n",
       "    </tr>\n",
       "  </thead>\n",
       "  <tbody>\n",
       "    <tr>\n",
       "      <th>negative</th>\n",
       "      <td>34345</td>\n",
       "      <td>34345</td>\n",
       "      <td>34345</td>\n",
       "    </tr>\n",
       "    <tr>\n",
       "      <th>positive</th>\n",
       "      <td>42133</td>\n",
       "      <td>42133</td>\n",
       "      <td>42133</td>\n",
       "    </tr>\n",
       "  </tbody>\n",
       "</table>\n",
       "</div>"
      ],
      "text/plain": [
       "           PhraseId  SentenceId  Phrase\n",
       "Sentiment                              \n",
       "negative      34345       34345   34345\n",
       "positive      42133       42133   42133"
      ]
     },
     "execution_count": 12,
     "metadata": {},
     "output_type": "execute_result"
    }
   ],
   "source": [
    "data.groupby('Sentiment').count()"
   ]
  },
  {
   "cell_type": "code",
   "execution_count": null,
   "id": "a8a91c2f-2676-449a-a2cd-e92c8246680a",
   "metadata": {},
   "outputs": [],
   "source": []
  },
  {
   "cell_type": "code",
   "execution_count": 13,
   "id": "d9c3b3d2-d316-4063-b381-cbfe9cc0ecaa",
   "metadata": {},
   "outputs": [],
   "source": [
    "# metini ön işlemeden önce dataframe i 2 değişkene indirgeyelim..."
   ]
  },
  {
   "cell_type": "code",
   "execution_count": 14,
   "id": "8b280649-edbe-42ec-8941-b64822e5cb6b",
   "metadata": {},
   "outputs": [],
   "source": [
    "df = pd.DataFrame()\n",
    "df['text'] = data['Phrase'].copy()\n",
    "df['label'] = data['Sentiment'].copy()"
   ]
  },
  {
   "cell_type": "code",
   "execution_count": 15,
   "id": "97a840bc-b486-434b-928d-6e155c29f45f",
   "metadata": {},
   "outputs": [
    {
     "data": {
      "text/html": [
       "<div>\n",
       "<style scoped>\n",
       "    .dataframe tbody tr th:only-of-type {\n",
       "        vertical-align: middle;\n",
       "    }\n",
       "\n",
       "    .dataframe tbody tr th {\n",
       "        vertical-align: top;\n",
       "    }\n",
       "\n",
       "    .dataframe thead th {\n",
       "        text-align: right;\n",
       "    }\n",
       "</style>\n",
       "<table border=\"1\" class=\"dataframe\">\n",
       "  <thead>\n",
       "    <tr style=\"text-align: right;\">\n",
       "      <th></th>\n",
       "      <th>text</th>\n",
       "      <th>label</th>\n",
       "    </tr>\n",
       "  </thead>\n",
       "  <tbody>\n",
       "    <tr>\n",
       "      <th>0</th>\n",
       "      <td>A series of escapades demonstrating the adage ...</td>\n",
       "      <td>negative</td>\n",
       "    </tr>\n",
       "    <tr>\n",
       "      <th>21</th>\n",
       "      <td>good for the goose</td>\n",
       "      <td>positive</td>\n",
       "    </tr>\n",
       "    <tr>\n",
       "      <th>22</th>\n",
       "      <td>good</td>\n",
       "      <td>positive</td>\n",
       "    </tr>\n",
       "    <tr>\n",
       "      <th>33</th>\n",
       "      <td>the gander , some of which occasionally amuses...</td>\n",
       "      <td>negative</td>\n",
       "    </tr>\n",
       "    <tr>\n",
       "      <th>46</th>\n",
       "      <td>amuses</td>\n",
       "      <td>positive</td>\n",
       "    </tr>\n",
       "  </tbody>\n",
       "</table>\n",
       "</div>"
      ],
      "text/plain": [
       "                                                 text     label\n",
       "0   A series of escapades demonstrating the adage ...  negative\n",
       "21                                 good for the goose  positive\n",
       "22                                               good  positive\n",
       "33  the gander , some of which occasionally amuses...  negative\n",
       "46                                             amuses  positive"
      ]
     },
     "execution_count": 15,
     "metadata": {},
     "output_type": "execute_result"
    }
   ],
   "source": [
    "df.head()"
   ]
  },
  {
   "cell_type": "markdown",
   "id": "0bc998c1-fcca-432a-b7b7-3d2ae1b37e24",
   "metadata": {},
   "source": [
    "#### Metin Ön İşleme"
   ]
  },
  {
   "cell_type": "code",
   "execution_count": 16,
   "id": "95306b22-24c3-4b05-8b81-108aa9342961",
   "metadata": {},
   "outputs": [],
   "source": [
    "# lower\n",
    "df['text'] = df['text'].apply(lambda x : x.lower())\n",
    "\n",
    "# noktalama işaretleri\n",
    "df['text'] = df['text'].str.replace('[^\\w\\s]','')\n",
    "\n",
    "# sayılar\n",
    "df['text'] = df['text'].str.replace('\\d','')\n",
    "\n",
    "# stopwords\n",
    "import nltk\n",
    "\n",
    "from nltk.corpus import stopwords\n",
    "sw = stopwords.words('english')\n",
    "\n",
    "df['text'] = df['text'].apply(lambda x : ' '.join(word for word in x.split() if word not in sw))\n",
    "\n",
    "# seyreklerinin silinmesi\n",
    "sprase_word = pd.Series(' '.join(df['text']).split()).value_counts()[-1000:]\n",
    "\n",
    "df['text'] = df['text'].apply(lambda x : ' '.join(word for word in x.split() if word not in sprase_word))\n",
    "\n",
    "# lemmi\n",
    "\n",
    "from textblob import Word\n",
    "df['text'] = df['text'].apply(lambda x : ' '.join(Word(w).lemmatize() for w in x.split()))"
   ]
  },
  {
   "cell_type": "code",
   "execution_count": null,
   "id": "1be95315-2ff6-412a-bf6a-5fc73b649222",
   "metadata": {},
   "outputs": [],
   "source": []
  },
  {
   "cell_type": "code",
   "execution_count": 17,
   "id": "1256b28e-0c94-41d2-ad3b-ee4d608749a2",
   "metadata": {},
   "outputs": [
    {
     "data": {
      "text/html": [
       "<div>\n",
       "<style scoped>\n",
       "    .dataframe tbody tr th:only-of-type {\n",
       "        vertical-align: middle;\n",
       "    }\n",
       "\n",
       "    .dataframe tbody tr th {\n",
       "        vertical-align: top;\n",
       "    }\n",
       "\n",
       "    .dataframe thead th {\n",
       "        text-align: right;\n",
       "    }\n",
       "</style>\n",
       "<table border=\"1\" class=\"dataframe\">\n",
       "  <thead>\n",
       "    <tr style=\"text-align: right;\">\n",
       "      <th></th>\n",
       "      <th>text</th>\n",
       "      <th>label</th>\n",
       "    </tr>\n",
       "  </thead>\n",
       "  <tbody>\n",
       "    <tr>\n",
       "      <th>0</th>\n",
       "      <td>series demonstrating adage good goose also goo...</td>\n",
       "      <td>negative</td>\n",
       "    </tr>\n",
       "    <tr>\n",
       "      <th>21</th>\n",
       "      <td>good goose</td>\n",
       "      <td>positive</td>\n",
       "    </tr>\n",
       "    <tr>\n",
       "      <th>22</th>\n",
       "      <td>good</td>\n",
       "      <td>positive</td>\n",
       "    </tr>\n",
       "    <tr>\n",
       "      <th>33</th>\n",
       "      <td>gander occasionally amuses none amount much story</td>\n",
       "      <td>negative</td>\n",
       "    </tr>\n",
       "    <tr>\n",
       "      <th>46</th>\n",
       "      <td>amuses</td>\n",
       "      <td>positive</td>\n",
       "    </tr>\n",
       "  </tbody>\n",
       "</table>\n",
       "</div>"
      ],
      "text/plain": [
       "                                                 text     label\n",
       "0   series demonstrating adage good goose also goo...  negative\n",
       "21                                         good goose  positive\n",
       "22                                               good  positive\n",
       "33  gander occasionally amuses none amount much story  negative\n",
       "46                                             amuses  positive"
      ]
     },
     "execution_count": 17,
     "metadata": {},
     "output_type": "execute_result"
    }
   ],
   "source": [
    "df.head()"
   ]
  },
  {
   "cell_type": "code",
   "execution_count": null,
   "id": "47488d4a-ba7c-4c21-a079-1937024a8fd5",
   "metadata": {},
   "outputs": [],
   "source": []
  },
  {
   "cell_type": "markdown",
   "id": "5e8728c2-eb1d-4a1a-b8b1-96f0267212b6",
   "metadata": {},
   "source": [
    "## Değişken Mühendisliği (Feature Engineering)\n",
    "Amaç bir texti makine öğrenimine sokabilmek için gereken sayısal verileri üretmektir. <br>\n",
    "\n",
    "* Count Vectors (bütün gözlemlerdeki unique kelimeler bir değişken olarak atanır ve gözlemlerde görülme sıklığı incelenir.)\n",
    "* TF-IDF Vectors (***words ,characters, n-grams***)\n",
    "* Word Embeddings (bütün kelimelerden bir kelime uzayı çıkartılıp gözlemin kelime yoğunluğu hesaplanır.  [wiki](https://en.wikipedia.org/wiki/Word_embedding))\n",
    "\n",
    "TF(t) = (Bir t teriminin bir dökümanda gözlenme frekansı) / (dökümandaki toplam terim sayısı) <br>\n",
    "\n",
    "IDF(t) = log_e(Toplam döküman sayısı / içeride t terimi olan belge sayısı)<br>"
   ]
  },
  {
   "cell_type": "code",
   "execution_count": null,
   "id": "b96d57a8-310d-4dd7-9ea3-3e84ede39351",
   "metadata": {},
   "outputs": [],
   "source": []
  },
  {
   "cell_type": "markdown",
   "id": "cef97d46-b5fe-4d9f-8f91-9bbf0630a781",
   "metadata": {},
   "source": [
    "### Test-Train"
   ]
  },
  {
   "cell_type": "code",
   "execution_count": 18,
   "id": "9ffe4744-6c9f-4d6b-b21e-1f07a5d978b5",
   "metadata": {},
   "outputs": [],
   "source": [
    "train_x, test_x , train_y ,test_y = model_selection.train_test_split(df['text'],df['label'])"
   ]
  },
  {
   "cell_type": "code",
   "execution_count": 19,
   "id": "80a4f35b-45bc-4996-8a4d-b7fcabe2624a",
   "metadata": {},
   "outputs": [
    {
     "data": {
      "text/plain": [
       "63735                        oldhat province male intrigue\n",
       "3962     feel like light errol morris focusing eccentri...\n",
       "Name: text, dtype: object"
      ]
     },
     "execution_count": 19,
     "metadata": {},
     "output_type": "execute_result"
    }
   ],
   "source": [
    "train_x[:2]"
   ]
  },
  {
   "cell_type": "code",
   "execution_count": 20,
   "id": "2343758b-a0bd-486d-a883-be9a2288aa68",
   "metadata": {},
   "outputs": [],
   "source": [
    "# encoder ile y değerlerini 0-1 olarak atama"
   ]
  },
  {
   "cell_type": "code",
   "execution_count": 21,
   "id": "72c91045-4707-41b0-a34b-bd9e79e221d6",
   "metadata": {},
   "outputs": [],
   "source": [
    "encoder = preprocessing.LabelEncoder()"
   ]
  },
  {
   "cell_type": "code",
   "execution_count": 22,
   "id": "99886023-b388-4381-a2b3-12a2f185b841",
   "metadata": {},
   "outputs": [],
   "source": [
    "train_y = encoder.fit_transform(train_y)\n",
    "test_y = encoder.fit_transform(test_y)"
   ]
  },
  {
   "cell_type": "code",
   "execution_count": 23,
   "id": "1595bf34-5c3a-4a0a-a479-981e5e2b8b79",
   "metadata": {},
   "outputs": [
    {
     "data": {
      "text/plain": [
       "array([0, 0, 1, 1, 1, 0, 0, 1, 1, 1])"
      ]
     },
     "execution_count": 23,
     "metadata": {},
     "output_type": "execute_result"
    }
   ],
   "source": [
    "train_y[:10]"
   ]
  },
  {
   "cell_type": "code",
   "execution_count": 24,
   "id": "11b812d8-3a90-4a9c-8943-35ec0b92522b",
   "metadata": {},
   "outputs": [
    {
     "data": {
      "text/plain": [
       "array([0, 1, 1, 1, 0, 0, 0, 0, 1, 1])"
      ]
     },
     "execution_count": 24,
     "metadata": {},
     "output_type": "execute_result"
    }
   ],
   "source": [
    "test_y[:10]"
   ]
  },
  {
   "cell_type": "code",
   "execution_count": null,
   "id": "c3fcc456-4544-42d6-b0fc-fabaab8dc152",
   "metadata": {},
   "outputs": [],
   "source": []
  },
  {
   "cell_type": "markdown",
   "id": "76202cd1-2e4b-476f-91ec-ca40a97ad364",
   "metadata": {},
   "source": [
    "### Count Vectors"
   ]
  },
  {
   "cell_type": "code",
   "execution_count": 25,
   "id": "e7876a95-b7d1-47cf-851f-6bd3fb6d4da7",
   "metadata": {},
   "outputs": [
    {
     "data": {
      "text/plain": [
       "CountVectorizer()"
      ]
     },
     "execution_count": 25,
     "metadata": {},
     "output_type": "execute_result"
    }
   ],
   "source": [
    "vectorizer = CountVectorizer()\n",
    "vectorizer.fit(train_x)"
   ]
  },
  {
   "cell_type": "code",
   "execution_count": 26,
   "id": "55961aaa-05f4-4326-8574-3d9cd77c20c2",
   "metadata": {},
   "outputs": [],
   "source": [
    "# count yöntemiyle oluşturulmuş train_x"
   ]
  },
  {
   "cell_type": "code",
   "execution_count": 27,
   "id": "bccd73dc-867a-4b7a-85cb-e8eae36301fd",
   "metadata": {},
   "outputs": [],
   "source": [
    "train_x_count = vectorizer.transform(train_x)\n",
    "test_x_count = vectorizer.transform(test_x)"
   ]
  },
  {
   "cell_type": "code",
   "execution_count": 28,
   "id": "c93f0761-0a7d-4dd8-9c77-8915b9869e1f",
   "metadata": {},
   "outputs": [],
   "source": [
    "# sonucu görmek için "
   ]
  },
  {
   "cell_type": "markdown",
   "id": "e51a67f3-91b0-4d66-b229-6305896538e0",
   "metadata": {},
   "source": [
    "her bir unique kelime bir değişken olarak atandığından get_feature_names bize bu ***değişkenlerin adlarını*** vericek..."
   ]
  },
  {
   "cell_type": "code",
   "execution_count": 29,
   "id": "02620257-7bb0-4608-9f70-c0cfa7229a76",
   "metadata": {},
   "outputs": [
    {
     "data": {
      "text/plain": [
       "['aaa', 'aaliyah', 'abagnale', 'abandon', 'abandoned']"
      ]
     },
     "execution_count": 29,
     "metadata": {},
     "output_type": "execute_result"
    }
   ],
   "source": [
    "vectorizer.get_feature_names()[:5]"
   ]
  },
  {
   "cell_type": "markdown",
   "id": "3dbdc807-61e4-48ac-aaf6-0c53abd65d06",
   "metadata": {},
   "source": [
    "bu unique değerlerin gözlemde olup olmama değerini (0-1) gösteren matrix"
   ]
  },
  {
   "cell_type": "code",
   "execution_count": 30,
   "id": "2c5358f0-0cd2-4a47-a057-f1ee1e6b4634",
   "metadata": {},
   "outputs": [
    {
     "data": {
      "text/plain": [
       "array([[0, 0, 0, ..., 0, 0, 0],\n",
       "       [0, 0, 0, ..., 0, 0, 0],\n",
       "       [0, 0, 0, ..., 0, 0, 0],\n",
       "       ...,\n",
       "       [0, 0, 0, ..., 0, 0, 0],\n",
       "       [0, 0, 0, ..., 0, 0, 0],\n",
       "       [0, 0, 0, ..., 0, 0, 0]])"
      ]
     },
     "execution_count": 30,
     "metadata": {},
     "output_type": "execute_result"
    }
   ],
   "source": [
    "train_x_count.toarray()"
   ]
  },
  {
   "cell_type": "code",
   "execution_count": null,
   "id": "6c0c9688-885b-4d58-b74a-ab1722ab1927",
   "metadata": {},
   "outputs": [],
   "source": []
  },
  {
   "cell_type": "markdown",
   "id": "f5aef335-4516-4144-8003-4391011ef0c3",
   "metadata": {},
   "source": [
    "### TF-IDF"
   ]
  },
  {
   "cell_type": "code",
   "execution_count": 31,
   "id": "ffe461b3-2d5c-4182-83f7-6830366335fa",
   "metadata": {},
   "outputs": [
    {
     "data": {
      "text/plain": [
       "TfidfVectorizer()"
      ]
     },
     "execution_count": 31,
     "metadata": {},
     "output_type": "execute_result"
    }
   ],
   "source": [
    "tf_idf_word_vectorizer = TfidfVectorizer()\n",
    "tf_idf_word_vectorizer.fit(train_x)"
   ]
  },
  {
   "cell_type": "markdown",
   "id": "ab7c17d1-5a26-4724-b882-3ec70656ce3a",
   "metadata": {},
   "source": [
    "#### word level TF-IDF"
   ]
  },
  {
   "cell_type": "code",
   "execution_count": 32,
   "id": "506dd0bb-4e40-4d97-afb4-e2e6f35c6279",
   "metadata": {},
   "outputs": [],
   "source": [
    "x_train_tf_idf_word = tf_idf_word_vectorizer.transform(train_x)\n",
    "x_test_tf_idf_word = tf_idf_word_vectorizer.transform(test_x)"
   ]
  },
  {
   "cell_type": "code",
   "execution_count": 33,
   "id": "850b21fe-f404-482d-83bb-bce6539d10a3",
   "metadata": {},
   "outputs": [],
   "source": [
    "# future names"
   ]
  },
  {
   "cell_type": "code",
   "execution_count": 34,
   "id": "d68878a7-1593-4b26-9722-4a4b59a69900",
   "metadata": {},
   "outputs": [
    {
     "data": {
      "text/plain": [
       "['aaa', 'aaliyah', 'abagnale', 'abandon', 'abandoned']"
      ]
     },
     "execution_count": 34,
     "metadata": {},
     "output_type": "execute_result"
    }
   ],
   "source": [
    "tf_idf_word_vectorizer.get_feature_names()[:5]"
   ]
  },
  {
   "cell_type": "code",
   "execution_count": 35,
   "id": "7c792551-cb7e-4e03-a6a4-3d48e1fcb1fe",
   "metadata": {},
   "outputs": [],
   "source": [
    "# matrix"
   ]
  },
  {
   "cell_type": "code",
   "execution_count": 36,
   "id": "352fd256-5016-4c37-9e2d-0079d14ebcd9",
   "metadata": {},
   "outputs": [
    {
     "data": {
      "text/plain": [
       "array([[0., 0., 0., ..., 0., 0., 0.],\n",
       "       [0., 0., 0., ..., 0., 0., 0.],\n",
       "       [0., 0., 0., ..., 0., 0., 0.],\n",
       "       ...,\n",
       "       [0., 0., 0., ..., 0., 0., 0.],\n",
       "       [0., 0., 0., ..., 0., 0., 0.],\n",
       "       [0., 0., 0., ..., 0., 0., 0.]])"
      ]
     },
     "execution_count": 36,
     "metadata": {},
     "output_type": "execute_result"
    }
   ],
   "source": [
    "x_train_tf_idf_word.toarray()"
   ]
  },
  {
   "cell_type": "code",
   "execution_count": null,
   "id": "471ceb74-3244-42a0-ae79-621f9027df69",
   "metadata": {},
   "outputs": [],
   "source": []
  },
  {
   "cell_type": "markdown",
   "id": "72cb3117-5ecc-4fdf-b8b6-d7470624a78e",
   "metadata": {},
   "source": [
    "#### N-Gram Level TF-IDF\n",
    "TF-IDF algoritmasını N-gram kullanarak oluşturma"
   ]
  },
  {
   "cell_type": "code",
   "execution_count": 37,
   "id": "eecba8a4-08f0-40c2-a185-87d08644c038",
   "metadata": {},
   "outputs": [
    {
     "data": {
      "text/plain": [
       "TfidfVectorizer(ngram_range=(2, 3))"
      ]
     },
     "execution_count": 37,
     "metadata": {},
     "output_type": "execute_result"
    }
   ],
   "source": [
    "tf_idf_ngram_vectorizer = TfidfVectorizer(ngram_range=(2,3))\n",
    "tf_idf_ngram_vectorizer.fit(train_x)"
   ]
  },
  {
   "cell_type": "code",
   "execution_count": 38,
   "id": "7b603c96-a71a-4815-885a-1f55af30eb59",
   "metadata": {},
   "outputs": [],
   "source": [
    "x_train_tf_idf_ngram = tf_idf_ngram_vectorizer.transform(train_x)\n",
    "x_test_tf_idf_ngram = tf_idf_ngram_vectorizer.transform(test_x)"
   ]
  },
  {
   "cell_type": "code",
   "execution_count": 39,
   "id": "d7c7dbf6-e01b-41cd-866a-b6539a656d7d",
   "metadata": {},
   "outputs": [],
   "source": [
    "# future names"
   ]
  },
  {
   "cell_type": "code",
   "execution_count": 40,
   "id": "5d8afd21-72f2-4933-b8d9-1ce8cd4011ac",
   "metadata": {},
   "outputs": [
    {
     "data": {
      "text/plain": [
       "['aaa', 'aaliyah', 'abagnale', 'abandon', 'abandoned']"
      ]
     },
     "execution_count": 40,
     "metadata": {},
     "output_type": "execute_result"
    }
   ],
   "source": [
    "tf_idf_word_vectorizer.get_feature_names()[:5]"
   ]
  },
  {
   "cell_type": "code",
   "execution_count": 41,
   "id": "6d1617d4-e0be-49b7-a6cb-c34a466ec469",
   "metadata": {},
   "outputs": [],
   "source": [
    "# matrix"
   ]
  },
  {
   "cell_type": "code",
   "execution_count": 42,
   "id": "69129611-e8ca-4f35-9013-e86eb49aeec6",
   "metadata": {},
   "outputs": [
    {
     "data": {
      "text/plain": [
       "array([[0., 0., 0., ..., 0., 0., 0.],\n",
       "       [0., 0., 0., ..., 0., 0., 0.],\n",
       "       [0., 0., 0., ..., 0., 0., 0.],\n",
       "       ...,\n",
       "       [0., 0., 0., ..., 0., 0., 0.],\n",
       "       [0., 0., 0., ..., 0., 0., 0.],\n",
       "       [0., 0., 0., ..., 0., 0., 0.]])"
      ]
     },
     "execution_count": 42,
     "metadata": {},
     "output_type": "execute_result"
    }
   ],
   "source": [
    "x_train_tf_idf_word.toarray()"
   ]
  },
  {
   "cell_type": "code",
   "execution_count": null,
   "id": "4b635821-4dd5-4cda-9d07-079b1e1da5e4",
   "metadata": {},
   "outputs": [],
   "source": []
  },
  {
   "cell_type": "markdown",
   "id": "67cf6ac3-979e-4caa-b3db-acbdc7b38f49",
   "metadata": {
    "tags": []
   },
   "source": [
    "#### Character Level TF-IDF"
   ]
  },
  {
   "cell_type": "code",
   "execution_count": 45,
   "id": "48d417f3-d08c-46f9-a3e5-10296c2adb4c",
   "metadata": {},
   "outputs": [
    {
     "data": {
      "text/plain": [
       "TfidfVectorizer(analyzer='char', ngram_range=(2, 3))"
      ]
     },
     "execution_count": 45,
     "metadata": {},
     "output_type": "execute_result"
    }
   ],
   "source": [
    "tf_idf_char_vectorizer = TfidfVectorizer(analyzer='char',ngram_range=(2,3))\n",
    "tf_idf_char_vectorizer.fit(train_x)"
   ]
  },
  {
   "cell_type": "code",
   "execution_count": 46,
   "id": "561cd749-27f5-4f9b-8cef-2ca94148031c",
   "metadata": {},
   "outputs": [],
   "source": [
    "x_train_tf_idf_char = tf_idf_char_vectorizer.transform(train_x)\n",
    "x_test_tf_idf_char = tf_idf_char_vectorizer.transform(test_x)"
   ]
  },
  {
   "cell_type": "code",
   "execution_count": 47,
   "id": "581d6e88-20df-4b09-aa2f-836049914b49",
   "metadata": {},
   "outputs": [],
   "source": [
    "# future names"
   ]
  },
  {
   "cell_type": "code",
   "execution_count": 48,
   "id": "869ec4a6-49a7-4e92-8101-32ee54291b84",
   "metadata": {},
   "outputs": [
    {
     "data": {
      "text/plain": [
       "[' a', ' aa', ' ab', ' ac', ' ad']"
      ]
     },
     "execution_count": 48,
     "metadata": {},
     "output_type": "execute_result"
    }
   ],
   "source": [
    "tf_idf_char_vectorizer.get_feature_names()[:5]"
   ]
  },
  {
   "cell_type": "code",
   "execution_count": 49,
   "id": "f70105c0-cba7-4ed5-bdb4-9c40edcc6f0a",
   "metadata": {},
   "outputs": [],
   "source": [
    "# matrix"
   ]
  },
  {
   "cell_type": "code",
   "execution_count": 50,
   "id": "24c72a04-78ab-4c95-b46d-a013e88552b1",
   "metadata": {},
   "outputs": [
    {
     "data": {
      "text/plain": [
       "array([[0.        , 0.        , 0.        , ..., 0.        , 0.        ,\n",
       "        0.        ],\n",
       "       [0.        , 0.        , 0.        , ..., 0.        , 0.        ,\n",
       "        0.        ],\n",
       "       [0.        , 0.        , 0.        , ..., 0.        , 0.        ,\n",
       "        0.        ],\n",
       "       ...,\n",
       "       [0.        , 0.        , 0.        , ..., 0.        , 0.        ,\n",
       "        0.        ],\n",
       "       [0.        , 0.        , 0.        , ..., 0.        , 0.        ,\n",
       "        0.        ],\n",
       "       [0.06399696, 0.        , 0.        , ..., 0.        , 0.        ,\n",
       "        0.        ]])"
      ]
     },
     "execution_count": 50,
     "metadata": {},
     "output_type": "execute_result"
    }
   ],
   "source": [
    "x_train_tf_idf_char.toarray()"
   ]
  },
  {
   "cell_type": "code",
   "execution_count": null,
   "id": "0717dd2e-be63-4e75-a3e6-50aa2138d4c8",
   "metadata": {},
   "outputs": [],
   "source": []
  },
  {
   "cell_type": "markdown",
   "id": "00096459-f871-445f-9e75-da7416c67c99",
   "metadata": {},
   "source": [
    "## Makine Öğrenmesi ile Sentiment Sınıfladırması\n",
    "Farklı Classification Modelleri ile denemeler yapacağız."
   ]
  },
  {
   "cell_type": "code",
   "execution_count": null,
   "id": "ad46077b-3568-4527-80fa-e67b08bc5910",
   "metadata": {},
   "outputs": [],
   "source": []
  },
  {
   "cell_type": "markdown",
   "id": "0aab51bd-62c5-459a-b7b3-6a71111e2c20",
   "metadata": {},
   "source": [
    "### Lojistik Regresyon"
   ]
  },
  {
   "cell_type": "markdown",
   "id": "2fc9a814-1dbb-4b64-9fc3-c6995f807861",
   "metadata": {},
   "source": [
    "#### Count-Vectors"
   ]
  },
  {
   "cell_type": "code",
   "execution_count": 95,
   "id": "bf2e4495-0f7f-407e-b622-15703d955db8",
   "metadata": {},
   "outputs": [
    {
     "name": "stdout",
     "output_type": "stream",
     "text": [
      "Count Vectors Doğruluk Oranı :  0.8336820083682008\n"
     ]
    }
   ],
   "source": [
    "loj = linear_model.LogisticRegression()\n",
    "loj_model = loj.fit(train_x_count,train_y)\n",
    "\n",
    "accuracy = model_selection.cross_val_score(loj_model,\n",
    "                                           test_x_count,\n",
    "                                           test_y,\n",
    "                                           cv=10).mean()\n",
    "\n",
    "print('Count Vectors Doğruluk Oranı : ',accuracy)"
   ]
  },
  {
   "cell_type": "code",
   "execution_count": null,
   "id": "049f8ec2-44b2-4e12-9fe9-c2fe7ba4b3f8",
   "metadata": {},
   "outputs": [],
   "source": []
  },
  {
   "cell_type": "markdown",
   "id": "3ef41615-c81b-4e28-9b9f-a6edb7c2e8b0",
   "metadata": {},
   "source": [
    "#### Word-Level TF-IDF"
   ]
  },
  {
   "cell_type": "code",
   "execution_count": 52,
   "id": "dd2ab059-1a7c-457d-a7be-1d937e0a79c4",
   "metadata": {},
   "outputs": [
    {
     "name": "stdout",
     "output_type": "stream",
     "text": [
      "Count Vectors Doğruluk Oranı :  0.8287656903765692\n"
     ]
    }
   ],
   "source": [
    "loj = linear_model.LogisticRegression()\n",
    "loj_model = loj.fit(x_train_tf_idf_word,train_y)\n",
    "\n",
    "accuracy = model_selection.cross_val_score(loj_model,\n",
    "                                           x_test_tf_idf_word,\n",
    "                                           test_y,\n",
    "                                           cv=10).mean()\n",
    "\n",
    "print('Count Vectors Doğruluk Oranı : ',accuracy)"
   ]
  },
  {
   "cell_type": "code",
   "execution_count": null,
   "id": "74fcd897-630a-4261-a893-d369db0e9631",
   "metadata": {},
   "outputs": [],
   "source": []
  },
  {
   "cell_type": "markdown",
   "id": "21f6dd4a-b776-401a-8f59-d4a647cdd76b",
   "metadata": {},
   "source": [
    "#### N-Gram TF-IDF"
   ]
  },
  {
   "cell_type": "code",
   "execution_count": 53,
   "id": "6f89fb74-c47f-417b-a2f7-cb7719b19188",
   "metadata": {},
   "outputs": [
    {
     "name": "stdout",
     "output_type": "stream",
     "text": [
      "Count Vectors Doğruluk Oranı :  0.747071129707113\n"
     ]
    }
   ],
   "source": [
    "loj = linear_model.LogisticRegression()\n",
    "loj_model = loj.fit(x_train_tf_idf_ngram,train_y)\n",
    "\n",
    "accuracy = model_selection.cross_val_score(loj_model,\n",
    "                                           x_test_tf_idf_ngram,\n",
    "                                           test_y,\n",
    "                                           cv=10).mean()\n",
    "\n",
    "print('Count Vectors Doğruluk Oranı : ',accuracy)"
   ]
  },
  {
   "cell_type": "code",
   "execution_count": null,
   "id": "9d9aa229-72b6-4703-9812-a18d11be377e",
   "metadata": {},
   "outputs": [],
   "source": []
  },
  {
   "cell_type": "markdown",
   "id": "46eda374-628c-4b0c-9f6e-caf31256183a",
   "metadata": {},
   "source": [
    "#### Char-Level TF-IDF"
   ]
  },
  {
   "cell_type": "code",
   "execution_count": 54,
   "id": "c4e2f0fd-1e0a-492f-9e34-45ed0de65a4e",
   "metadata": {},
   "outputs": [
    {
     "name": "stdout",
     "output_type": "stream",
     "text": [
      "Count Vectors Doğruluk Oranı :  0.7792364016736402\n"
     ]
    }
   ],
   "source": [
    "loj = linear_model.LogisticRegression()\n",
    "loj_model = loj.fit(x_train_tf_idf_char,train_y)\n",
    "\n",
    "accuracy = model_selection.cross_val_score(loj_model,\n",
    "                                           x_test_tf_idf_char,\n",
    "                                           test_y,\n",
    "                                           cv=10).mean()\n",
    "\n",
    "print('Count Vectors Doğruluk Oranı : ',accuracy)"
   ]
  },
  {
   "cell_type": "code",
   "execution_count": null,
   "id": "13aa3859-f430-4290-b620-dc71a8a9de58",
   "metadata": {},
   "outputs": [],
   "source": []
  },
  {
   "cell_type": "markdown",
   "id": "ff10baf2-411a-4364-979d-07b28f631f47",
   "metadata": {},
   "source": [
    "### Naive Bayes"
   ]
  },
  {
   "cell_type": "markdown",
   "id": "58fd9b90-1b11-4d1f-b432-2bb885eba91f",
   "metadata": {},
   "source": [
    "#### Count Vectors"
   ]
  },
  {
   "cell_type": "code",
   "execution_count": 55,
   "id": "aa127400-e701-4bfe-8eb7-de71abe0f188",
   "metadata": {},
   "outputs": [
    {
     "name": "stdout",
     "output_type": "stream",
     "text": [
      "Count Vectors Doğruluk Oranı :  0.8312761506276152\n"
     ]
    }
   ],
   "source": [
    "nb = naive_bayes.MultinomialNB()\n",
    "nb_model = nb.fit(train_x_count,train_y)\n",
    "\n",
    "accuracy = model_selection.cross_val_score(nb_model,\n",
    "                                          test_x_count,\n",
    "                                          test_y,\n",
    "                                          cv = 10).mean()\n",
    "\n",
    "print('Count Vectors Doğruluk Oranı : ',accuracy)"
   ]
  },
  {
   "cell_type": "code",
   "execution_count": null,
   "id": "c5e403fd-1882-412c-8cce-c3c196b70022",
   "metadata": {},
   "outputs": [],
   "source": []
  },
  {
   "cell_type": "markdown",
   "id": "d386481f-c88f-4c25-ba8f-57fec08a2a81",
   "metadata": {},
   "source": [
    "#### Word-Level TF-IDF Dogruluk Oranı"
   ]
  },
  {
   "cell_type": "code",
   "execution_count": 56,
   "id": "1d221a43-0e8c-4c39-acc8-a0620650e658",
   "metadata": {},
   "outputs": [
    {
     "name": "stdout",
     "output_type": "stream",
     "text": [
      "Word-Level TF-IDF Doğruluk Oranı :  0.8330020920502091\n"
     ]
    }
   ],
   "source": [
    "nb = naive_bayes.MultinomialNB()\n",
    "nb_model = nb.fit(x_train_tf_idf_word,train_y)\n",
    "\n",
    "accuracy = model_selection.cross_val_score(nb_model,\n",
    "                                          x_test_tf_idf_word,\n",
    "                                          test_y,\n",
    "                                          cv = 10).mean()\n",
    "\n",
    "print('Word-Level TF-IDF Doğruluk Oranı : ',accuracy)"
   ]
  },
  {
   "cell_type": "code",
   "execution_count": null,
   "id": "281723d1-dca9-4a73-a41d-b2244297e1c7",
   "metadata": {},
   "outputs": [],
   "source": []
  },
  {
   "cell_type": "markdown",
   "id": "edc10896-9579-4c7f-bf6d-ee67510b3306",
   "metadata": {},
   "source": [
    "#### N-Gram TF-IDF"
   ]
  },
  {
   "cell_type": "code",
   "execution_count": 57,
   "id": "7bef061e-ae3a-4e75-ad57-0697024e7ae0",
   "metadata": {},
   "outputs": [
    {
     "name": "stdout",
     "output_type": "stream",
     "text": [
      "N-Gram TD-IDF Doğruluk Oranı :  0.7722803347280335\n"
     ]
    }
   ],
   "source": [
    "nb = naive_bayes.MultinomialNB()\n",
    "nb_model = nb.fit(x_train_tf_idf_ngram,train_y)\n",
    "\n",
    "accuracy = model_selection.cross_val_score(nb_model,\n",
    "                                          x_test_tf_idf_ngram,\n",
    "                                          test_y,\n",
    "                                          cv = 10).mean()\n",
    "\n",
    "print('N-Gram TD-IDF Doğruluk Oranı : ',accuracy)"
   ]
  },
  {
   "cell_type": "code",
   "execution_count": null,
   "id": "bf29f8c4-3972-469f-8907-8775a6bd9d6b",
   "metadata": {},
   "outputs": [],
   "source": []
  },
  {
   "cell_type": "markdown",
   "id": "eb1ab9ab-1272-47a6-b101-278184c50501",
   "metadata": {},
   "source": [
    "#### Char-Level TF-IDF"
   ]
  },
  {
   "cell_type": "code",
   "execution_count": null,
   "id": "63887715-75eb-48ae-990c-2f6ff45d442d",
   "metadata": {},
   "outputs": [],
   "source": [
    "nb = naive_bayes.MultinomialNB()\n",
    "nb_model = nb.fit(x_train_tf_idf_char,train_y)\n",
    "\n",
    "accuracy = model_selection.cross_val_score(nb_model,\n",
    "                                          x_test_tf_idf_ngram_char,\n",
    "                                          test_y,\n",
    "                                          cv = 10).mean()\n",
    "\n",
    "print('Char-Level TF-IDF Doğruluk Oranı : ',accuracy)"
   ]
  },
  {
   "cell_type": "code",
   "execution_count": null,
   "id": "30c5530d-d945-4c9e-8c82-168b8306f2ea",
   "metadata": {},
   "outputs": [],
   "source": []
  },
  {
   "cell_type": "markdown",
   "id": "0a376501-4080-4902-ad93-6685150d373b",
   "metadata": {},
   "source": [
    "### Random Forests"
   ]
  },
  {
   "cell_type": "markdown",
   "id": "b06ac240-22c2-4fc4-ba81-3b44dfb528b2",
   "metadata": {},
   "source": [
    "#### Count Vectors"
   ]
  },
  {
   "cell_type": "code",
   "execution_count": 86,
   "id": "773e9cfa-b80b-4b62-a9c4-6ff416d85070",
   "metadata": {},
   "outputs": [
    {
     "name": "stdout",
     "output_type": "stream",
     "text": [
      "Count Vectors Doğruluk Oranı 0.8240585774058576\n"
     ]
    }
   ],
   "source": [
    "rf = ensemble.RandomForestClassifier()\n",
    "rf_model = rf.fit(train_x_count,train_y)\n",
    "\n",
    "accuracy = model_selection.cross_val_score(rf_model,\n",
    "                                          test_x_count,\n",
    "                                          test_y,\n",
    "                                          cv = 10).mean()\n",
    "\n",
    "print('Count Vectors Doğruluk Oranı',accuracy)"
   ]
  },
  {
   "cell_type": "code",
   "execution_count": null,
   "id": "a32b86d8-174d-4539-a837-eec056336706",
   "metadata": {
    "tags": []
   },
   "outputs": [],
   "source": []
  },
  {
   "cell_type": "markdown",
   "id": "3feb465f-3e77-45a9-bbb7-7cd855ff9e99",
   "metadata": {},
   "source": [
    "#### Word-Level TF-IDF"
   ]
  },
  {
   "cell_type": "code",
   "execution_count": 60,
   "id": "5d0046db-05b8-4e95-94ab-2a2ac21a28e4",
   "metadata": {},
   "outputs": [],
   "source": [
    "rf = ensemble.RandomForestClassifier()\n",
    "rf_model = rf.fit(x_train_tf_idf_word,train_y)\n",
    "\n",
    "accuracy = model_selection.cross_val_score(rf_model,\n",
    "                                          x_test_tf_idf_word,\n",
    "                                          test_y,\n",
    "                                          cv = 10).mean()\n",
    "\n",
    "print('Count Vectors Doğruluk Oranı',accuracy)"
   ]
  },
  {
   "cell_type": "code",
   "execution_count": null,
   "id": "6b681e9a-2d27-40eb-a786-591609be080e",
   "metadata": {},
   "outputs": [],
   "source": []
  },
  {
   "cell_type": "code",
   "execution_count": null,
   "id": "a74a07a4-5545-4fda-a888-6ed86e237f08",
   "metadata": {},
   "outputs": [],
   "source": []
  },
  {
   "cell_type": "markdown",
   "id": "393c9522-af8b-4ca7-91ba-eac2c1ebb34e",
   "metadata": {},
   "source": [
    "#### N-Gram TF-IDF"
   ]
  },
  {
   "cell_type": "code",
   "execution_count": null,
   "id": "8842be0e-b55c-43b0-ae9a-6e7d091e8666",
   "metadata": {},
   "outputs": [],
   "source": [
    "rf = ensemble.RandomForestClassifier()\n",
    "rf_model = rf.fit(x_train_tf_idf_ngram,train_y)\n",
    "\n",
    "accuracy = model_selection.cross_val_score(rf_model,\n",
    "                                          x_test_tf_idf_ngram,\n",
    "                                          test_y,\n",
    "                                          cv = 10).mean()\n",
    "\n",
    "print('Count Vectors Doğruluk Oranı',accuracy)"
   ]
  },
  {
   "cell_type": "code",
   "execution_count": null,
   "id": "8cd49b9f-12c2-4a6c-baf5-ac4b15659e19",
   "metadata": {},
   "outputs": [],
   "source": []
  },
  {
   "cell_type": "markdown",
   "id": "642bc595-47fd-4978-a9a6-447f868e0fb7",
   "metadata": {},
   "source": [
    "#### Char-Level TF-IDF"
   ]
  },
  {
   "cell_type": "code",
   "execution_count": null,
   "id": "d4e65224-b70b-40e2-b857-cde165656121",
   "metadata": {},
   "outputs": [],
   "source": [
    "rf = ensemble.RandomForestClassifier()\n",
    "rf_model = rf.fit(x_train_tf_idf_char,train_y)\n",
    "\n",
    "accuracy = model_selection.cross_val_score(rf_model,\n",
    "                                          x_test_tf_idf_char,\n",
    "                                          test_y,\n",
    "                                          cv = 10).mean()\n",
    "\n",
    "print('Count Vectors Doğruluk Oranı',accuracy)"
   ]
  },
  {
   "cell_type": "code",
   "execution_count": null,
   "id": "ee99bf97-7a0a-49f3-80b4-56115210cb39",
   "metadata": {},
   "outputs": [],
   "source": []
  },
  {
   "cell_type": "markdown",
   "id": "512e3d7e-b0a4-4017-9eb3-6042085ab38f",
   "metadata": {},
   "source": [
    "### XGBoost "
   ]
  },
  {
   "cell_type": "code",
   "execution_count": null,
   "id": "e9f79821-d23a-4cbc-9b9f-07541726202b",
   "metadata": {},
   "outputs": [],
   "source": []
  },
  {
   "cell_type": "markdown",
   "id": "a724b29f-8a22-4555-9209-37f62d48cb60",
   "metadata": {},
   "source": [
    "#### Count Vectors"
   ]
  },
  {
   "cell_type": "code",
   "execution_count": 65,
   "id": "39a8d386-851a-4d41-8278-6a1e53ef288b",
   "metadata": {},
   "outputs": [
    {
     "name": "stdout",
     "output_type": "stream",
     "text": [
      "[21:56:58] WARNING: ../src/learner.cc:1095: Starting in XGBoost 1.3.0, the default evaluation metric used with the objective 'binary:logistic' was changed from 'error' to 'logloss'. Explicitly set eval_metric if you'd like to restore the old behavior.\n",
      "[21:56:59] WARNING: ../src/learner.cc:1095: Starting in XGBoost 1.3.0, the default evaluation metric used with the objective 'binary:logistic' was changed from 'error' to 'logloss'. Explicitly set eval_metric if you'd like to restore the old behavior.\n",
      "[21:57:00] WARNING: ../src/learner.cc:1095: Starting in XGBoost 1.3.0, the default evaluation metric used with the objective 'binary:logistic' was changed from 'error' to 'logloss'. Explicitly set eval_metric if you'd like to restore the old behavior.\n",
      "[21:57:01] WARNING: ../src/learner.cc:1095: Starting in XGBoost 1.3.0, the default evaluation metric used with the objective 'binary:logistic' was changed from 'error' to 'logloss'. Explicitly set eval_metric if you'd like to restore the old behavior.\n",
      "[21:57:02] WARNING: ../src/learner.cc:1095: Starting in XGBoost 1.3.0, the default evaluation metric used with the objective 'binary:logistic' was changed from 'error' to 'logloss'. Explicitly set eval_metric if you'd like to restore the old behavior.\n",
      "[21:57:02] WARNING: ../src/learner.cc:1095: Starting in XGBoost 1.3.0, the default evaluation metric used with the objective 'binary:logistic' was changed from 'error' to 'logloss'. Explicitly set eval_metric if you'd like to restore the old behavior.\n",
      "[21:57:03] WARNING: ../src/learner.cc:1095: Starting in XGBoost 1.3.0, the default evaluation metric used with the objective 'binary:logistic' was changed from 'error' to 'logloss'. Explicitly set eval_metric if you'd like to restore the old behavior.\n",
      "[21:57:04] WARNING: ../src/learner.cc:1095: Starting in XGBoost 1.3.0, the default evaluation metric used with the objective 'binary:logistic' was changed from 'error' to 'logloss'. Explicitly set eval_metric if you'd like to restore the old behavior.\n",
      "[21:57:05] WARNING: ../src/learner.cc:1095: Starting in XGBoost 1.3.0, the default evaluation metric used with the objective 'binary:logistic' was changed from 'error' to 'logloss'. Explicitly set eval_metric if you'd like to restore the old behavior.\n",
      "[21:57:06] WARNING: ../src/learner.cc:1095: Starting in XGBoost 1.3.0, the default evaluation metric used with the objective 'binary:logistic' was changed from 'error' to 'logloss'. Explicitly set eval_metric if you'd like to restore the old behavior.\n",
      "[21:57:07] WARNING: ../src/learner.cc:1095: Starting in XGBoost 1.3.0, the default evaluation metric used with the objective 'binary:logistic' was changed from 'error' to 'logloss'. Explicitly set eval_metric if you'd like to restore the old behavior.\n",
      "Count Vectors Doğruluk Oranı 0.717939330543933\n"
     ]
    }
   ],
   "source": [
    "xgb = xgboost.XGBClassifier()\n",
    "xgb_model = xgb.fit(train_x_count,train_y)\n",
    "\n",
    "accuracy = model_selection.cross_val_score(xgb_model,\n",
    "                                          test_x_count,\n",
    "                                          test_y,\n",
    "                                          cv = 10).mean()\n",
    "\n",
    "print('Count Vectors Doğruluk Oranı',accuracy)"
   ]
  },
  {
   "cell_type": "code",
   "execution_count": null,
   "id": "f7edaa11-9669-438e-aabb-fe70d3284397",
   "metadata": {},
   "outputs": [],
   "source": []
  },
  {
   "cell_type": "markdown",
   "id": "fe90a9bd-c32d-4139-8918-143172767878",
   "metadata": {},
   "source": [
    "#### Word-Level TF-IDF"
   ]
  },
  {
   "cell_type": "code",
   "execution_count": 69,
   "id": "021e9ff5-dbe4-46c2-a2dc-a1f753b4c79f",
   "metadata": {},
   "outputs": [
    {
     "name": "stdout",
     "output_type": "stream",
     "text": [
      "[21:59:35] WARNING: ../src/learner.cc:1095: Starting in XGBoost 1.3.0, the default evaluation metric used with the objective 'binary:logistic' was changed from 'error' to 'logloss'. Explicitly set eval_metric if you'd like to restore the old behavior.\n",
      "[21:59:39] WARNING: ../src/learner.cc:1095: Starting in XGBoost 1.3.0, the default evaluation metric used with the objective 'binary:logistic' was changed from 'error' to 'logloss'. Explicitly set eval_metric if you'd like to restore the old behavior.\n",
      "[21:59:41] WARNING: ../src/learner.cc:1095: Starting in XGBoost 1.3.0, the default evaluation metric used with the objective 'binary:logistic' was changed from 'error' to 'logloss'. Explicitly set eval_metric if you'd like to restore the old behavior.\n",
      "[21:59:43] WARNING: ../src/learner.cc:1095: Starting in XGBoost 1.3.0, the default evaluation metric used with the objective 'binary:logistic' was changed from 'error' to 'logloss'. Explicitly set eval_metric if you'd like to restore the old behavior.\n",
      "[21:59:44] WARNING: ../src/learner.cc:1095: Starting in XGBoost 1.3.0, the default evaluation metric used with the objective 'binary:logistic' was changed from 'error' to 'logloss'. Explicitly set eval_metric if you'd like to restore the old behavior.\n",
      "[21:59:46] WARNING: ../src/learner.cc:1095: Starting in XGBoost 1.3.0, the default evaluation metric used with the objective 'binary:logistic' was changed from 'error' to 'logloss'. Explicitly set eval_metric if you'd like to restore the old behavior.\n",
      "[21:59:48] WARNING: ../src/learner.cc:1095: Starting in XGBoost 1.3.0, the default evaluation metric used with the objective 'binary:logistic' was changed from 'error' to 'logloss'. Explicitly set eval_metric if you'd like to restore the old behavior.\n",
      "[21:59:51] WARNING: ../src/learner.cc:1095: Starting in XGBoost 1.3.0, the default evaluation metric used with the objective 'binary:logistic' was changed from 'error' to 'logloss'. Explicitly set eval_metric if you'd like to restore the old behavior.\n",
      "[21:59:53] WARNING: ../src/learner.cc:1095: Starting in XGBoost 1.3.0, the default evaluation metric used with the objective 'binary:logistic' was changed from 'error' to 'logloss'. Explicitly set eval_metric if you'd like to restore the old behavior.\n",
      "[21:59:54] WARNING: ../src/learner.cc:1095: Starting in XGBoost 1.3.0, the default evaluation metric used with the objective 'binary:logistic' was changed from 'error' to 'logloss'. Explicitly set eval_metric if you'd like to restore the old behavior.\n",
      "[21:59:56] WARNING: ../src/learner.cc:1095: Starting in XGBoost 1.3.0, the default evaluation metric used with the objective 'binary:logistic' was changed from 'error' to 'logloss'. Explicitly set eval_metric if you'd like to restore the old behavior.\n",
      "Word Level Doğruluk Oranı 0.7144351464435146\n"
     ]
    }
   ],
   "source": [
    "xgb = xgboost.XGBClassifier()\n",
    "xgb_model = xgb.fit(x_train_tf_idf_word,train_y)\n",
    "\n",
    "accuracy = model_selection.cross_val_score(xgb_model,\n",
    "                                          x_test_tf_idf_word,\n",
    "                                          test_y,\n",
    "                                          cv = 10).mean()\n",
    "\n",
    "print('Word Level Doğruluk Oranı',accuracy)"
   ]
  },
  {
   "cell_type": "code",
   "execution_count": null,
   "id": "33b2cc82-b41a-41b2-9aca-543e3bddb123",
   "metadata": {},
   "outputs": [],
   "source": []
  },
  {
   "cell_type": "markdown",
   "id": "193e27f2-ea3c-4760-8fa2-6b86668ad23d",
   "metadata": {},
   "source": [
    "#### N-Gram TF-IDF"
   ]
  },
  {
   "cell_type": "code",
   "execution_count": 72,
   "id": "fc191c2e-c7a8-48b6-99af-29aff4c8df06",
   "metadata": {},
   "outputs": [
    {
     "name": "stdout",
     "output_type": "stream",
     "text": [
      "[22:03:12] WARNING: ../src/learner.cc:1095: Starting in XGBoost 1.3.0, the default evaluation metric used with the objective 'binary:logistic' was changed from 'error' to 'logloss'. Explicitly set eval_metric if you'd like to restore the old behavior.\n",
      "[22:03:18] WARNING: ../src/learner.cc:1095: Starting in XGBoost 1.3.0, the default evaluation metric used with the objective 'binary:logistic' was changed from 'error' to 'logloss'. Explicitly set eval_metric if you'd like to restore the old behavior.\n",
      "[22:03:23] WARNING: ../src/learner.cc:1095: Starting in XGBoost 1.3.0, the default evaluation metric used with the objective 'binary:logistic' was changed from 'error' to 'logloss'. Explicitly set eval_metric if you'd like to restore the old behavior.\n",
      "[22:03:28] WARNING: ../src/learner.cc:1095: Starting in XGBoost 1.3.0, the default evaluation metric used with the objective 'binary:logistic' was changed from 'error' to 'logloss'. Explicitly set eval_metric if you'd like to restore the old behavior.\n",
      "[22:03:32] WARNING: ../src/learner.cc:1095: Starting in XGBoost 1.3.0, the default evaluation metric used with the objective 'binary:logistic' was changed from 'error' to 'logloss'. Explicitly set eval_metric if you'd like to restore the old behavior.\n",
      "[22:03:39] WARNING: ../src/learner.cc:1095: Starting in XGBoost 1.3.0, the default evaluation metric used with the objective 'binary:logistic' was changed from 'error' to 'logloss'. Explicitly set eval_metric if you'd like to restore the old behavior.\n",
      "[22:03:43] WARNING: ../src/learner.cc:1095: Starting in XGBoost 1.3.0, the default evaluation metric used with the objective 'binary:logistic' was changed from 'error' to 'logloss'. Explicitly set eval_metric if you'd like to restore the old behavior.\n",
      "[22:03:47] WARNING: ../src/learner.cc:1095: Starting in XGBoost 1.3.0, the default evaluation metric used with the objective 'binary:logistic' was changed from 'error' to 'logloss'. Explicitly set eval_metric if you'd like to restore the old behavior.\n",
      "[22:03:51] WARNING: ../src/learner.cc:1095: Starting in XGBoost 1.3.0, the default evaluation metric used with the objective 'binary:logistic' was changed from 'error' to 'logloss'. Explicitly set eval_metric if you'd like to restore the old behavior.\n",
      "[22:03:56] WARNING: ../src/learner.cc:1095: Starting in XGBoost 1.3.0, the default evaluation metric used with the objective 'binary:logistic' was changed from 'error' to 'logloss'. Explicitly set eval_metric if you'd like to restore the old behavior.\n",
      "[22:04:00] WARNING: ../src/learner.cc:1095: Starting in XGBoost 1.3.0, the default evaluation metric used with the objective 'binary:logistic' was changed from 'error' to 'logloss'. Explicitly set eval_metric if you'd like to restore the old behavior.\n",
      "N-Gram Doğruluk Oranı 0.5930962343096235\n"
     ]
    }
   ],
   "source": [
    "xgb = xgboost.XGBClassifier()\n",
    "xgb_model = xgb.fit(x_train_tf_idf_ngram,train_y)\n",
    "\n",
    "accuracy = model_selection.cross_val_score(xgb_model,\n",
    "                                          x_test_tf_idf_ngram,\n",
    "                                          test_y,\n",
    "                                          cv = 10).mean()\n",
    "\n",
    "print('N-Gram Doğruluk Oranı',accuracy)"
   ]
  },
  {
   "cell_type": "code",
   "execution_count": null,
   "id": "10046131-cfd0-4752-89d9-ae728d4bc68e",
   "metadata": {},
   "outputs": [],
   "source": []
  },
  {
   "cell_type": "markdown",
   "id": "8a0953b9-bd69-4af2-842d-d673909c425f",
   "metadata": {},
   "source": [
    "#### Char-Level TF-IDF"
   ]
  },
  {
   "cell_type": "code",
   "execution_count": 73,
   "id": "04f4f88e-f93c-4889-b8b1-b59ffd4c333a",
   "metadata": {},
   "outputs": [
    {
     "name": "stdout",
     "output_type": "stream",
     "text": [
      "[22:13:27] WARNING: ../src/learner.cc:1095: Starting in XGBoost 1.3.0, the default evaluation metric used with the objective 'binary:logistic' was changed from 'error' to 'logloss'. Explicitly set eval_metric if you'd like to restore the old behavior.\n",
      "[22:13:59] WARNING: ../src/learner.cc:1095: Starting in XGBoost 1.3.0, the default evaluation metric used with the objective 'binary:logistic' was changed from 'error' to 'logloss'. Explicitly set eval_metric if you'd like to restore the old behavior.\n",
      "[22:14:09] WARNING: ../src/learner.cc:1095: Starting in XGBoost 1.3.0, the default evaluation metric used with the objective 'binary:logistic' was changed from 'error' to 'logloss'. Explicitly set eval_metric if you'd like to restore the old behavior.\n",
      "[22:14:20] WARNING: ../src/learner.cc:1095: Starting in XGBoost 1.3.0, the default evaluation metric used with the objective 'binary:logistic' was changed from 'error' to 'logloss'. Explicitly set eval_metric if you'd like to restore the old behavior.\n",
      "[22:14:30] WARNING: ../src/learner.cc:1095: Starting in XGBoost 1.3.0, the default evaluation metric used with the objective 'binary:logistic' was changed from 'error' to 'logloss'. Explicitly set eval_metric if you'd like to restore the old behavior.\n",
      "[22:14:40] WARNING: ../src/learner.cc:1095: Starting in XGBoost 1.3.0, the default evaluation metric used with the objective 'binary:logistic' was changed from 'error' to 'logloss'. Explicitly set eval_metric if you'd like to restore the old behavior.\n",
      "[22:14:50] WARNING: ../src/learner.cc:1095: Starting in XGBoost 1.3.0, the default evaluation metric used with the objective 'binary:logistic' was changed from 'error' to 'logloss'. Explicitly set eval_metric if you'd like to restore the old behavior.\n",
      "[22:15:00] WARNING: ../src/learner.cc:1095: Starting in XGBoost 1.3.0, the default evaluation metric used with the objective 'binary:logistic' was changed from 'error' to 'logloss'. Explicitly set eval_metric if you'd like to restore the old behavior.\n",
      "[22:15:11] WARNING: ../src/learner.cc:1095: Starting in XGBoost 1.3.0, the default evaluation metric used with the objective 'binary:logistic' was changed from 'error' to 'logloss'. Explicitly set eval_metric if you'd like to restore the old behavior.\n",
      "[22:15:23] WARNING: ../src/learner.cc:1095: Starting in XGBoost 1.3.0, the default evaluation metric used with the objective 'binary:logistic' was changed from 'error' to 'logloss'. Explicitly set eval_metric if you'd like to restore the old behavior.\n",
      "[22:15:34] WARNING: ../src/learner.cc:1095: Starting in XGBoost 1.3.0, the default evaluation metric used with the objective 'binary:logistic' was changed from 'error' to 'logloss'. Explicitly set eval_metric if you'd like to restore the old behavior.\n",
      "N-Gram Doğruluk Oranı 0.7706589958158996\n"
     ]
    }
   ],
   "source": [
    "xgb = xgboost.XGBClassifier()\n",
    "xgb_model = xgb.fit(x_train_tf_idf_char,train_y)\n",
    "\n",
    "accuracy = model_selection.cross_val_score(xgb_model,\n",
    "                                          x_test_tf_idf_char,\n",
    "                                          test_y,\n",
    "                                          cv = 10).mean()\n",
    "\n",
    "print('N-Gram Doğruluk Oranı',accuracy)"
   ]
  },
  {
   "cell_type": "code",
   "execution_count": null,
   "id": "5f5a4f15-1b1d-4b5b-8492-6163198ce341",
   "metadata": {},
   "outputs": [],
   "source": []
  },
  {
   "cell_type": "code",
   "execution_count": null,
   "id": "195698d7-a87b-40de-8879-416c4a525b4a",
   "metadata": {},
   "outputs": [],
   "source": []
  },
  {
   "cell_type": "code",
   "execution_count": 75,
   "id": "4aeedf5d-abd2-42d6-b7e2-af306e88fcca",
   "metadata": {},
   "outputs": [],
   "source": [
    "# yapılan modellerden lojistik_reg'i seçelim....\n",
    "# şimdi bunu iş planımıza uygulamamız lazım...\n",
    "# yani yeni gelen bir yorumun sentiment skorunu çıkarmamız lazım..."
   ]
  },
  {
   "cell_type": "code",
   "execution_count": null,
   "id": "f195265c-ded7-4aab-bf9f-7b93a64ab8ad",
   "metadata": {},
   "outputs": [],
   "source": []
  },
  {
   "cell_type": "markdown",
   "id": "558fc8dd-67e2-474a-b76b-89f6cd3a7b20",
   "metadata": {},
   "source": [
    "### Yeni bir yorumu model nesnemize analiz için sokalım....\n",
    "Bunun için text değerini ön işlemeye sokmalıyız..."
   ]
  },
  {
   "cell_type": "code",
   "execution_count": 105,
   "id": "bc6309d2-7e53-47b5-8a4f-b201488dd4f8",
   "metadata": {},
   "outputs": [],
   "source": [
    "yeni_yorum = pd.Series('This film is very nice and good i like it')\n",
    "\n",
    "yeni_yorum2 = pd.Series('no, not good look at that shit very bad')"
   ]
  },
  {
   "cell_type": "code",
   "execution_count": 106,
   "id": "ab014dc4-4d47-4711-9ddb-5dbe3a6714b7",
   "metadata": {},
   "outputs": [],
   "source": [
    "# count vectorizer.."
   ]
  },
  {
   "cell_type": "code",
   "execution_count": 107,
   "id": "09ab59cc-b16f-4822-91a8-8d7a4ecd202f",
   "metadata": {},
   "outputs": [],
   "source": [
    "v = CountVectorizer()"
   ]
  },
  {
   "cell_type": "code",
   "execution_count": 108,
   "id": "b924a187-bc91-4c63-a370-d63cee299d84",
   "metadata": {},
   "outputs": [],
   "source": [
    "# fit etme işlemi train üzerinden olacak..."
   ]
  },
  {
   "cell_type": "code",
   "execution_count": 109,
   "id": "dde2d826-d033-4640-bc4b-65dcae9a7263",
   "metadata": {},
   "outputs": [
    {
     "data": {
      "text/plain": [
       "CountVectorizer()"
      ]
     },
     "execution_count": 109,
     "metadata": {},
     "output_type": "execute_result"
    }
   ],
   "source": [
    "v.fit(train_x)"
   ]
  },
  {
   "cell_type": "code",
   "execution_count": 110,
   "id": "a172528e-63ec-49ed-ad70-91699ad595b1",
   "metadata": {},
   "outputs": [],
   "source": [
    "# yeni yorumu vektöre transform ettirme"
   ]
  },
  {
   "cell_type": "code",
   "execution_count": 111,
   "id": "88acb97e-ee27-4de9-8e3c-dfffb368ae4e",
   "metadata": {},
   "outputs": [],
   "source": [
    "yeni_yorum = v.transform(yeni_yorum)\n",
    "\n",
    "yeni_yorum2 = v.transform(yeni_yorum2)"
   ]
  },
  {
   "cell_type": "code",
   "execution_count": 112,
   "id": "56cc43aa-d51d-4a2d-a141-bdef5a65c433",
   "metadata": {},
   "outputs": [],
   "source": [
    "# positive algıladı..."
   ]
  },
  {
   "cell_type": "code",
   "execution_count": 113,
   "id": "bbc64dd3-092f-4eee-a3e2-a1e89b161bb1",
   "metadata": {},
   "outputs": [
    {
     "data": {
      "text/plain": [
       "array([1])"
      ]
     },
     "execution_count": 113,
     "metadata": {},
     "output_type": "execute_result"
    }
   ],
   "source": [
    "loj_model.predict(yeni_yorum)"
   ]
  },
  {
   "cell_type": "code",
   "execution_count": 114,
   "id": "2e38b192-0c89-43a8-b90f-aaa686eae5fd",
   "metadata": {},
   "outputs": [
    {
     "data": {
      "text/plain": [
       "array([0])"
      ]
     },
     "execution_count": 114,
     "metadata": {},
     "output_type": "execute_result"
    }
   ],
   "source": [
    "loj_model.predict(yeni_yorum2)"
   ]
  },
  {
   "cell_type": "code",
   "execution_count": 115,
   "id": "c5175b92-754d-4773-a6c9-73182833e1e0",
   "metadata": {},
   "outputs": [],
   "source": [
    "# negative algıladı"
   ]
  },
  {
   "cell_type": "code",
   "execution_count": null,
   "id": "777208ea-2605-4fe8-96bd-720c17ac45c0",
   "metadata": {},
   "outputs": [],
   "source": []
  },
  {
   "cell_type": "code",
   "execution_count": null,
   "id": "e52c0ab2-9861-470e-a4d4-1e1079b9b62d",
   "metadata": {},
   "outputs": [],
   "source": []
  }
 ],
 "metadata": {
  "kernelspec": {
   "display_name": "Python 3 (ipykernel)",
   "language": "python",
   "name": "python3"
  },
  "language_info": {
   "codemirror_mode": {
    "name": "ipython",
    "version": 3
   },
   "file_extension": ".py",
   "mimetype": "text/x-python",
   "name": "python",
   "nbconvert_exporter": "python",
   "pygments_lexer": "ipython3",
   "version": "3.8.10"
  }
 },
 "nbformat": 4,
 "nbformat_minor": 5
}
