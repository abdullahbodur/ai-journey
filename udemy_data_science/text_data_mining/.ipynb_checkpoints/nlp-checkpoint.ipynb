{
 "cells": [
  {
   "cell_type": "markdown",
   "id": "e95ec5f0-e6ad-42fb-bc64-ca05a3cdb042",
   "metadata": {},
   "source": [
    "## Temel String İşlemleri"
   ]
  },
  {
   "cell_type": "markdown",
   "id": "19837c8a-7dae-4a59-a230-682ff65a6caf",
   "metadata": {},
   "source": [
    "### Oluşturma Biçimlendirme"
   ]
  },
  {
   "cell_type": "code",
   "execution_count": 12,
   "id": "8c7da16a-33a1-4c1a-96a8-4df026f0d7ac",
   "metadata": {},
   "outputs": [],
   "source": [
    "isim = 'mvk'"
   ]
  },
  {
   "cell_type": "code",
   "execution_count": 3,
   "id": "f0c94a0a-49d1-42fb-97e7-b535a8d0dd2b",
   "metadata": {},
   "outputs": [
    {
     "data": {
      "text/plain": [
       "'mvkmvkmvk'"
      ]
     },
     "execution_count": 3,
     "metadata": {},
     "output_type": "execute_result"
    }
   ],
   "source": [
    "3 * isim"
   ]
  },
  {
   "cell_type": "code",
   "execution_count": 5,
   "id": "0adbe7bb-4a1d-4cf8-8248-9d2004f35dd0",
   "metadata": {},
   "outputs": [
    {
     "data": {
      "text/plain": [
       "'mvkali'"
      ]
     },
     "execution_count": 5,
     "metadata": {},
     "output_type": "execute_result"
    }
   ],
   "source": [
    "isim + 'ali'"
   ]
  },
  {
   "cell_type": "code",
   "execution_count": 7,
   "id": "605930fe-d1ca-48ea-a58b-9c5685fe71e1",
   "metadata": {},
   "outputs": [
    {
     "data": {
      "text/plain": [
       "'Kvk'"
      ]
     },
     "execution_count": 7,
     "metadata": {},
     "output_type": "execute_result"
    }
   ],
   "source": [
    "'K' + isim[1:]"
   ]
  },
  {
   "cell_type": "code",
   "execution_count": 11,
   "id": "74fa0450-91b7-4004-90f6-ba52d42937d7",
   "metadata": {},
   "outputs": [],
   "source": [
    "isimler = ['ali','veli','ayse']"
   ]
  },
  {
   "cell_type": "code",
   "execution_count": 13,
   "id": "9b8ef319-ce11-4599-bbe7-7e13ceeb37ba",
   "metadata": {},
   "outputs": [
    {
     "name": "stdout",
     "output_type": "stream",
     "text": [
      "İSİM:ali\n",
      "İSİM:veli\n",
      "İSİM:ayse\n"
     ]
    }
   ],
   "source": [
    "for i in isimler:\n",
    "    print('İSİM:',i , sep='')\n",
    "    "
   ]
  },
  {
   "cell_type": "code",
   "execution_count": 17,
   "id": "b5bea7f9-63fb-480f-9bde-2d6ccd9a4101",
   "metadata": {},
   "outputs": [
    {
     "name": "stdout",
     "output_type": "stream",
     "text": [
      "_ila\n",
      "_ilev\n",
      "_esya\n"
     ]
    }
   ],
   "source": [
    "for i in isimler:\n",
    "    print('_',i[::-1] , sep='')\n",
    "    "
   ]
  },
  {
   "cell_type": "code",
   "execution_count": 19,
   "id": "53fe1e66-96ba-42ed-a20a-8b94f28b7f98",
   "metadata": {},
   "outputs": [
    {
     "name": "stdout",
     "output_type": "stream",
     "text": [
      "(0, 'ali') (1, 'veli') (2, 'ayse')\n"
     ]
    }
   ],
   "source": [
    "print(*enumerate(isimler))"
   ]
  },
  {
   "cell_type": "code",
   "execution_count": 21,
   "id": "2b9057f3-8131-40b7-8c34-8490871619be",
   "metadata": {},
   "outputs": [
    {
     "name": "stdout",
     "output_type": "stream",
     "text": [
      "(0, 'ali')\n",
      "(1, 'veli')\n",
      "(2, 'ayse')\n"
     ]
    }
   ],
   "source": [
    "for i in enumerate(isimler):\n",
    "    print(i)"
   ]
  },
  {
   "cell_type": "code",
   "execution_count": 22,
   "id": "c3771c96-4a38-4225-a14c-1c2bc77bdff1",
   "metadata": {},
   "outputs": [
    {
     "name": "stdout",
     "output_type": "stream",
     "text": [
      "(0, 'i')\n",
      "(1, 's')\n",
      "(2, 'i')\n",
      "(3, 'm')\n",
      "(4, 'l')\n",
      "(5, 'e')\n",
      "(6, 'r')\n"
     ]
    }
   ],
   "source": [
    "for i in enumerate('isimler'):\n",
    "    print(i)"
   ]
  },
  {
   "cell_type": "code",
   "execution_count": 23,
   "id": "7f39c547-b8bd-45eb-b385-6bb24004b041",
   "metadata": {},
   "outputs": [
    {
     "name": "stdout",
     "output_type": "stream",
     "text": [
      "(4, 'ali')\n",
      "(5, 'veli')\n",
      "(6, 'ayse')\n"
     ]
    }
   ],
   "source": [
    "for i in enumerate(isimler,4):\n",
    "    print(i)"
   ]
  },
  {
   "cell_type": "markdown",
   "id": "cf896ccd-086e-4a81-ae46-464722bf8a1f",
   "metadata": {},
   "source": [
    "## Dizi İçi Tip Sorgulamaları "
   ]
  },
  {
   "cell_type": "code",
   "execution_count": 31,
   "id": "5e3af8d6-e4e7-4195-b6ae-f0f96df01782",
   "metadata": {},
   "outputs": [
    {
     "data": {
      "text/plain": [
       "True"
      ]
     },
     "execution_count": 31,
     "metadata": {},
     "output_type": "execute_result"
    }
   ],
   "source": [
    "\"mvk\".isalpha()"
   ]
  },
  {
   "cell_type": "code",
   "execution_count": 32,
   "id": "6b6f0caf-c9a7-445a-a6dc-a578b4621c20",
   "metadata": {},
   "outputs": [
    {
     "data": {
      "text/plain": [
       "False"
      ]
     },
     "execution_count": 32,
     "metadata": {},
     "output_type": "execute_result"
    }
   ],
   "source": [
    "\"mvk30\".isalpha()"
   ]
  },
  {
   "cell_type": "code",
   "execution_count": 33,
   "id": "3227ea62-e0b1-48e6-9e13-fc44a3c20eb7",
   "metadata": {},
   "outputs": [
    {
     "data": {
      "text/plain": [
       "True"
      ]
     },
     "execution_count": 33,
     "metadata": {},
     "output_type": "execute_result"
    }
   ],
   "source": [
    "\"123\".isnumeric()"
   ]
  },
  {
   "cell_type": "code",
   "execution_count": 34,
   "id": "3db7714f-4e2a-4dbe-a2f0-20560e46f775",
   "metadata": {},
   "outputs": [
    {
     "data": {
      "text/plain": [
       "True"
      ]
     },
     "execution_count": 34,
     "metadata": {},
     "output_type": "execute_result"
    }
   ],
   "source": [
    "\"123\".isdigit()"
   ]
  },
  {
   "cell_type": "code",
   "execution_count": 35,
   "id": "2065042a-270d-4c7d-a7bc-b10c472ece8d",
   "metadata": {},
   "outputs": [
    {
     "data": {
      "text/plain": [
       "True"
      ]
     },
     "execution_count": 35,
     "metadata": {},
     "output_type": "execute_result"
    }
   ],
   "source": [
    "\"mvk30\".isalnum()"
   ]
  },
  {
   "cell_type": "markdown",
   "id": "02a9559b-f25a-49b3-8644-0c176dfc005e",
   "metadata": {
    "tags": []
   },
   "source": [
    "## Elemanlarına ve Eleman Indexlerine Erişmek"
   ]
  },
  {
   "cell_type": "code",
   "execution_count": 36,
   "id": "5ab8ed69-7074-420e-963e-e585a4d890cb",
   "metadata": {},
   "outputs": [],
   "source": [
    "isim = \"mustafavahitkeskin\""
   ]
  },
  {
   "cell_type": "code",
   "execution_count": 37,
   "id": "a8204034-6b87-4c38-9875-93fec958b9d5",
   "metadata": {},
   "outputs": [
    {
     "data": {
      "text/plain": [
       "'mustafavahitkeskin'"
      ]
     },
     "execution_count": 37,
     "metadata": {},
     "output_type": "execute_result"
    }
   ],
   "source": [
    "isim"
   ]
  },
  {
   "cell_type": "code",
   "execution_count": 38,
   "id": "c3a41734-fbf3-4352-844a-765fc6851489",
   "metadata": {},
   "outputs": [
    {
     "data": {
      "text/plain": [
       "'mu'"
      ]
     },
     "execution_count": 38,
     "metadata": {},
     "output_type": "execute_result"
    }
   ],
   "source": [
    "isim[0:2]"
   ]
  },
  {
   "cell_type": "code",
   "execution_count": 39,
   "id": "a0d47e14-ff87-46a4-a6c4-ad4121b5d818",
   "metadata": {},
   "outputs": [
    {
     "data": {
      "text/plain": [
       "17"
      ]
     },
     "execution_count": 39,
     "metadata": {},
     "output_type": "execute_result"
    }
   ],
   "source": [
    "isim.index(\"n\")"
   ]
  },
  {
   "cell_type": "code",
   "execution_count": 40,
   "id": "c324c615-acf6-456c-b6c0-5b22c0e22def",
   "metadata": {},
   "outputs": [
    {
     "data": {
      "text/plain": [
       "4"
      ]
     },
     "execution_count": 40,
     "metadata": {},
     "output_type": "execute_result"
    }
   ],
   "source": [
    "isim.index(\"a\")"
   ]
  },
  {
   "cell_type": "code",
   "execution_count": 42,
   "id": "f5a9ecec-e97c-499e-be22-3e92244ec911",
   "metadata": {},
   "outputs": [
    {
     "data": {
      "text/plain": [
       "6"
      ]
     },
     "execution_count": 42,
     "metadata": {},
     "output_type": "execute_result"
    }
   ],
   "source": [
    "isim.index(\"a\",5) # 5 ten sonraki a harfi"
   ]
  },
  {
   "cell_type": "markdown",
   "id": "a6e0fd07-f8b2-400f-9892-a8e4284a0e59",
   "metadata": {
    "tags": []
   },
   "source": [
    "## Başlangıç ve Bitiş Karakterlerini Sorgulamak: startswith() & endswith()"
   ]
  },
  {
   "cell_type": "code",
   "execution_count": 43,
   "id": "aedbb51d-8340-467d-9e93-495d6802d552",
   "metadata": {},
   "outputs": [],
   "source": [
    "isim = \"Mustafa Vahit Keskin\""
   ]
  },
  {
   "cell_type": "code",
   "execution_count": 45,
   "id": "bb824bf5-5b99-4ad8-a78a-e12174a11ac9",
   "metadata": {},
   "outputs": [
    {
     "data": {
      "text/plain": [
       "False"
      ]
     },
     "execution_count": 45,
     "metadata": {},
     "output_type": "execute_result"
    }
   ],
   "source": [
    "isim.startswith(\"a\")"
   ]
  },
  {
   "cell_type": "code",
   "execution_count": 46,
   "id": "c1c63850-1ed2-415f-b58e-158e811e4e8e",
   "metadata": {},
   "outputs": [
    {
     "data": {
      "text/plain": [
       "False"
      ]
     },
     "execution_count": 46,
     "metadata": {},
     "output_type": "execute_result"
    }
   ],
   "source": [
    "isim.startswith(\"m\")"
   ]
  },
  {
   "cell_type": "code",
   "execution_count": 47,
   "id": "2e97a9be-71f5-4025-8994-fbce2f2a790b",
   "metadata": {},
   "outputs": [
    {
     "data": {
      "text/plain": [
       "True"
      ]
     },
     "execution_count": 47,
     "metadata": {},
     "output_type": "execute_result"
    }
   ],
   "source": [
    "isim.startswith(\"M\")"
   ]
  },
  {
   "cell_type": "code",
   "execution_count": 48,
   "id": "b50a1383-8048-441b-ae0e-d39402de9f06",
   "metadata": {},
   "outputs": [
    {
     "data": {
      "text/plain": [
       "True"
      ]
     },
     "execution_count": 48,
     "metadata": {},
     "output_type": "execute_result"
    }
   ],
   "source": [
    "isim.endswith(\"n\")"
   ]
  },
  {
   "cell_type": "code",
   "execution_count": null,
   "id": "4db12d2f-bf27-41cd-9f9d-e16b5e425702",
   "metadata": {},
   "outputs": [],
   "source": [
    "#count"
   ]
  },
  {
   "cell_type": "code",
   "execution_count": 49,
   "id": "8313afdb-64cc-4bab-83ea-5ecec8aee786",
   "metadata": {},
   "outputs": [
    {
     "data": {
      "text/plain": [
       "3"
      ]
     },
     "execution_count": 49,
     "metadata": {},
     "output_type": "execute_result"
    }
   ],
   "source": [
    "isim.count(\"a\")"
   ]
  },
  {
   "cell_type": "code",
   "execution_count": 50,
   "id": "65e5e078-8b75-4a04-a6e9-f9cda48bab0b",
   "metadata": {},
   "outputs": [],
   "source": [
    "#sorted"
   ]
  },
  {
   "cell_type": "code",
   "execution_count": 51,
   "id": "4a4209d8-8412-4d02-8864-631c270775b8",
   "metadata": {},
   "outputs": [
    {
     "data": {
      "text/plain": [
       "['d', 'e', 'e', 'f', 'r', 't']"
      ]
     },
     "execution_count": 51,
     "metadata": {},
     "output_type": "execute_result"
    }
   ],
   "source": [
    "sorted(\"defter\")"
   ]
  },
  {
   "cell_type": "code",
   "execution_count": 52,
   "id": "c2a66952-227a-4fd4-acad-ee85d20d1c56",
   "metadata": {},
   "outputs": [
    {
     "name": "stdout",
     "output_type": "stream",
     "text": [
      "deefrt\n"
     ]
    }
   ],
   "source": [
    "print(*sorted(\"defter\"), sep = \"\")"
   ]
  },
  {
   "cell_type": "markdown",
   "id": "d9ec74f9-c87f-4405-8be8-62f4eefdf845",
   "metadata": {},
   "source": [
    "## Karakterleri Bölmek"
   ]
  },
  {
   "cell_type": "code",
   "execution_count": 53,
   "id": "51bc90a2-e242-403c-a4cd-9345a835d9e2",
   "metadata": {},
   "outputs": [],
   "source": [
    "isim = \"Mustafa Vahit Keskin\""
   ]
  },
  {
   "cell_type": "code",
   "execution_count": 54,
   "id": "283d34a9-185a-4930-98fc-4e1a5ee5eece",
   "metadata": {},
   "outputs": [
    {
     "data": {
      "text/plain": [
       "['Mustafa', 'Vahit', 'Keskin']"
      ]
     },
     "execution_count": 54,
     "metadata": {},
     "output_type": "execute_result"
    }
   ],
   "source": [
    "isim.split()"
   ]
  },
  {
   "cell_type": "code",
   "execution_count": 55,
   "id": "d5513326-7121-4305-9d7e-ec21094a4975",
   "metadata": {},
   "outputs": [
    {
     "data": {
      "text/plain": [
       "['Mustafa Vahit Keskin']"
      ]
     },
     "execution_count": 55,
     "metadata": {},
     "output_type": "execute_result"
    }
   ],
   "source": [
    "isim.split(\",\")"
   ]
  },
  {
   "cell_type": "code",
   "execution_count": 56,
   "id": "45e89808-ebfd-43e6-afac-e4ad8e0265db",
   "metadata": {},
   "outputs": [],
   "source": [
    "isim = \"Mustafa_Vahit_Keskin\""
   ]
  },
  {
   "cell_type": "code",
   "execution_count": 57,
   "id": "8f274407-f5bf-4ae8-b8e5-a77f06eaf7de",
   "metadata": {},
   "outputs": [
    {
     "data": {
      "text/plain": [
       "['Mustafa', 'Vahit', 'Keskin']"
      ]
     },
     "execution_count": 57,
     "metadata": {},
     "output_type": "execute_result"
    }
   ],
   "source": [
    "isim.split(\"_\")"
   ]
  },
  {
   "cell_type": "markdown",
   "id": "2d4e7d3d-6e0c-446d-932c-5d8dbcdf60fd",
   "metadata": {},
   "source": [
    "## Büyük Küçük Harf İşlemleri"
   ]
  },
  {
   "cell_type": "code",
   "execution_count": 58,
   "id": "daed05aa-3bf1-409d-8181-4920e3b9d3de",
   "metadata": {},
   "outputs": [],
   "source": [
    "isim = \"Mustafa Vahit Keskin\""
   ]
  },
  {
   "cell_type": "code",
   "execution_count": 59,
   "id": "d5791dc1-916c-472d-9aa4-045b224bb93b",
   "metadata": {},
   "outputs": [
    {
     "data": {
      "text/plain": [
       "'MUSTAFA VAHIT KESKIN'"
      ]
     },
     "execution_count": 59,
     "metadata": {},
     "output_type": "execute_result"
    }
   ],
   "source": [
    "isim.upper()"
   ]
  },
  {
   "cell_type": "code",
   "execution_count": 60,
   "id": "d1f9e7da-4a03-4fcc-9efa-e71ec244c199",
   "metadata": {},
   "outputs": [
    {
     "data": {
      "text/plain": [
       "'mustafa vahit keskin'"
      ]
     },
     "execution_count": 60,
     "metadata": {},
     "output_type": "execute_result"
    }
   ],
   "source": [
    "isim.lower()"
   ]
  },
  {
   "cell_type": "code",
   "execution_count": 61,
   "id": "e5b833af-b9e3-4ee4-b054-93b715642360",
   "metadata": {},
   "outputs": [
    {
     "data": {
      "text/plain": [
       "'mustafa vahit keskin'"
      ]
     },
     "execution_count": 61,
     "metadata": {},
     "output_type": "execute_result"
    }
   ],
   "source": [
    "isim.upper().lower()"
   ]
  },
  {
   "cell_type": "code",
   "execution_count": 62,
   "id": "67bab458-0a2f-45ff-8302-0d85e566d404",
   "metadata": {},
   "outputs": [],
   "source": [
    "isim_b = isim.upper()"
   ]
  },
  {
   "cell_type": "code",
   "execution_count": 63,
   "id": "d9d74d8d-2677-49b7-affb-0a430eaa30e7",
   "metadata": {},
   "outputs": [
    {
     "data": {
      "text/plain": [
       "False"
      ]
     },
     "execution_count": 63,
     "metadata": {},
     "output_type": "execute_result"
    }
   ],
   "source": [
    "isim_b.islower()"
   ]
  },
  {
   "cell_type": "code",
   "execution_count": 64,
   "id": "443a0161-24ae-48ed-a71d-a51308a289b4",
   "metadata": {},
   "outputs": [
    {
     "data": {
      "text/plain": [
       "True"
      ]
     },
     "execution_count": 64,
     "metadata": {},
     "output_type": "execute_result"
    }
   ],
   "source": [
    "isim_b.isupper()"
   ]
  },
  {
   "cell_type": "markdown",
   "id": "741acfa3-a34a-4165-a384-5c96c987b4d7",
   "metadata": {},
   "source": [
    "## capitalize() & title() & swapcase()"
   ]
  },
  {
   "cell_type": "code",
   "execution_count": 103,
   "id": "db52c018-697a-4a14-a069-a683df1f3a28",
   "metadata": {},
   "outputs": [],
   "source": [
    "isim = \"mustafa vahit keskin\""
   ]
  },
  {
   "cell_type": "code",
   "execution_count": 66,
   "id": "a4aa7fbf-20d7-4f8d-a0a9-2c6f873003d8",
   "metadata": {},
   "outputs": [
    {
     "data": {
      "text/plain": [
       "'Mustafa vahit keskin'"
      ]
     },
     "execution_count": 66,
     "metadata": {},
     "output_type": "execute_result"
    }
   ],
   "source": [
    "isim.capitalize()  # ilk harfini büyüt"
   ]
  },
  {
   "cell_type": "code",
   "execution_count": 67,
   "id": "e2f09b74-15a0-4508-a34d-dbecc73e694f",
   "metadata": {},
   "outputs": [
    {
     "data": {
      "text/plain": [
       "'Mustafa Vahit Keskin'"
      ]
     },
     "execution_count": 67,
     "metadata": {},
     "output_type": "execute_result"
    }
   ],
   "source": [
    "isim.title() # Her kelimenin ilk harfi"
   ]
  },
  {
   "cell_type": "code",
   "execution_count": 105,
   "id": "4ed54d76-3736-4f2e-ac5b-93d925463616",
   "metadata": {},
   "outputs": [
    {
     "data": {
      "text/plain": [
       "'MUSTAFA VAHIT KESKIN'"
      ]
     },
     "execution_count": 105,
     "metadata": {},
     "output_type": "execute_result"
    }
   ],
   "source": [
    "isim.swapcase()"
   ]
  },
  {
   "cell_type": "code",
   "execution_count": 106,
   "id": "d0b3f22b-16ef-4be3-8972-36c169e99417",
   "metadata": {},
   "outputs": [],
   "source": [
    "isim = \"MUSTAFA vahit KESKIN\""
   ]
  },
  {
   "cell_type": "code",
   "execution_count": 107,
   "id": "2a4bd2f6-d0b0-4a86-a71a-e2fca6319a78",
   "metadata": {},
   "outputs": [
    {
     "data": {
      "text/plain": [
       "'mustafa VAHIT keskin'"
      ]
     },
     "execution_count": 107,
     "metadata": {},
     "output_type": "execute_result"
    }
   ],
   "source": [
    "isim.swapcase() # küçük kelimeleri büyüt , büyükleri küçüt"
   ]
  },
  {
   "cell_type": "markdown",
   "id": "d2517aa8-7744-4852-b73e-03d7350b8cc8",
   "metadata": {},
   "source": [
    "## İstenmeyen Karakterleri Kırpmak: strip(), lstrip(), rsting()"
   ]
  },
  {
   "cell_type": "code",
   "execution_count": 71,
   "id": "a30ad38f-3994-447b-bd5a-b804e1210e9d",
   "metadata": {},
   "outputs": [],
   "source": [
    "isim = \" hello \""
   ]
  },
  {
   "cell_type": "code",
   "execution_count": 72,
   "id": "65bff008-c5d8-4106-8ffe-9ff7527fe52b",
   "metadata": {},
   "outputs": [
    {
     "data": {
      "text/plain": [
       "'hello'"
      ]
     },
     "execution_count": 72,
     "metadata": {},
     "output_type": "execute_result"
    }
   ],
   "source": [
    "isim.strip()"
   ]
  },
  {
   "cell_type": "code",
   "execution_count": 73,
   "id": "f620dd36-55f9-400f-b45b-a4c12278ca9d",
   "metadata": {},
   "outputs": [],
   "source": [
    "isim = \"*hello*\""
   ]
  },
  {
   "cell_type": "code",
   "execution_count": 74,
   "id": "84500906-fc0a-4b2c-b194-b75db5739bba",
   "metadata": {},
   "outputs": [
    {
     "data": {
      "text/plain": [
       "'hello'"
      ]
     },
     "execution_count": 74,
     "metadata": {},
     "output_type": "execute_result"
    }
   ],
   "source": [
    "isim.strip(\"*\")"
   ]
  },
  {
   "cell_type": "code",
   "execution_count": 75,
   "id": "b672560a-483f-48cf-8451-eea85d9cbb10",
   "metadata": {},
   "outputs": [],
   "source": [
    "isim = \"lhellol\""
   ]
  },
  {
   "cell_type": "code",
   "execution_count": 76,
   "id": "4da5757b-a0ab-47e9-8477-2bc25e457df8",
   "metadata": {},
   "outputs": [
    {
     "data": {
      "text/plain": [
       "'hello'"
      ]
     },
     "execution_count": 76,
     "metadata": {},
     "output_type": "execute_result"
    }
   ],
   "source": [
    "isim.strip(\"l\")"
   ]
  },
  {
   "cell_type": "code",
   "execution_count": 77,
   "id": "f3e7b79b-a5cb-4155-bbaa-e22f1aacf970",
   "metadata": {},
   "outputs": [],
   "source": [
    "isim = \"*hello*\""
   ]
  },
  {
   "cell_type": "code",
   "execution_count": 78,
   "id": "ae09f660-d050-4c00-920b-4808dcbb4a51",
   "metadata": {},
   "outputs": [
    {
     "data": {
      "text/plain": [
       "'*hello'"
      ]
     },
     "execution_count": 78,
     "metadata": {},
     "output_type": "execute_result"
    }
   ],
   "source": [
    "isim.rstrip(\"*\")"
   ]
  },
  {
   "cell_type": "code",
   "execution_count": 79,
   "id": "21a5d11b-06d3-4873-96e5-36952ea92128",
   "metadata": {},
   "outputs": [
    {
     "data": {
      "text/plain": [
       "'hello*'"
      ]
     },
     "execution_count": 79,
     "metadata": {},
     "output_type": "execute_result"
    }
   ],
   "source": [
    "isim.lstrip(\"*\")"
   ]
  },
  {
   "cell_type": "markdown",
   "id": "059a3d4e-240b-40dd-8e2e-b128f863e782",
   "metadata": {},
   "source": [
    "## join: bölünmüş ya da zaten bölük olan ifadelerin birleştirilmesi"
   ]
  },
  {
   "cell_type": "code",
   "execution_count": 80,
   "id": "c9f0f163-c77a-4a56-9304-497ef1680113",
   "metadata": {},
   "outputs": [],
   "source": [
    "isim = \"Mustafa Vahit Keskin\""
   ]
  },
  {
   "cell_type": "code",
   "execution_count": 81,
   "id": "2778b4d1-ede6-412d-af62-cb7a74236e3f",
   "metadata": {},
   "outputs": [],
   "source": [
    "ayrik = isim.split()"
   ]
  },
  {
   "cell_type": "code",
   "execution_count": 82,
   "id": "b7792eb1-6806-4cdc-8727-85b078533855",
   "metadata": {},
   "outputs": [
    {
     "data": {
      "text/plain": [
       "['Mustafa', 'Vahit', 'Keskin']"
      ]
     },
     "execution_count": 82,
     "metadata": {},
     "output_type": "execute_result"
    }
   ],
   "source": [
    "ayrik"
   ]
  },
  {
   "cell_type": "code",
   "execution_count": 83,
   "id": "29ce7991-831b-4e6d-880e-9b00e7092f8d",
   "metadata": {},
   "outputs": [],
   "source": [
    "joiner = \" \""
   ]
  },
  {
   "cell_type": "code",
   "execution_count": 84,
   "id": "5f5e17af-cffe-4811-b004-682a508e3d97",
   "metadata": {},
   "outputs": [
    {
     "data": {
      "text/plain": [
       "'Mustafa Vahit Keskin'"
      ]
     },
     "execution_count": 84,
     "metadata": {},
     "output_type": "execute_result"
    }
   ],
   "source": [
    "joiner.join(ayrik)"
   ]
  },
  {
   "cell_type": "code",
   "execution_count": 85,
   "id": "f51289ae-7845-44cf-9c86-a67bf20b9639",
   "metadata": {},
   "outputs": [],
   "source": [
    "joiner = \"*****\""
   ]
  },
  {
   "cell_type": "code",
   "execution_count": 86,
   "id": "6c4b9bb5-7608-4ce2-a41a-ef2acd260f8f",
   "metadata": {},
   "outputs": [
    {
     "data": {
      "text/plain": [
       "'Mustafa*****Vahit*****Keskin'"
      ]
     },
     "execution_count": 86,
     "metadata": {},
     "output_type": "execute_result"
    }
   ],
   "source": [
    "joiner.join(ayrik)"
   ]
  },
  {
   "cell_type": "markdown",
   "id": "e07553e3-8f35-4b27-8562-c1f6054bbfb3",
   "metadata": {},
   "source": [
    "## Eleman Değiştirme: replace(), str.maketrans(), translate()"
   ]
  },
  {
   "cell_type": "code",
   "execution_count": 108,
   "id": "0f793d09-31f1-4490-91cd-aff3d54f3a22",
   "metadata": {},
   "outputs": [
    {
     "data": {
      "text/plain": [
       "'MUSTAFA vahit KESKIN'"
      ]
     },
     "execution_count": 108,
     "metadata": {},
     "output_type": "execute_result"
    }
   ],
   "source": [
    "isim"
   ]
  },
  {
   "cell_type": "code",
   "execution_count": 109,
   "id": "51a56b4d-93c5-4320-8558-67d456e2691c",
   "metadata": {},
   "outputs": [
    {
     "data": {
      "text/plain": [
       "'MUSTAFA vahit KESKIN'"
      ]
     },
     "execution_count": 109,
     "metadata": {},
     "output_type": "execute_result"
    }
   ],
   "source": [
    "isim.replace(\"V\",\"c\")"
   ]
  },
  {
   "cell_type": "code",
   "execution_count": 110,
   "id": "73d9143b-26be-4283-a049-6a4ace8c02d4",
   "metadata": {},
   "outputs": [
    {
     "data": {
      "text/plain": [
       "'MUSTAFA vahit KESKIN'"
      ]
     },
     "execution_count": 110,
     "metadata": {},
     "output_type": "execute_result"
    }
   ],
   "source": [
    "isim.replace(\"ca\",\"Va\")"
   ]
  },
  {
   "cell_type": "code",
   "execution_count": null,
   "id": "91660d53-7687-44b4-a72c-a84cc0a2bd34",
   "metadata": {},
   "outputs": [],
   "source": []
  },
  {
   "cell_type": "code",
   "execution_count": 111,
   "id": "47103ded-e74e-4d18-bcfe-5295ffa2d2ad",
   "metadata": {},
   "outputs": [],
   "source": [
    "ifade = \"Bu ifade İçerisinde bağzı TÜrkçe karakterler vardır\""
   ]
  },
  {
   "cell_type": "code",
   "execution_count": 112,
   "id": "12f02fa5-1a1a-4917-a382-8bf1d4b28dc7",
   "metadata": {},
   "outputs": [],
   "source": [
    "duzeltilecek_harfler = \"çÇğĞıİöÖşŞüÜ\"\n",
    "duzeltilmis_harfler = \"cCgGiIoOsSuU\""
   ]
  },
  {
   "cell_type": "code",
   "execution_count": 113,
   "id": "e57bfba2-213a-42dd-b3af-011a802a9041",
   "metadata": {},
   "outputs": [],
   "source": [
    "alfabe_duzeltme = str.maketrans(duzeltilecek_harfler, duzeltilmis_harfler)"
   ]
  },
  {
   "cell_type": "code",
   "execution_count": 114,
   "id": "335c6a1d-1e33-45d7-813a-9cba598d3d61",
   "metadata": {},
   "outputs": [
    {
     "data": {
      "text/plain": [
       "'Bu ifade Icerisinde bagzi TUrkce karakterler vardir'"
      ]
     },
     "execution_count": 114,
     "metadata": {},
     "output_type": "execute_result"
    }
   ],
   "source": [
    "ifade.translate(alfabe_duzeltme)"
   ]
  },
  {
   "cell_type": "markdown",
   "id": "e745a357-2c18-4588-80d4-1d1c539d8e92",
   "metadata": {},
   "source": [
    "## contains"
   ]
  },
  {
   "cell_type": "code",
   "execution_count": 9,
   "id": "12c0a724-0cc4-4ce7-8729-07d339b13e87",
   "metadata": {},
   "outputs": [],
   "source": [
    "import pandas as pd\n",
    "isimler = [\"ayse\",\"Ayşe\",\"ali\",\"aali\",\"Ali\",\"veli\",\"mehmet\",\"berkcan\"]\n",
    "v = pd.Series(isimler)"
   ]
  },
  {
   "cell_type": "code",
   "execution_count": 95,
   "id": "0ce6a73e-50b3-4ec2-9c2e-8f5cdd0d7192",
   "metadata": {},
   "outputs": [
    {
     "data": {
      "text/plain": [
       "0       ayse\n",
       "1       Ayşe\n",
       "2        ali\n",
       "3       aali\n",
       "4        Ali\n",
       "5       veli\n",
       "6     mehmet\n",
       "7    berkcan\n",
       "dtype: object"
      ]
     },
     "execution_count": 95,
     "metadata": {},
     "output_type": "execute_result"
    }
   ],
   "source": [
    "v"
   ]
  },
  {
   "cell_type": "code",
   "execution_count": 96,
   "id": "bd94026b-a7c6-479d-a8cb-177e4f584f6d",
   "metadata": {},
   "outputs": [
    {
     "data": {
      "text/plain": [
       "0    False\n",
       "1    False\n",
       "2     True\n",
       "3     True\n",
       "4    False\n",
       "5    False\n",
       "6    False\n",
       "7    False\n",
       "dtype: bool"
      ]
     },
     "execution_count": 96,
     "metadata": {},
     "output_type": "execute_result"
    }
   ],
   "source": [
    "v.str.contains(\"al\")"
   ]
  },
  {
   "cell_type": "code",
   "execution_count": 97,
   "id": "79042773-5df4-45b8-86bc-ac3320f145b1",
   "metadata": {},
   "outputs": [
    {
     "data": {
      "text/plain": [
       "2     ali\n",
       "3    aali\n",
       "dtype: object"
      ]
     },
     "execution_count": 97,
     "metadata": {},
     "output_type": "execute_result"
    }
   ],
   "source": [
    "v[v.str.contains(\"al\")]"
   ]
  },
  {
   "cell_type": "code",
   "execution_count": 98,
   "id": "f7a21f87-2454-4429-925b-c9d85bcfc87b",
   "metadata": {},
   "outputs": [
    {
     "data": {
      "text/plain": [
       "2"
      ]
     },
     "execution_count": 98,
     "metadata": {},
     "output_type": "execute_result"
    }
   ],
   "source": [
    "v.str.contains(\"al\").sum()"
   ]
  },
  {
   "cell_type": "code",
   "execution_count": 99,
   "id": "4c54912d-058d-4ae5-aaa2-8cecf704b152",
   "metadata": {},
   "outputs": [
    {
     "data": {
      "text/plain": [
       "3"
      ]
     },
     "execution_count": 99,
     "metadata": {},
     "output_type": "execute_result"
    }
   ],
   "source": [
    "v.str.contains(\"[aA]li\").sum()"
   ]
  },
  {
   "cell_type": "code",
   "execution_count": null,
   "id": "f1b18062-ff9a-4ef6-bc0c-4b7150d78603",
   "metadata": {},
   "outputs": [],
   "source": []
  },
  {
   "cell_type": "markdown",
   "id": "e3d74cef-acd8-4a79-8b70-076f586727c5",
   "metadata": {},
   "source": [
    "## Metin Madenciliği ve Doğal Dil İşlemeye Giriş"
   ]
  },
  {
   "cell_type": "markdown",
   "id": "0748a812-4810-4d6a-8037-39318bb48de4",
   "metadata": {},
   "source": [
    "### Metin Ön İşleme"
   ]
  },
  {
   "cell_type": "code",
   "execution_count": 1,
   "id": "1bbbbb3e-3031-481a-9fd7-efb258ea8c35",
   "metadata": {},
   "outputs": [
    {
     "data": {
      "text/plain": [
       "\"\\nA Scandal in Bohemia! 01\\nThe Red-headed League,2\\nA Case, of Identity 33\\nThe Boscombe Valley Mystery4\\nThe Five Orange Pips1\\nThe Man with? the Twisted Lip\\nThe Adventure of the Blue Carbuncle\\nThe Adventure of the Speckled Band\\nThe Adventure of the Engineer's Thumb\\nThe Adventure of the Noble Bachelor\\nThe Adventure of the Beryl Coronet\\nThe Adventure of the Copper Beeches\""
      ]
     },
     "execution_count": 1,
     "metadata": {},
     "output_type": "execute_result"
    },
    {
     "name": "stdout",
     "output_type": "stream",
     "text": [
      "The history saving thread hit an unexpected error (DatabaseError('database disk image is malformed')).History will not be written to the database.\n"
     ]
    }
   ],
   "source": [
    "metin = \"\"\"\n",
    "A Scandal in Bohemia! 01\n",
    "The Red-headed League,2\n",
    "A Case, of Identity 33\n",
    "The Boscombe Valley Mystery4\n",
    "The Five Orange Pips1\n",
    "The Man with? the Twisted Lip\n",
    "The Adventure of the Blue Carbuncle\n",
    "The Adventure of the Speckled Band\n",
    "The Adventure of the Engineer's Thumb\n",
    "The Adventure of the Noble Bachelor\n",
    "The Adventure of the Beryl Coronet\n",
    "The Adventure of the Copper Beeches\"\"\"\n",
    "\n",
    "metin"
   ]
  },
  {
   "cell_type": "markdown",
   "id": "1abf53b1-8635-468a-b095-bd2599b16b4e",
   "metadata": {},
   "source": [
    "### String'i df array'e çevirme"
   ]
  },
  {
   "cell_type": "code",
   "execution_count": 2,
   "id": "97998409-04d6-489b-acb7-a473c1b0a7fe",
   "metadata": {},
   "outputs": [
    {
     "data": {
      "text/plain": [
       "['A Scandal in Bohemia! 01',\n",
       " 'The Red-headed League,2',\n",
       " 'A Case, of Identity 33',\n",
       " 'The Boscombe Valley Mystery4',\n",
       " 'The Five Orange Pips1',\n",
       " 'The Man with? the Twisted Lip',\n",
       " 'The Adventure of the Blue Carbuncle',\n",
       " 'The Adventure of the Speckled Band',\n",
       " \"The Adventure of the Engineer's Thumb\",\n",
       " 'The Adventure of the Noble Bachelor',\n",
       " 'The Adventure of the Beryl Coronet',\n",
       " 'The Adventure of the Copper Beeches']"
      ]
     },
     "execution_count": 2,
     "metadata": {},
     "output_type": "execute_result"
    }
   ],
   "source": [
    "metin.lstrip('\\n').split('\\n')"
   ]
  },
  {
   "cell_type": "code",
   "execution_count": 3,
   "id": "e569d099-62cd-4480-8e2a-671355015f2e",
   "metadata": {},
   "outputs": [],
   "source": [
    " # satırlama"
   ]
  },
  {
   "cell_type": "code",
   "execution_count": 4,
   "id": "045b9338-313b-44d2-8ea4-7d9c24ff812c",
   "metadata": {},
   "outputs": [],
   "source": [
    "v_metin = metin.split('\\n')"
   ]
  },
  {
   "cell_type": "code",
   "execution_count": 5,
   "id": "aefc92b8-e0b4-403d-b4ae-66d341acf34b",
   "metadata": {},
   "outputs": [],
   "source": [
    "# vektöre çevirim"
   ]
  },
  {
   "cell_type": "code",
   "execution_count": 10,
   "id": "d34a0d7b-cfbf-4cff-af1e-2419be2842c2",
   "metadata": {},
   "outputs": [],
   "source": [
    "v = pd.Series(v_metin)"
   ]
  },
  {
   "cell_type": "code",
   "execution_count": 11,
   "id": "7a16350e-e776-4382-8c7e-f44964cc1710",
   "metadata": {},
   "outputs": [
    {
     "data": {
      "text/plain": [
       "0                                          \n",
       "1                  A Scandal in Bohemia! 01\n",
       "2                   The Red-headed League,2\n",
       "3                    A Case, of Identity 33\n",
       "4              The Boscombe Valley Mystery4\n",
       "5                     The Five Orange Pips1\n",
       "6             The Man with? the Twisted Lip\n",
       "7       The Adventure of the Blue Carbuncle\n",
       "8        The Adventure of the Speckled Band\n",
       "9     The Adventure of the Engineer's Thumb\n",
       "10      The Adventure of the Noble Bachelor\n",
       "11       The Adventure of the Beryl Coronet\n",
       "12      The Adventure of the Copper Beeches\n",
       "dtype: object"
      ]
     },
     "execution_count": 11,
     "metadata": {},
     "output_type": "execute_result"
    }
   ],
   "source": [
    "v"
   ]
  },
  {
   "cell_type": "code",
   "execution_count": 8,
   "id": "9ce0a5c7-b892-454c-9968-02cafb5bf8cd",
   "metadata": {},
   "outputs": [],
   "source": [
    "# ilk satırdan kurtulma"
   ]
  },
  {
   "cell_type": "code",
   "execution_count": 19,
   "id": "df6f0ce3-81c3-437b-aaa3-b58cbff920fe",
   "metadata": {},
   "outputs": [],
   "source": [
    "v = v.tail(12)"
   ]
  },
  {
   "cell_type": "code",
   "execution_count": 20,
   "id": "21418924-2f01-476c-a15a-cdc9ecf12ae2",
   "metadata": {},
   "outputs": [],
   "source": [
    "# pandas df'ye çevirme"
   ]
  },
  {
   "cell_type": "code",
   "execution_count": 21,
   "id": "bd9fe7ba-f235-42c8-bb19-7ea4eb685bc7",
   "metadata": {},
   "outputs": [],
   "source": [
    "mdf = pd.DataFrame(v,columns=['hikayeler'])"
   ]
  },
  {
   "cell_type": "code",
   "execution_count": 22,
   "id": "cfd4ddd1-2d8b-4e3b-8250-841b0863b80e",
   "metadata": {},
   "outputs": [
    {
     "data": {
      "text/html": [
       "<div>\n",
       "<style scoped>\n",
       "    .dataframe tbody tr th:only-of-type {\n",
       "        vertical-align: middle;\n",
       "    }\n",
       "\n",
       "    .dataframe tbody tr th {\n",
       "        vertical-align: top;\n",
       "    }\n",
       "\n",
       "    .dataframe thead th {\n",
       "        text-align: right;\n",
       "    }\n",
       "</style>\n",
       "<table border=\"1\" class=\"dataframe\">\n",
       "  <thead>\n",
       "    <tr style=\"text-align: right;\">\n",
       "      <th></th>\n",
       "      <th>hikayeler</th>\n",
       "    </tr>\n",
       "  </thead>\n",
       "  <tbody>\n",
       "    <tr>\n",
       "      <th>1</th>\n",
       "      <td>A Scandal in Bohemia! 01</td>\n",
       "    </tr>\n",
       "    <tr>\n",
       "      <th>2</th>\n",
       "      <td>The Red-headed League,2</td>\n",
       "    </tr>\n",
       "    <tr>\n",
       "      <th>3</th>\n",
       "      <td>A Case, of Identity 33</td>\n",
       "    </tr>\n",
       "    <tr>\n",
       "      <th>4</th>\n",
       "      <td>The Boscombe Valley Mystery4</td>\n",
       "    </tr>\n",
       "    <tr>\n",
       "      <th>5</th>\n",
       "      <td>The Five Orange Pips1</td>\n",
       "    </tr>\n",
       "    <tr>\n",
       "      <th>6</th>\n",
       "      <td>The Man with? the Twisted Lip</td>\n",
       "    </tr>\n",
       "    <tr>\n",
       "      <th>7</th>\n",
       "      <td>The Adventure of the Blue Carbuncle</td>\n",
       "    </tr>\n",
       "    <tr>\n",
       "      <th>8</th>\n",
       "      <td>The Adventure of the Speckled Band</td>\n",
       "    </tr>\n",
       "    <tr>\n",
       "      <th>9</th>\n",
       "      <td>The Adventure of the Engineer's Thumb</td>\n",
       "    </tr>\n",
       "    <tr>\n",
       "      <th>10</th>\n",
       "      <td>The Adventure of the Noble Bachelor</td>\n",
       "    </tr>\n",
       "    <tr>\n",
       "      <th>11</th>\n",
       "      <td>The Adventure of the Beryl Coronet</td>\n",
       "    </tr>\n",
       "    <tr>\n",
       "      <th>12</th>\n",
       "      <td>The Adventure of the Copper Beeches</td>\n",
       "    </tr>\n",
       "  </tbody>\n",
       "</table>\n",
       "</div>"
      ],
      "text/plain": [
       "                                hikayeler\n",
       "1                A Scandal in Bohemia! 01\n",
       "2                 The Red-headed League,2\n",
       "3                  A Case, of Identity 33\n",
       "4            The Boscombe Valley Mystery4\n",
       "5                   The Five Orange Pips1\n",
       "6           The Man with? the Twisted Lip\n",
       "7     The Adventure of the Blue Carbuncle\n",
       "8      The Adventure of the Speckled Band\n",
       "9   The Adventure of the Engineer's Thumb\n",
       "10    The Adventure of the Noble Bachelor\n",
       "11     The Adventure of the Beryl Coronet\n",
       "12    The Adventure of the Copper Beeches"
      ]
     },
     "execution_count": 22,
     "metadata": {},
     "output_type": "execute_result"
    }
   ],
   "source": [
    "mdf"
   ]
  },
  {
   "cell_type": "code",
   "execution_count": null,
   "id": "f7eb30c6-ca69-4a5b-ae02-b2beffc57470",
   "metadata": {},
   "outputs": [],
   "source": []
  },
  {
   "cell_type": "markdown",
   "id": "be3fe4ba-10a8-40a3-908d-cbe62056ebfc",
   "metadata": {},
   "source": [
    "### Büyük Küçük Harf Dönüşüm"
   ]
  },
  {
   "cell_type": "code",
   "execution_count": 23,
   "id": "c58e63f6-a818-46eb-8b22-e79f9df7e05a",
   "metadata": {},
   "outputs": [],
   "source": [
    "d_mdf = mdf.copy()"
   ]
  },
  {
   "cell_type": "code",
   "execution_count": 24,
   "id": "0cc0ef51-53b6-4aed-924a-736fd8d967e3",
   "metadata": {},
   "outputs": [
    {
     "data": {
      "text/html": [
       "<div>\n",
       "<style scoped>\n",
       "    .dataframe tbody tr th:only-of-type {\n",
       "        vertical-align: middle;\n",
       "    }\n",
       "\n",
       "    .dataframe tbody tr th {\n",
       "        vertical-align: top;\n",
       "    }\n",
       "\n",
       "    .dataframe thead th {\n",
       "        text-align: right;\n",
       "    }\n",
       "</style>\n",
       "<table border=\"1\" class=\"dataframe\">\n",
       "  <thead>\n",
       "    <tr style=\"text-align: right;\">\n",
       "      <th></th>\n",
       "      <th>hikayeler</th>\n",
       "    </tr>\n",
       "  </thead>\n",
       "  <tbody>\n",
       "    <tr>\n",
       "      <th>1</th>\n",
       "      <td>A Scandal in Bohemia! 01</td>\n",
       "    </tr>\n",
       "    <tr>\n",
       "      <th>2</th>\n",
       "      <td>The Red-headed League,2</td>\n",
       "    </tr>\n",
       "    <tr>\n",
       "      <th>3</th>\n",
       "      <td>A Case, of Identity 33</td>\n",
       "    </tr>\n",
       "    <tr>\n",
       "      <th>4</th>\n",
       "      <td>The Boscombe Valley Mystery4</td>\n",
       "    </tr>\n",
       "    <tr>\n",
       "      <th>5</th>\n",
       "      <td>The Five Orange Pips1</td>\n",
       "    </tr>\n",
       "    <tr>\n",
       "      <th>6</th>\n",
       "      <td>The Man with? the Twisted Lip</td>\n",
       "    </tr>\n",
       "    <tr>\n",
       "      <th>7</th>\n",
       "      <td>The Adventure of the Blue Carbuncle</td>\n",
       "    </tr>\n",
       "    <tr>\n",
       "      <th>8</th>\n",
       "      <td>The Adventure of the Speckled Band</td>\n",
       "    </tr>\n",
       "    <tr>\n",
       "      <th>9</th>\n",
       "      <td>The Adventure of the Engineer's Thumb</td>\n",
       "    </tr>\n",
       "    <tr>\n",
       "      <th>10</th>\n",
       "      <td>The Adventure of the Noble Bachelor</td>\n",
       "    </tr>\n",
       "    <tr>\n",
       "      <th>11</th>\n",
       "      <td>The Adventure of the Beryl Coronet</td>\n",
       "    </tr>\n",
       "    <tr>\n",
       "      <th>12</th>\n",
       "      <td>The Adventure of the Copper Beeches</td>\n",
       "    </tr>\n",
       "  </tbody>\n",
       "</table>\n",
       "</div>"
      ],
      "text/plain": [
       "                                hikayeler\n",
       "1                A Scandal in Bohemia! 01\n",
       "2                 The Red-headed League,2\n",
       "3                  A Case, of Identity 33\n",
       "4            The Boscombe Valley Mystery4\n",
       "5                   The Five Orange Pips1\n",
       "6           The Man with? the Twisted Lip\n",
       "7     The Adventure of the Blue Carbuncle\n",
       "8      The Adventure of the Speckled Band\n",
       "9   The Adventure of the Engineer's Thumb\n",
       "10    The Adventure of the Noble Bachelor\n",
       "11     The Adventure of the Beryl Coronet\n",
       "12    The Adventure of the Copper Beeches"
      ]
     },
     "execution_count": 24,
     "metadata": {},
     "output_type": "execute_result"
    }
   ],
   "source": [
    "d_mdf"
   ]
  },
  {
   "cell_type": "code",
   "execution_count": 249,
   "id": "e0117e4a-aca5-43dc-8ee6-91b365a75007",
   "metadata": {},
   "outputs": [],
   "source": [
    "# apply ile düzenleme"
   ]
  },
  {
   "cell_type": "code",
   "execution_count": 25,
   "id": "f94651c1-c72b-4e5d-a2af-ddcce1896490",
   "metadata": {},
   "outputs": [],
   "source": [
    "d_mdf = d_mdf['hikayeler'].apply(lambda x : x.lower())"
   ]
  },
  {
   "cell_type": "code",
   "execution_count": null,
   "id": "5d8f9910-9324-4945-815e-5460b38d99f3",
   "metadata": {},
   "outputs": [],
   "source": []
  },
  {
   "cell_type": "markdown",
   "id": "95cd0364-4789-4899-be1e-cb861489943e",
   "metadata": {},
   "source": [
    "### Noktalama İşaretlerinin & Sayıların Silinmesi\n",
    "Bir metini numerik olarak temsil edebilmek için o metinin kelime frekansını ölçebiliriz. <br>\n",
    "Bunun içinde bu metin içindeki saf karakterler dışındaki ****numerik ve noktalama**** işaretlerinden ****kurtulmalıyız.****"
   ]
  },
  {
   "cell_type": "code",
   "execution_count": 251,
   "id": "20d55834-bd8f-4586-9a74-48dfb2aaf566",
   "metadata": {},
   "outputs": [
    {
     "data": {
      "text/plain": [
       "1                  a scandal in bohemia! 01\n",
       "2                   the red-headed league,2\n",
       "3                    a case, of identity 33\n",
       "4              the boscombe valley mystery4\n",
       "5                     the five orange pips1\n",
       "6             the man with? the twisted lip\n",
       "7       the adventure of the blue carbuncle\n",
       "8        the adventure of the speckled band\n",
       "9     the adventure of the engineer's thumb\n",
       "10      the adventure of the noble bachelor\n",
       "11       the adventure of the beryl coronet\n",
       "12      the adventure of the copper beeches\n",
       "Name: hikayeler, dtype: object"
      ]
     },
     "execution_count": 251,
     "metadata": {},
     "output_type": "execute_result"
    }
   ],
   "source": [
    "d_mdf"
   ]
  },
  {
   "cell_type": "code",
   "execution_count": 252,
   "id": "2fcf78b5-0cab-41da-950e-d0655043a388",
   "metadata": {},
   "outputs": [],
   "source": [
    "# regex ile yakalayıp replace ile yer değiştirmek"
   ]
  },
  {
   "cell_type": "code",
   "execution_count": 26,
   "id": "faafbbc3-ae57-4cae-af2d-04f9014ef478",
   "metadata": {},
   "outputs": [
    {
     "name": "stderr",
     "output_type": "stream",
     "text": [
      "/tmp/ipykernel_178/783791654.py:1: FutureWarning: The default value of regex will change from True to False in a future version.\n",
      "  d_mdf = d_mdf.str.replace(\"[^\\w\\s]\",\"\")\n"
     ]
    },
    {
     "data": {
      "text/plain": [
       "1                  a scandal in bohemia 01\n",
       "2                    the redheaded league2\n",
       "3                    a case of identity 33\n",
       "4             the boscombe valley mystery4\n",
       "5                    the five orange pips1\n",
       "6             the man with the twisted lip\n",
       "7      the adventure of the blue carbuncle\n",
       "8       the adventure of the speckled band\n",
       "9     the adventure of the engineers thumb\n",
       "10     the adventure of the noble bachelor\n",
       "11      the adventure of the beryl coronet\n",
       "12     the adventure of the copper beeches\n",
       "Name: hikayeler, dtype: object"
      ]
     },
     "execution_count": 26,
     "metadata": {},
     "output_type": "execute_result"
    }
   ],
   "source": [
    "d_mdf = d_mdf.str.replace(\"[^\\w\\s]\",\"\")\n",
    "\n",
    "d_mdf"
   ]
  },
  {
   "cell_type": "code",
   "execution_count": null,
   "id": "695f5ac5-0c31-42a2-b894-5edd3be38258",
   "metadata": {},
   "outputs": [],
   "source": []
  },
  {
   "cell_type": "code",
   "execution_count": 254,
   "id": "4f57a65e-757c-4f07-b2e7-2ebbc324227b",
   "metadata": {},
   "outputs": [],
   "source": [
    "# sayıların silinmesi"
   ]
  },
  {
   "cell_type": "code",
   "execution_count": 27,
   "id": "f144fdde-2c3e-4e3e-9e43-80708949eb14",
   "metadata": {},
   "outputs": [
    {
     "name": "stderr",
     "output_type": "stream",
     "text": [
      "/tmp/ipykernel_178/3071915176.py:1: FutureWarning: The default value of regex will change from True to False in a future version.\n",
      "  d_mdf = d_mdf.str.replace(\"\\d\",\"\")\n"
     ]
    },
    {
     "data": {
      "text/plain": [
       "1                    a scandal in bohemia \n",
       "2                     the redheaded league\n",
       "3                      a case of identity \n",
       "4              the boscombe valley mystery\n",
       "5                     the five orange pips\n",
       "6             the man with the twisted lip\n",
       "7      the adventure of the blue carbuncle\n",
       "8       the adventure of the speckled band\n",
       "9     the adventure of the engineers thumb\n",
       "10     the adventure of the noble bachelor\n",
       "11      the adventure of the beryl coronet\n",
       "12     the adventure of the copper beeches\n",
       "Name: hikayeler, dtype: object"
      ]
     },
     "execution_count": 27,
     "metadata": {},
     "output_type": "execute_result"
    }
   ],
   "source": [
    "d_mdf = d_mdf.str.replace(\"\\d\",\"\")\n",
    "\n",
    "d_mdf"
   ]
  },
  {
   "cell_type": "code",
   "execution_count": null,
   "id": "9f7d75ec-6249-4c38-988f-5d1727868a64",
   "metadata": {},
   "outputs": [],
   "source": []
  },
  {
   "cell_type": "markdown",
   "id": "ae1045a2-1ff1-4fb4-9697-9474a0d0eec2",
   "metadata": {},
   "source": [
    "### Stopwords\n",
    "****Durma kelimeleri**** olarak bilinen ve dilde çokça kullanılan bazı kelimeler. (with , the gibi kelimeler) Bu kelimelerden kurtulmak gerekir."
   ]
  },
  {
   "cell_type": "code",
   "execution_count": 256,
   "id": "02ce6581-d05e-4bc7-b428-8c9d5ddde893",
   "metadata": {},
   "outputs": [],
   "source": [
    "d_mdf = pd.DataFrame(d_mdf , columns=['hikayeler'])"
   ]
  },
  {
   "cell_type": "code",
   "execution_count": 43,
   "id": "ce092b0a-e26f-4a63-b638-37bbd3bb52f6",
   "metadata": {},
   "outputs": [],
   "source": [
    "import nltk"
   ]
  },
  {
   "cell_type": "code",
   "execution_count": 44,
   "id": "e927b0db-43bf-41a8-8a9d-cf353afa9a15",
   "metadata": {},
   "outputs": [
    {
     "name": "stderr",
     "output_type": "stream",
     "text": [
      "[nltk_data] Downloading package stopwords to /root/nltk_data...\n",
      "[nltk_data]   Package stopwords is already up-to-date!\n"
     ]
    },
    {
     "data": {
      "text/plain": [
       "True"
      ]
     },
     "execution_count": 44,
     "metadata": {},
     "output_type": "execute_result"
    }
   ],
   "source": [
    "nltk.download('stopwords')"
   ]
  },
  {
   "cell_type": "code",
   "execution_count": 259,
   "id": "fe33998f-40ee-47e2-82ff-bc293472bbb5",
   "metadata": {},
   "outputs": [],
   "source": [
    "# import ve ingilizce kelimeleri alma"
   ]
  },
  {
   "cell_type": "code",
   "execution_count": 45,
   "id": "44ebf83f-b4c9-4b1b-8c78-ed0e08f563c9",
   "metadata": {},
   "outputs": [],
   "source": [
    "from nltk.corpus import stopwords"
   ]
  },
  {
   "cell_type": "code",
   "execution_count": 46,
   "id": "8b100e53-e650-4c18-97a8-a28a21ee7ca5",
   "metadata": {},
   "outputs": [],
   "source": [
    "sw = stopwords.words('english')"
   ]
  },
  {
   "cell_type": "code",
   "execution_count": 262,
   "id": "8955131f-a966-4beb-8aed-dbcbce29da13",
   "metadata": {},
   "outputs": [
    {
     "data": {
      "text/plain": [
       "['i', 'me', 'my', 'myself', 'we']"
      ]
     },
     "execution_count": 262,
     "metadata": {},
     "output_type": "execute_result"
    }
   ],
   "source": [
    "sw[:5]"
   ]
  },
  {
   "cell_type": "code",
   "execution_count": null,
   "id": "57bc7183-c52b-4817-b39e-aab5467243f2",
   "metadata": {},
   "outputs": [],
   "source": []
  },
  {
   "cell_type": "code",
   "execution_count": 47,
   "id": "d6ad0eeb-50d2-4a96-b9b5-5a9cc43a324a",
   "metadata": {},
   "outputs": [
    {
     "data": {
      "text/plain": [
       "1               scandal bohemia\n",
       "2              redheaded league\n",
       "3                 case identity\n",
       "4       boscombe valley mystery\n",
       "5              five orange pips\n",
       "6               man twisted lip\n",
       "7      adventure blue carbuncle\n",
       "8       adventure speckled band\n",
       "9     adventure engineers thumb\n",
       "10     adventure noble bachelor\n",
       "11      adventure beryl coronet\n",
       "12     adventure copper beeches\n",
       "Name: hikayeler, dtype: object"
      ]
     },
     "execution_count": 47,
     "metadata": {},
     "output_type": "execute_result"
    }
   ],
   "source": [
    "d_mdf = d_mdf['hikayeler'].apply(lambda x : ' '.join(word for word in x.split() if word not in sw))\n",
    "\n",
    "d_mdf"
   ]
  },
  {
   "cell_type": "code",
   "execution_count": null,
   "id": "8596c4bc-f9c6-4bfc-81b6-53ee10440902",
   "metadata": {},
   "outputs": [],
   "source": []
  },
  {
   "cell_type": "markdown",
   "id": "e61b2b98-cb88-449d-9dd6-a8c2681990a6",
   "metadata": {},
   "source": [
    "### Az geçen kelimelerin silinmesi "
   ]
  },
  {
   "cell_type": "code",
   "execution_count": 264,
   "id": "8d8890ef-f98e-43fb-a9f6-23dd06622505",
   "metadata": {},
   "outputs": [
    {
     "data": {
      "text/plain": [
       "0      scandal\n",
       "1      bohemia\n",
       "2    redheaded\n",
       "3       league\n",
       "4         case\n",
       "dtype: object"
      ]
     },
     "execution_count": 264,
     "metadata": {},
     "output_type": "execute_result"
    }
   ],
   "source": [
    "pd.Series(' '.join(d_mdf).split()).head()"
   ]
  },
  {
   "cell_type": "code",
   "execution_count": 265,
   "id": "96295d79-441e-4d02-9623-7c2015a107a1",
   "metadata": {},
   "outputs": [
    {
     "data": {
      "text/plain": [
       "adventure    6\n",
       "scandal      1\n",
       "bohemia      1\n",
       "copper       1\n",
       "coronet      1\n",
       "beryl        1\n",
       "bachelor     1\n",
       "noble        1\n",
       "thumb        1\n",
       "engineers    1\n",
       "band         1\n",
       "speckled     1\n",
       "carbuncle    1\n",
       "blue         1\n",
       "lip          1\n",
       "twisted      1\n",
       "man          1\n",
       "pips         1\n",
       "orange       1\n",
       "five         1\n",
       "mystery      1\n",
       "valley       1\n",
       "boscombe     1\n",
       "identity     1\n",
       "case         1\n",
       "league       1\n",
       "redheaded    1\n",
       "beeches      1\n",
       "dtype: int64"
      ]
     },
     "execution_count": 265,
     "metadata": {},
     "output_type": "execute_result"
    }
   ],
   "source": [
    "pd.Series(' '.join(d_mdf).split()).value_counts()"
   ]
  },
  {
   "cell_type": "code",
   "execution_count": 266,
   "id": "9b1dd4a1-b08b-420e-be95-e4d43026749a",
   "metadata": {},
   "outputs": [],
   "source": [
    "# son 3 değeri silme"
   ]
  },
  {
   "cell_type": "code",
   "execution_count": 267,
   "id": "a4ce8399-2ed0-40ff-93cd-65f567655de3",
   "metadata": {},
   "outputs": [],
   "source": [
    "deleted_words = pd.Series(' '.join(d_mdf).split()).value_counts()[-2:]"
   ]
  },
  {
   "cell_type": "code",
   "execution_count": 268,
   "id": "387ee502-2447-41cb-8125-48b12b6704c8",
   "metadata": {},
   "outputs": [
    {
     "data": {
      "text/plain": [
       "1               scandal bohemia\n",
       "2                        league\n",
       "3                 case identity\n",
       "4       boscombe valley mystery\n",
       "5              five orange pips\n",
       "6               man twisted lip\n",
       "7      adventure blue carbuncle\n",
       "8       adventure speckled band\n",
       "9     adventure engineers thumb\n",
       "10     adventure noble bachelor\n",
       "11      adventure beryl coronet\n",
       "12             adventure copper\n",
       "Name: hikayeler, dtype: object"
      ]
     },
     "execution_count": 268,
     "metadata": {},
     "output_type": "execute_result"
    }
   ],
   "source": [
    "d_mdf.apply(lambda x : ' '.join(word for word in x.split() if word not in deleted_words))"
   ]
  },
  {
   "cell_type": "code",
   "execution_count": null,
   "id": "a135e418-39cb-496d-b0d9-767c6e0201e8",
   "metadata": {},
   "outputs": [],
   "source": []
  },
  {
   "cell_type": "code",
   "execution_count": 269,
   "id": "9af95d44-f094-40f2-a1ff-60e86768bab2",
   "metadata": {},
   "outputs": [],
   "source": [
    "d_mdf = pd.DataFrame(d_mdf , columns=['hikayeler'])"
   ]
  },
  {
   "cell_type": "markdown",
   "id": "0f3af804-adb4-4436-b39c-0f80f74fb147",
   "metadata": {},
   "source": [
    "### Tokenization\n",
    "Cümleyi kelimelere ayrıştırıp vektör haline getirme işlemidir."
   ]
  },
  {
   "cell_type": "code",
   "execution_count": null,
   "id": "df84d8d2-eb6b-4fd9-b59a-dcde11c4da8c",
   "metadata": {},
   "outputs": [],
   "source": []
  },
  {
   "cell_type": "code",
   "execution_count": 270,
   "id": "e26e05ba-2962-4050-b0ea-bdc2a8cde87a",
   "metadata": {},
   "outputs": [
    {
     "name": "stderr",
     "output_type": "stream",
     "text": [
      "[nltk_data] Downloading package punkt to /root/nltk_data...\n",
      "[nltk_data]   Package punkt is already up-to-date!\n"
     ]
    },
    {
     "data": {
      "text/plain": [
       "True"
      ]
     },
     "execution_count": 270,
     "metadata": {},
     "output_type": "execute_result"
    }
   ],
   "source": [
    "nltk.download('punkt')"
   ]
  },
  {
   "cell_type": "code",
   "execution_count": 271,
   "id": "3af9239c-913b-4df4-b2b1-6965db97aa67",
   "metadata": {},
   "outputs": [],
   "source": [
    "import textblob"
   ]
  },
  {
   "cell_type": "code",
   "execution_count": 272,
   "id": "8add69aa-8769-4425-b8eb-58073fa029bb",
   "metadata": {},
   "outputs": [],
   "source": [
    "from textblob import TextBlob"
   ]
  },
  {
   "cell_type": "code",
   "execution_count": 273,
   "id": "30c1862f-42a9-4d19-a60f-0564705e2b5b",
   "metadata": {},
   "outputs": [],
   "source": [
    "# kelimelerri ayıklama"
   ]
  },
  {
   "cell_type": "code",
   "execution_count": 274,
   "id": "ab42501b-4b5a-42dd-9fba-77535414d7f1",
   "metadata": {},
   "outputs": [
    {
     "data": {
      "text/plain": [
       "WordList(['scandal', 'bohemia'])"
      ]
     },
     "execution_count": 274,
     "metadata": {},
     "output_type": "execute_result"
    }
   ],
   "source": [
    "TextBlob(d_mdf['hikayeler'][1]).words"
   ]
  },
  {
   "cell_type": "code",
   "execution_count": 275,
   "id": "980e2e77-896a-43df-bf71-adb8279e60f8",
   "metadata": {},
   "outputs": [],
   "source": [
    "# apply ile"
   ]
  },
  {
   "cell_type": "code",
   "execution_count": 276,
   "id": "64611f6a-771d-4128-ac18-b7b495333bff",
   "metadata": {},
   "outputs": [
    {
     "data": {
      "text/plain": [
       "1                [scandal, bohemia]\n",
       "2               [redheaded, league]\n",
       "3                  [case, identity]\n",
       "4       [boscombe, valley, mystery]\n",
       "5              [five, orange, pips]\n",
       "6               [man, twisted, lip]\n",
       "7      [adventure, blue, carbuncle]\n",
       "8       [adventure, speckled, band]\n",
       "9     [adventure, engineers, thumb]\n",
       "10     [adventure, noble, bachelor]\n",
       "11      [adventure, beryl, coronet]\n",
       "12     [adventure, copper, beeches]\n",
       "Name: hikayeler, dtype: object"
      ]
     },
     "execution_count": 276,
     "metadata": {},
     "output_type": "execute_result"
    }
   ],
   "source": [
    "d_mdf['hikayeler'].apply(lambda x : TextBlob(x).words)"
   ]
  },
  {
   "cell_type": "code",
   "execution_count": null,
   "id": "697ac340-cd0d-43f6-9364-c9dbf072c8e0",
   "metadata": {},
   "outputs": [],
   "source": []
  },
  {
   "cell_type": "markdown",
   "id": "89a42d0e-bd34-436e-9477-4769904258da",
   "metadata": {},
   "source": [
    "### Stemming\n",
    "Kelimeleri ****köklerine göre**** ayıklama işlemi yapar."
   ]
  },
  {
   "cell_type": "code",
   "execution_count": 277,
   "id": "7aaef7c2-87b2-4635-9707-198b2b3289da",
   "metadata": {},
   "outputs": [],
   "source": [
    "from nltk.stem import PorterStemmer"
   ]
  },
  {
   "cell_type": "code",
   "execution_count": 278,
   "id": "3c0492cb-e887-49d6-a141-d5a8a2655b56",
   "metadata": {},
   "outputs": [],
   "source": [
    "st = PorterStemmer()"
   ]
  },
  {
   "cell_type": "code",
   "execution_count": 279,
   "id": "e89c7230-8905-4ca9-aeeb-35cdec9d8a81",
   "metadata": {},
   "outputs": [
    {
     "data": {
      "text/plain": [
       "1            scandal bohemia\n",
       "2              redhead leagu\n",
       "3                 case ident\n",
       "4     boscomb valley mysteri\n",
       "5             five orang pip\n",
       "6              man twist lip\n",
       "7     adventur blue carbuncl\n",
       "8       adventur speckl band\n",
       "9       adventur engin thumb\n",
       "10    adventur nobl bachelor\n",
       "11    adventur beryl coronet\n",
       "12     adventur copper beech\n",
       "Name: hikayeler, dtype: object"
      ]
     },
     "execution_count": 279,
     "metadata": {},
     "output_type": "execute_result"
    }
   ],
   "source": [
    "d_mdf['hikayeler'].apply(lambda x : ' '.join(st.stem(word) for word in x.split()))"
   ]
  },
  {
   "cell_type": "code",
   "execution_count": null,
   "id": "44d4422b-dc64-481d-943d-2a2d60569f0f",
   "metadata": {},
   "outputs": [],
   "source": []
  },
  {
   "cell_type": "markdown",
   "id": "c2d6abdf-ba0d-498b-a008-719d3fdeba64",
   "metadata": {},
   "source": [
    "### Lemmatization \n",
    "Kök indirgeme işlemlerinde ***Stemming'e göre daha iyi çalışır*** "
   ]
  },
  {
   "cell_type": "code",
   "execution_count": 40,
   "id": "c2067858-1a65-4320-83f5-a5a4aa2bd2c9",
   "metadata": {},
   "outputs": [],
   "source": [
    "from textblob import Word"
   ]
  },
  {
   "cell_type": "code",
   "execution_count": 48,
   "id": "85dad207-57f1-4131-92a1-1769f5acffc3",
   "metadata": {},
   "outputs": [
    {
     "name": "stderr",
     "output_type": "stream",
     "text": [
      "[nltk_data] Downloading package wordnet to /root/nltk_data...\n",
      "[nltk_data]   Package wordnet is already up-to-date!\n"
     ]
    },
    {
     "data": {
      "text/plain": [
       "True"
      ]
     },
     "execution_count": 48,
     "metadata": {},
     "output_type": "execute_result"
    }
   ],
   "source": [
    "nltk.download('wordnet')"
   ]
  },
  {
   "cell_type": "code",
   "execution_count": 41,
   "id": "034e9033-ecb1-446d-b0eb-8c2e63cd084b",
   "metadata": {},
   "outputs": [
    {
     "data": {
      "text/plain": [
       "1                    a scandal in bohemia\n",
       "2                    the redheaded league\n",
       "3                      a case of identity\n",
       "4             the boscombe valley mystery\n",
       "5                     the five orange pip\n",
       "6            the man with the twisted lip\n",
       "7     the adventure of the blue carbuncle\n",
       "8      the adventure of the speckled band\n",
       "9     the adventure of the engineer thumb\n",
       "10    the adventure of the noble bachelor\n",
       "11     the adventure of the beryl coronet\n",
       "12      the adventure of the copper beech\n",
       "Name: hikayeler, dtype: object"
      ]
     },
     "execution_count": 41,
     "metadata": {},
     "output_type": "execute_result"
    }
   ],
   "source": [
    "d_mdf['hikayeler'].apply(lambda x : ' '.join(Word(w).lemmatize() for w in x.split()))"
   ]
  },
  {
   "cell_type": "code",
   "execution_count": null,
   "id": "e743b946-8592-48d9-a857-4ca10ffd7a14",
   "metadata": {},
   "outputs": [],
   "source": []
  },
  {
   "cell_type": "markdown",
   "id": "4de21f58-f590-4513-8cb2-bc6bd47e7102",
   "metadata": {},
   "source": [
    "## NLP (Neuro Linguistic Programming) Uygulamaları"
   ]
  },
  {
   "cell_type": "code",
   "execution_count": null,
   "id": "6b0e0ca9-c14d-4fe5-a6ca-b2d63b2e43cd",
   "metadata": {},
   "outputs": [],
   "source": []
  },
  {
   "cell_type": "markdown",
   "id": "9b3da1a7-c0dc-40a4-a885-4f716c78ccc4",
   "metadata": {
    "tags": []
   },
   "source": [
    "### N-Gram\n",
    "N-gram'lar birlikte kullanılan kelimelerin kombinasyonlarını gösterir"
   ]
  },
  {
   "cell_type": "code",
   "execution_count": 283,
   "id": "85a2a62a-fb0f-4b68-b1ae-f87b25f1b29a",
   "metadata": {},
   "outputs": [],
   "source": [
    "a = \"\"\"Bu örneği anlaşılabilmesi için daha uzun bir metin üzerinden göstereceğim.\n",
    "N-gram'lar birlikte kullanılan kelimelerin kombinasyolarını gösterir\"\"\""
   ]
  },
  {
   "cell_type": "code",
   "execution_count": 284,
   "id": "bb7fb81f-3292-4d78-b277-70407fe13c84",
   "metadata": {},
   "outputs": [
    {
     "data": {
      "text/plain": [
       "[WordList(['Bu']),\n",
       " WordList(['örneği']),\n",
       " WordList(['anlaşılabilmesi']),\n",
       " WordList(['için']),\n",
       " WordList(['daha']),\n",
       " WordList(['uzun']),\n",
       " WordList(['bir']),\n",
       " WordList(['metin']),\n",
       " WordList(['üzerinden']),\n",
       " WordList(['göstereceğim']),\n",
       " WordList([\"N-gram'lar\"]),\n",
       " WordList(['birlikte']),\n",
       " WordList(['kullanılan']),\n",
       " WordList(['kelimelerin']),\n",
       " WordList(['kombinasyolarını']),\n",
       " WordList(['gösterir'])]"
      ]
     },
     "execution_count": 284,
     "metadata": {},
     "output_type": "execute_result"
    }
   ],
   "source": [
    "TextBlob(a).ngrams(1)"
   ]
  },
  {
   "cell_type": "code",
   "execution_count": 285,
   "id": "29b982e2-4ea3-4711-91ce-f54f93a866cb",
   "metadata": {},
   "outputs": [
    {
     "data": {
      "text/plain": [
       "[WordList(['Bu', 'örneği']),\n",
       " WordList(['örneği', 'anlaşılabilmesi']),\n",
       " WordList(['anlaşılabilmesi', 'için']),\n",
       " WordList(['için', 'daha']),\n",
       " WordList(['daha', 'uzun']),\n",
       " WordList(['uzun', 'bir']),\n",
       " WordList(['bir', 'metin']),\n",
       " WordList(['metin', 'üzerinden']),\n",
       " WordList(['üzerinden', 'göstereceğim']),\n",
       " WordList(['göstereceğim', \"N-gram'lar\"]),\n",
       " WordList([\"N-gram'lar\", 'birlikte']),\n",
       " WordList(['birlikte', 'kullanılan']),\n",
       " WordList(['kullanılan', 'kelimelerin']),\n",
       " WordList(['kelimelerin', 'kombinasyolarını']),\n",
       " WordList(['kombinasyolarını', 'gösterir'])]"
      ]
     },
     "execution_count": 285,
     "metadata": {},
     "output_type": "execute_result"
    }
   ],
   "source": [
    "TextBlob(a).ngrams(2)"
   ]
  },
  {
   "cell_type": "code",
   "execution_count": 286,
   "id": "15ac5f7b-3823-4896-884a-fadf446c92f6",
   "metadata": {},
   "outputs": [
    {
     "data": {
      "text/plain": [
       "[WordList(['Bu', 'örneği', 'anlaşılabilmesi']),\n",
       " WordList(['örneği', 'anlaşılabilmesi', 'için']),\n",
       " WordList(['anlaşılabilmesi', 'için', 'daha']),\n",
       " WordList(['için', 'daha', 'uzun']),\n",
       " WordList(['daha', 'uzun', 'bir']),\n",
       " WordList(['uzun', 'bir', 'metin']),\n",
       " WordList(['bir', 'metin', 'üzerinden']),\n",
       " WordList(['metin', 'üzerinden', 'göstereceğim']),\n",
       " WordList(['üzerinden', 'göstereceğim', \"N-gram'lar\"]),\n",
       " WordList(['göstereceğim', \"N-gram'lar\", 'birlikte']),\n",
       " WordList([\"N-gram'lar\", 'birlikte', 'kullanılan']),\n",
       " WordList(['birlikte', 'kullanılan', 'kelimelerin']),\n",
       " WordList(['kullanılan', 'kelimelerin', 'kombinasyolarını']),\n",
       " WordList(['kelimelerin', 'kombinasyolarını', 'gösterir'])]"
      ]
     },
     "execution_count": 286,
     "metadata": {},
     "output_type": "execute_result"
    }
   ],
   "source": [
    "TextBlob(a).ngrams(3)"
   ]
  },
  {
   "cell_type": "code",
   "execution_count": null,
   "id": "4383e8da-2f78-4dd0-ae37-c12b5a4378b3",
   "metadata": {},
   "outputs": [],
   "source": []
  },
  {
   "cell_type": "markdown",
   "id": "1ecfa4a5-24ac-4778-adae-934bf3576d56",
   "metadata": {},
   "source": [
    "### Part of the speech tagging\n",
    "Cümle içindeki zarf sıfat gibi ögeleri bulur."
   ]
  },
  {
   "cell_type": "code",
   "execution_count": 287,
   "id": "0dd8212a-05a7-4cf1-a2ed-5c4942f1d07f",
   "metadata": {},
   "outputs": [
    {
     "name": "stderr",
     "output_type": "stream",
     "text": [
      "[nltk_data] Downloading package averaged_perceptron_tagger to\n",
      "[nltk_data]     /root/nltk_data...\n",
      "[nltk_data]   Unzipping taggers/averaged_perceptron_tagger.zip.\n"
     ]
    },
    {
     "data": {
      "text/plain": [
       "True"
      ]
     },
     "execution_count": 287,
     "metadata": {},
     "output_type": "execute_result"
    }
   ],
   "source": [
    "nltk.download('averaged_perceptron_tagger')"
   ]
  },
  {
   "cell_type": "code",
   "execution_count": null,
   "id": "4bdc7f81-9277-4347-9b6a-f469aba14aa4",
   "metadata": {},
   "outputs": [],
   "source": [
    "# tek satırda deneme"
   ]
  },
  {
   "cell_type": "code",
   "execution_count": 288,
   "id": "b6b18b21-7bf2-4cd8-a476-482745057cd7",
   "metadata": {},
   "outputs": [
    {
     "data": {
      "text/plain": [
       "[('redheaded', 'VBN'), ('league', 'NN')]"
      ]
     },
     "execution_count": 288,
     "metadata": {},
     "output_type": "execute_result"
    }
   ],
   "source": [
    "TextBlob(d_mdf['hikayeler'][2]).tags"
   ]
  },
  {
   "cell_type": "code",
   "execution_count": 289,
   "id": "7a512618-57e2-4993-87ba-5bdf49ab35b0",
   "metadata": {},
   "outputs": [],
   "source": [
    "# tüm satıralara uygulama"
   ]
  },
  {
   "cell_type": "code",
   "execution_count": 290,
   "id": "7f3e3b41-d7c4-4108-bee2-5dbe098b5116",
   "metadata": {},
   "outputs": [
    {
     "data": {
      "text/plain": [
       "1                        [(scandal, NN), (bohemia, NN)]\n",
       "2                      [(redheaded, VBN), (league, NN)]\n",
       "3                          [(case, NN), (identity, NN)]\n",
       "4         [(boscombe, NN), (valley, NN), (mystery, NN)]\n",
       "5               [(five, CD), (orange, NN), (pips, NNS)]\n",
       "6                [(man, NN), (twisted, VBD), (lip, NN)]\n",
       "7        [(adventure, NN), (blue, JJ), (carbuncle, NN)]\n",
       "8        [(adventure, NN), (speckled, VBD), (band, NN)]\n",
       "9     [(adventure, NN), (engineers, NNS), (thumb, VBP)]\n",
       "10       [(adventure, NN), (noble, JJ), (bachelor, NN)]\n",
       "11        [(adventure, NN), (beryl, NN), (coronet, NN)]\n",
       "12      [(adventure, NN), (copper, NN), (beeches, NNS)]\n",
       "Name: hikayeler, dtype: object"
      ]
     },
     "execution_count": 290,
     "metadata": {},
     "output_type": "execute_result"
    }
   ],
   "source": [
    "d_mdf['hikayeler'].apply(lambda x : TextBlob(x).tags)"
   ]
  },
  {
   "cell_type": "code",
   "execution_count": null,
   "id": "5e5e930b-5204-4893-b8eb-dc85c96dcbc7",
   "metadata": {},
   "outputs": [],
   "source": []
  },
  {
   "cell_type": "markdown",
   "id": "a05ebeaa-b6c8-4548-a1e2-10538f27eafe",
   "metadata": {},
   "source": [
    "### Chunking (Shallow parsing)\n",
    "Cümlenin ögelerini diagram ile göstermek istersek kullanılır"
   ]
  },
  {
   "cell_type": "code",
   "execution_count": 298,
   "id": "6b30a973-c5ac-434e-a40f-94fe29a7b354",
   "metadata": {},
   "outputs": [],
   "source": [
    "# pos methodu ile oluştuurlan çıktı burada kalsın"
   ]
  },
  {
   "cell_type": "code",
   "execution_count": 292,
   "id": "138cdeda-ba55-42f3-99e5-8675469f92dc",
   "metadata": {},
   "outputs": [],
   "source": [
    "pos = d_mdf['hikayeler'].apply(lambda x : TextBlob(x).tags)"
   ]
  },
  {
   "cell_type": "code",
   "execution_count": 293,
   "id": "ac061f06-2173-43d8-890d-03d30e9cab2d",
   "metadata": {},
   "outputs": [
    {
     "data": {
      "text/plain": [
       "1                        [(scandal, NN), (bohemia, NN)]\n",
       "2                      [(redheaded, VBN), (league, NN)]\n",
       "3                          [(case, NN), (identity, NN)]\n",
       "4         [(boscombe, NN), (valley, NN), (mystery, NN)]\n",
       "5               [(five, CD), (orange, NN), (pips, NNS)]\n",
       "6                [(man, NN), (twisted, VBD), (lip, NN)]\n",
       "7        [(adventure, NN), (blue, JJ), (carbuncle, NN)]\n",
       "8        [(adventure, NN), (speckled, VBD), (band, NN)]\n",
       "9     [(adventure, NN), (engineers, NNS), (thumb, VBP)]\n",
       "10       [(adventure, NN), (noble, JJ), (bachelor, NN)]\n",
       "11        [(adventure, NN), (beryl, NN), (coronet, NN)]\n",
       "12      [(adventure, NN), (copper, NN), (beeches, NNS)]\n",
       "Name: hikayeler, dtype: object"
      ]
     },
     "execution_count": 293,
     "metadata": {},
     "output_type": "execute_result"
    }
   ],
   "source": [
    "pos"
   ]
  },
  {
   "cell_type": "code",
   "execution_count": 300,
   "id": "1335e097-40c4-4a37-92dd-45ac54540c39",
   "metadata": {},
   "outputs": [],
   "source": [
    "# chunking görselleştirme"
   ]
  },
  {
   "cell_type": "code",
   "execution_count": 294,
   "id": "41577b7d-4219-4a19-901b-094817641a3b",
   "metadata": {},
   "outputs": [],
   "source": [
    "cumle = \"R and Python are useful data science tools for the new or old data scientists who eager to do efficent data science task\""
   ]
  },
  {
   "cell_type": "code",
   "execution_count": 296,
   "id": "61db5099-75e7-4f46-a3a0-3fc1789e9bc9",
   "metadata": {},
   "outputs": [],
   "source": [
    "pos = TextBlob(cumle).tags"
   ]
  },
  {
   "cell_type": "code",
   "execution_count": 297,
   "id": "87831420-2904-4f16-8b50-1a80fb724d5d",
   "metadata": {},
   "outputs": [
    {
     "data": {
      "text/plain": [
       "[('R', 'NNP'),\n",
       " ('and', 'CC'),\n",
       " ('Python', 'NNP'),\n",
       " ('are', 'VBP'),\n",
       " ('useful', 'JJ'),\n",
       " ('data', 'NNS'),\n",
       " ('science', 'NN'),\n",
       " ('tools', 'NNS'),\n",
       " ('for', 'IN'),\n",
       " ('the', 'DT'),\n",
       " ('new', 'JJ'),\n",
       " ('or', 'CC'),\n",
       " ('old', 'JJ'),\n",
       " ('data', 'NNS'),\n",
       " ('scientists', 'NNS'),\n",
       " ('who', 'WP'),\n",
       " ('eager', 'VBP'),\n",
       " ('to', 'TO'),\n",
       " ('do', 'VB'),\n",
       " ('efficent', 'JJ'),\n",
       " ('data', 'NNS'),\n",
       " ('science', 'NN'),\n",
       " ('task', 'NN')]"
      ]
     },
     "execution_count": 297,
     "metadata": {},
     "output_type": "execute_result"
    }
   ],
   "source": [
    "pos"
   ]
  },
  {
   "cell_type": "code",
   "execution_count": 305,
   "id": "eaa4ded2-b922-4ba2-a615-d3ed0dddbfff",
   "metadata": {},
   "outputs": [],
   "source": [
    "reg_exp = \"NP: {<DT>?<JJ>*<NN>}\"\n",
    "rp = nltk.RegexpParser(reg_exp)"
   ]
  },
  {
   "cell_type": "code",
   "execution_count": 306,
   "id": "6dc63799-bb16-4071-bfba-b0dca2841b5a",
   "metadata": {},
   "outputs": [],
   "source": [
    "sonuclar = rp.parse(pos)"
   ]
  },
  {
   "cell_type": "code",
   "execution_count": 310,
   "id": "e695ff99-e873-48bc-a033-62bb5b515993",
   "metadata": {},
   "outputs": [],
   "source": [
    "sonuclar.draw()"
   ]
  },
  {
   "cell_type": "code",
   "execution_count": null,
   "id": "ee13f2b9-c8a4-42d6-8bc3-4d0b06b47fa1",
   "metadata": {},
   "outputs": [],
   "source": []
  },
  {
   "cell_type": "markdown",
   "id": "b0821f28-28e7-468c-815e-026f871dde8a",
   "metadata": {},
   "source": [
    "### Name Entity Recognation\n",
    "Cümle Ögelerini bulup ayrıca cümle içindeki kelimelerin obje tanımını verir. Örn Bina Programlama Dili vs."
   ]
  },
  {
   "cell_type": "code",
   "execution_count": 311,
   "id": "cedb4d35-eec9-4d13-98b6-4d3a19d1ce34",
   "metadata": {},
   "outputs": [],
   "source": [
    "from nltk import word_tokenize, pos_tag, ne_chunk"
   ]
  },
  {
   "cell_type": "code",
   "execution_count": 315,
   "id": "a135e7ba-1fab-43ac-87e5-e11d40ff3d30",
   "metadata": {},
   "outputs": [],
   "source": [
    "# gereken setler"
   ]
  },
  {
   "cell_type": "code",
   "execution_count": 312,
   "id": "ecbed422-1931-4a27-97ce-ee49b26b23e7",
   "metadata": {},
   "outputs": [
    {
     "name": "stderr",
     "output_type": "stream",
     "text": [
      "[nltk_data] Downloading package maxent_ne_chunker to\n",
      "[nltk_data]     /root/nltk_data...\n",
      "[nltk_data]   Unzipping chunkers/maxent_ne_chunker.zip.\n",
      "[nltk_data] Downloading package words to /root/nltk_data...\n",
      "[nltk_data]   Unzipping corpora/words.zip.\n"
     ]
    },
    {
     "data": {
      "text/plain": [
       "True"
      ]
     },
     "execution_count": 312,
     "metadata": {},
     "output_type": "execute_result"
    }
   ],
   "source": [
    "nltk.download('maxent_ne_chunker')\n",
    "nltk.download('words')"
   ]
  },
  {
   "cell_type": "code",
   "execution_count": 313,
   "id": "a3f08337-33f7-4b95-8ac7-65aa1b3e21e2",
   "metadata": {},
   "outputs": [],
   "source": [
    "cumle = \"Hadley is creative people who work for R Studio AND he attented conference at Newyork last year\""
   ]
  },
  {
   "cell_type": "code",
   "execution_count": 316,
   "id": "c72f30a2-846c-49f1-b478-d2b2a1170c19",
   "metadata": {},
   "outputs": [],
   "source": [
    "# cümle içindeki kelimelerin obje tanımları ..."
   ]
  },
  {
   "cell_type": "code",
   "execution_count": 314,
   "id": "030af5a7-7c8c-4256-a494-7fcf2791cc1c",
   "metadata": {},
   "outputs": [
    {
     "name": "stdout",
     "output_type": "stream",
     "text": [
      "(S\n",
      "  (GPE Hadley/NNP)\n",
      "  is/VBZ\n",
      "  creative/JJ\n",
      "  people/NNS\n",
      "  who/WP\n",
      "  work/VBP\n",
      "  for/IN\n",
      "  (ORGANIZATION R/NNP Studio/NNP)\n",
      "  AND/CC\n",
      "  he/PRP\n",
      "  attented/VBD\n",
      "  conference/NN\n",
      "  at/IN\n",
      "  (ORGANIZATION Newyork/NNP)\n",
      "  last/JJ\n",
      "  year/NN)\n"
     ]
    }
   ],
   "source": [
    "print(ne_chunk(pos_tag(word_tokenize(cumle))))"
   ]
  },
  {
   "cell_type": "code",
   "execution_count": null,
   "id": "0cbb1c09-c76d-4503-b6d4-a5eacf236086",
   "metadata": {},
   "outputs": [],
   "source": []
  },
  {
   "cell_type": "markdown",
   "id": "7c6eeb0d-85e0-4f65-b9b4-49cd8366ee07",
   "metadata": {},
   "source": [
    "## Matematiksel İşlemler ve Basit Özellik Çıkarımı\n",
    "Metin madenciliğinde amaç belirli bir ham ***text kümesini analiz edip o texti sayısal veriler*** (frekans, yoğunluk) ile temsil etmedir. <br>\n",
    "Bu sayısal veriler o gözlemin özellikleri olacaktır. Bu özellikler ile ML işlemleri yapabileceğiz."
   ]
  },
  {
   "cell_type": "code",
   "execution_count": null,
   "id": "3892649a-d95b-4a4b-a327-503fba77d1c3",
   "metadata": {},
   "outputs": [],
   "source": []
  },
  {
   "cell_type": "markdown",
   "id": "d2345af7-e595-4160-834f-4d355fe1a603",
   "metadata": {},
   "source": [
    "### Harf / Karakter Sayısı"
   ]
  },
  {
   "cell_type": "code",
   "execution_count": 75,
   "id": "e105675b-b907-486e-9eeb-1a92935e1088",
   "metadata": {},
   "outputs": [
    {
     "data": {
      "text/html": [
       "<div>\n",
       "<style scoped>\n",
       "    .dataframe tbody tr th:only-of-type {\n",
       "        vertical-align: middle;\n",
       "    }\n",
       "\n",
       "    .dataframe tbody tr th {\n",
       "        vertical-align: top;\n",
       "    }\n",
       "\n",
       "    .dataframe thead th {\n",
       "        text-align: right;\n",
       "    }\n",
       "</style>\n",
       "<table border=\"1\" class=\"dataframe\">\n",
       "  <thead>\n",
       "    <tr style=\"text-align: right;\">\n",
       "      <th></th>\n",
       "      <th>hikayeler</th>\n",
       "    </tr>\n",
       "  </thead>\n",
       "  <tbody>\n",
       "    <tr>\n",
       "      <th>1</th>\n",
       "      <td>scandal bohemia</td>\n",
       "    </tr>\n",
       "    <tr>\n",
       "      <th>2</th>\n",
       "      <td>redheaded league</td>\n",
       "    </tr>\n",
       "    <tr>\n",
       "      <th>3</th>\n",
       "      <td>case identity</td>\n",
       "    </tr>\n",
       "    <tr>\n",
       "      <th>4</th>\n",
       "      <td>boscombe valley mystery</td>\n",
       "    </tr>\n",
       "    <tr>\n",
       "      <th>5</th>\n",
       "      <td>five orange pips</td>\n",
       "    </tr>\n",
       "    <tr>\n",
       "      <th>6</th>\n",
       "      <td>man twisted lip</td>\n",
       "    </tr>\n",
       "    <tr>\n",
       "      <th>7</th>\n",
       "      <td>adventure blue carbuncle</td>\n",
       "    </tr>\n",
       "    <tr>\n",
       "      <th>8</th>\n",
       "      <td>adventure speckled band</td>\n",
       "    </tr>\n",
       "    <tr>\n",
       "      <th>9</th>\n",
       "      <td>adventure engineers thumb</td>\n",
       "    </tr>\n",
       "    <tr>\n",
       "      <th>10</th>\n",
       "      <td>adventure noble bachelor</td>\n",
       "    </tr>\n",
       "    <tr>\n",
       "      <th>11</th>\n",
       "      <td>adventure beryl coronet</td>\n",
       "    </tr>\n",
       "    <tr>\n",
       "      <th>12</th>\n",
       "      <td>adventure copper beeches</td>\n",
       "    </tr>\n",
       "  </tbody>\n",
       "</table>\n",
       "</div>"
      ],
      "text/plain": [
       "                    hikayeler\n",
       "1             scandal bohemia\n",
       "2            redheaded league\n",
       "3               case identity\n",
       "4     boscombe valley mystery\n",
       "5            five orange pips\n",
       "6             man twisted lip\n",
       "7    adventure blue carbuncle\n",
       "8     adventure speckled band\n",
       "9   adventure engineers thumb\n",
       "10   adventure noble bachelor\n",
       "11    adventure beryl coronet\n",
       "12   adventure copper beeches"
      ]
     },
     "execution_count": 75,
     "metadata": {},
     "output_type": "execute_result"
    }
   ],
   "source": [
    "d_mdf = pd.DataFrame(d_mdf,columns=['hikayeler'])\n",
    "\n",
    "d_mdf"
   ]
  },
  {
   "cell_type": "code",
   "execution_count": 76,
   "id": "d8448c3b-8967-464b-a0b1-ce7b377b6524",
   "metadata": {},
   "outputs": [],
   "source": [
    "# bu şekilde saydırdığımızda boşluklar da sayılır."
   ]
  },
  {
   "cell_type": "code",
   "execution_count": 77,
   "id": "5174841b-76bb-4e36-9e74-c83500d641f3",
   "metadata": {},
   "outputs": [
    {
     "data": {
      "text/plain": [
       "1     15\n",
       "2     16\n",
       "3     13\n",
       "4     23\n",
       "5     16\n",
       "6     15\n",
       "7     24\n",
       "8     23\n",
       "9     25\n",
       "10    24\n",
       "11    23\n",
       "12    24\n",
       "Name: hikayeler, dtype: int64"
      ]
     },
     "execution_count": 77,
     "metadata": {},
     "output_type": "execute_result"
    }
   ],
   "source": [
    "d_mdf['hikayeler'].str.len()"
   ]
  },
  {
   "cell_type": "code",
   "execution_count": 78,
   "id": "cebad4b6-cf0d-469b-8e0d-85beb0efcf49",
   "metadata": {},
   "outputs": [],
   "source": [
    "# bu sayıları gözleme yeni bir özellik olarak ekleyelim"
   ]
  },
  {
   "cell_type": "code",
   "execution_count": 79,
   "id": "5c53ddc4-a2da-461f-ae65-13b86f7e599e",
   "metadata": {},
   "outputs": [],
   "source": [
    "p_df = d_mdf.copy()"
   ]
  },
  {
   "cell_type": "code",
   "execution_count": 80,
   "id": "16d937de-fe87-48e4-bd71-e7d79ae34826",
   "metadata": {},
   "outputs": [],
   "source": [
    "p_df['harf_sayisi'] = prop_m_df['hikayeler'].str.len()"
   ]
  },
  {
   "cell_type": "code",
   "execution_count": 81,
   "id": "97ecd741-33be-44d3-9b43-cf785822fea2",
   "metadata": {},
   "outputs": [
    {
     "data": {
      "text/html": [
       "<div>\n",
       "<style scoped>\n",
       "    .dataframe tbody tr th:only-of-type {\n",
       "        vertical-align: middle;\n",
       "    }\n",
       "\n",
       "    .dataframe tbody tr th {\n",
       "        vertical-align: top;\n",
       "    }\n",
       "\n",
       "    .dataframe thead th {\n",
       "        text-align: right;\n",
       "    }\n",
       "</style>\n",
       "<table border=\"1\" class=\"dataframe\">\n",
       "  <thead>\n",
       "    <tr style=\"text-align: right;\">\n",
       "      <th></th>\n",
       "      <th>hikayeler</th>\n",
       "      <th>harf_sayisi</th>\n",
       "    </tr>\n",
       "  </thead>\n",
       "  <tbody>\n",
       "    <tr>\n",
       "      <th>1</th>\n",
       "      <td>scandal bohemia</td>\n",
       "      <td>15</td>\n",
       "    </tr>\n",
       "    <tr>\n",
       "      <th>2</th>\n",
       "      <td>redheaded league</td>\n",
       "      <td>16</td>\n",
       "    </tr>\n",
       "    <tr>\n",
       "      <th>3</th>\n",
       "      <td>case identity</td>\n",
       "      <td>13</td>\n",
       "    </tr>\n",
       "    <tr>\n",
       "      <th>4</th>\n",
       "      <td>boscombe valley mystery</td>\n",
       "      <td>23</td>\n",
       "    </tr>\n",
       "    <tr>\n",
       "      <th>5</th>\n",
       "      <td>five orange pips</td>\n",
       "      <td>16</td>\n",
       "    </tr>\n",
       "    <tr>\n",
       "      <th>6</th>\n",
       "      <td>man twisted lip</td>\n",
       "      <td>15</td>\n",
       "    </tr>\n",
       "    <tr>\n",
       "      <th>7</th>\n",
       "      <td>adventure blue carbuncle</td>\n",
       "      <td>24</td>\n",
       "    </tr>\n",
       "    <tr>\n",
       "      <th>8</th>\n",
       "      <td>adventure speckled band</td>\n",
       "      <td>23</td>\n",
       "    </tr>\n",
       "    <tr>\n",
       "      <th>9</th>\n",
       "      <td>adventure engineers thumb</td>\n",
       "      <td>25</td>\n",
       "    </tr>\n",
       "    <tr>\n",
       "      <th>10</th>\n",
       "      <td>adventure noble bachelor</td>\n",
       "      <td>24</td>\n",
       "    </tr>\n",
       "    <tr>\n",
       "      <th>11</th>\n",
       "      <td>adventure beryl coronet</td>\n",
       "      <td>23</td>\n",
       "    </tr>\n",
       "    <tr>\n",
       "      <th>12</th>\n",
       "      <td>adventure copper beeches</td>\n",
       "      <td>24</td>\n",
       "    </tr>\n",
       "  </tbody>\n",
       "</table>\n",
       "</div>"
      ],
      "text/plain": [
       "                    hikayeler  harf_sayisi\n",
       "1             scandal bohemia           15\n",
       "2            redheaded league           16\n",
       "3               case identity           13\n",
       "4     boscombe valley mystery           23\n",
       "5            five orange pips           16\n",
       "6             man twisted lip           15\n",
       "7    adventure blue carbuncle           24\n",
       "8     adventure speckled band           23\n",
       "9   adventure engineers thumb           25\n",
       "10   adventure noble bachelor           24\n",
       "11    adventure beryl coronet           23\n",
       "12   adventure copper beeches           24"
      ]
     },
     "execution_count": 81,
     "metadata": {},
     "output_type": "execute_result"
    }
   ],
   "source": [
    "p_df"
   ]
  },
  {
   "cell_type": "code",
   "execution_count": null,
   "id": "42be05b2-f59a-4227-81fc-754c926f65f6",
   "metadata": {},
   "outputs": [],
   "source": []
  },
  {
   "cell_type": "markdown",
   "id": "d49986a4-da65-49c0-ae61-30ad39e17dcb",
   "metadata": {},
   "source": [
    "### Kelime Sayısı"
   ]
  },
  {
   "cell_type": "code",
   "execution_count": 82,
   "id": "6fd23820-28ca-4198-bfb9-6bbba202bc7d",
   "metadata": {},
   "outputs": [],
   "source": [
    "p_df['kelime_sayisi'] = prop_m_df['hikayeler'].apply(lambda x : len(x.split()))"
   ]
  },
  {
   "cell_type": "code",
   "execution_count": 83,
   "id": "a29e8e24-b055-48d8-812d-bbbc5bd2f370",
   "metadata": {},
   "outputs": [
    {
     "data": {
      "text/html": [
       "<div>\n",
       "<style scoped>\n",
       "    .dataframe tbody tr th:only-of-type {\n",
       "        vertical-align: middle;\n",
       "    }\n",
       "\n",
       "    .dataframe tbody tr th {\n",
       "        vertical-align: top;\n",
       "    }\n",
       "\n",
       "    .dataframe thead th {\n",
       "        text-align: right;\n",
       "    }\n",
       "</style>\n",
       "<table border=\"1\" class=\"dataframe\">\n",
       "  <thead>\n",
       "    <tr style=\"text-align: right;\">\n",
       "      <th></th>\n",
       "      <th>hikayeler</th>\n",
       "      <th>harf_sayisi</th>\n",
       "      <th>kelime_sayisi</th>\n",
       "    </tr>\n",
       "  </thead>\n",
       "  <tbody>\n",
       "    <tr>\n",
       "      <th>1</th>\n",
       "      <td>scandal bohemia</td>\n",
       "      <td>15</td>\n",
       "      <td>2</td>\n",
       "    </tr>\n",
       "    <tr>\n",
       "      <th>2</th>\n",
       "      <td>redheaded league</td>\n",
       "      <td>16</td>\n",
       "      <td>2</td>\n",
       "    </tr>\n",
       "    <tr>\n",
       "      <th>3</th>\n",
       "      <td>case identity</td>\n",
       "      <td>13</td>\n",
       "      <td>2</td>\n",
       "    </tr>\n",
       "    <tr>\n",
       "      <th>4</th>\n",
       "      <td>boscombe valley mystery</td>\n",
       "      <td>23</td>\n",
       "      <td>3</td>\n",
       "    </tr>\n",
       "    <tr>\n",
       "      <th>5</th>\n",
       "      <td>five orange pips</td>\n",
       "      <td>16</td>\n",
       "      <td>3</td>\n",
       "    </tr>\n",
       "    <tr>\n",
       "      <th>6</th>\n",
       "      <td>man twisted lip</td>\n",
       "      <td>15</td>\n",
       "      <td>3</td>\n",
       "    </tr>\n",
       "    <tr>\n",
       "      <th>7</th>\n",
       "      <td>adventure blue carbuncle</td>\n",
       "      <td>24</td>\n",
       "      <td>3</td>\n",
       "    </tr>\n",
       "    <tr>\n",
       "      <th>8</th>\n",
       "      <td>adventure speckled band</td>\n",
       "      <td>23</td>\n",
       "      <td>3</td>\n",
       "    </tr>\n",
       "    <tr>\n",
       "      <th>9</th>\n",
       "      <td>adventure engineers thumb</td>\n",
       "      <td>25</td>\n",
       "      <td>3</td>\n",
       "    </tr>\n",
       "    <tr>\n",
       "      <th>10</th>\n",
       "      <td>adventure noble bachelor</td>\n",
       "      <td>24</td>\n",
       "      <td>3</td>\n",
       "    </tr>\n",
       "    <tr>\n",
       "      <th>11</th>\n",
       "      <td>adventure beryl coronet</td>\n",
       "      <td>23</td>\n",
       "      <td>3</td>\n",
       "    </tr>\n",
       "    <tr>\n",
       "      <th>12</th>\n",
       "      <td>adventure copper beeches</td>\n",
       "      <td>24</td>\n",
       "      <td>3</td>\n",
       "    </tr>\n",
       "  </tbody>\n",
       "</table>\n",
       "</div>"
      ],
      "text/plain": [
       "                    hikayeler  harf_sayisi  kelime_sayisi\n",
       "1             scandal bohemia           15              2\n",
       "2            redheaded league           16              2\n",
       "3               case identity           13              2\n",
       "4     boscombe valley mystery           23              3\n",
       "5            five orange pips           16              3\n",
       "6             man twisted lip           15              3\n",
       "7    adventure blue carbuncle           24              3\n",
       "8     adventure speckled band           23              3\n",
       "9   adventure engineers thumb           25              3\n",
       "10   adventure noble bachelor           24              3\n",
       "11    adventure beryl coronet           23              3\n",
       "12   adventure copper beeches           24              3"
      ]
     },
     "execution_count": 83,
     "metadata": {},
     "output_type": "execute_result"
    }
   ],
   "source": [
    "p_df"
   ]
  },
  {
   "cell_type": "code",
   "execution_count": null,
   "id": "33196675-1415-4eab-a409-84b270e8a8a4",
   "metadata": {},
   "outputs": [],
   "source": []
  },
  {
   "cell_type": "markdown",
   "id": "2ad0b099-8db8-4f7d-82a6-6ef3f48755a2",
   "metadata": {},
   "source": [
    "### Özel Karakterleri Yakalamak & Saydirmak\n",
    "Cümle içinde geçen bazı karakterler veya bazı kelimeler çok önemli olabilir. Örn twitter metinlerinde (hashtag #). <br>"
   ]
  },
  {
   "cell_type": "code",
   "execution_count": 84,
   "id": "fe1abc47-6a72-43d5-b767-8acab670e4df",
   "metadata": {},
   "outputs": [],
   "source": [
    "p_df['ozel_kelime'] = p_df['hikayeler'].apply(lambda x : len([word for word in x.split() if word.startswith('adventure')]))"
   ]
  },
  {
   "cell_type": "code",
   "execution_count": 85,
   "id": "fd239451-d3d0-419b-ad97-1bf983783de8",
   "metadata": {},
   "outputs": [
    {
     "data": {
      "text/html": [
       "<div>\n",
       "<style scoped>\n",
       "    .dataframe tbody tr th:only-of-type {\n",
       "        vertical-align: middle;\n",
       "    }\n",
       "\n",
       "    .dataframe tbody tr th {\n",
       "        vertical-align: top;\n",
       "    }\n",
       "\n",
       "    .dataframe thead th {\n",
       "        text-align: right;\n",
       "    }\n",
       "</style>\n",
       "<table border=\"1\" class=\"dataframe\">\n",
       "  <thead>\n",
       "    <tr style=\"text-align: right;\">\n",
       "      <th></th>\n",
       "      <th>hikayeler</th>\n",
       "      <th>harf_sayisi</th>\n",
       "      <th>kelime_sayisi</th>\n",
       "      <th>ozel_kelime</th>\n",
       "    </tr>\n",
       "  </thead>\n",
       "  <tbody>\n",
       "    <tr>\n",
       "      <th>1</th>\n",
       "      <td>scandal bohemia</td>\n",
       "      <td>15</td>\n",
       "      <td>2</td>\n",
       "      <td>0</td>\n",
       "    </tr>\n",
       "    <tr>\n",
       "      <th>2</th>\n",
       "      <td>redheaded league</td>\n",
       "      <td>16</td>\n",
       "      <td>2</td>\n",
       "      <td>0</td>\n",
       "    </tr>\n",
       "    <tr>\n",
       "      <th>3</th>\n",
       "      <td>case identity</td>\n",
       "      <td>13</td>\n",
       "      <td>2</td>\n",
       "      <td>0</td>\n",
       "    </tr>\n",
       "    <tr>\n",
       "      <th>4</th>\n",
       "      <td>boscombe valley mystery</td>\n",
       "      <td>23</td>\n",
       "      <td>3</td>\n",
       "      <td>0</td>\n",
       "    </tr>\n",
       "    <tr>\n",
       "      <th>5</th>\n",
       "      <td>five orange pips</td>\n",
       "      <td>16</td>\n",
       "      <td>3</td>\n",
       "      <td>0</td>\n",
       "    </tr>\n",
       "    <tr>\n",
       "      <th>6</th>\n",
       "      <td>man twisted lip</td>\n",
       "      <td>15</td>\n",
       "      <td>3</td>\n",
       "      <td>0</td>\n",
       "    </tr>\n",
       "    <tr>\n",
       "      <th>7</th>\n",
       "      <td>adventure blue carbuncle</td>\n",
       "      <td>24</td>\n",
       "      <td>3</td>\n",
       "      <td>1</td>\n",
       "    </tr>\n",
       "    <tr>\n",
       "      <th>8</th>\n",
       "      <td>adventure speckled band</td>\n",
       "      <td>23</td>\n",
       "      <td>3</td>\n",
       "      <td>1</td>\n",
       "    </tr>\n",
       "    <tr>\n",
       "      <th>9</th>\n",
       "      <td>adventure engineers thumb</td>\n",
       "      <td>25</td>\n",
       "      <td>3</td>\n",
       "      <td>1</td>\n",
       "    </tr>\n",
       "    <tr>\n",
       "      <th>10</th>\n",
       "      <td>adventure noble bachelor</td>\n",
       "      <td>24</td>\n",
       "      <td>3</td>\n",
       "      <td>1</td>\n",
       "    </tr>\n",
       "    <tr>\n",
       "      <th>11</th>\n",
       "      <td>adventure beryl coronet</td>\n",
       "      <td>23</td>\n",
       "      <td>3</td>\n",
       "      <td>1</td>\n",
       "    </tr>\n",
       "    <tr>\n",
       "      <th>12</th>\n",
       "      <td>adventure copper beeches</td>\n",
       "      <td>24</td>\n",
       "      <td>3</td>\n",
       "      <td>1</td>\n",
       "    </tr>\n",
       "  </tbody>\n",
       "</table>\n",
       "</div>"
      ],
      "text/plain": [
       "                    hikayeler  harf_sayisi  kelime_sayisi  ozel_kelime\n",
       "1             scandal bohemia           15              2            0\n",
       "2            redheaded league           16              2            0\n",
       "3               case identity           13              2            0\n",
       "4     boscombe valley mystery           23              3            0\n",
       "5            five orange pips           16              3            0\n",
       "6             man twisted lip           15              3            0\n",
       "7    adventure blue carbuncle           24              3            1\n",
       "8     adventure speckled band           23              3            1\n",
       "9   adventure engineers thumb           25              3            1\n",
       "10   adventure noble bachelor           24              3            1\n",
       "11    adventure beryl coronet           23              3            1\n",
       "12   adventure copper beeches           24              3            1"
      ]
     },
     "execution_count": 85,
     "metadata": {},
     "output_type": "execute_result"
    }
   ],
   "source": [
    "p_df"
   ]
  },
  {
   "cell_type": "code",
   "execution_count": null,
   "id": "1e2b0cd6-a09f-479d-b464-a5e195c91ba7",
   "metadata": {},
   "outputs": [],
   "source": []
  },
  {
   "cell_type": "markdown",
   "id": "d4a17492-0637-4ec7-be7a-1e6ad71518d8",
   "metadata": {},
   "source": [
    "### Sayıları Yakalamak & Saydırmak\n",
    "örneklerde kaç tane kelimede sayı içermektedir."
   ]
  },
  {
   "cell_type": "code",
   "execution_count": 87,
   "id": "be43facf-7663-4b90-929b-f229a4349994",
   "metadata": {},
   "outputs": [],
   "source": [
    "p_df['sayı_içeren_kelime_sayisi'] =  mdf['hikayeler'].apply(lambda x : len([word for word in x.split() if word.isdigit() ]))"
   ]
  },
  {
   "cell_type": "code",
   "execution_count": 88,
   "id": "ff55d55c-e0cc-4997-94b1-e2a6eff23759",
   "metadata": {},
   "outputs": [
    {
     "data": {
      "text/html": [
       "<div>\n",
       "<style scoped>\n",
       "    .dataframe tbody tr th:only-of-type {\n",
       "        vertical-align: middle;\n",
       "    }\n",
       "\n",
       "    .dataframe tbody tr th {\n",
       "        vertical-align: top;\n",
       "    }\n",
       "\n",
       "    .dataframe thead th {\n",
       "        text-align: right;\n",
       "    }\n",
       "</style>\n",
       "<table border=\"1\" class=\"dataframe\">\n",
       "  <thead>\n",
       "    <tr style=\"text-align: right;\">\n",
       "      <th></th>\n",
       "      <th>hikayeler</th>\n",
       "      <th>harf_sayisi</th>\n",
       "      <th>kelime_sayisi</th>\n",
       "      <th>ozel_kelime</th>\n",
       "      <th>sayı_içeren_kelime_sayisi</th>\n",
       "    </tr>\n",
       "  </thead>\n",
       "  <tbody>\n",
       "    <tr>\n",
       "      <th>1</th>\n",
       "      <td>scandal bohemia</td>\n",
       "      <td>15</td>\n",
       "      <td>2</td>\n",
       "      <td>0</td>\n",
       "      <td>1</td>\n",
       "    </tr>\n",
       "    <tr>\n",
       "      <th>2</th>\n",
       "      <td>redheaded league</td>\n",
       "      <td>16</td>\n",
       "      <td>2</td>\n",
       "      <td>0</td>\n",
       "      <td>0</td>\n",
       "    </tr>\n",
       "    <tr>\n",
       "      <th>3</th>\n",
       "      <td>case identity</td>\n",
       "      <td>13</td>\n",
       "      <td>2</td>\n",
       "      <td>0</td>\n",
       "      <td>1</td>\n",
       "    </tr>\n",
       "    <tr>\n",
       "      <th>4</th>\n",
       "      <td>boscombe valley mystery</td>\n",
       "      <td>23</td>\n",
       "      <td>3</td>\n",
       "      <td>0</td>\n",
       "      <td>0</td>\n",
       "    </tr>\n",
       "    <tr>\n",
       "      <th>5</th>\n",
       "      <td>five orange pips</td>\n",
       "      <td>16</td>\n",
       "      <td>3</td>\n",
       "      <td>0</td>\n",
       "      <td>0</td>\n",
       "    </tr>\n",
       "    <tr>\n",
       "      <th>6</th>\n",
       "      <td>man twisted lip</td>\n",
       "      <td>15</td>\n",
       "      <td>3</td>\n",
       "      <td>0</td>\n",
       "      <td>0</td>\n",
       "    </tr>\n",
       "    <tr>\n",
       "      <th>7</th>\n",
       "      <td>adventure blue carbuncle</td>\n",
       "      <td>24</td>\n",
       "      <td>3</td>\n",
       "      <td>1</td>\n",
       "      <td>0</td>\n",
       "    </tr>\n",
       "    <tr>\n",
       "      <th>8</th>\n",
       "      <td>adventure speckled band</td>\n",
       "      <td>23</td>\n",
       "      <td>3</td>\n",
       "      <td>1</td>\n",
       "      <td>0</td>\n",
       "    </tr>\n",
       "    <tr>\n",
       "      <th>9</th>\n",
       "      <td>adventure engineers thumb</td>\n",
       "      <td>25</td>\n",
       "      <td>3</td>\n",
       "      <td>1</td>\n",
       "      <td>0</td>\n",
       "    </tr>\n",
       "    <tr>\n",
       "      <th>10</th>\n",
       "      <td>adventure noble bachelor</td>\n",
       "      <td>24</td>\n",
       "      <td>3</td>\n",
       "      <td>1</td>\n",
       "      <td>0</td>\n",
       "    </tr>\n",
       "    <tr>\n",
       "      <th>11</th>\n",
       "      <td>adventure beryl coronet</td>\n",
       "      <td>23</td>\n",
       "      <td>3</td>\n",
       "      <td>1</td>\n",
       "      <td>0</td>\n",
       "    </tr>\n",
       "    <tr>\n",
       "      <th>12</th>\n",
       "      <td>adventure copper beeches</td>\n",
       "      <td>24</td>\n",
       "      <td>3</td>\n",
       "      <td>1</td>\n",
       "      <td>0</td>\n",
       "    </tr>\n",
       "  </tbody>\n",
       "</table>\n",
       "</div>"
      ],
      "text/plain": [
       "                    hikayeler  harf_sayisi  kelime_sayisi  ozel_kelime  \\\n",
       "1             scandal bohemia           15              2            0   \n",
       "2            redheaded league           16              2            0   \n",
       "3               case identity           13              2            0   \n",
       "4     boscombe valley mystery           23              3            0   \n",
       "5            five orange pips           16              3            0   \n",
       "6             man twisted lip           15              3            0   \n",
       "7    adventure blue carbuncle           24              3            1   \n",
       "8     adventure speckled band           23              3            1   \n",
       "9   adventure engineers thumb           25              3            1   \n",
       "10   adventure noble bachelor           24              3            1   \n",
       "11    adventure beryl coronet           23              3            1   \n",
       "12   adventure copper beeches           24              3            1   \n",
       "\n",
       "    sayı_içeren_kelime_sayisi  \n",
       "1                           1  \n",
       "2                           0  \n",
       "3                           1  \n",
       "4                           0  \n",
       "5                           0  \n",
       "6                           0  \n",
       "7                           0  \n",
       "8                           0  \n",
       "9                           0  \n",
       "10                          0  \n",
       "11                          0  \n",
       "12                          0  "
      ]
     },
     "execution_count": 88,
     "metadata": {},
     "output_type": "execute_result"
    }
   ],
   "source": [
    "p_df"
   ]
  },
  {
   "cell_type": "code",
   "execution_count": null,
   "id": "4ea58796-c3fa-4429-976f-1ea7408a7537",
   "metadata": {},
   "outputs": [],
   "source": []
  },
  {
   "cell_type": "markdown",
   "id": "907c174e-437e-4308-aed0-9a1d41e91563",
   "metadata": {},
   "source": [
    "## Metin Görselleştirme"
   ]
  },
  {
   "cell_type": "code",
   "execution_count": 4,
   "id": "17897410-fd5e-4057-9eff-e71647658074",
   "metadata": {},
   "outputs": [],
   "source": [
    "import pandas as pd"
   ]
  },
  {
   "cell_type": "code",
   "execution_count": 5,
   "id": "21aa206e-8a4f-4d6b-9c5f-a2d472ae9f87",
   "metadata": {},
   "outputs": [],
   "source": [
    "data = pd.read_csv('train.tsv', sep='\\t')"
   ]
  },
  {
   "cell_type": "code",
   "execution_count": 6,
   "id": "6439f4d9-a49d-4196-a3d0-9e10be99fd8e",
   "metadata": {},
   "outputs": [
    {
     "data": {
      "text/html": [
       "<div>\n",
       "<style scoped>\n",
       "    .dataframe tbody tr th:only-of-type {\n",
       "        vertical-align: middle;\n",
       "    }\n",
       "\n",
       "    .dataframe tbody tr th {\n",
       "        vertical-align: top;\n",
       "    }\n",
       "\n",
       "    .dataframe thead th {\n",
       "        text-align: right;\n",
       "    }\n",
       "</style>\n",
       "<table border=\"1\" class=\"dataframe\">\n",
       "  <thead>\n",
       "    <tr style=\"text-align: right;\">\n",
       "      <th></th>\n",
       "      <th>PhraseId</th>\n",
       "      <th>SentenceId</th>\n",
       "      <th>Phrase</th>\n",
       "      <th>Sentiment</th>\n",
       "    </tr>\n",
       "  </thead>\n",
       "  <tbody>\n",
       "    <tr>\n",
       "      <th>0</th>\n",
       "      <td>1</td>\n",
       "      <td>1</td>\n",
       "      <td>A series of escapades demonstrating the adage ...</td>\n",
       "      <td>1</td>\n",
       "    </tr>\n",
       "    <tr>\n",
       "      <th>1</th>\n",
       "      <td>2</td>\n",
       "      <td>1</td>\n",
       "      <td>A series of escapades demonstrating the adage ...</td>\n",
       "      <td>2</td>\n",
       "    </tr>\n",
       "    <tr>\n",
       "      <th>2</th>\n",
       "      <td>3</td>\n",
       "      <td>1</td>\n",
       "      <td>A series</td>\n",
       "      <td>2</td>\n",
       "    </tr>\n",
       "    <tr>\n",
       "      <th>3</th>\n",
       "      <td>4</td>\n",
       "      <td>1</td>\n",
       "      <td>A</td>\n",
       "      <td>2</td>\n",
       "    </tr>\n",
       "    <tr>\n",
       "      <th>4</th>\n",
       "      <td>5</td>\n",
       "      <td>1</td>\n",
       "      <td>series</td>\n",
       "      <td>2</td>\n",
       "    </tr>\n",
       "    <tr>\n",
       "      <th>...</th>\n",
       "      <td>...</td>\n",
       "      <td>...</td>\n",
       "      <td>...</td>\n",
       "      <td>...</td>\n",
       "    </tr>\n",
       "    <tr>\n",
       "      <th>156055</th>\n",
       "      <td>156056</td>\n",
       "      <td>8544</td>\n",
       "      <td>Hearst 's</td>\n",
       "      <td>2</td>\n",
       "    </tr>\n",
       "    <tr>\n",
       "      <th>156056</th>\n",
       "      <td>156057</td>\n",
       "      <td>8544</td>\n",
       "      <td>forced avuncular chortles</td>\n",
       "      <td>1</td>\n",
       "    </tr>\n",
       "    <tr>\n",
       "      <th>156057</th>\n",
       "      <td>156058</td>\n",
       "      <td>8544</td>\n",
       "      <td>avuncular chortles</td>\n",
       "      <td>3</td>\n",
       "    </tr>\n",
       "    <tr>\n",
       "      <th>156058</th>\n",
       "      <td>156059</td>\n",
       "      <td>8544</td>\n",
       "      <td>avuncular</td>\n",
       "      <td>2</td>\n",
       "    </tr>\n",
       "    <tr>\n",
       "      <th>156059</th>\n",
       "      <td>156060</td>\n",
       "      <td>8544</td>\n",
       "      <td>chortles</td>\n",
       "      <td>2</td>\n",
       "    </tr>\n",
       "  </tbody>\n",
       "</table>\n",
       "<p>156060 rows × 4 columns</p>\n",
       "</div>"
      ],
      "text/plain": [
       "        PhraseId  SentenceId  \\\n",
       "0              1           1   \n",
       "1              2           1   \n",
       "2              3           1   \n",
       "3              4           1   \n",
       "4              5           1   \n",
       "...          ...         ...   \n",
       "156055    156056        8544   \n",
       "156056    156057        8544   \n",
       "156057    156058        8544   \n",
       "156058    156059        8544   \n",
       "156059    156060        8544   \n",
       "\n",
       "                                                   Phrase  Sentiment  \n",
       "0       A series of escapades demonstrating the adage ...          1  \n",
       "1       A series of escapades demonstrating the adage ...          2  \n",
       "2                                                A series          2  \n",
       "3                                                       A          2  \n",
       "4                                                  series          2  \n",
       "...                                                   ...        ...  \n",
       "156055                                          Hearst 's          2  \n",
       "156056                          forced avuncular chortles          1  \n",
       "156057                                 avuncular chortles          3  \n",
       "156058                                          avuncular          2  \n",
       "156059                                           chortles          2  \n",
       "\n",
       "[156060 rows x 4 columns]"
      ]
     },
     "execution_count": 6,
     "metadata": {},
     "output_type": "execute_result"
    }
   ],
   "source": [
    "data"
   ]
  },
  {
   "cell_type": "code",
   "execution_count": 7,
   "id": "ccda4234-6634-481d-8008-a9377789db43",
   "metadata": {},
   "outputs": [],
   "source": [
    "# info"
   ]
  },
  {
   "cell_type": "code",
   "execution_count": 8,
   "id": "ad798705-7b4e-4aec-8b10-194b50431070",
   "metadata": {},
   "outputs": [
    {
     "name": "stdout",
     "output_type": "stream",
     "text": [
      "<class 'pandas.core.frame.DataFrame'>\n",
      "RangeIndex: 156060 entries, 0 to 156059\n",
      "Data columns (total 4 columns):\n",
      " #   Column      Non-Null Count   Dtype \n",
      "---  ------      --------------   ----- \n",
      " 0   PhraseId    156060 non-null  int64 \n",
      " 1   SentenceId  156060 non-null  int64 \n",
      " 2   Phrase      156060 non-null  object\n",
      " 3   Sentiment   156060 non-null  int64 \n",
      "dtypes: int64(3), object(1)\n",
      "memory usage: 4.8+ MB\n"
     ]
    }
   ],
   "source": [
    "data.info()"
   ]
  },
  {
   "cell_type": "markdown",
   "id": "91697f6b-ff29-4f42-aa9a-47cf5a2a3443",
   "metadata": {},
   "source": [
    "### Text Ön İşleme"
   ]
  },
  {
   "cell_type": "code",
   "execution_count": 9,
   "id": "895d341a-2fca-485d-bd7a-a30260e5b1dc",
   "metadata": {},
   "outputs": [],
   "source": [
    "# büyük küçük dönüşümü\n",
    "\n",
    "data['Phrase'] = data['Phrase'].apply(lambda x : x.lower())"
   ]
  },
  {
   "cell_type": "code",
   "execution_count": 10,
   "id": "063d3c70-bc4a-4683-9df5-37bee09f4ce8",
   "metadata": {},
   "outputs": [
    {
     "name": "stderr",
     "output_type": "stream",
     "text": [
      "/tmp/ipykernel_253/1450041279.py:3: FutureWarning: The default value of regex will change from True to False in a future version.\n",
      "  data['Phrase'] = data['Phrase'].str.replace('[^\\w\\s]','')\n"
     ]
    }
   ],
   "source": [
    "# noktalama işaretleri kaldırma\n",
    "\n",
    "data['Phrase'] = data['Phrase'].str.replace('[^\\w\\s]','')"
   ]
  },
  {
   "cell_type": "code",
   "execution_count": 11,
   "id": "78e4a659-f636-4d41-ad91-6199e4f0feac",
   "metadata": {},
   "outputs": [
    {
     "name": "stderr",
     "output_type": "stream",
     "text": [
      "/tmp/ipykernel_253/2864338900.py:3: FutureWarning: The default value of regex will change from True to False in a future version.\n",
      "  data['Phrase'] = data['Phrase'].str.replace('\\d','')\n"
     ]
    }
   ],
   "source": [
    "# sayılar\n",
    "\n",
    "data['Phrase'] = data['Phrase'].str.replace('\\d','')"
   ]
  },
  {
   "cell_type": "code",
   "execution_count": 12,
   "id": "60b58d52-3edd-4b1a-b7e9-b540a143d706",
   "metadata": {},
   "outputs": [
    {
     "name": "stderr",
     "output_type": "stream",
     "text": [
      "[nltk_data] Downloading package stopwords to /root/nltk_data...\n",
      "[nltk_data]   Package stopwords is already up-to-date!\n"
     ]
    }
   ],
   "source": [
    "# stop words\n",
    "\n",
    "import nltk\n",
    "nltk.download('stopwords')\n",
    "\n",
    "from nltk.corpus import stopwords\n",
    "sw = stopwords.words('english')\n",
    "\n",
    "data['Phrase'] = data['Phrase'].apply(lambda x: ' '.join(word for word in x.split() if word not in sw) )"
   ]
  },
  {
   "cell_type": "code",
   "execution_count": 26,
   "id": "b866a383-9900-4487-83a8-219296a2b084",
   "metadata": {},
   "outputs": [],
   "source": [
    "# seyreklerin silinmesi\n",
    "\n",
    "# sıklığı sondan 1000 olan herşeyi sil\n",
    "sprase_words = pd.Series(' '.join(data['Phrase']).split()).value_counts()[-1000:]\n",
    "\n",
    "data['Phrase'] = data['Phrase'].apply(lambda x : ' '.join(word for word in x.split() if word not in sprase_words)) "
   ]
  },
  {
   "cell_type": "code",
   "execution_count": 27,
   "id": "136cefe4-2e95-4c9a-9d9d-82bba974f0b4",
   "metadata": {},
   "outputs": [],
   "source": [
    "# lemmi (ek'lerden kurtulma)  işlemi\n",
    "\n",
    "from textblob import Word\n",
    "\n",
    "data['Phrase'] = data['Phrase'].apply(lambda x : ' '.join(Word(w).lemmatize() for w in x.split())) "
   ]
  },
  {
   "cell_type": "code",
   "execution_count": 28,
   "id": "89f63770-1384-4a54-a836-fa8dfc6ae234",
   "metadata": {},
   "outputs": [
    {
     "data": {
      "text/html": [
       "<div>\n",
       "<style scoped>\n",
       "    .dataframe tbody tr th:only-of-type {\n",
       "        vertical-align: middle;\n",
       "    }\n",
       "\n",
       "    .dataframe tbody tr th {\n",
       "        vertical-align: top;\n",
       "    }\n",
       "\n",
       "    .dataframe thead th {\n",
       "        text-align: right;\n",
       "    }\n",
       "</style>\n",
       "<table border=\"1\" class=\"dataframe\">\n",
       "  <thead>\n",
       "    <tr style=\"text-align: right;\">\n",
       "      <th></th>\n",
       "      <th>PhraseId</th>\n",
       "      <th>SentenceId</th>\n",
       "      <th>Phrase</th>\n",
       "      <th>Sentiment</th>\n",
       "    </tr>\n",
       "  </thead>\n",
       "  <tbody>\n",
       "    <tr>\n",
       "      <th>0</th>\n",
       "      <td>1</td>\n",
       "      <td>1</td>\n",
       "      <td>series escapade demonstrating adage good goose...</td>\n",
       "      <td>1</td>\n",
       "    </tr>\n",
       "    <tr>\n",
       "      <th>1</th>\n",
       "      <td>2</td>\n",
       "      <td>1</td>\n",
       "      <td>series escapade demonstrating adage good goose</td>\n",
       "      <td>2</td>\n",
       "    </tr>\n",
       "    <tr>\n",
       "      <th>2</th>\n",
       "      <td>3</td>\n",
       "      <td>1</td>\n",
       "      <td>series</td>\n",
       "      <td>2</td>\n",
       "    </tr>\n",
       "    <tr>\n",
       "      <th>3</th>\n",
       "      <td>4</td>\n",
       "      <td>1</td>\n",
       "      <td></td>\n",
       "      <td>2</td>\n",
       "    </tr>\n",
       "    <tr>\n",
       "      <th>4</th>\n",
       "      <td>5</td>\n",
       "      <td>1</td>\n",
       "      <td>series</td>\n",
       "      <td>2</td>\n",
       "    </tr>\n",
       "    <tr>\n",
       "      <th>5</th>\n",
       "      <td>6</td>\n",
       "      <td>1</td>\n",
       "      <td>escapade demonstrating adage good goose</td>\n",
       "      <td>2</td>\n",
       "    </tr>\n",
       "    <tr>\n",
       "      <th>6</th>\n",
       "      <td>7</td>\n",
       "      <td>1</td>\n",
       "      <td></td>\n",
       "      <td>2</td>\n",
       "    </tr>\n",
       "    <tr>\n",
       "      <th>7</th>\n",
       "      <td>8</td>\n",
       "      <td>1</td>\n",
       "      <td>escapade demonstrating adage good goose</td>\n",
       "      <td>2</td>\n",
       "    </tr>\n",
       "    <tr>\n",
       "      <th>8</th>\n",
       "      <td>9</td>\n",
       "      <td>1</td>\n",
       "      <td>escapade</td>\n",
       "      <td>2</td>\n",
       "    </tr>\n",
       "    <tr>\n",
       "      <th>9</th>\n",
       "      <td>10</td>\n",
       "      <td>1</td>\n",
       "      <td>demonstrating adage good goose</td>\n",
       "      <td>2</td>\n",
       "    </tr>\n",
       "  </tbody>\n",
       "</table>\n",
       "</div>"
      ],
      "text/plain": [
       "   PhraseId  SentenceId                                             Phrase  \\\n",
       "0         1           1  series escapade demonstrating adage good goose...   \n",
       "1         2           1     series escapade demonstrating adage good goose   \n",
       "2         3           1                                             series   \n",
       "3         4           1                                                      \n",
       "4         5           1                                             series   \n",
       "5         6           1            escapade demonstrating adage good goose   \n",
       "6         7           1                                                      \n",
       "7         8           1            escapade demonstrating adage good goose   \n",
       "8         9           1                                           escapade   \n",
       "9        10           1                     demonstrating adage good goose   \n",
       "\n",
       "   Sentiment  \n",
       "0          1  \n",
       "1          2  \n",
       "2          2  \n",
       "3          2  \n",
       "4          2  \n",
       "5          2  \n",
       "6          2  \n",
       "7          2  \n",
       "8          2  \n",
       "9          2  "
      ]
     },
     "execution_count": 28,
     "metadata": {},
     "output_type": "execute_result"
    }
   ],
   "source": [
    "# kontrol\n",
    "\n",
    "data.head(10)"
   ]
  },
  {
   "cell_type": "code",
   "execution_count": null,
   "id": "9db2c132-243b-4fac-812f-a8ff5d17a11d",
   "metadata": {},
   "outputs": [],
   "source": []
  },
  {
   "cell_type": "markdown",
   "id": "b10d270c-077b-41b9-9ef1-7b1597435602",
   "metadata": {},
   "source": [
    "### Terim Frekansı"
   ]
  },
  {
   "cell_type": "code",
   "execution_count": 29,
   "id": "4844016a-276c-4838-93ce-5f083d5e8c19",
   "metadata": {},
   "outputs": [],
   "source": [
    "tf1 = pd.Series(' '.join(data['Phrase']).lower().split()).value_counts().reset_index()"
   ]
  },
  {
   "cell_type": "code",
   "execution_count": 30,
   "id": "b708d9cd-ada2-42a4-a162-1ef8c51beab7",
   "metadata": {},
   "outputs": [],
   "source": [
    "tf1.columns = ['words','tf']"
   ]
  },
  {
   "cell_type": "code",
   "execution_count": 31,
   "id": "ea73bfcd-4bf5-4609-a1c2-1ba526723d89",
   "metadata": {},
   "outputs": [
    {
     "data": {
      "text/html": [
       "<div>\n",
       "<style scoped>\n",
       "    .dataframe tbody tr th:only-of-type {\n",
       "        vertical-align: middle;\n",
       "    }\n",
       "\n",
       "    .dataframe tbody tr th {\n",
       "        vertical-align: top;\n",
       "    }\n",
       "\n",
       "    .dataframe thead th {\n",
       "        text-align: right;\n",
       "    }\n",
       "</style>\n",
       "<table border=\"1\" class=\"dataframe\">\n",
       "  <thead>\n",
       "    <tr style=\"text-align: right;\">\n",
       "      <th></th>\n",
       "      <th>words</th>\n",
       "      <th>tf</th>\n",
       "    </tr>\n",
       "  </thead>\n",
       "  <tbody>\n",
       "    <tr>\n",
       "      <th>0</th>\n",
       "      <td>film</td>\n",
       "      <td>7668</td>\n",
       "    </tr>\n",
       "    <tr>\n",
       "      <th>1</th>\n",
       "      <td>movie</td>\n",
       "      <td>7250</td>\n",
       "    </tr>\n",
       "    <tr>\n",
       "      <th>2</th>\n",
       "      <td>nt</td>\n",
       "      <td>3970</td>\n",
       "    </tr>\n",
       "    <tr>\n",
       "      <th>3</th>\n",
       "      <td>one</td>\n",
       "      <td>3783</td>\n",
       "    </tr>\n",
       "    <tr>\n",
       "      <th>4</th>\n",
       "      <td>like</td>\n",
       "      <td>3092</td>\n",
       "    </tr>\n",
       "  </tbody>\n",
       "</table>\n",
       "</div>"
      ],
      "text/plain": [
       "   words    tf\n",
       "0   film  7668\n",
       "1  movie  7250\n",
       "2     nt  3970\n",
       "3    one  3783\n",
       "4   like  3092"
      ]
     },
     "execution_count": 31,
     "metadata": {},
     "output_type": "execute_result"
    }
   ],
   "source": [
    "tf1.head()"
   ]
  },
  {
   "cell_type": "code",
   "execution_count": 32,
   "id": "914099db-c1cc-4cb6-b889-6a5f31d93feb",
   "metadata": {},
   "outputs": [
    {
     "name": "stdout",
     "output_type": "stream",
     "text": [
      "<class 'pandas.core.frame.DataFrame'>\n",
      "RangeIndex: 12833 entries, 0 to 12832\n",
      "Data columns (total 2 columns):\n",
      " #   Column  Non-Null Count  Dtype \n",
      "---  ------  --------------  ----- \n",
      " 0   words   12833 non-null  object\n",
      " 1   tf      12833 non-null  int64 \n",
      "dtypes: int64(1), object(1)\n",
      "memory usage: 200.6+ KB\n"
     ]
    }
   ],
   "source": [
    "tf1.info() # 12833 tane gözlem var"
   ]
  },
  {
   "cell_type": "code",
   "execution_count": 33,
   "id": "5e6d74e6-24cb-41b8-a419-3ce1b4f94086",
   "metadata": {},
   "outputs": [
    {
     "data": {
      "text/plain": [
       "words    12833\n",
       "tf         510\n",
       "dtype: int64"
      ]
     },
     "execution_count": 33,
     "metadata": {},
     "output_type": "execute_result"
    }
   ],
   "source": [
    "tf1.nunique()"
   ]
  },
  {
   "cell_type": "code",
   "execution_count": 35,
   "id": "297b6a40-1c36-4d86-9043-7b61b489a004",
   "metadata": {},
   "outputs": [],
   "source": [
    "# unique değerlerini getir dediğimizde de aynı sayı çıktı. buna göre hepsi unique değerler"
   ]
  },
  {
   "cell_type": "code",
   "execution_count": null,
   "id": "92ac6e0d-809c-4545-9554-e97b4eb23c76",
   "metadata": {},
   "outputs": [],
   "source": []
  },
  {
   "cell_type": "markdown",
   "id": "630305d1-937e-49b8-a18a-ef927cfb4059",
   "metadata": {},
   "source": [
    "#### Barplot Görselleştirme"
   ]
  },
  {
   "cell_type": "code",
   "execution_count": 36,
   "id": "0e98e558-d7d4-4ec0-967a-fbded9684293",
   "metadata": {},
   "outputs": [],
   "source": [
    "# çok fazla gözlem olduğundan grafik çizmek mantıklı olmaz."
   ]
  },
  {
   "cell_type": "code",
   "execution_count": 37,
   "id": "5a38fccf-caff-46f2-b567-e8b157fa7678",
   "metadata": {},
   "outputs": [],
   "source": [
    "# bu sebep ile bir miktar gözlem almalıyız."
   ]
  },
  {
   "cell_type": "code",
   "execution_count": 41,
   "id": "e09cd23f-d0eb-45b9-96ec-3d080576f457",
   "metadata": {},
   "outputs": [
    {
     "data": {
      "text/plain": [
       "words    47\n",
       "tf       47\n",
       "dtype: int64"
      ]
     },
     "execution_count": 41,
     "metadata": {},
     "output_type": "execute_result"
    }
   ],
   "source": [
    "tf1[tf1.tf > 1000].count() # 47 adet... veri setinde 1000 adetten fazla kez kullanılan kelimeler"
   ]
  },
  {
   "cell_type": "code",
   "execution_count": 42,
   "id": "5d0afebe-3515-4b66-9e69-9b28d23db7be",
   "metadata": {},
   "outputs": [],
   "source": [
    "a = tf1[tf1.tf > 1000]"
   ]
  },
  {
   "cell_type": "code",
   "execution_count": 44,
   "id": "63583dc4-3eea-448b-af35-3b7ec7e6eea4",
   "metadata": {},
   "outputs": [
    {
     "data": {
      "image/png": "[encoded data removed]",
      "text/plain": [
       "<Figure size 432x288 with 1 Axes>"
      ]
     },
     "metadata": {
      "needs_background": "light"
     },
     "output_type": "display_data"
    }
   ],
   "source": [
    "a.plot.bar(x = 'words',y = 'tf');"
   ]
  },
  {
   "cell_type": "code",
   "execution_count": null,
   "id": "31c518de-04b9-43e3-9d8f-8c84aae66440",
   "metadata": {},
   "outputs": [],
   "source": []
  },
  {
   "cell_type": "markdown",
   "id": "7727ea80-385e-4c60-8256-1cfd05ad9653",
   "metadata": {},
   "source": [
    "## Word Cloud (Kelime Bulutu)\n",
    "Kelimeleri geçme frekansına göre bir bulut şeklinde temsil etme yöntemidir."
   ]
  },
  {
   "cell_type": "code",
   "execution_count": 48,
   "id": "79f0f119-a75e-4373-916c-b460a4a7f520",
   "metadata": {},
   "outputs": [],
   "source": [
    "#!pip3 install wordcloud"
   ]
  },
  {
   "cell_type": "code",
   "execution_count": 47,
   "id": "d23e70a2-6cc3-421f-b559-64a15cf36441",
   "metadata": {},
   "outputs": [],
   "source": [
    "import numpy as np\n",
    "import pandas as pd\n",
    "from os import path\n",
    "from PIL import Image\n",
    "from wordcloud import WordCloud, STOPWORDS, ImageColorGenerator\n",
    "import matplotlib.pyplot as plt"
   ]
  },
  {
   "cell_type": "code",
   "execution_count": 51,
   "id": "85abb077-cb1d-4d14-9690-6af3dd361cc0",
   "metadata": {},
   "outputs": [],
   "source": [
    "# veri setinden bir yorum"
   ]
  },
  {
   "cell_type": "code",
   "execution_count": 52,
   "id": "79ad9f20-8f4a-4401-9fac-29abdb37a8ed",
   "metadata": {},
   "outputs": [],
   "source": [
    "text = data['Phrase'][0]"
   ]
  },
  {
   "cell_type": "code",
   "execution_count": 53,
   "id": "88495e3a-815b-42fd-9890-bb65e290b8ba",
   "metadata": {},
   "outputs": [],
   "source": [
    "# tek bir yorum ile bir kelime bulutu oluşturalım."
   ]
  },
  {
   "cell_type": "code",
   "execution_count": 54,
   "id": "eb4c30e9-8462-4bfe-a863-ab74a56e1aec",
   "metadata": {},
   "outputs": [],
   "source": [
    "wordcloud =  WordCloud().generate(text)"
   ]
  },
  {
   "cell_type": "code",
   "execution_count": 55,
   "id": "5fbb18ae-a8b9-4f55-b425-9cf354a03800",
   "metadata": {},
   "outputs": [
    {
     "data": {
      "image/png": "[encoded data removed]",
      "text/plain": [
       "<Figure size 432x288 with 1 Axes>"
      ]
     },
     "metadata": {
      "needs_background": "light"
     },
     "output_type": "display_data"
    }
   ],
   "source": [
    "plt.imshow(wordcloud,interpolation='bilinear')\n",
    "plt.axis('off')\n",
    "plt.show()"
   ]
  },
  {
   "cell_type": "markdown",
   "id": "beb56552-f822-43e2-8f89-03fdfe0473af",
   "metadata": {},
   "source": [
    "#### Bazı Configure ayarları"
   ]
  },
  {
   "cell_type": "code",
   "execution_count": 56,
   "id": "c23be43c-0a25-4816-8e1d-ad89560a9912",
   "metadata": {},
   "outputs": [
    {
     "data": {
      "image/png": "[encoded data removed]",
      "text/plain": [
       "<Figure size 432x288 with 1 Axes>"
      ]
     },
     "metadata": {
      "needs_background": "light"
     },
     "output_type": "display_data"
    }
   ],
   "source": [
    "wordcloud =  WordCloud(max_font_size=50,\n",
    "                      max_words=100,\n",
    "                      background_color='white').generate(text)\n",
    "plt.figure()\n",
    "plt.imshow(wordcloud,interpolation='bilinear')\n",
    "plt.axis('off')\n",
    "plt.show()"
   ]
  },
  {
   "cell_type": "code",
   "execution_count": 57,
   "id": "e9623996-5c59-4d06-8148-00e95107476b",
   "metadata": {},
   "outputs": [],
   "source": [
    "# bu görseli bilgisayarımıza çıktı olarak vermesini sağlamak..."
   ]
  },
  {
   "cell_type": "code",
   "execution_count": 58,
   "id": "a44094c1-710f-44bc-a2ed-881535a2f974",
   "metadata": {},
   "outputs": [
    {
     "data": {
      "text/plain": [
       "<wordcloud.wordcloud.WordCloud at 0x7f649798fd00>"
      ]
     },
     "execution_count": 58,
     "metadata": {},
     "output_type": "execute_result"
    }
   ],
   "source": [
    "wordcloud.to_file('kelime_bulutum.png')"
   ]
  },
  {
   "cell_type": "markdown",
   "id": "f56ce903-bee1-42b4-869e-95b50159cef7",
   "metadata": {},
   "source": [
    "#### Bütün Yorumları kullanarak kelime bulutu oluşturma"
   ]
  },
  {
   "cell_type": "code",
   "execution_count": null,
   "id": "816f5029-2522-441a-b294-3bd14aad43b6",
   "metadata": {},
   "outputs": [],
   "source": []
  },
  {
   "cell_type": "code",
   "execution_count": 59,
   "id": "abeea275-56f9-4519-a777-eadf80372152",
   "metadata": {},
   "outputs": [],
   "source": [
    "text = ' '.join(s for s in data.Phrase) # tek bir string haline getirildi...."
   ]
  },
  {
   "cell_type": "code",
   "execution_count": 63,
   "id": "07781ff5-14e4-427a-aa6b-322ab1070401",
   "metadata": {},
   "outputs": [
    {
     "data": {
      "image/png": "[encoded data removed]",
      "text/plain": [
       "<Figure size 720x720 with 1 Axes>"
      ]
     },
     "metadata": {
      "needs_background": "light"
     },
     "output_type": "display_data"
    }
   ],
   "source": [
    "wordcloud =  WordCloud(max_font_size=50,\n",
    "                      background_color='white').generate(text)\n",
    "plt.figure(figsize=(10,10))\n",
    "plt.imshow(wordcloud,interpolation='bilinear')\n",
    "plt.axis('off')\n",
    "plt.show()"
   ]
  },
  {
   "cell_type": "code",
   "execution_count": null,
   "id": "94d36189-a077-49f0-b985-83437fcae820",
   "metadata": {},
   "outputs": [],
   "source": []
  },
  {
   "cell_type": "markdown",
   "id": "e595ab54-6fd5-4318-b8d6-3174d7cc40ad",
   "metadata": {},
   "source": [
    "## Şablonlara göre WordCloud\n",
    "Elinizdeki bir görsel üzerinde bulut oluşturmak isterseniz bu yöntemi kullanabilirsiniz."
   ]
  },
  {
   "cell_type": "code",
   "execution_count": 64,
   "id": "cd59865c-8f9a-475a-9b1e-185e70de388a",
   "metadata": {},
   "outputs": [],
   "source": [
    "vbo_mask = np.array(Image.open('VBO.jpg'))"
   ]
  },
  {
   "cell_type": "code",
   "execution_count": 67,
   "id": "48ec6c48-3fab-40d0-be7c-3965437c0f24",
   "metadata": {},
   "outputs": [
    {
     "data": {
      "text/plain": [
       "array([[[255, 255, 255],\n",
       "        [255, 255, 255],\n",
       "        [255, 255, 255],\n",
       "        ...,\n",
       "        [255, 255, 255],\n",
       "        [255, 255, 255],\n",
       "        [255, 255, 255]],\n",
       "\n",
       "       [[255, 255, 255],\n",
       "        [255, 255, 255],\n",
       "        [255, 255, 255],\n",
       "        ...,\n",
       "        [255, 255, 255],\n",
       "        [255, 255, 255],\n",
       "        [255, 255, 255]]], dtype=uint8)"
      ]
     },
     "execution_count": 67,
     "metadata": {},
     "output_type": "execute_result"
    }
   ],
   "source": [
    "vbo_mask[:2]"
   ]
  },
  {
   "cell_type": "code",
   "execution_count": 69,
   "id": "571e1643-f76e-43ff-8217-90d85bfa3c86",
   "metadata": {},
   "outputs": [
    {
     "data": {
      "image/png": "[encoded data removed]",
      "text/plain": [
       "<Figure size 720x720 with 1 Axes>"
      ]
     },
     "metadata": {
      "needs_background": "light"
     },
     "output_type": "display_data"
    }
   ],
   "source": [
    "wc =  WordCloud(background_color='white',\n",
    "                       max_words=1000, \n",
    "                       mask=vbo_mask,\n",
    "                       contour_width=3,\n",
    "                       contour_color='firebrick').generate(text)\n",
    "\n",
    "wc.to_file('vbo.png')\n",
    "\n",
    "plt.figure(figsize=(10,10))\n",
    "plt.imshow(wc,interpolation='bilinear')\n",
    "plt.axis('off')\n",
    "plt.show()"
   ]
  },
  {
   "cell_type": "code",
   "execution_count": null,
   "id": "0a9bd10e-1e3b-45b3-a80c-6d3b41894f43",
   "metadata": {},
   "outputs": [],
   "source": []
  },
  {
   "cell_type": "code",
   "execution_count": null,
   "id": "41d8589a-ba0d-46c8-a2b2-fc9c16af215c",
   "metadata": {},
   "outputs": [],
   "source": []
  },
  {
   "cell_type": "code",
   "execution_count": null,
   "id": "d10e94f0-e7f3-43cb-bd01-159f2e07f064",
   "metadata": {},
   "outputs": [],
   "source": []
  },
  {
   "cell_type": "code",
   "execution_count": null,
   "id": "751918d5-d9fe-4454-aa84-8f154757c8e4",
   "metadata": {},
   "outputs": [],
   "source": []
  },
  {
   "cell_type": "code",
   "execution_count": null,
   "id": "b1052d23-0c38-4560-9fb3-34cd24504625",
   "metadata": {},
   "outputs": [],
   "source": []
  },
  {
   "cell_type": "code",
   "execution_count": null,
   "id": "387e1d0f-6fc2-4bc7-a628-2de7f09b1638",
   "metadata": {},
   "outputs": [],
   "source": []
  },
  {
   "cell_type": "code",
   "execution_count": null,
   "id": "290b3e2c-8956-4b8c-bf18-36744388ce56",
   "metadata": {},
   "outputs": [],
   "source": []
  }
 ],
 "metadata": {
  "kernelspec": {
   "display_name": "Python 3 (ipykernel)",
   "language": "python",
   "name": "python3"
  },
  "language_info": {
   "codemirror_mode": {
    "name": "ipython",
    "version": 3
   },
   "file_extension": ".py",
   "mimetype": "text/x-python",
   "name": "python",
   "nbconvert_exporter": "python",
   "pygments_lexer": "ipython3",
   "version": "3.8.10"
  }
 },
 "nbformat": 4,
 "nbformat_minor": 5
}
