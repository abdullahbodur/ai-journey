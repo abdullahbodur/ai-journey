{
 "cells": [
  {
   "cell_type": "code",
   "execution_count": 74,
   "id": "82225efb-aa58-47ef-bfd6-98cc8b4a32d8",
   "metadata": {},
   "outputs": [],
   "source": [
    "from warnings import filterwarnings\n",
    "filterwarnings('ignore')\n",
    "\n",
    "import numpy as np\n",
    "import pandas as pd"
   ]
  },
  {
   "cell_type": "code",
   "execution_count": null,
   "id": "f5565c8c-2a32-48ae-a04d-a2a19dee0084",
   "metadata": {},
   "outputs": [],
   "source": []
  },
  {
   "cell_type": "markdown",
   "id": "42906843-72c1-417d-8149-397e85afcf5f",
   "metadata": {},
   "source": [
    "## API Bağlantısının Yapılması"
   ]
  },
  {
   "cell_type": "code",
   "execution_count": 2,
   "id": "5aecb0a3-011d-49ec-ac43-0130ab57a845",
   "metadata": {},
   "outputs": [],
   "source": [
    "import tweepy,codecs"
   ]
  },
  {
   "cell_type": "code",
   "execution_count": 3,
   "id": "e80e08ed-13d5-4a2d-8a77-0e28269ad646",
   "metadata": {},
   "outputs": [],
   "source": [
    "# keys"
   ]
  },
  {
   "cell_type": "code",
   "execution_count": 4,
   "id": "986abea1-3815-4e2b-92f6-01ad27ead0e5",
   "metadata": {},
   "outputs": [],
   "source": [
    "consumer_key = 'GoZTyDDaHOQ1YreBZViTyDFTE'\n",
    "consumer_secret = 'YxUt3pGFfkmCHz6Mbo77dLhPA1dCPilyDQXpXg8bz0e97Ssp7B'\n",
    "access_token = '967443566648872961-Q8gso7kaTOF2fD9Lm9INadLKF2qCH9B'\n",
    "access_token_secret = 'QYKILttsvXVqg9aerSGuTJGiCbk6AVLMJKnZJEd80qTaZ'\n",
    "\n",
    "auth = tweepy.OAuthHandler(consumer_key,consumer_secret)\n",
    "auth.set_access_token(access_token,access_token_secret)\n",
    "api = tweepy.API(auth)"
   ]
  },
  {
   "cell_type": "markdown",
   "id": "0f08a865-dd6f-4320-ada6-b4a4a40d7384",
   "metadata": {},
   "source": [
    "## Takipçi Segmentasyonu\n",
    "amacımız takipçilerimiz analiz edip takipçilerimizin tweet etki güçlerini ölçmek istiyoruz... <br>\n",
    "bunun için : <br>\n",
    "        \n",
    "        takipçi sayısı * atılan tweet => momentumunu kullanacağız."
   ]
  },
  {
   "cell_type": "code",
   "execution_count": 5,
   "id": "9c589306-59d2-44d1-b062-35983071473b",
   "metadata": {},
   "outputs": [],
   "source": [
    "user = api.get_user(id = 'fatihportakal')"
   ]
  },
  {
   "cell_type": "code",
   "execution_count": 6,
   "id": "6d87a81b-af04-4242-af3c-2fed2a428cfd",
   "metadata": {},
   "outputs": [],
   "source": [
    "followers = user.followers()"
   ]
  },
  {
   "cell_type": "code",
   "execution_count": 7,
   "id": "89dde5b7-a029-4f99-b92a-e19337c30e01",
   "metadata": {},
   "outputs": [],
   "source": [
    "import pandas as pd\n",
    "\n",
    "def friends_df(takipçi):\n",
    "    \n",
    "    data = [[k.id,\n",
    "             k.created_at,\n",
    "             k.screen_name,\n",
    "             k.location,\n",
    "             k.followers_count,\n",
    "             k.statuses_count,\n",
    "             k.friends_count,\n",
    "             k.favourites_count] for k in takipçi]\n",
    "    \n",
    "    \n",
    "    columns = ['id','created_at','screen_name','location','followers_count','statuses_count','friends_count','favourites_count']\n",
    "    \n",
    "    return pd.DataFrame(data,columns=columns)"
   ]
  },
  {
   "cell_type": "code",
   "execution_count": 8,
   "id": "00d83ea5-81c1-4727-a444-f45ad15cdc79",
   "metadata": {},
   "outputs": [],
   "source": [
    "df = friends_df(followers)"
   ]
  },
  {
   "cell_type": "code",
   "execution_count": null,
   "id": "140456b2-b01a-4db0-9332-9c796fae78ec",
   "metadata": {},
   "outputs": [],
   "source": []
  },
  {
   "cell_type": "code",
   "execution_count": 9,
   "id": "dcd439b4-0c03-4afb-ab6f-232f612c2e9e",
   "metadata": {},
   "outputs": [
    {
     "data": {
      "text/html": [
       "<div>\n",
       "<style scoped>\n",
       "    .dataframe tbody tr th:only-of-type {\n",
       "        vertical-align: middle;\n",
       "    }\n",
       "\n",
       "    .dataframe tbody tr th {\n",
       "        vertical-align: top;\n",
       "    }\n",
       "\n",
       "    .dataframe thead th {\n",
       "        text-align: right;\n",
       "    }\n",
       "</style>\n",
       "<table border=\"1\" class=\"dataframe\">\n",
       "  <thead>\n",
       "    <tr style=\"text-align: right;\">\n",
       "      <th></th>\n",
       "      <th>id</th>\n",
       "      <th>created_at</th>\n",
       "      <th>screen_name</th>\n",
       "      <th>location</th>\n",
       "      <th>followers_count</th>\n",
       "      <th>statuses_count</th>\n",
       "      <th>friends_count</th>\n",
       "      <th>favourites_count</th>\n",
       "    </tr>\n",
       "  </thead>\n",
       "  <tbody>\n",
       "    <tr>\n",
       "      <th>0</th>\n",
       "      <td>1424649659100848128</td>\n",
       "      <td>2021-08-09 08:32:35</td>\n",
       "      <td>UfukKo82023293</td>\n",
       "      <td></td>\n",
       "      <td>0</td>\n",
       "      <td>0</td>\n",
       "      <td>56</td>\n",
       "      <td>0</td>\n",
       "    </tr>\n",
       "    <tr>\n",
       "      <th>1</th>\n",
       "      <td>1424655023682772993</td>\n",
       "      <td>2021-08-09 08:53:40</td>\n",
       "      <td>NcyZclk</td>\n",
       "      <td></td>\n",
       "      <td>0</td>\n",
       "      <td>0</td>\n",
       "      <td>9</td>\n",
       "      <td>0</td>\n",
       "    </tr>\n",
       "    <tr>\n",
       "      <th>2</th>\n",
       "      <td>1424656116374441984</td>\n",
       "      <td>2021-08-09 08:57:42</td>\n",
       "      <td>bafmn1628499449</td>\n",
       "      <td></td>\n",
       "      <td>0</td>\n",
       "      <td>1</td>\n",
       "      <td>5</td>\n",
       "      <td>0</td>\n",
       "    </tr>\n",
       "    <tr>\n",
       "      <th>3</th>\n",
       "      <td>1363936115355504647</td>\n",
       "      <td>2021-02-22 19:38:19</td>\n",
       "      <td>ZlGokcen</td>\n",
       "      <td></td>\n",
       "      <td>12</td>\n",
       "      <td>37</td>\n",
       "      <td>35</td>\n",
       "      <td>67</td>\n",
       "    </tr>\n",
       "    <tr>\n",
       "      <th>4</th>\n",
       "      <td>1424640979055874053</td>\n",
       "      <td>2021-08-09 07:57:41</td>\n",
       "      <td>godsavemymind</td>\n",
       "      <td></td>\n",
       "      <td>0</td>\n",
       "      <td>0</td>\n",
       "      <td>22</td>\n",
       "      <td>0</td>\n",
       "    </tr>\n",
       "  </tbody>\n",
       "</table>\n",
       "</div>"
      ],
      "text/plain": [
       "                    id          created_at      screen_name location  \\\n",
       "0  1424649659100848128 2021-08-09 08:32:35   UfukKo82023293            \n",
       "1  1424655023682772993 2021-08-09 08:53:40          NcyZclk            \n",
       "2  1424656116374441984 2021-08-09 08:57:42  bafmn1628499449            \n",
       "3  1363936115355504647 2021-02-22 19:38:19         ZlGokcen            \n",
       "4  1424640979055874053 2021-08-09 07:57:41    godsavemymind            \n",
       "\n",
       "   followers_count  statuses_count  friends_count  favourites_count  \n",
       "0                0               0             56                 0  \n",
       "1                0               0              9                 0  \n",
       "2                0               1              5                 0  \n",
       "3               12              37             35                67  \n",
       "4                0               0             22                 0  "
      ]
     },
     "execution_count": 9,
     "metadata": {},
     "output_type": "execute_result"
    }
   ],
   "source": [
    "df.head()"
   ]
  },
  {
   "cell_type": "code",
   "execution_count": 10,
   "id": "ceff2977-1102-4713-a3c7-74af48c767f6",
   "metadata": {},
   "outputs": [],
   "source": [
    "# screen_name => index"
   ]
  },
  {
   "cell_type": "code",
   "execution_count": 11,
   "id": "532d6ec7-c32c-4bf7-a3eb-d5978cf7a9c4",
   "metadata": {},
   "outputs": [],
   "source": [
    "df.index = df.screen_name"
   ]
  },
  {
   "cell_type": "markdown",
   "id": "37342710-f526-4ab9-bf5d-b9f51d9780d4",
   "metadata": {},
   "source": [
    "#### segmentasyon feature seçimi"
   ]
  },
  {
   "cell_type": "code",
   "execution_count": 47,
   "id": "44a3b1fb-6c18-4c20-b55c-a811e32236cf",
   "metadata": {},
   "outputs": [],
   "source": [
    "s_data = df[['followers_count','statuses_count']]"
   ]
  },
  {
   "cell_type": "code",
   "execution_count": 48,
   "id": "d3185345-9dff-4db0-aa02-95f411128609",
   "metadata": {},
   "outputs": [
    {
     "name": "stdout",
     "output_type": "stream",
     "text": [
      "<class 'pandas.core.frame.DataFrame'>\n",
      "Index: 20 entries, UfukKo82023293 to vrnce1628499151\n",
      "Data columns (total 2 columns):\n",
      " #   Column           Non-Null Count  Dtype\n",
      "---  ------           --------------  -----\n",
      " 0   followers_count  20 non-null     int64\n",
      " 1   statuses_count   20 non-null     int64\n",
      "dtypes: int64(2)\n",
      "memory usage: 1.0+ KB\n"
     ]
    }
   ],
   "source": [
    "s_data.info()"
   ]
  },
  {
   "cell_type": "code",
   "execution_count": 49,
   "id": "b8194dbe-f141-4b0b-aa17-ca6d3d681ef4",
   "metadata": {},
   "outputs": [
    {
     "data": {
      "text/html": [
       "<div>\n",
       "<style scoped>\n",
       "    .dataframe tbody tr th:only-of-type {\n",
       "        vertical-align: middle;\n",
       "    }\n",
       "\n",
       "    .dataframe tbody tr th {\n",
       "        vertical-align: top;\n",
       "    }\n",
       "\n",
       "    .dataframe thead th {\n",
       "        text-align: right;\n",
       "    }\n",
       "</style>\n",
       "<table border=\"1\" class=\"dataframe\">\n",
       "  <thead>\n",
       "    <tr style=\"text-align: right;\">\n",
       "      <th></th>\n",
       "      <th>followers_count</th>\n",
       "      <th>statuses_count</th>\n",
       "    </tr>\n",
       "    <tr>\n",
       "      <th>screen_name</th>\n",
       "      <th></th>\n",
       "      <th></th>\n",
       "    </tr>\n",
       "  </thead>\n",
       "  <tbody>\n",
       "    <tr>\n",
       "      <th>UfukKo82023293</th>\n",
       "      <td>0</td>\n",
       "      <td>0</td>\n",
       "    </tr>\n",
       "    <tr>\n",
       "      <th>NcyZclk</th>\n",
       "      <td>0</td>\n",
       "      <td>0</td>\n",
       "    </tr>\n",
       "    <tr>\n",
       "      <th>bafmn1628499449</th>\n",
       "      <td>0</td>\n",
       "      <td>1</td>\n",
       "    </tr>\n",
       "    <tr>\n",
       "      <th>ZlGokcen</th>\n",
       "      <td>12</td>\n",
       "      <td>37</td>\n",
       "    </tr>\n",
       "    <tr>\n",
       "      <th>godsavemymind</th>\n",
       "      <td>0</td>\n",
       "      <td>0</td>\n",
       "    </tr>\n",
       "  </tbody>\n",
       "</table>\n",
       "</div>"
      ],
      "text/plain": [
       "                 followers_count  statuses_count\n",
       "screen_name                                     \n",
       "UfukKo82023293                 0               0\n",
       "NcyZclk                        0               0\n",
       "bafmn1628499449                0               1\n",
       "ZlGokcen                      12              37\n",
       "godsavemymind                  0               0"
      ]
     },
     "execution_count": 49,
     "metadata": {},
     "output_type": "execute_result"
    }
   ],
   "source": [
    "s_data.head()"
   ]
  },
  {
   "cell_type": "markdown",
   "id": "43f4dd70-2991-4f23-b6a5-4076a9c98407",
   "metadata": {},
   "source": [
    "#### Process\n",
    "* 0 olan verileri düzenlemek... <br>\n",
    "* scaling işlemi...\n",
    "\n",
    "****Not**** : Bu segmentasyon işlemleri normalde tehlikelidir... <br>\n",
    "Böyle bir segmentasyon işlemi (a*b | scaled values) için çarpılan feature'ların ****ağırlıklarını <br>\n",
    "eşit kabul etmemiz**** gerekir."
   ]
  },
  {
   "cell_type": "code",
   "execution_count": 50,
   "id": "d9eb2c7b-6fd2-482c-b73b-71fc6e502563",
   "metadata": {},
   "outputs": [],
   "source": [
    "# followers_count * statuses_count "
   ]
  },
  {
   "cell_type": "code",
   "execution_count": 51,
   "id": "d41b08aa-f8fd-4012-b8bc-e758091e026d",
   "metadata": {},
   "outputs": [],
   "source": [
    "# ilk önce verilerdeki uzaklığı ayarlamak için standartlaştırma yapalım..."
   ]
  },
  {
   "cell_type": "code",
   "execution_count": 52,
   "id": "4b97b298-c0b7-4e8b-b3d8-16442d054ae8",
   "metadata": {},
   "outputs": [],
   "source": [
    "s_data = s_data.apply(lambda x : (x - min(x)) / (max(x) - min(x)))"
   ]
  },
  {
   "cell_type": "code",
   "execution_count": null,
   "id": "69bac874-3d3b-4d30-a851-61c738b2a2c1",
   "metadata": {},
   "outputs": [],
   "source": []
  },
  {
   "cell_type": "code",
   "execution_count": 53,
   "id": "094c4dfb-9dfe-4e53-89c5-0f5962cd4dc0",
   "metadata": {},
   "outputs": [],
   "source": [
    "# 0 değerleri bu değeri etkisizleştirdiğinden 0 değerleri yerine 0.01 verelim..."
   ]
  },
  {
   "cell_type": "code",
   "execution_count": 54,
   "id": "bfab4a0a-60eb-4f5d-9f81-5f92f1ef828f",
   "metadata": {},
   "outputs": [],
   "source": [
    "s_data = s_data + 0.01"
   ]
  },
  {
   "cell_type": "code",
   "execution_count": 55,
   "id": "0fb65816-05f3-4134-952e-9e52ffc1811d",
   "metadata": {},
   "outputs": [
    {
     "data": {
      "text/html": [
       "<div>\n",
       "<style scoped>\n",
       "    .dataframe tbody tr th:only-of-type {\n",
       "        vertical-align: middle;\n",
       "    }\n",
       "\n",
       "    .dataframe tbody tr th {\n",
       "        vertical-align: top;\n",
       "    }\n",
       "\n",
       "    .dataframe thead th {\n",
       "        text-align: right;\n",
       "    }\n",
       "</style>\n",
       "<table border=\"1\" class=\"dataframe\">\n",
       "  <thead>\n",
       "    <tr style=\"text-align: right;\">\n",
       "      <th></th>\n",
       "      <th>followers_count</th>\n",
       "      <th>statuses_count</th>\n",
       "    </tr>\n",
       "    <tr>\n",
       "      <th>screen_name</th>\n",
       "      <th></th>\n",
       "      <th></th>\n",
       "    </tr>\n",
       "  </thead>\n",
       "  <tbody>\n",
       "    <tr>\n",
       "      <th>UfukKo82023293</th>\n",
       "      <td>0.010000</td>\n",
       "      <td>0.010000</td>\n",
       "    </tr>\n",
       "    <tr>\n",
       "      <th>NcyZclk</th>\n",
       "      <td>0.010000</td>\n",
       "      <td>0.010000</td>\n",
       "    </tr>\n",
       "    <tr>\n",
       "      <th>bafmn1628499449</th>\n",
       "      <td>0.010000</td>\n",
       "      <td>0.010554</td>\n",
       "    </tr>\n",
       "    <tr>\n",
       "      <th>ZlGokcen</th>\n",
       "      <td>0.055113</td>\n",
       "      <td>0.030499</td>\n",
       "    </tr>\n",
       "    <tr>\n",
       "      <th>godsavemymind</th>\n",
       "      <td>0.010000</td>\n",
       "      <td>0.010000</td>\n",
       "    </tr>\n",
       "  </tbody>\n",
       "</table>\n",
       "</div>"
      ],
      "text/plain": [
       "                 followers_count  statuses_count\n",
       "screen_name                                     \n",
       "UfukKo82023293          0.010000        0.010000\n",
       "NcyZclk                 0.010000        0.010000\n",
       "bafmn1628499449         0.010000        0.010554\n",
       "ZlGokcen                0.055113        0.030499\n",
       "godsavemymind           0.010000        0.010000"
      ]
     },
     "execution_count": 55,
     "metadata": {},
     "output_type": "execute_result"
    }
   ],
   "source": [
    "s_data.head()"
   ]
  },
  {
   "cell_type": "code",
   "execution_count": null,
   "id": "c48d6a61-890f-4fef-a0a9-cb222f3b1a66",
   "metadata": {},
   "outputs": [],
   "source": []
  },
  {
   "cell_type": "markdown",
   "id": "65f85c07-2300-42aa-8c67-6cdd8edd5a29",
   "metadata": {},
   "source": [
    "#### Skor Hesaplama (Momentum)"
   ]
  },
  {
   "cell_type": "code",
   "execution_count": 56,
   "id": "cdc6eb1f-37ad-4407-bead-f3cceb262b71",
   "metadata": {},
   "outputs": [],
   "source": [
    "score = s_data.followers_count * s_data.statuses_count"
   ]
  },
  {
   "cell_type": "code",
   "execution_count": 57,
   "id": "21ef884c-4e47-4013-aab0-dc4bc931c3ea",
   "metadata": {},
   "outputs": [
    {
     "data": {
      "text/plain": [
       "screen_name\n",
       "UfukKo82023293     0.000100\n",
       "NcyZclk            0.000100\n",
       "bafmn1628499449    0.000106\n",
       "ZlGokcen           0.001681\n",
       "godsavemymind      0.000100\n",
       "farukka53009229    0.000100\n",
       "madamceycey        1.020100\n",
       "NginZzeynep        0.000100\n",
       "YusufNurdoan3      0.000100\n",
       "yeldirik1          0.000100\n",
       "egela_es           0.000100\n",
       "Gnl07167545        0.000145\n",
       "WhiteSa42450934    0.000145\n",
       "zlmxn1628499080    0.000100\n",
       "SefaKar01781472    0.000100\n",
       "YelizUzunay2       0.000213\n",
       "Murat13531997      0.000344\n",
       "Murat94123737      0.000100\n",
       "McYirmak           0.000100\n",
       "vrnce1628499151    0.000272\n",
       "dtype: float64"
      ]
     },
     "execution_count": 57,
     "metadata": {},
     "output_type": "execute_result"
    }
   ],
   "source": [
    "score"
   ]
  },
  {
   "cell_type": "code",
   "execution_count": null,
   "id": "9ae20e33-6761-4276-b17a-cfa2d021996f",
   "metadata": {},
   "outputs": [],
   "source": []
  },
  {
   "cell_type": "markdown",
   "id": "5a7ba100-19a9-4e6c-a06e-05240c5b3825",
   "metadata": {},
   "source": [
    "#### Segmentasyon\n",
    "takipçileri kümelere segmente etmek için 2 yöntem olabilir. <br>\n",
    "\n",
    "* El ile (az gözlem olursa uygulanabilir. İlkeldir...)\n",
    "* Unsupervised ML ile  "
   ]
  },
  {
   "cell_type": "code",
   "execution_count": 61,
   "id": "eb8d0b6c-f456-4336-a687-e384c985845d",
   "metadata": {},
   "outputs": [],
   "source": [
    "# el ile"
   ]
  },
  {
   "cell_type": "code",
   "execution_count": 69,
   "id": "f7602129-a716-4936-a53d-85e3bebb949c",
   "metadata": {},
   "outputs": [
    {
     "data": {
      "text/plain": [
       "screen_name\n",
       "madamceycey    1.0201\n",
       "dtype: float64"
      ]
     },
     "execution_count": 69,
     "metadata": {},
     "output_type": "execute_result"
    }
   ],
   "source": [
    "score[score > score.median() + score.std() / len(score)].sort_values(ascending=False)"
   ]
  },
  {
   "cell_type": "code",
   "execution_count": 70,
   "id": "2de4c885-edfa-401c-909b-bb885d5a34e1",
   "metadata": {},
   "outputs": [],
   "source": [
    "s_data['skor'] =  score"
   ]
  },
  {
   "cell_type": "code",
   "execution_count": 71,
   "id": "8afb4399-28af-4837-8f18-4e512c10ed0a",
   "metadata": {},
   "outputs": [
    {
     "data": {
      "text/html": [
       "<div>\n",
       "<style scoped>\n",
       "    .dataframe tbody tr th:only-of-type {\n",
       "        vertical-align: middle;\n",
       "    }\n",
       "\n",
       "    .dataframe tbody tr th {\n",
       "        vertical-align: top;\n",
       "    }\n",
       "\n",
       "    .dataframe thead th {\n",
       "        text-align: right;\n",
       "    }\n",
       "</style>\n",
       "<table border=\"1\" class=\"dataframe\">\n",
       "  <thead>\n",
       "    <tr style=\"text-align: right;\">\n",
       "      <th></th>\n",
       "      <th>followers_count</th>\n",
       "      <th>statuses_count</th>\n",
       "      <th>skor</th>\n",
       "    </tr>\n",
       "    <tr>\n",
       "      <th>screen_name</th>\n",
       "      <th></th>\n",
       "      <th></th>\n",
       "      <th></th>\n",
       "    </tr>\n",
       "  </thead>\n",
       "  <tbody>\n",
       "    <tr>\n",
       "      <th>UfukKo82023293</th>\n",
       "      <td>0.010000</td>\n",
       "      <td>0.010000</td>\n",
       "      <td>0.000100</td>\n",
       "    </tr>\n",
       "    <tr>\n",
       "      <th>NcyZclk</th>\n",
       "      <td>0.010000</td>\n",
       "      <td>0.010000</td>\n",
       "      <td>0.000100</td>\n",
       "    </tr>\n",
       "    <tr>\n",
       "      <th>bafmn1628499449</th>\n",
       "      <td>0.010000</td>\n",
       "      <td>0.010554</td>\n",
       "      <td>0.000106</td>\n",
       "    </tr>\n",
       "    <tr>\n",
       "      <th>ZlGokcen</th>\n",
       "      <td>0.055113</td>\n",
       "      <td>0.030499</td>\n",
       "      <td>0.001681</td>\n",
       "    </tr>\n",
       "    <tr>\n",
       "      <th>godsavemymind</th>\n",
       "      <td>0.010000</td>\n",
       "      <td>0.010000</td>\n",
       "      <td>0.000100</td>\n",
       "    </tr>\n",
       "  </tbody>\n",
       "</table>\n",
       "</div>"
      ],
      "text/plain": [
       "                 followers_count  statuses_count      skor\n",
       "screen_name                                               \n",
       "UfukKo82023293          0.010000        0.010000  0.000100\n",
       "NcyZclk                 0.010000        0.010000  0.000100\n",
       "bafmn1628499449         0.010000        0.010554  0.000106\n",
       "ZlGokcen                0.055113        0.030499  0.001681\n",
       "godsavemymind           0.010000        0.010000  0.000100"
      ]
     },
     "execution_count": 71,
     "metadata": {},
     "output_type": "execute_result"
    }
   ],
   "source": [
    "s_data.head()"
   ]
  },
  {
   "cell_type": "code",
   "execution_count": 72,
   "id": "c6482c6c-aef9-479b-82a7-c55c2d2ddc00",
   "metadata": {},
   "outputs": [],
   "source": [
    "# koşulu sağlayan => A & sağlamayan => B"
   ]
  },
  {
   "cell_type": "code",
   "execution_count": 75,
   "id": "8ec2f51d-8298-4c78-9295-48fe5b243b19",
   "metadata": {},
   "outputs": [],
   "source": [
    "s_data['segment'] = np.where(s_data['skor'] >= score.median() + score.std() / len(score), 'A','B')"
   ]
  },
  {
   "cell_type": "code",
   "execution_count": 77,
   "id": "e884ff5a-4218-499d-ac8c-2e98df668edd",
   "metadata": {},
   "outputs": [
    {
     "data": {
      "text/html": [
       "<div>\n",
       "<style scoped>\n",
       "    .dataframe tbody tr th:only-of-type {\n",
       "        vertical-align: middle;\n",
       "    }\n",
       "\n",
       "    .dataframe tbody tr th {\n",
       "        vertical-align: top;\n",
       "    }\n",
       "\n",
       "    .dataframe thead th {\n",
       "        text-align: right;\n",
       "    }\n",
       "</style>\n",
       "<table border=\"1\" class=\"dataframe\">\n",
       "  <thead>\n",
       "    <tr style=\"text-align: right;\">\n",
       "      <th></th>\n",
       "      <th>followers_count</th>\n",
       "      <th>statuses_count</th>\n",
       "      <th>skor</th>\n",
       "      <th>segment</th>\n",
       "    </tr>\n",
       "    <tr>\n",
       "      <th>screen_name</th>\n",
       "      <th></th>\n",
       "      <th></th>\n",
       "      <th></th>\n",
       "      <th></th>\n",
       "    </tr>\n",
       "  </thead>\n",
       "  <tbody>\n",
       "    <tr>\n",
       "      <th>UfukKo82023293</th>\n",
       "      <td>0.010000</td>\n",
       "      <td>0.010000</td>\n",
       "      <td>0.000100</td>\n",
       "      <td>B</td>\n",
       "    </tr>\n",
       "    <tr>\n",
       "      <th>NcyZclk</th>\n",
       "      <td>0.010000</td>\n",
       "      <td>0.010000</td>\n",
       "      <td>0.000100</td>\n",
       "      <td>B</td>\n",
       "    </tr>\n",
       "    <tr>\n",
       "      <th>bafmn1628499449</th>\n",
       "      <td>0.010000</td>\n",
       "      <td>0.010554</td>\n",
       "      <td>0.000106</td>\n",
       "      <td>B</td>\n",
       "    </tr>\n",
       "    <tr>\n",
       "      <th>ZlGokcen</th>\n",
       "      <td>0.055113</td>\n",
       "      <td>0.030499</td>\n",
       "      <td>0.001681</td>\n",
       "      <td>B</td>\n",
       "    </tr>\n",
       "    <tr>\n",
       "      <th>godsavemymind</th>\n",
       "      <td>0.010000</td>\n",
       "      <td>0.010000</td>\n",
       "      <td>0.000100</td>\n",
       "      <td>B</td>\n",
       "    </tr>\n",
       "  </tbody>\n",
       "</table>\n",
       "</div>"
      ],
      "text/plain": [
       "                 followers_count  statuses_count      skor segment\n",
       "screen_name                                                       \n",
       "UfukKo82023293          0.010000        0.010000  0.000100       B\n",
       "NcyZclk                 0.010000        0.010000  0.000100       B\n",
       "bafmn1628499449         0.010000        0.010554  0.000106       B\n",
       "ZlGokcen                0.055113        0.030499  0.001681       B\n",
       "godsavemymind           0.010000        0.010000  0.000100       B"
      ]
     },
     "execution_count": 77,
     "metadata": {},
     "output_type": "execute_result"
    }
   ],
   "source": [
    "s_data.head()"
   ]
  },
  {
   "cell_type": "code",
   "execution_count": null,
   "id": "f35d80ce-08a9-4cd1-9d91-81f034285d6f",
   "metadata": {},
   "outputs": [],
   "source": []
  },
  {
   "cell_type": "code",
   "execution_count": null,
   "id": "2d56ee52-5e19-49f7-8fd5-3cf6ed35800d",
   "metadata": {},
   "outputs": [],
   "source": []
  },
  {
   "cell_type": "code",
   "execution_count": null,
   "id": "c7e21db6-cd34-443a-b0a2-5ba165d2e75d",
   "metadata": {},
   "outputs": [],
   "source": []
  },
  {
   "cell_type": "code",
   "execution_count": null,
   "id": "f80c6c5e-b0d2-4e6a-97a7-e4662e8daf24",
   "metadata": {},
   "outputs": [],
   "source": []
  },
  {
   "cell_type": "code",
   "execution_count": null,
   "id": "92295f8e-ae1a-4d1d-9e18-f198feb9f9c6",
   "metadata": {},
   "outputs": [],
   "source": []
  },
  {
   "cell_type": "code",
   "execution_count": null,
   "id": "dc064690-22ec-4bc9-ab10-ca55999c32a3",
   "metadata": {},
   "outputs": [],
   "source": []
  },
  {
   "cell_type": "code",
   "execution_count": null,
   "id": "9cdabe5a-cd1c-4eb5-a607-ce7c11512ccc",
   "metadata": {},
   "outputs": [],
   "source": []
  }
 ],
 "metadata": {
  "kernelspec": {
   "display_name": "Python 3 (ipykernel)",
   "language": "python",
   "name": "python3"
  },
  "language_info": {
   "codemirror_mode": {
    "name": "ipython",
    "version": 3
   },
   "file_extension": ".py",
   "mimetype": "text/x-python",
   "name": "python",
   "nbconvert_exporter": "python",
   "pygments_lexer": "ipython3",
   "version": "3.8.10"
  }
 },
 "nbformat": 4,
 "nbformat_minor": 5
}
