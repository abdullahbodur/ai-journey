{
 "cells": [
  {
   "cell_type": "code",
   "execution_count": 2,
   "id": "1606dedf-18e6-4f58-a69a-0ce55da6b4b4",
   "metadata": {},
   "outputs": [],
   "source": [
    "from warnings import filterwarnings\n",
    "filterwarnings('ignore')\n",
    "\n",
    "import numpy as np\n",
    "import pandas as pd"
   ]
  },
  {
   "cell_type": "code",
   "execution_count": null,
   "id": "fffdb6a0-6f52-4124-af4f-42891a7a558d",
   "metadata": {},
   "outputs": [],
   "source": []
  },
  {
   "cell_type": "markdown",
   "id": "fdce7354-c6c8-4310-9642-6daa72811518",
   "metadata": {},
   "source": [
    "## API Bağlantısının Yapılması"
   ]
  },
  {
   "cell_type": "code",
   "execution_count": 3,
   "id": "0e13149c-816d-45cf-838a-c5240ae69faf",
   "metadata": {},
   "outputs": [],
   "source": [
    "import tweepy,codecs"
   ]
  },
  {
   "cell_type": "code",
   "execution_count": 4,
   "id": "16ff4193-6a82-4695-ab12-0f432d5f4aa3",
   "metadata": {},
   "outputs": [],
   "source": [
    "# keys"
   ]
  },
  {
   "cell_type": "code",
   "execution_count": 5,
   "id": "f76bddc1-238c-471c-97bf-62449483e21f",
   "metadata": {},
   "outputs": [],
   "source": [
    "consumer_key = 'GoZTyDDaHOQ1YreBZViTyDFTE'\n",
    "consumer_secret = 'YxUt3pGFfkmCHz6Mbo77dLhPA1dCPilyDQXpXg8bz0e97Ssp7B'\n",
    "access_token = '967443566648872961-Q8gso7kaTOF2fD9Lm9INadLKF2qCH9B'\n",
    "access_token_secret = 'QYKILttsvXVqg9aerSGuTJGiCbk6AVLMJKnZJEd80qTaZ'\n",
    "\n",
    "auth = tweepy.OAuthHandler(consumer_key,consumer_secret)\n",
    "auth.set_access_token(access_token,access_token_secret)\n",
    "api = tweepy.API(auth)"
   ]
  },
  {
   "cell_type": "markdown",
   "id": "6b1f9535-ec5a-45a1-b5f0-a85f3fc5963a",
   "metadata": {},
   "source": [
    "#### Tweets Fetch"
   ]
  },
  {
   "cell_type": "code",
   "execution_count": 20,
   "id": "7c97206a-f839-4a26-96f4-015438526311",
   "metadata": {},
   "outputs": [],
   "source": [
    "tweets = api.search(q='#monday',\n",
    "                    lang='en',\n",
    "                    result_type = 'recent',\n",
    "                    count=1000)"
   ]
  },
  {
   "cell_type": "code",
   "execution_count": 21,
   "id": "e98cbcde-bf58-455f-8be0-3c20e05121d6",
   "metadata": {},
   "outputs": [],
   "source": [
    "# to df"
   ]
  },
  {
   "cell_type": "code",
   "execution_count": 22,
   "id": "425fd4ac-8434-424b-a0b1-73aef2427c2d",
   "metadata": {},
   "outputs": [],
   "source": [
    "def tweets_to_df(results):\n",
    "    data = [[tw.id,\n",
    "           tw.text,\n",
    "           tw.created_at,\n",
    "           tw.retweet_count,\n",
    "           tw.source,\n",
    "           tw.author.screen_name,\n",
    "           tw.author.followers_count,\n",
    "           tw.author.location,\n",
    "           tw.entities.get('hashtags')] for tw in results]\n",
    "    \n",
    "    columns = ['id','text','created_at','retweet_count','source','user_screen_name','user_followers_count','user_location','Hashtags']\n",
    "    \n",
    "    return pd.DataFrame(data,columns=columns)"
   ]
  },
  {
   "cell_type": "code",
   "execution_count": null,
   "id": "3f7f3666-0ab3-40dd-a211-5b7a712354bf",
   "metadata": {},
   "outputs": [],
   "source": []
  },
  {
   "cell_type": "markdown",
   "id": "44641e76-97c1-4985-a245-0301c610878c",
   "metadata": {},
   "source": [
    "## Twitter Text Mining"
   ]
  },
  {
   "cell_type": "code",
   "execution_count": 23,
   "id": "ebb05af3-c4e4-4df4-9d7c-83aed5477469",
   "metadata": {},
   "outputs": [],
   "source": [
    "df = tweets_to_df(tweets)"
   ]
  },
  {
   "cell_type": "markdown",
   "id": "abeb74eb-110a-48bf-a5ce-a2fd65214202",
   "metadata": {},
   "source": [
    "#### Text Processing"
   ]
  },
  {
   "cell_type": "code",
   "execution_count": 24,
   "id": "7715ed63-cb07-4d1d-a073-5b888dc3bd9d",
   "metadata": {},
   "outputs": [],
   "source": [
    "# buyuk-kucuk donusumu"
   ]
  },
  {
   "cell_type": "code",
   "execution_count": 25,
   "id": "908af26d-7bb9-4e0d-a199-430675838f03",
   "metadata": {},
   "outputs": [],
   "source": [
    "df['text'] = df['text'].apply(lambda x : x.lower())"
   ]
  },
  {
   "cell_type": "code",
   "execution_count": 26,
   "id": "9d9272c3-c819-428d-926e-977c6b1ff23b",
   "metadata": {},
   "outputs": [],
   "source": [
    "# noktalama işaretleri silimi"
   ]
  },
  {
   "cell_type": "code",
   "execution_count": 27,
   "id": "d661fdac-0571-40f2-8914-49cf1d164b35",
   "metadata": {},
   "outputs": [],
   "source": [
    "df['text'] = df['text'].str.replace('[^\\w\\s]','')"
   ]
  },
  {
   "cell_type": "code",
   "execution_count": 28,
   "id": "65b916e5-370c-42a4-bcd4-a26d74b175c6",
   "metadata": {},
   "outputs": [],
   "source": [
    "# sayılar"
   ]
  },
  {
   "cell_type": "code",
   "execution_count": 29,
   "id": "85b5e141-e83c-43a9-bf0b-b6b7fece3f21",
   "metadata": {},
   "outputs": [],
   "source": [
    "df['text'] = df['text'].str.replace('\\d','')"
   ]
  },
  {
   "cell_type": "code",
   "execution_count": null,
   "id": "7b665ab3-6619-436e-a784-b36c5f913bdc",
   "metadata": {},
   "outputs": [],
   "source": []
  },
  {
   "cell_type": "code",
   "execution_count": 30,
   "id": "aae4fabc-1ab3-41c9-89e1-bf336cb3d545",
   "metadata": {},
   "outputs": [],
   "source": [
    "# stopwords"
   ]
  },
  {
   "cell_type": "code",
   "execution_count": 31,
   "id": "ae049f6c-b615-4e55-a9e1-fb8ada162347",
   "metadata": {},
   "outputs": [],
   "source": [
    "import nltk\n",
    "from nltk.corpus import stopwords"
   ]
  },
  {
   "cell_type": "code",
   "execution_count": 32,
   "id": "a8953b9c-146d-42fd-9386-b3154e4c0f1a",
   "metadata": {},
   "outputs": [],
   "source": [
    "sw = stopwords.words('english')\n",
    "df['text'] = df['text'].apply(lambda x : ' '.join(w for w in x.split() if w not in sw)) "
   ]
  },
  {
   "cell_type": "code",
   "execution_count": 33,
   "id": "6a5685f8-3ede-48c8-9ce5-97a1d20a436b",
   "metadata": {},
   "outputs": [],
   "source": [
    "# lemmi"
   ]
  },
  {
   "cell_type": "code",
   "execution_count": 36,
   "id": "db5d4cdc-9e68-4be1-9d69-59ad3adcd625",
   "metadata": {},
   "outputs": [],
   "source": [
    "from textblob import Word"
   ]
  },
  {
   "cell_type": "code",
   "execution_count": 37,
   "id": "4d1a76b7-6f40-405c-a231-4d9fe8239156",
   "metadata": {},
   "outputs": [],
   "source": [
    "df['text'] = df['text'].apply(lambda x : ' '.join([Word(w).lemmatize() for w in x.split()]))"
   ]
  },
  {
   "cell_type": "code",
   "execution_count": 38,
   "id": "95bb0e1c-a3a8-483f-b1d1-84226818a53c",
   "metadata": {},
   "outputs": [],
   "source": [
    "# rt silimi"
   ]
  },
  {
   "cell_type": "code",
   "execution_count": 39,
   "id": "7710c153-50dc-4d14-8e05-c2f7a841d23c",
   "metadata": {},
   "outputs": [],
   "source": [
    "df['text'] = df['text'].str.replace('rt','')"
   ]
  },
  {
   "cell_type": "code",
   "execution_count": null,
   "id": "a4b2ba7f-c51b-4041-8d14-a199ebf7b375",
   "metadata": {},
   "outputs": [],
   "source": []
  },
  {
   "cell_type": "markdown",
   "id": "2cac2eef-26af-4c2a-ac65-c882622c0a98",
   "metadata": {},
   "source": [
    "#### word frequency"
   ]
  },
  {
   "cell_type": "code",
   "execution_count": 65,
   "id": "dc3a808f-9234-4b73-a28d-2434ff7dba96",
   "metadata": {},
   "outputs": [],
   "source": [
    "word_freq = pd.Series(df['text'].str.split().sum(axis=0)).value_counts().reset_index()"
   ]
  },
  {
   "cell_type": "code",
   "execution_count": 69,
   "id": "2bfbfb30-941b-40c2-a3e6-f9f4643bfcb6",
   "metadata": {},
   "outputs": [],
   "source": [
    "freq_df = pd.DataFrame(word_freq)"
   ]
  },
  {
   "cell_type": "code",
   "execution_count": 70,
   "id": "04a87a90-7e9a-4e39-b2aa-8fef334881b5",
   "metadata": {},
   "outputs": [],
   "source": [
    "freq_df.columns = ['kelimeler','frekanslar']"
   ]
  },
  {
   "cell_type": "code",
   "execution_count": 73,
   "id": "5f1006fa-2586-42dd-a546-5bdf40aad2e2",
   "metadata": {},
   "outputs": [
    {
     "data": {
      "text/html": [
       "<div>\n",
       "<style scoped>\n",
       "    .dataframe tbody tr th:only-of-type {\n",
       "        vertical-align: middle;\n",
       "    }\n",
       "\n",
       "    .dataframe tbody tr th {\n",
       "        vertical-align: top;\n",
       "    }\n",
       "\n",
       "    .dataframe thead th {\n",
       "        text-align: right;\n",
       "    }\n",
       "</style>\n",
       "<table border=\"1\" class=\"dataframe\">\n",
       "  <thead>\n",
       "    <tr style=\"text-align: right;\">\n",
       "      <th></th>\n",
       "      <th>kelimeler</th>\n",
       "      <th>frekanslar</th>\n",
       "    </tr>\n",
       "  </thead>\n",
       "  <tbody>\n",
       "    <tr>\n",
       "      <th>0</th>\n",
       "      <td>monday</td>\n",
       "      <td>61</td>\n",
       "    </tr>\n",
       "    <tr>\n",
       "      <th>1</th>\n",
       "      <td>horror</td>\n",
       "      <td>23</td>\n",
       "    </tr>\n",
       "    <tr>\n",
       "      <th>2</th>\n",
       "      <td>thenecronomi</td>\n",
       "      <td>23</td>\n",
       "    </tr>\n",
       "    <tr>\n",
       "      <th>3</th>\n",
       "      <td>podcast</td>\n",
       "      <td>23</td>\n",
       "    </tr>\n",
       "    <tr>\n",
       "      <th>4</th>\n",
       "      <td>film</td>\n",
       "      <td>23</td>\n",
       "    </tr>\n",
       "  </tbody>\n",
       "</table>\n",
       "</div>"
      ],
      "text/plain": [
       "      kelimeler  frekanslar\n",
       "0        monday          61\n",
       "1        horror          23\n",
       "2  thenecronomi          23\n",
       "3       podcast          23\n",
       "4          film          23"
      ]
     },
     "execution_count": 73,
     "metadata": {},
     "output_type": "execute_result"
    }
   ],
   "source": [
    "freq_df.head()"
   ]
  },
  {
   "cell_type": "code",
   "execution_count": null,
   "id": "f9e634fc-ccdf-4590-81b1-579067a37381",
   "metadata": {},
   "outputs": [],
   "source": []
  },
  {
   "cell_type": "code",
   "execution_count": 74,
   "id": "145ad5fc-e187-4f20-9f6d-9dc72256fb03",
   "metadata": {},
   "outputs": [],
   "source": [
    "# barplot"
   ]
  },
  {
   "cell_type": "code",
   "execution_count": 76,
   "id": "f800625a-1800-4891-a1f3-9cbf9df4d322",
   "metadata": {},
   "outputs": [],
   "source": [
    "bar_reduced =  freq_df[freq_df.frekanslar > freq_df.frekanslar.mean() + freq_df.frekanslar.std() ]"
   ]
  },
  {
   "cell_type": "code",
   "execution_count": 79,
   "id": "d6f69bb9-ceb8-4b6f-a5ed-11c51f631b97",
   "metadata": {},
   "outputs": [
    {
     "data": {
      "image/png": "[encoded data removed]",
      "text/plain": [
       "<Figure size 432x288 with 1 Axes>"
      ]
     },
     "metadata": {
      "needs_background": "light"
     },
     "output_type": "display_data"
    }
   ],
   "source": [
    "bar_reduced.plot.barh(x='kelimeler',y='frekanslar');"
   ]
  },
  {
   "cell_type": "code",
   "execution_count": null,
   "id": "c9ab01cc-b7b2-4734-996e-2b74af51c74a",
   "metadata": {},
   "outputs": [],
   "source": []
  },
  {
   "cell_type": "markdown",
   "id": "cabc4e77-a0ba-4f13-8ae1-051fce4bc275",
   "metadata": {},
   "source": [
    "#### WordCloud"
   ]
  },
  {
   "cell_type": "code",
   "execution_count": 82,
   "id": "5d291992-9d3e-48dc-ade9-855c929a0b84",
   "metadata": {},
   "outputs": [],
   "source": [
    "import numpy as np\n",
    "import pandas as pd\n",
    "from os import path\n",
    "from PIL import Image\n",
    "from wordcloud import WordCloud,STOPWORDS,ImageColorGenerator\n",
    "import matplotlib.pyplot as plt"
   ]
  },
  {
   "cell_type": "code",
   "execution_count": 83,
   "id": "300ef4ae-2790-47d6-8355-27829ac06d60",
   "metadata": {},
   "outputs": [],
   "source": [
    "# bütün texti topla"
   ]
  },
  {
   "cell_type": "code",
   "execution_count": 84,
   "id": "e93e2788-c2a0-4581-a7fe-e4b2543fd7ac",
   "metadata": {},
   "outputs": [],
   "source": [
    "text = ' '.join(s for s in df.text)"
   ]
  },
  {
   "cell_type": "code",
   "execution_count": 85,
   "id": "17c225b0-e064-48b4-aa1c-80593e5bc1ca",
   "metadata": {},
   "outputs": [],
   "source": [
    "# wordcloud"
   ]
  },
  {
   "cell_type": "code",
   "execution_count": 86,
   "id": "4e26f1c1-8251-4202-bd6c-2e1735757ddc",
   "metadata": {},
   "outputs": [
    {
     "data": {
      "image/png": "[encoded data removed]",
      "text/plain": [
       "<Figure size 432x288 with 1 Axes>"
      ]
     },
     "metadata": {
      "needs_background": "light"
     },
     "output_type": "display_data"
    }
   ],
   "source": [
    "wordcloud = WordCloud(background_color='white').generate(text)\n",
    "plt.imshow(wordcloud,interpolation='bilinear')\n",
    "plt.axis('off')\n",
    "plt.tight_layout(pad=0)\n",
    "plt.show();"
   ]
  },
  {
   "cell_type": "code",
   "execution_count": null,
   "id": "bd18db38-1f2e-425b-9e9b-88c75635b295",
   "metadata": {},
   "outputs": [],
   "source": []
  },
  {
   "cell_type": "markdown",
   "id": "2306011e-2a6a-4c79-9833-0004731f7b34",
   "metadata": {},
   "source": [
    "## Twitter Sentiment Analizi\n",
    "yapacağımız iş verilen metinlerdeki sentiment skorlarını hesaplamaktır... <br>\n",
    "\n",
    "Bizim burada kullanacağımız yöntem TextBlob algoritması olacak... Bu Algoritma Ingilizce cümlelerdeki olumsuzlukarı yakalar... <br>\n",
    "\n",
    "Siz isterseniz kendi alanınıza özgün bir kelime kümesi oluşturarak koşullu işlemlerde de bu sentiment skorunu oluşturabilirsiniz.."
   ]
  },
  {
   "cell_type": "code",
   "execution_count": 88,
   "id": "a154c59d-5653-4732-ad8d-1d81d8a0945e",
   "metadata": {},
   "outputs": [],
   "source": [
    "from textblob import TextBlob"
   ]
  },
  {
   "cell_type": "code",
   "execution_count": null,
   "id": "6f660840-3ad4-4e69-9b36-fc061d0c6ae1",
   "metadata": {},
   "outputs": [],
   "source": []
  },
  {
   "cell_type": "code",
   "execution_count": 94,
   "id": "a4f7d51d-dd16-414f-b53f-f518216882f4",
   "metadata": {},
   "outputs": [],
   "source": [
    "def sentiment_generator(df):\n",
    "    \n",
    "    text = df.text\n",
    "    \n",
    "    df['sentiment_score'] = 0\n",
    "    df['emotion_class'] = ''\n",
    "    \n",
    "    \n",
    "    for i in range(df.shape[0]):\n",
    "        \n",
    "        textB = TextBlob(text[i])\n",
    "        # sentiment score\n",
    "        sentiment_score = textB.sentiment.polarity\n",
    "        \n",
    "        df['sentiment_score'].iloc[i] = sentiment_score\n",
    "        if sentiment_score < 0.00:\n",
    "            duygu_sinifi = 'Negative'\n",
    "            df['emotion_class'].iloc[i] = duygu_sinifi\n",
    "        \n",
    "        elif sentiment_score > 0.00:\n",
    "            duygu_sinifi = 'Positive'\n",
    "            df['emotion_class'].iloc[i] = duygu_sinifi\n",
    "            \n",
    "            \n",
    "        else:\n",
    "            duygu_sinifi = 'Notr'\n",
    "            df['emotion_class'].iloc[i] = duygu_sinifi\n",
    "            \n",
    "    return df\n"
   ]
  },
  {
   "cell_type": "code",
   "execution_count": 95,
   "id": "a1045305-e325-4507-93dd-8717be4eb8d7",
   "metadata": {
    "tags": []
   },
   "outputs": [
    {
     "data": {
      "text/html": [
       "<div>\n",
       "<style scoped>\n",
       "    .dataframe tbody tr th:only-of-type {\n",
       "        vertical-align: middle;\n",
       "    }\n",
       "\n",
       "    .dataframe tbody tr th {\n",
       "        vertical-align: top;\n",
       "    }\n",
       "\n",
       "    .dataframe thead th {\n",
       "        text-align: right;\n",
       "    }\n",
       "</style>\n",
       "<table border=\"1\" class=\"dataframe\">\n",
       "  <thead>\n",
       "    <tr style=\"text-align: right;\">\n",
       "      <th></th>\n",
       "      <th>id</th>\n",
       "      <th>text</th>\n",
       "      <th>created_at</th>\n",
       "      <th>retweet_count</th>\n",
       "      <th>source</th>\n",
       "      <th>user_screen_name</th>\n",
       "      <th>user_followers_count</th>\n",
       "      <th>user_location</th>\n",
       "      <th>Hashtags</th>\n",
       "    </tr>\n",
       "  </thead>\n",
       "  <tbody>\n",
       "    <tr>\n",
       "      <th>0</th>\n",
       "      <td>1424728285376925696</td>\n",
       "      <td>great day love forevory forevories memorial me...</td>\n",
       "      <td>2021-08-09 13:44:28</td>\n",
       "      <td>0</td>\n",
       "      <td>Crowdfire App</td>\n",
       "      <td>Forevory_</td>\n",
       "      <td>25</td>\n",
       "      <td></td>\n",
       "      <td>[{'text': 'forevory', 'indices': [37, 46]}, {'...</td>\n",
       "    </tr>\n",
       "    <tr>\n",
       "      <th>1</th>\n",
       "      <td>1424728267198763009</td>\n",
       "      <td>adoptionsuk please retweet help moana find ho...</td>\n",
       "      <td>2021-08-09 13:44:23</td>\n",
       "      <td>132</td>\n",
       "      <td>Twitter for Android</td>\n",
       "      <td>sammonks3</td>\n",
       "      <td>462</td>\n",
       "      <td>South West, England</td>\n",
       "      <td>[{'text': 'Bridgend', 'indices': [58, 67]}, {'...</td>\n",
       "    </tr>\n",
       "    <tr>\n",
       "      <th>2</th>\n",
       "      <td>1424728256046043140</td>\n",
       "      <td>adoptionsuk please retweet help alfie find ho...</td>\n",
       "      <td>2021-08-09 13:44:21</td>\n",
       "      <td>194</td>\n",
       "      <td>Twitter for iPhone</td>\n",
       "      <td>cjlanecoach</td>\n",
       "      <td>2000</td>\n",
       "      <td></td>\n",
       "      <td>[{'text': 'ROTHERHAM', 'indices': [58, 68]}, {...</td>\n",
       "    </tr>\n",
       "    <tr>\n",
       "      <th>3</th>\n",
       "      <td>1424728254930358279</td>\n",
       "      <td>congratulation july petofthemonth winner stanl...</td>\n",
       "      <td>2021-08-09 13:44:20</td>\n",
       "      <td>0</td>\n",
       "      <td>Sprout Social</td>\n",
       "      <td>petprotect</td>\n",
       "      <td>778</td>\n",
       "      <td></td>\n",
       "      <td>[{'text': 'petofthemonth', 'indices': [28, 42]...</td>\n",
       "    </tr>\n",
       "    <tr>\n",
       "      <th>4</th>\n",
       "      <td>1424728223934558213</td>\n",
       "      <td>happy monday httpstcotrvzomd</td>\n",
       "      <td>2021-08-09 13:44:13</td>\n",
       "      <td>0</td>\n",
       "      <td>Twitter for iPhone</td>\n",
       "      <td>southoldshindig</td>\n",
       "      <td>68</td>\n",
       "      <td>Southold, NY</td>\n",
       "      <td>[{'text': 'monday', 'indices': [6, 13]}]</td>\n",
       "    </tr>\n",
       "  </tbody>\n",
       "</table>\n",
       "</div>"
      ],
      "text/plain": [
       "                    id                                               text  \\\n",
       "0  1424728285376925696  great day love forevory forevories memorial me...   \n",
       "1  1424728267198763009   adoptionsuk please retweet help moana find ho...   \n",
       "2  1424728256046043140   adoptionsuk please retweet help alfie find ho...   \n",
       "3  1424728254930358279  congratulation july petofthemonth winner stanl...   \n",
       "4  1424728223934558213                       happy monday httpstcotrvzomd   \n",
       "\n",
       "           created_at  retweet_count               source user_screen_name  \\\n",
       "0 2021-08-09 13:44:28              0        Crowdfire App        Forevory_   \n",
       "1 2021-08-09 13:44:23            132  Twitter for Android        sammonks3   \n",
       "2 2021-08-09 13:44:21            194   Twitter for iPhone      cjlanecoach   \n",
       "3 2021-08-09 13:44:20              0        Sprout Social       petprotect   \n",
       "4 2021-08-09 13:44:13              0   Twitter for iPhone  southoldshindig   \n",
       "\n",
       "   user_followers_count        user_location  \\\n",
       "0                    25                        \n",
       "1                   462  South West, England   \n",
       "2                  2000                        \n",
       "3                   778                        \n",
       "4                    68         Southold, NY   \n",
       "\n",
       "                                            Hashtags  \n",
       "0  [{'text': 'forevory', 'indices': [37, 46]}, {'...  \n",
       "1  [{'text': 'Bridgend', 'indices': [58, 67]}, {'...  \n",
       "2  [{'text': 'ROTHERHAM', 'indices': [58, 68]}, {...  \n",
       "3  [{'text': 'petofthemonth', 'indices': [28, 42]...  \n",
       "4           [{'text': 'monday', 'indices': [6, 13]}]  "
      ]
     },
     "execution_count": 95,
     "metadata": {},
     "output_type": "execute_result"
    }
   ],
   "source": [
    "df.head()"
   ]
  },
  {
   "cell_type": "code",
   "execution_count": 97,
   "id": "2db1e4c6-a56d-497c-987e-88979046ff5c",
   "metadata": {
    "collapsed": true,
    "jupyter": {
     "outputs_hidden": true
    },
    "tags": []
   },
   "outputs": [
    {
     "data": {
      "text/html": [
       "<div>\n",
       "<style scoped>\n",
       "    .dataframe tbody tr th:only-of-type {\n",
       "        vertical-align: middle;\n",
       "    }\n",
       "\n",
       "    .dataframe tbody tr th {\n",
       "        vertical-align: top;\n",
       "    }\n",
       "\n",
       "    .dataframe thead th {\n",
       "        text-align: right;\n",
       "    }\n",
       "</style>\n",
       "<table border=\"1\" class=\"dataframe\">\n",
       "  <thead>\n",
       "    <tr style=\"text-align: right;\">\n",
       "      <th></th>\n",
       "      <th>id</th>\n",
       "      <th>text</th>\n",
       "      <th>created_at</th>\n",
       "      <th>retweet_count</th>\n",
       "      <th>source</th>\n",
       "      <th>user_screen_name</th>\n",
       "      <th>user_followers_count</th>\n",
       "      <th>user_location</th>\n",
       "      <th>Hashtags</th>\n",
       "      <th>sentiment_score</th>\n",
       "      <th>emotion_class</th>\n",
       "    </tr>\n",
       "  </thead>\n",
       "  <tbody>\n",
       "    <tr>\n",
       "      <th>0</th>\n",
       "      <td>1424728285376925696</td>\n",
       "      <td>great day love forevory forevories memorial me...</td>\n",
       "      <td>2021-08-09 13:44:28</td>\n",
       "      <td>0</td>\n",
       "      <td>Crowdfire App</td>\n",
       "      <td>Forevory_</td>\n",
       "      <td>25</td>\n",
       "      <td></td>\n",
       "      <td>[{'text': 'forevory', 'indices': [37, 46]}, {'...</td>\n",
       "      <td>0.650000</td>\n",
       "      <td>Positive</td>\n",
       "    </tr>\n",
       "    <tr>\n",
       "      <th>1</th>\n",
       "      <td>1424728267198763009</td>\n",
       "      <td>adoptionsuk please retweet help moana find ho...</td>\n",
       "      <td>2021-08-09 13:44:23</td>\n",
       "      <td>132</td>\n",
       "      <td>Twitter for Android</td>\n",
       "      <td>sammonks3</td>\n",
       "      <td>462</td>\n",
       "      <td>South West, England</td>\n",
       "      <td>[{'text': 'Bridgend', 'indices': [58, 67]}, {'...</td>\n",
       "      <td>0.500000</td>\n",
       "      <td>Positive</td>\n",
       "    </tr>\n",
       "    <tr>\n",
       "      <th>2</th>\n",
       "      <td>1424728256046043140</td>\n",
       "      <td>adoptionsuk please retweet help alfie find ho...</td>\n",
       "      <td>2021-08-09 13:44:21</td>\n",
       "      <td>194</td>\n",
       "      <td>Twitter for iPhone</td>\n",
       "      <td>cjlanecoach</td>\n",
       "      <td>2000</td>\n",
       "      <td></td>\n",
       "      <td>[{'text': 'ROTHERHAM', 'indices': [58, 68]}, {...</td>\n",
       "      <td>0.133333</td>\n",
       "      <td>Positive</td>\n",
       "    </tr>\n",
       "    <tr>\n",
       "      <th>3</th>\n",
       "      <td>1424728254930358279</td>\n",
       "      <td>congratulation july petofthemonth winner stanl...</td>\n",
       "      <td>2021-08-09 13:44:20</td>\n",
       "      <td>0</td>\n",
       "      <td>Sprout Social</td>\n",
       "      <td>petprotect</td>\n",
       "      <td>778</td>\n",
       "      <td></td>\n",
       "      <td>[{'text': 'petofthemonth', 'indices': [28, 42]...</td>\n",
       "      <td>0.000000</td>\n",
       "      <td>Notr</td>\n",
       "    </tr>\n",
       "    <tr>\n",
       "      <th>4</th>\n",
       "      <td>1424728223934558213</td>\n",
       "      <td>happy monday httpstcotrvzomd</td>\n",
       "      <td>2021-08-09 13:44:13</td>\n",
       "      <td>0</td>\n",
       "      <td>Twitter for iPhone</td>\n",
       "      <td>southoldshindig</td>\n",
       "      <td>68</td>\n",
       "      <td>Southold, NY</td>\n",
       "      <td>[{'text': 'monday', 'indices': [6, 13]}]</td>\n",
       "      <td>0.800000</td>\n",
       "      <td>Positive</td>\n",
       "    </tr>\n",
       "    <tr>\n",
       "      <th>...</th>\n",
       "      <td>...</td>\n",
       "      <td>...</td>\n",
       "      <td>...</td>\n",
       "      <td>...</td>\n",
       "      <td>...</td>\n",
       "      <td>...</td>\n",
       "      <td>...</td>\n",
       "      <td>...</td>\n",
       "      <td>...</td>\n",
       "      <td>...</td>\n",
       "      <td>...</td>\n",
       "    </tr>\n",
       "    <tr>\n",
       "      <th>95</th>\n",
       "      <td>1424724981917782018</td>\n",
       "      <td>majorgeeks ive side conversation monday monda...</td>\n",
       "      <td>2021-08-09 13:31:20</td>\n",
       "      <td>2</td>\n",
       "      <td>Twitter for Android</td>\n",
       "      <td>nobleinfantry</td>\n",
       "      <td>49</td>\n",
       "      <td>LB, Ca</td>\n",
       "      <td>[{'text': 'monday', 'indices': [63, 70]}, {'te...</td>\n",
       "      <td>0.000000</td>\n",
       "      <td>Notr</td>\n",
       "    </tr>\n",
       "    <tr>\n",
       "      <th>96</th>\n",
       "      <td>1424724950561300482</td>\n",
       "      <td>ever déjà vu mr lancaster dont think could che...</td>\n",
       "      <td>2021-08-09 13:31:12</td>\n",
       "      <td>0</td>\n",
       "      <td>IFTTT</td>\n",
       "      <td>thebravestjulia</td>\n",
       "      <td>220</td>\n",
       "      <td>Louisville, KY</td>\n",
       "      <td>[{'text': 'Monday', 'indices': [101, 108]}, {'...</td>\n",
       "      <td>0.000000</td>\n",
       "      <td>Notr</td>\n",
       "    </tr>\n",
       "    <tr>\n",
       "      <th>97</th>\n",
       "      <td>1424724935952437256</td>\n",
       "      <td>really trying push today struggle real hows ev...</td>\n",
       "      <td>2021-08-09 13:31:09</td>\n",
       "      <td>0</td>\n",
       "      <td>Twitter Web App</td>\n",
       "      <td>Glambymoi</td>\n",
       "      <td>1046</td>\n",
       "      <td>Global</td>\n",
       "      <td>[{'text': 'monday', 'indices': [88, 95]}, {'te...</td>\n",
       "      <td>0.200000</td>\n",
       "      <td>Positive</td>\n",
       "    </tr>\n",
       "    <tr>\n",
       "      <th>98</th>\n",
       "      <td>1424724924371849222</td>\n",
       "      <td>mondaytwt weeekly identified monday chorus pa...</td>\n",
       "      <td>2021-08-09 13:31:06</td>\n",
       "      <td>9</td>\n",
       "      <td>Twitter for iPhone</td>\n",
       "      <td>handaysroom</td>\n",
       "      <td>376</td>\n",
       "      <td></td>\n",
       "      <td>[{'text': 'Weeekly', 'indices': [87, 95]}, {'t...</td>\n",
       "      <td>0.000000</td>\n",
       "      <td>Notr</td>\n",
       "    </tr>\n",
       "    <tr>\n",
       "      <th>99</th>\n",
       "      <td>1424724911688495109</td>\n",
       "      <td>book trivia dr seuss full name theodor seuss g...</td>\n",
       "      <td>2021-08-09 13:31:03</td>\n",
       "      <td>0</td>\n",
       "      <td>LaterMedia</td>\n",
       "      <td>RobottomFound</td>\n",
       "      <td>38</td>\n",
       "      <td>New Orleans, LA</td>\n",
       "      <td>[]</td>\n",
       "      <td>0.150000</td>\n",
       "      <td>Positive</td>\n",
       "    </tr>\n",
       "  </tbody>\n",
       "</table>\n",
       "<p>100 rows × 11 columns</p>\n",
       "</div>"
      ],
      "text/plain": [
       "                     id                                               text  \\\n",
       "0   1424728285376925696  great day love forevory forevories memorial me...   \n",
       "1   1424728267198763009   adoptionsuk please retweet help moana find ho...   \n",
       "2   1424728256046043140   adoptionsuk please retweet help alfie find ho...   \n",
       "3   1424728254930358279  congratulation july petofthemonth winner stanl...   \n",
       "4   1424728223934558213                       happy monday httpstcotrvzomd   \n",
       "..                  ...                                                ...   \n",
       "95  1424724981917782018   majorgeeks ive side conversation monday monda...   \n",
       "96  1424724950561300482  ever déjà vu mr lancaster dont think could che...   \n",
       "97  1424724935952437256  really trying push today struggle real hows ev...   \n",
       "98  1424724924371849222   mondaytwt weeekly identified monday chorus pa...   \n",
       "99  1424724911688495109  book trivia dr seuss full name theodor seuss g...   \n",
       "\n",
       "            created_at  retweet_count               source user_screen_name  \\\n",
       "0  2021-08-09 13:44:28              0        Crowdfire App        Forevory_   \n",
       "1  2021-08-09 13:44:23            132  Twitter for Android        sammonks3   \n",
       "2  2021-08-09 13:44:21            194   Twitter for iPhone      cjlanecoach   \n",
       "3  2021-08-09 13:44:20              0        Sprout Social       petprotect   \n",
       "4  2021-08-09 13:44:13              0   Twitter for iPhone  southoldshindig   \n",
       "..                 ...            ...                  ...              ...   \n",
       "95 2021-08-09 13:31:20              2  Twitter for Android    nobleinfantry   \n",
       "96 2021-08-09 13:31:12              0                IFTTT  thebravestjulia   \n",
       "97 2021-08-09 13:31:09              0      Twitter Web App        Glambymoi   \n",
       "98 2021-08-09 13:31:06              9   Twitter for iPhone      handaysroom   \n",
       "99 2021-08-09 13:31:03              0           LaterMedia    RobottomFound   \n",
       "\n",
       "    user_followers_count        user_location  \\\n",
       "0                     25                        \n",
       "1                    462  South West, England   \n",
       "2                   2000                        \n",
       "3                    778                        \n",
       "4                     68         Southold, NY   \n",
       "..                   ...                  ...   \n",
       "95                    49               LB, Ca   \n",
       "96                   220      Louisville, KY    \n",
       "97                  1046               Global   \n",
       "98                   376                        \n",
       "99                    38      New Orleans, LA   \n",
       "\n",
       "                                             Hashtags  sentiment_score  \\\n",
       "0   [{'text': 'forevory', 'indices': [37, 46]}, {'...         0.650000   \n",
       "1   [{'text': 'Bridgend', 'indices': [58, 67]}, {'...         0.500000   \n",
       "2   [{'text': 'ROTHERHAM', 'indices': [58, 68]}, {...         0.133333   \n",
       "3   [{'text': 'petofthemonth', 'indices': [28, 42]...         0.000000   \n",
       "4            [{'text': 'monday', 'indices': [6, 13]}]         0.800000   \n",
       "..                                                ...              ...   \n",
       "95  [{'text': 'monday', 'indices': [63, 70]}, {'te...         0.000000   \n",
       "96  [{'text': 'Monday', 'indices': [101, 108]}, {'...         0.000000   \n",
       "97  [{'text': 'monday', 'indices': [88, 95]}, {'te...         0.200000   \n",
       "98  [{'text': 'Weeekly', 'indices': [87, 95]}, {'t...         0.000000   \n",
       "99                                                 []         0.150000   \n",
       "\n",
       "   emotion_class  \n",
       "0       Positive  \n",
       "1       Positive  \n",
       "2       Positive  \n",
       "3           Notr  \n",
       "4       Positive  \n",
       "..           ...  \n",
       "95          Notr  \n",
       "96          Notr  \n",
       "97      Positive  \n",
       "98          Notr  \n",
       "99      Positive  \n",
       "\n",
       "[100 rows x 11 columns]"
      ]
     },
     "execution_count": 97,
     "metadata": {},
     "output_type": "execute_result"
    }
   ],
   "source": [
    "sentiment_generator(df)"
   ]
  },
  {
   "cell_type": "code",
   "execution_count": 98,
   "id": "94419b04-d4be-41b8-b2ec-e6645c511cb9",
   "metadata": {},
   "outputs": [],
   "source": [
    "# sınıfların üye sayıları"
   ]
  },
  {
   "cell_type": "code",
   "execution_count": 100,
   "id": "8945e18f-15ee-4060-8e90-a2ec63cf5eb9",
   "metadata": {},
   "outputs": [],
   "source": [
    "emotion_freq = df.groupby('emotion_class').count()['id']"
   ]
  },
  {
   "cell_type": "code",
   "execution_count": 101,
   "id": "9f739adf-2fe2-4882-98ea-7ef87d3f7862",
   "metadata": {},
   "outputs": [
    {
     "data": {
      "text/plain": [
       "emotion_class\n",
       "Negative     7\n",
       "Notr        40\n",
       "Positive    53\n",
       "Name: id, dtype: int64"
      ]
     },
     "execution_count": 101,
     "metadata": {},
     "output_type": "execute_result"
    }
   ],
   "source": [
    "emotion_freq"
   ]
  },
  {
   "cell_type": "code",
   "execution_count": 102,
   "id": "728092dd-8d5e-4589-a133-2f4b0acda19a",
   "metadata": {},
   "outputs": [
    {
     "data": {
      "text/plain": [
       "<AxesSubplot:ylabel='emotion_class'>"
      ]
     },
     "execution_count": 102,
     "metadata": {},
     "output_type": "execute_result"
    },
    {
     "data": {
      "image/png": "[encoded data removed]",
      "text/plain": [
       "<Figure size 432x288 with 1 Axes>"
      ]
     },
     "metadata": {
      "needs_background": "light"
     },
     "output_type": "display_data"
    }
   ],
   "source": [
    "emotion_freq.plot.barh(y='emotion_class',x = 'id')"
   ]
  },
  {
   "cell_type": "code",
   "execution_count": null,
   "id": "0b71e2fe-57bd-4bfc-8b16-7f420455a3cf",
   "metadata": {},
   "outputs": [],
   "source": []
  },
  {
   "cell_type": "markdown",
   "id": "4291c3c3-5555-4ee4-8113-95d274711000",
   "metadata": {},
   "source": [
    "### Markalar üzerinden hesaplamalar"
   ]
  },
  {
   "cell_type": "code",
   "execution_count": 104,
   "id": "d2129f28-62b3-435f-ab3f-14adac6624ec",
   "metadata": {},
   "outputs": [],
   "source": [
    "tweets = api.search(q='#apple',lang='en',count=1000)"
   ]
  },
  {
   "cell_type": "code",
   "execution_count": 105,
   "id": "a709a467-a1eb-4bc8-bf92-55e4b486c585",
   "metadata": {},
   "outputs": [],
   "source": [
    "df = tweets_to_df(tweets)"
   ]
  },
  {
   "cell_type": "markdown",
   "id": "e9f3bb41-bbdf-4ee5-9036-6aba39b06471",
   "metadata": {},
   "source": [
    "#### Text Processing"
   ]
  },
  {
   "cell_type": "code",
   "execution_count": 106,
   "id": "296dffe0-74ae-4fa6-b191-f3f052b21df3",
   "metadata": {},
   "outputs": [],
   "source": [
    "# buyuk-kucuk donusumu"
   ]
  },
  {
   "cell_type": "code",
   "execution_count": 107,
   "id": "575a9677-9f93-4922-a0b2-242abc3eeb31",
   "metadata": {},
   "outputs": [],
   "source": [
    "df['text'] = df['text'].apply(lambda x : x.lower())"
   ]
  },
  {
   "cell_type": "code",
   "execution_count": 108,
   "id": "b201af9f-fc8f-400f-8a38-da3fcef503e7",
   "metadata": {},
   "outputs": [],
   "source": [
    "# noktalama işaretleri silimi"
   ]
  },
  {
   "cell_type": "code",
   "execution_count": 109,
   "id": "b68854e9-c33a-4449-9ba2-972b47ed8703",
   "metadata": {},
   "outputs": [],
   "source": [
    "df['text'] = df['text'].str.replace('[^\\w\\s]','')"
   ]
  },
  {
   "cell_type": "code",
   "execution_count": 110,
   "id": "3c70b853-f278-42f8-90b2-5915eb9f1e5c",
   "metadata": {},
   "outputs": [],
   "source": [
    "# sayılar"
   ]
  },
  {
   "cell_type": "code",
   "execution_count": 111,
   "id": "497e4a19-8cfe-4aef-a1d8-7eace1503cc5",
   "metadata": {},
   "outputs": [],
   "source": [
    "df['text'] = df['text'].str.replace('\\d','')"
   ]
  },
  {
   "cell_type": "code",
   "execution_count": null,
   "id": "64cc8794-fd4e-476f-96db-811abf39fa72",
   "metadata": {},
   "outputs": [],
   "source": []
  },
  {
   "cell_type": "code",
   "execution_count": 112,
   "id": "e8d9cea7-fb3d-4972-b1f9-9a4375b0ce24",
   "metadata": {},
   "outputs": [],
   "source": [
    "# stopwords"
   ]
  },
  {
   "cell_type": "code",
   "execution_count": 113,
   "id": "d82acecd-7863-49ad-85b2-dd5887bc6064",
   "metadata": {},
   "outputs": [],
   "source": [
    "import nltk\n",
    "from nltk.corpus import stopwords"
   ]
  },
  {
   "cell_type": "code",
   "execution_count": 114,
   "id": "5f8b88e4-7c2a-4ae0-809d-2f7f8a46a2db",
   "metadata": {},
   "outputs": [],
   "source": [
    "sw = stopwords.words('english')\n",
    "df['text'] = df['text'].apply(lambda x : ' '.join(w for w in x.split() if w not in sw)) "
   ]
  },
  {
   "cell_type": "code",
   "execution_count": 115,
   "id": "f0d24479-a8b7-4d13-aeb2-c633380a0393",
   "metadata": {},
   "outputs": [],
   "source": [
    "# lemmi"
   ]
  },
  {
   "cell_type": "code",
   "execution_count": 116,
   "id": "c9f11d07-695d-45b1-8286-947bdde6f448",
   "metadata": {},
   "outputs": [],
   "source": [
    "from textblob import Word"
   ]
  },
  {
   "cell_type": "code",
   "execution_count": 117,
   "id": "afebeccb-30c2-4315-b33c-591add7a6545",
   "metadata": {},
   "outputs": [],
   "source": [
    "df['text'] = df['text'].apply(lambda x : ' '.join([Word(w).lemmatize() for w in x.split()]))"
   ]
  },
  {
   "cell_type": "code",
   "execution_count": 118,
   "id": "b57d5d00-b1ff-4189-9a31-72c0077afe60",
   "metadata": {},
   "outputs": [],
   "source": [
    "# rt silimi"
   ]
  },
  {
   "cell_type": "code",
   "execution_count": 119,
   "id": "e95d5a13-8b60-46c0-a24d-4d6ffb9ca991",
   "metadata": {},
   "outputs": [],
   "source": [
    "df['text'] = df['text'].str.replace('rt','')"
   ]
  },
  {
   "cell_type": "code",
   "execution_count": null,
   "id": "570de124-fc1a-4dc7-834b-94a6d6eb09e9",
   "metadata": {},
   "outputs": [],
   "source": []
  },
  {
   "cell_type": "code",
   "execution_count": 120,
   "id": "da929218-6d33-4e50-92e4-1426611ea5da",
   "metadata": {},
   "outputs": [],
   "source": [
    "# sentiment skorlaması"
   ]
  },
  {
   "cell_type": "code",
   "execution_count": 121,
   "id": "4e2f68a4-8b1a-49d2-a4d7-fb71af1b4c5e",
   "metadata": {},
   "outputs": [],
   "source": [
    "df = sentiment_generator(df)"
   ]
  },
  {
   "cell_type": "code",
   "execution_count": 122,
   "id": "185c3804-1f66-4b22-b6eb-575c5c39ae38",
   "metadata": {},
   "outputs": [],
   "source": [
    "emotion_freq = df.groupby('emotion_class').count()['id']"
   ]
  },
  {
   "cell_type": "code",
   "execution_count": 123,
   "id": "35b4ab54-2e7e-45aa-9c67-62a5d3a6f8f9",
   "metadata": {},
   "outputs": [
    {
     "data": {
      "text/plain": [
       "emotion_class\n",
       "Negative    13\n",
       "Notr        48\n",
       "Positive    39\n",
       "Name: id, dtype: int64"
      ]
     },
     "execution_count": 123,
     "metadata": {},
     "output_type": "execute_result"
    }
   ],
   "source": [
    "emotion_freq"
   ]
  },
  {
   "cell_type": "code",
   "execution_count": 124,
   "id": "791b5904-d787-4d34-9dc0-cc033d8038a5",
   "metadata": {},
   "outputs": [
    {
     "data": {
      "text/plain": [
       "<AxesSubplot:ylabel='emotion_class'>"
      ]
     },
     "execution_count": 124,
     "metadata": {},
     "output_type": "execute_result"
    },
    {
     "data": {
      "image/png": "[encoded data removed]",
      "text/plain": [
       "<Figure size 432x288 with 1 Axes>"
      ]
     },
     "metadata": {
      "needs_background": "light"
     },
     "output_type": "display_data"
    }
   ],
   "source": [
    "emotion_freq.plot.barh(y='emotion_class',x = 'id');"
   ]
  },
  {
   "cell_type": "code",
   "execution_count": null,
   "id": "81425278-7da2-4ac5-9a66-327a44a6e188",
   "metadata": {},
   "outputs": [],
   "source": []
  },
  {
   "cell_type": "code",
   "execution_count": null,
   "id": "4d865da8-f253-4a0a-81ea-243a0884ad47",
   "metadata": {},
   "outputs": [],
   "source": []
  }
 ],
 "metadata": {
  "kernelspec": {
   "display_name": "Python 3 (ipykernel)",
   "language": "python",
   "name": "python3"
  },
  "language_info": {
   "codemirror_mode": {
    "name": "ipython",
    "version": 3
   },
   "file_extension": ".py",
   "mimetype": "text/x-python",
   "name": "python",
   "nbconvert_exporter": "python",
   "pygments_lexer": "ipython3",
   "version": "3.8.10"
  }
 },
 "nbformat": 4,
 "nbformat_minor": 5
}
