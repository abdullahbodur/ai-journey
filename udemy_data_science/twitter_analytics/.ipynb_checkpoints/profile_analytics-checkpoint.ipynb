{
 "cells": [
  {
   "cell_type": "code",
   "execution_count": 144,
   "id": "d7089fd4-78c5-4dbc-a426-93d715237d5f",
   "metadata": {},
   "outputs": [],
   "source": [
    "from warnings import filterwarnings\n",
    "filterwarnings('ignore')"
   ]
  },
  {
   "cell_type": "code",
   "execution_count": null,
   "id": "4c257f08-0475-44fc-aaeb-3d58c0253eb1",
   "metadata": {},
   "outputs": [],
   "source": []
  },
  {
   "cell_type": "markdown",
   "id": "dc99c7d5-8028-47f9-8bbe-9df99c0e9fae",
   "metadata": {},
   "source": [
    "## API Bağlantısının Yapılması"
   ]
  },
  {
   "cell_type": "code",
   "execution_count": 145,
   "id": "327d6df6-6b55-4945-ae1d-805f37042051",
   "metadata": {},
   "outputs": [],
   "source": [
    "import tweepy,codecs"
   ]
  },
  {
   "cell_type": "code",
   "execution_count": 146,
   "id": "90b8b6da-84dc-4dd9-a445-fcf759ee4e85",
   "metadata": {},
   "outputs": [],
   "source": [
    "# keys"
   ]
  },
  {
   "cell_type": "code",
   "execution_count": 147,
   "id": "961fe494-f8d5-4a10-8ee8-d05455a27361",
   "metadata": {},
   "outputs": [],
   "source": [
    "consumer_key = ''\n",
    "consumer_secret = ''\n",
    "access_token = ''\n",
    "access_token_secret = ''\n",
    "\n",
    "auth = tweepy.OAuthHandler(consumer_key,consumer_secret)\n",
    "auth.set_access_token(access_token,access_token_secret)\n",
    "api = tweepy.API(auth)"
   ]
  },
  {
   "cell_type": "code",
   "execution_count": 18,
   "id": "93169768-4331-47cf-b1f8-65abe484f396",
   "metadata": {},
   "outputs": [],
   "source": [
    "# bağlantı check"
   ]
  },
  {
   "cell_type": "code",
   "execution_count": 21,
   "id": "fad10edf-e36e-45e2-9d9f-48fe72bce83e",
   "metadata": {},
   "outputs": [],
   "source": [
    "# api.update_status('test')"
   ]
  },
  {
   "cell_type": "code",
   "execution_count": null,
   "id": "af332092-f142-4d6a-86fe-3165416dd8bc",
   "metadata": {},
   "outputs": [],
   "source": []
  },
  {
   "cell_type": "markdown",
   "id": "bda141a9-6510-4776-84c5-b5b7ec66af34",
   "metadata": {},
   "source": [
    "## Twitter'dan Veri Çekmek"
   ]
  },
  {
   "cell_type": "markdown",
   "id": "d775a724-4026-404f-a002-a3af8515b255",
   "metadata": {},
   "source": [
    "### Profil Verisi Çekmek"
   ]
  },
  {
   "cell_type": "markdown",
   "id": "57517406-6c56-4b65-b0b6-7828c24bb9ce",
   "metadata": {},
   "source": [
    "#### me"
   ]
  },
  {
   "cell_type": "code",
   "execution_count": 41,
   "id": "cbe882e7-54df-4aa1-bb8d-16c67fb303f3",
   "metadata": {},
   "outputs": [],
   "source": [
    "me = api.me()"
   ]
  },
  {
   "cell_type": "code",
   "execution_count": null,
   "id": "f781a566-14e7-4aa9-9e6f-7fd28cce8510",
   "metadata": {},
   "outputs": [],
   "source": [
    "# username"
   ]
  },
  {
   "cell_type": "code",
   "execution_count": null,
   "id": "0c45c595-c0a9-4264-b2bf-6abd5a3bf36b",
   "metadata": {},
   "outputs": [
    {
     "data": {
      "text/plain": [
       "'AbdulllahBdr'"
      ]
     },
     "execution_count": 25,
     "metadata": {},
     "output_type": "execute_result"
    }
   ],
   "source": [
    "me.screen_name"
   ]
  },
  {
   "cell_type": "code",
   "execution_count": 27,
   "id": "5d268942-42d5-40ab-9343-d8dbe742923f",
   "metadata": {},
   "outputs": [],
   "source": [
    "# followers"
   ]
  },
  {
   "cell_type": "code",
   "execution_count": 26,
   "id": "0716614e-fadd-4355-8e5d-ecd1802b0c8f",
   "metadata": {},
   "outputs": [
    {
     "data": {
      "text/plain": [
       "0"
      ]
     },
     "execution_count": 26,
     "metadata": {},
     "output_type": "execute_result"
    }
   ],
   "source": [
    "me.followers_count"
   ]
  },
  {
   "cell_type": "code",
   "execution_count": 28,
   "id": "6562310e-8117-46e2-8922-b62c904cdb83",
   "metadata": {},
   "outputs": [],
   "source": [
    "# friends"
   ]
  },
  {
   "cell_type": "code",
   "execution_count": 30,
   "id": "9d49e7d8-e7cf-48a9-a0b2-4b8d7589c657",
   "metadata": {},
   "outputs": [
    {
     "name": "stdout",
     "output_type": "stream",
     "text": [
      "teyitorg\n",
      "TOGG2022\n",
      "sama\n"
     ]
    }
   ],
   "source": [
    "for friend in me.friends(count=3):\n",
    "    print(friend.screen_name)"
   ]
  },
  {
   "cell_type": "markdown",
   "id": "28445894-a7dc-486c-873b-54347c4332e8",
   "metadata": {},
   "source": [
    "#### user çekme"
   ]
  },
  {
   "cell_type": "code",
   "execution_count": 34,
   "id": "8e8e9eea-b585-49af-9ccf-25c3447f055a",
   "metadata": {},
   "outputs": [],
   "source": [
    "user = api.get_user(id='TOGG2022')"
   ]
  },
  {
   "cell_type": "code",
   "execution_count": 35,
   "id": "1af8352f-d2a8-44ed-bc46-ce83b7fb7f2f",
   "metadata": {},
   "outputs": [],
   "source": [
    "# user name"
   ]
  },
  {
   "cell_type": "code",
   "execution_count": 36,
   "id": "ad247d02-4e55-4a49-9626-cff090712004",
   "metadata": {},
   "outputs": [
    {
     "data": {
      "text/plain": [
       "'TOGG2022'"
      ]
     },
     "execution_count": 36,
     "metadata": {},
     "output_type": "execute_result"
    }
   ],
   "source": [
    "user.screen_name"
   ]
  },
  {
   "cell_type": "code",
   "execution_count": 37,
   "id": "9f193ba3-0743-414d-b425-636b7aa8a90b",
   "metadata": {},
   "outputs": [],
   "source": [
    "# followers count"
   ]
  },
  {
   "cell_type": "code",
   "execution_count": 38,
   "id": "ca4583ef-f3ad-4436-b34b-5eedf0f972dc",
   "metadata": {},
   "outputs": [
    {
     "data": {
      "text/plain": [
       "413265"
      ]
     },
     "execution_count": 38,
     "metadata": {},
     "output_type": "execute_result"
    }
   ],
   "source": [
    "user.followers_count"
   ]
  },
  {
   "cell_type": "code",
   "execution_count": 39,
   "id": "5bd6dc2a-3f2a-42f0-812d-e874a705568f",
   "metadata": {},
   "outputs": [],
   "source": [
    "# profile url"
   ]
  },
  {
   "cell_type": "code",
   "execution_count": 40,
   "id": "6d59cd3e-a8b5-436c-bc58-9a15b43b5b5e",
   "metadata": {},
   "outputs": [
    {
     "data": {
      "text/plain": [
       "'http://pbs.twimg.com/profile_images/1284520447560867840/OHS-Zwbr_normal.jpg'"
      ]
     },
     "execution_count": 40,
     "metadata": {},
     "output_type": "execute_result"
    }
   ],
   "source": [
    "user.profile_image_url"
   ]
  },
  {
   "cell_type": "code",
   "execution_count": null,
   "id": "a7488b4e-e14a-4b64-8e77-c387f79ee378",
   "metadata": {},
   "outputs": [],
   "source": []
  },
  {
   "cell_type": "markdown",
   "id": "83b1d3f5-e41e-441d-bd46-47d6e1df3ad6",
   "metadata": {},
   "source": [
    "## home timeline\n",
    "twitter'ını açtığında karşına çıkan ilk 5 tweet"
   ]
  },
  {
   "cell_type": "code",
   "execution_count": 42,
   "id": "c0a40341-fc81-4ea1-a59d-f6f166a227d0",
   "metadata": {},
   "outputs": [],
   "source": [
    "public_tweets = api.home_timeline(count=5)"
   ]
  },
  {
   "cell_type": "code",
   "execution_count": 43,
   "id": "65328cd1-c009-4c92-850d-14ac0db000f4",
   "metadata": {},
   "outputs": [
    {
     "name": "stdout",
     "output_type": "stream",
     "text": [
      "Milyonların önünü açan, dünyanın ilk kadın pilotlarından biri olan ‘Sabiha Gökçen’e’ saygılar. Onun tanıtılmaya iht… https://t.co/bwA0Ty0eTj\n",
      "Adana'nın Feke ilçesinde 2 farklı noktada çıkan orman yangını kontrol altına alındı.\n",
      "Eylül 2021 \n",
      "CoinGecko listelenme\n",
      "Coinmarketcap  listelenme\n",
      "\n",
      "Ekim 2021\n",
      "Pancake kapanacak, büyük borsalarda listelenm… https://t.co/ZQi4pxJWTf\n",
      "Dünyaca ünlü tasarımcılar tarafından tasarlanan ürünlerin, $MOMTE Tokens ile açık artırma veya normal satın alabile… https://t.co/CQOrINHvw4\n",
      "4) \"On satistan alinan coinlerin hepsi borsa listelemeleri aldiginda pump yapar ve o pumpta satariz\"\n",
      "-&gt; Pump yapars… https://t.co/A8qnFHkp3F\n"
     ]
    }
   ],
   "source": [
    "for tweet in public_tweets:\n",
    "    print(tweet.text)"
   ]
  },
  {
   "cell_type": "code",
   "execution_count": null,
   "id": "4de3941e-85ee-46aa-8f3b-0837deb09d3e",
   "metadata": {},
   "outputs": [],
   "source": []
  },
  {
   "cell_type": "markdown",
   "id": "145fa5a6-68f1-40b9-bf0e-3f5f579c54f3",
   "metadata": {},
   "source": [
    "#### dış kullanıcı için home timeline\n",
    "public olanlar"
   ]
  },
  {
   "cell_type": "code",
   "execution_count": 44,
   "id": "7d7a7a36-6c65-48f2-b8fe-6c7b0ee39fd1",
   "metadata": {},
   "outputs": [],
   "source": [
    "username = 'TOGG2022'"
   ]
  },
  {
   "cell_type": "code",
   "execution_count": 45,
   "id": "0990df77-4518-40ae-a8c5-684176044569",
   "metadata": {},
   "outputs": [],
   "source": [
    "tweet_count = 10\n",
    "\n",
    "user_timeline = api.user_timeline(id=username,count=tweet_count)"
   ]
  },
  {
   "cell_type": "code",
   "execution_count": 46,
   "id": "0bef794b-4807-460d-8090-cf3e17b4ba05",
   "metadata": {},
   "outputs": [
    {
     "name": "stdout",
     "output_type": "stream",
     "text": [
      "Yönetim Kurulu Toplantımızı Ankara’daki TOGG Teknoloji Araştırma Merkezi’nde gerçekleştirdik. \n",
      "\n",
      "Üzerinde çalıştığım… https://t.co/LhZt89Lmem\n",
      "Tamamı ülkemizde üretilen parçalarla Gebze'de montajı yapılan ilk gövdemiz.\n",
      "\n",
      "Bizi izlemeye devam edin 😉 https://t.co/hbLdit1htO\n",
      "CODE_n / de: hub https://t.co/7DNBg0337R’in daveti üzerine Stuttgart’ta gerçekleşen iş kahvaltısında CEO’muz M. Gür… https://t.co/eo0HFMEAD7\n",
      "2022 yılının sonunda seri üretime hazırız. 👍\n",
      "\n",
      "İnşaata başladığımız 18 Temmuz 2020 tarihinden bugüne geçen 1 yılda n… https://t.co/Lc7grrbFLQ\n",
      "Trendyol Grup Başkanı Çağlayan Çetin ve Trendyol Express CEO'su Ömür Batu Şengül ile Kullanıcı Laboratuvarımızda (U… https://t.co/N5AWmGW1Kh\n",
      "RT @oibkurumsal: Almanya, dünya #otomotiv endüstrisinde kaliteli üretimi ve güçlü tedarik alt yapısı ile önemli bir konumda olan Türk otomo…\n",
      "Rusya Federasyonu Tataristan Cumhuriyeti Cumhurbaşkanı Sn. Rüstem Minnihanov, Bilişim Vadisi’ndeki Kullanıcı Labora… https://t.co/rAMGZIei2b\n",
      "TOGG teknolojilerinin inceleneceği, test edilip deneyimleneceği Kullanıcı Laboratuvarı (User Lab) Bilişim Vadisi’nd… https://t.co/gLl8NLOZXF\n",
      "Bizi izlemeye devam edin.\n",
      "TOGG Yönetim Kurulu toplantımızı bu sefer Gemlik tesisinde gerçekleştirdik. \n",
      "\n",
      "Gemlik’te hız kesmeden devam eden çal… https://t.co/FhsvvjzSbJ\n"
     ]
    }
   ],
   "source": [
    "for tweet in user_timeline:\n",
    "    print(tweet.text)"
   ]
  },
  {
   "cell_type": "code",
   "execution_count": null,
   "id": "7a245568-a1a9-4139-8745-978622440c5b",
   "metadata": {},
   "outputs": [],
   "source": []
  },
  {
   "cell_type": "markdown",
   "id": "cdd41465-a0ce-4de6-a894-54f7d95b1767",
   "metadata": {},
   "source": [
    "#### retweet edilen tweetler"
   ]
  },
  {
   "cell_type": "code",
   "execution_count": 51,
   "id": "f9b40924-5378-4311-80a6-1309a235a6a7",
   "metadata": {},
   "outputs": [],
   "source": [
    "retweets = api.retweets_of_me(count=3)"
   ]
  },
  {
   "cell_type": "code",
   "execution_count": 52,
   "id": "445e7996-db2a-4547-bac2-8bd9d8588b81",
   "metadata": {},
   "outputs": [],
   "source": [
    "for retweet in retweets:\n",
    "    print(retweet.text)"
   ]
  },
  {
   "cell_type": "code",
   "execution_count": null,
   "id": "0ca03023-000a-49e3-be21-46daff0046f1",
   "metadata": {},
   "outputs": [],
   "source": []
  },
  {
   "cell_type": "markdown",
   "id": "f446622f-87ab-4594-b735-a71e96b03fb6",
   "metadata": {},
   "source": [
    "## Hashtag verisi çekmek"
   ]
  },
  {
   "cell_type": "code",
   "execution_count": 69,
   "id": "6ae49fc8-127a-46b9-9d48-4d5c96052aae",
   "metadata": {},
   "outputs": [],
   "source": [
    "results = api.search(q= '#pazartesi',\n",
    "                     lang='tr',\n",
    "                     results='recent',\n",
    "                     count=100)\n"
   ]
  },
  {
   "cell_type": "code",
   "execution_count": 70,
   "id": "55e5c798-f63a-404e-aeb2-57ac72fabe31",
   "metadata": {
    "collapsed": true,
    "jupyter": {
     "outputs_hidden": true
    },
    "tags": []
   },
   "outputs": [
    {
     "name": "stdout",
     "output_type": "stream",
     "text": [
      "RT @KazNurhan: Yeşilin tonu  bile değişmiş.Vatana ancak bu kadar ihanet edilebilir.\n",
      "#GerginimÇünkü\n",
      "#pazartesi #SahillerHalkındır #Sınırları…\n",
      ".\n",
      "\n",
      "Cemaat’ten, Devlet’e yürüyüşün adıdır, HİCRET\n",
      "\n",
      "HİCRİ YENİYIL’ınız, Hayırlara Vesile Olsun. Amin.\n",
      "\n",
      "#HicriYılbası… https://t.co/hYCB1BhwPe\n",
      "RT @mavilosyonn: 🔥BAYLAR-BAYANLAR🔥\n",
      "\n",
      "❎1-1,5 şişede 💯/💯 yeni saç çıkartıyor, 👍\n",
      "❎Zayıf,cansız, güçsüz, yağlı, ince telli saçlara birebir ürün…\n",
      "RT @mavilosyonn: 🔥BAYLAR-BAYANLAR🔥\n",
      "\n",
      "❎1-1,5 şişede 💯/💯 yeni saç çıkartıyor, 👍\n",
      "❎Zayıf,cansız, güçsüz, yağlı, ince telli saçlara birebir ürün…\n",
      "RT @HTopbulut: Huzur dolu,\n",
      "keyifli bir gün olsun,\n",
      "kɑlbimizdeki tüm güzellikler hɑyɑtımızɑ yɑnsısın...\n",
      "#Günaydın\n",
      "#Erkencitayfa\n",
      "#Pazartesi\n",
      "#A…\n",
      "RT @serdengecti6969: Dünyayı çocuklar yönetsin \n",
      "#gecolmadan \n",
      "#pazartesi https://t.co/9jcmOsUrnW\n",
      "RT @s_gul_arikan: Twet atmakla, devletin bilgisi isteği olmadan Türk Hava Sahasına uçak sokabileceğini zanneden Global düzeyde fonlu ahmakl…\n",
      "Bu Akşam Yeni Bir Yıla Giriyoruz\n",
      "#yeniyıl #yılbaşı #1muharrem #aşuragünü #muharremayı #1443hicriyıl #1443hijri… https://t.co/ltMMIqohVQ\n",
      "RT @serdengecti6969: Dünyayı çocuklar yönetsin \n",
      "#gecolmadan \n",
      "#pazartesi https://t.co/9jcmOsUrnW\n",
      "RT @FadimeTuran14: #MuharremAyı’nızı ve Hicri 1443. Yılınızı Candan tebrik ederim. ✍️\n",
      "#HicriYılbaşı\n",
      "#Muharrem1 \n",
      "#GeceyeNot \n",
      "#Günaydın \n",
      "#Yen…\n",
      "RT @kitapladost: “Kimsenin ilacı olmayın, çünkü insanlar iyileşince ilaç kullanmazlar “ :) \n",
      "\n",
      "#İyiAkşamlar \n",
      "#Pazartesi\n",
      "9 Ağustos Pazartesi günü, Muharrem ayının ve Hicri yeni yılın ilk günüdür. 1442 hicri yılından, 1443 hicri yılına g… https://t.co/tCWNhrC2EP\n",
      "RT @ATAM_9lO6O8O479: Boşuna demiyoruz Z kuşağı gümbür gümbür geliyor diye...! 😁\n",
      "#Günaydın\n",
      "#Pazartesi https://t.co/aX9dGSpN6X\n",
      "RT @rpeyupsultan: Yeniden Büyük Türkiye 🇹🇷🇹🇷🇹🇷\n",
      "SEN'inle daha yakın.\n",
      "Sen de üye ol, Refah gelsin.\n",
      "🔗https://t.co/dzJaS5EwWC\n",
      "#pazartesi\n",
      "#sali…\n",
      "RT @rpeyupsultan: Yeniden Büyük Türkiye 🇹🇷🇹🇷🇹🇷\n",
      "SEN'inle daha yakın.\n",
      "Sen de üye ol, Refah gelsin.\n",
      "🔗https://t.co/dzJaS5EwWC\n",
      "#pazartesi\n",
      "#sali…\n",
      "RT @KazNurhan: Yeşilin tonu  bile değişmiş.Vatana ancak bu kadar ihanet edilebilir.\n",
      "#GerginimÇünkü\n",
      "#pazartesi #SahillerHalkındır #Sınırları…\n",
      "RT @rpeyupsultan: Yeniden Büyük Türkiye 🇹🇷🇹🇷🇹🇷\n",
      "SEN'inle daha yakın.\n",
      "Sen de üye ol, Refah gelsin.\n",
      "🔗https://t.co/dzJaS5EwWC\n",
      "#pazartesi\n",
      "#sali…\n",
      "RT @emel0371: Sevmek bir gün değil ki, bir ömür boyu. Her zaman söylenmese de, gösterilmese de 😍❤ @TugayHatayli\n",
      "\n",
      "Enerji dolu, güzel şeyleri…\n",
      "RT @emel0371: Sevmek bir gün değil ki, bir ömür boyu. Her zaman söylenmese de, gösterilmese de 😍❤ @TugayHatayli\n",
      "\n",
      "Enerji dolu, güzel şeyleri…\n",
      "RT @sewi_dj: Kendini sürekli ciddi olmak zorunda hissedip, iki gülümsemeyi etrafına çok görenler hariç\n",
      "herkese\n",
      " GÜN- AYDIIIINNNNN😁☕🍃\n",
      "GÜZEL…\n",
      "RT @sewi_dj: Kendini sürekli ciddi olmak zorunda hissedip, iki gülümsemeyi etrafına çok görenler hariç\n",
      "herkese\n",
      " GÜN- AYDIIIINNNNN😁☕🍃\n",
      "GÜZEL…\n",
      "RT @1283_Burada: ❤️🇹🇷❤️🇹🇷❤️🇹🇷❤️\n",
      "#pazartesi #salı #çarşamba #perşembe\n",
      "#cuma #cumartesi #pazar haftalar aylar yıllar\n",
      "fark etmez hakikat değiş…\n",
      "RT @TurkiyeEskrimF: ✨Eskrim dolu, mutlu haftalar...🤺❤️\n",
      "\n",
      "📍Zeynel Bey Türbesi- Hasankeyf/ BATMAN\n",
      "\n",
      "#pazartesi \n",
      "#Batman https://t.co/OcksFgAbaS\n",
      "RT @PluviaD: __🍁__ \n",
      "\n",
      "\"Yaşamak çarpısı derlerdi buna, yaşamak çarpıntısı.\n",
      "Ne acelemiz vardı? Kime kavuşacaktık?\n",
      "Yokuşu göze almak mı? Niçin?…\n",
      "RT @esat50: Allahım yeryüzünden merhametini eksik etme\n",
      "Bütün canlıları sevgisiz merhametsiz zalimlerin elinden koru\n",
      "\n",
      "#pazartesi Besmele dir…\n",
      "Hastaneler için oksijen üretim sistemleri..\n",
      "\n",
      "#pazar #pazartesi https://t.co/56upQDM23c\n",
      "RT @CinarSma: #barismanco #pazartesi #HayirliSabahlar Kollarımı kaldırabildiğim zamanlardan, elimiz sesimiz desteğimiz olun.....!!!! https:…\n",
      "❤️🇹🇷❤️🇹🇷❤️🇹🇷❤️\n",
      "#pazartesi #salı #çarşamba #perşembe\n",
      "#cuma #cumartesi #pazar haftalar aylar yıllar\n",
      "fark etmez hakika… https://t.co/ObaOpDU8uq\n",
      "RT @Ffe0505: ___ Herkes ilişki durumumu soruyor🤔\n",
      "Tek tek cevap vermek yerine toptan cevap vereyim dedim😁\n",
      "\n",
      "İlişmiyorum kimseye🙈🙈🤪😂\n",
      "\n",
      "Yüzünüzd…\n",
      "RT @Sevgi28152311: Zor zamanlar güçlü adamlar doğurur\n",
      "Güçlü adamlar rahat zamanlar yaşatır\n",
      "Rahat zamanlar, zayıf adamlar\n",
      "üretir\n",
      "Zayıf adaml…\n",
      "RT @Sevgi28152311: Hayırlı haftalar birtanemiz, nurtanemiz, cantanemiz, gözümüzün nuru daha nelerle karşılaşacağız kimbilir ?\n",
      "Hayat bu, iyi…\n",
      "RT @sewi_dj: Kendini sürekli ciddi olmak zorunda hissedip, iki gülümsemeyi etrafına çok görenler hariç\n",
      "herkese\n",
      " GÜN- AYDIIIINNNNN😁☕🍃\n",
      "GÜZEL…\n",
      "RT @HseyinL: Allah'ım bizi ve neslimizi her türlü ahlaksızlıktan ve sapkınlıktan koru..\n",
      "\n",
      "#pazartesi\n",
      "#mutluhaftalar\n",
      "RT @sewi_dj: Kendini sürekli ciddi olmak zorunda hissedip, iki gülümsemeyi etrafına çok görenler hariç\n",
      "herkese\n",
      " GÜN- AYDIIIINNNNN😁☕🍃\n",
      "GÜZEL…\n",
      "RT @sewi_dj: Kendini sürekli ciddi olmak zorunda hissedip, iki gülümsemeyi etrafına çok görenler hariç\n",
      "herkese\n",
      " GÜN- AYDIIIINNNNN😁☕🍃\n",
      "GÜZEL…\n",
      "RT @sewi_dj: Kendini sürekli ciddi olmak zorunda hissedip, iki gülümsemeyi etrafına çok görenler hariç\n",
      "herkese\n",
      " GÜN- AYDIIIINNNNN😁☕🍃\n",
      "GÜZEL…\n",
      "RT @atem58: ● #1Muharrem 1443 #HicriYılbaşı \n",
      "9 Ağustos 2021 \n",
      "#Pazartesi  \n",
      "\n",
      "● #10Muharrem 1443 #AşureGünü \n",
      "18 Ağustos 2021 \n",
      "#Çarşamba \n",
      "\n",
      "Hicr…\n",
      "● #1Muharrem 1443 #HicriYılbaşı \n",
      "9 Ağustos 2021 \n",
      "#Pazartesi  \n",
      "\n",
      "● #10Muharrem 1443 #AşureGünü \n",
      "18 Ağustos 2021… https://t.co/7JNmEp3rnC\n",
      "RT @sewi_dj: Kendini sürekli ciddi olmak zorunda hissedip, iki gülümsemeyi etrafına çok görenler hariç\n",
      "herkese\n",
      " GÜN- AYDIIIINNNNN😁☕🍃\n",
      "GÜZEL…\n",
      "RT @sewi_dj: Kendini sürekli ciddi olmak zorunda hissedip, iki gülümsemeyi etrafına çok görenler hariç\n",
      "herkese\n",
      " GÜN- AYDIIIINNNNN😁☕🍃\n",
      "GÜZEL…\n",
      "Kendini sürekli ciddi olmak zorunda hissedip, iki gülümsemeyi etrafına çok görenler hariç\n",
      "herkese\n",
      " GÜN- AYDIIIINNNN… https://t.co/STSUmAI4Cg\n",
      "RT @emel0371: Sevmek bir gün değil ki, bir ömür boyu. Her zaman söylenmese de, gösterilmese de 😍❤ @TugayHatayli\n",
      "\n",
      "Enerji dolu, güzel şeyleri…\n",
      "RT @islamidavet: !!!Teşekkürler İran İslam Cumhuriyeti!!! 10 saniyede 40 ton su atabilme kapasiteli #İran İslam Cumhuriyeti yangın söndürme…\n",
      "RT @emel0371: Sevmek bir gün değil ki, bir ömür boyu. Her zaman söylenmese de, gösterilmese de 😍❤ @TugayHatayli\n",
      "\n",
      "Enerji dolu, güzel şeyleri…\n",
      "RT @melK_Mz: Sabahların getirdiği güzellikler  sizinle olsun.\n",
      "Yeni güne yeni haftaya Bismillah..\n",
      "#pazartesi \n",
      "#HayırlıHaftalar https://t.co/…\n",
      "RT @emel0371: Sevmek bir gün değil ki, bir ömür boyu. Her zaman söylenmese de, gösterilmese de 😍❤ @TugayHatayli\n",
      "\n",
      "Enerji dolu, güzel şeyleri…\n",
      "RT @__Aylademir__: Oyunlar kurulur, oyunlar bozulur.\n",
      "Unutmayın ;\n",
      "Cennet varsa, cehennem de var. ❗\n",
      "Allah umutlarınızı yeşertsin 🤲🌲🌳🌴🌱\n",
      "#günay…\n",
      "RT @muhammedalisma: Savaşcı artık yorgun bizler olmadan başaramayacak 1430 kişi  100₺ yollarsa yolu yarilayacaz lütfen destek olun #Pazarte…\n",
      "RT @1283_Burada: ❤️🇹🇷❤️🇹🇷❤️🇹🇷❤️\n",
      "#pazartesi #salı #çarşamba #perşembe\n",
      "#cuma #cumartesi #pazar haftalar aylar yıllar\n",
      "fark etmez hakikat değiş…\n",
      "RT @muhammedalisma: Muhammed Ali’nin BOSTON’daki hastAne teklifine yetişebilmsi için SON 36 GÜN. GEN TEST SONUCUMUZA GÖRE %99 oranında iyil…\n",
      "RT @enginakyurek_hs: Sıcak  #pazartesi sabahından herkese #Günaydın #EnginAkyürek le kalın.#EvdeKal ın. https://t.co/sKMAvfwSgk\n",
      "RT @ATAM_9lO6O8O479: Boşuna demiyoruz Z kuşağı gümbür gümbür geliyor diye...! 😁\n",
      "#Günaydın\n",
      "#Pazartesi https://t.co/aX9dGSpN6X\n",
      "RT @DegirmenciGokce: Dün gece en sevdiğim rengi giyindim:)) Sizce yakışmış mı? #istanbul #bayan #otel #pazartesi #avrupayakasi https://t.co…\n",
      "Gün gelirde beni unutursun demiştim\n",
      "Kalbimdeki bu derdi uyutursun  demiştim\n",
      "Ne ben seni unutabilirim\n",
      "Ne bu derdimi… https://t.co/znp72rIOjD\n",
      "Kapora aldık verdik bekliyoruz !!!!…\n",
      "#Haftasonu #nöbetçinoter ler açılsın ekonomiye hareket gelsin alışımız var sat… https://t.co/Ud3Qt0BMPK\n",
      "RT @Deliado2577: Dolu dolu Geçen\n",
      "Saniyeler Dakikalar\n",
      "Günler geceler gündüzler\n",
      "Haftalar Aylar \n",
      "Ben sana İnanki\n",
      "Doyamıyorum ki\n",
      "Sana hep İhtiy…\n",
      "#Haftasonu #nöbetçinoter ler açılsın ekonomiye hareket gelsin alışımı var satışımız var #pazartesi yetmiyor..… https://t.co/harT4UKqKP\n",
      "#hicritakvim #hicriyeniyıl #hicri1443 #takvim #1443hicriyeniyıl #hicret #aylar #muharrem #muharremayı #islam… https://t.co/vXvv8adaeJ\n",
      "#MuharremAyı’nızı ve Hicri 1443. Yılınızı Candan tebrik ederim. ✍️\n",
      "#HicriYılbaşı\n",
      "#Muharrem1 \n",
      "#GeceyeNot \n",
      "#Günaydın… https://t.co/vrjV5JAKzX\n",
      "RT @DrSinanOgan: Eski Türkiye'de;\n",
      "\"Bayrakları Bayrak Yapan Üstündeki Kandır. \n",
      "Toprak Eğer Uğrunda Ölen Varsa Vatandır.’’\n",
      "Bugünlerde;\n",
      "Pasapo…\n",
      "RT @emel0371: Sevmek bir gün değil ki, bir ömür boyu. Her zaman söylenmese de, gösterilmese de 😍❤ @TugayHatayli\n",
      "\n",
      "Enerji dolu, güzel şeyleri…\n",
      "RT @sytcvs: #Pazartesi #Arife Selâmün Aleyküm \"Ailene namazı emret ve kendin de ona devam et. Senden rızık istemiyoruz. Sana da biz rızık v…\n",
      "RT @emel0371: Sevmek bir gün değil ki, bir ömür boyu. Her zaman söylenmese de, gösterilmese de 😍❤ @TugayHatayli\n",
      "\n",
      "Enerji dolu, güzel şeyleri…\n",
      "RT @_Saklamento_1: #pazartesi \n",
      "\n",
      "Tüm İtlikleri ve puştlukları ile TÜRKİYE' yi sarıyor İhanet ciler!\n",
      "\n",
      "Stratejileri tamamı ile EKONOMİ üzerine…\n",
      "RT @zabeyazgul: Yeni haftaya Bismillah.\n",
      "\n",
      "Esnafımıza bereketli helal rızık, hanelerimize huzur, bedenlerimize sağlık, ruhumuza mutluluk teme…\n",
      "RT @DrSinanOgan: Eski Türkiye'de;\n",
      "\"Bayrakları Bayrak Yapan Üstündeki Kandır. \n",
      "Toprak Eğer Uğrunda Ölen Varsa Vatandır.’’\n",
      "Bugünlerde;\n",
      "Pasapo…\n",
      "RT @melK_Mz: Kitabına eğilmiş çocuk \n",
      "Aşını pişiren kadın,\n",
      "Tarlasını süren çiftçi,\n",
      "Tezgahtaki sanatkar;\n",
      "Fenalık düşünmeye vakit bulamaz..\n",
      "A.…\n",
      "RT @melK_Mz: ‘’Allahım, Senden bugünün hayrını, fethini, yardımını, nurunu, bereket ve hidayetini istiyor, bugünde ve bundan sonraki günler…\n",
      "RT @DrSinanOgan: Eski Türkiye'de;\n",
      "\"Bayrakları Bayrak Yapan Üstündeki Kandır. \n",
      "Toprak Eğer Uğrunda Ölen Varsa Vatandır.’’\n",
      "Bugünlerde;\n",
      "Pasapo…\n",
      "RT @SenarSenar1985: Allâh insanı en çok kendiyle sınar,\n",
      "en çok da kendine kaybedersin..\n",
      "\n",
      "#pazartesi\n",
      "RT @bimutlu_: Yoruma gerek var mı.?\n",
      "\n",
      "#pazartesi\n",
      "#NasılNormalleşilir\n",
      "#COVID19 \n",
      "#mRNABioNTechAsısıOlmuyoruz https://t.co/wcgEL7GtFJ\n",
      "RT @melK_Mz: Kitabına eğilmiş çocuk \n",
      "Aşını pişiren kadın,\n",
      "Tarlasını süren çiftçi,\n",
      "Tezgahtaki sanatkar;\n",
      "Fenalık düşünmeye vakit bulamaz..\n",
      "A.…\n",
      "RT @melK_Mz: ‘’Allahım, Senden bugünün hayrını, fethini, yardımını, nurunu, bereket ve hidayetini istiyor, bugünde ve bundan sonraki günler…\n",
      "@tcsavunma Beşar Esad'ın savaş uçaklarının Suriye'nin batısındaki Türk askeri noktalarını hedef alması sonrasında… https://t.co/BB31367lvn\n",
      "RT @melK_Mz: Dünya meşgalesine beş dakika kahve molası ☕️☕️ \n",
      "#pazartesi https://t.co/3oXIC0WE1u\n",
      "RT @melK_Mz: ‘’Allahım, Senden bugünün hayrını, fethini, yardımını, nurunu, bereket ve hidayetini istiyor, bugünde ve bundan sonraki günler…\n",
      "RT @melK_Mz: ‘’Allahım, Senden bugünün hayrını, fethini, yardımını, nurunu, bereket ve hidayetini istiyor, bugünde ve bundan sonraki günler…\n",
      "RT @yesdergsk: Hicret “dille, bedenle yahut kalben ayrılıp uzaklaşmak, göç etmek” demektir.\n",
      "“Terketmek, ayrılmak, ilişik kesmek” anlamında…\n",
      "RT @esat50: Allahım yeryüzünden merhametini eksik etme\n",
      "Bütün canlıları sevgisiz merhametsiz zalimlerin elinden koru\n",
      "\n",
      "#pazartesi Besmele dir…\n",
      "RT @aht_kara: Umut..!\n",
      "Kimsenin senden çalamayacağı tek şeydir. Yeterki inan..! \n",
      "Nerede olursan ol, yüreğinde umut taşıdığın müddetçe, hayat…\n",
      "RT @icoskun86: Artık ülkece neyi koruyacağımızı bile şaşırdık?\n",
      "\n",
      "Ağaçları mı,hayvanları mı,çocukları mı,kadınları mı?\n",
      "\n",
      "Ne oldu bize böyle😔😔😔…\n",
      "RT @JackBenSeninTaa: Günaydın\n",
      "Hayırlı sabahlar, hayırlı işler\n",
      "\n",
      "Buyrun, Bi Çay :)\n",
      "#Pazartesi https://t.co/6TpJXiKO1I\n",
      "RT @kybdlnhayatlar: NEREDELER ❓ \n",
      "\n",
      "❗#YusufBilgeTunç 707 gün \n",
      "\n",
      "❗#GülistanDoku 555 gün \n",
      "\n",
      "❗#HurmüzDiril 552 gün \n",
      "\n",
      "❗#MehmetBal 536 gün \n",
      "\n",
      "❗#Hüsey…\n",
      "RT @Meryem09012346: #OrmanınKahramanları ile \n",
      "5 günde 32 ilde 119 yangını söndürmüş olan haklı gururumuz, devletimiz Türkiyemiz... #Turkeyi…\n",
      "RT @Mehmetcan198: #pazartesi #TheYoungandTheRestless #YalanRüzgarı #PaulWilliams @DougDavidsonYR #YalanRüzgarı 'nı dünya televizyonlarında…\n",
      "RT @Mehmetcan198: @gokovision @nishaneani @dr_human_ @ninjariibang #pazartesi #EurovisionŞarkıYarışması 'na kültür sanata #ihtiyacımızvar #…\n",
      "RT @SmaSAREANTALYA: Bir bebek sizden yardm istiyor başka çaresi yok.Lütfn minik ellerini yalnız bırakmayn bizi çare varken çaresiz bırakmay…\n",
      "RT @Gkhan11560935: “HAMAL”demek;\n",
      "\n",
      "Sadece yükü sırtında taşıyan demek değildir.\n",
      "\n",
      "Eğer insansan kalbinde de yük taşırsın…\n",
      "Ve insan;\n",
      "Ömrü boyu…\n",
      "RT @esat50: Allahım yeryüzünden merhametini eksik etme\n",
      "Bütün canlıları sevgisiz merhametsiz zalimlerin elinden koru\n",
      "\n",
      "#pazartesi Besmele dir…\n",
      "RT @icoskun86: Artık ülkece neyi koruyacağımızı bile şaşırdık?\n",
      "\n",
      "Ağaçları mı,hayvanları mı,çocukları mı,kadınları mı?\n",
      "\n",
      "Ne oldu bize böyle😔😔😔…\n",
      "RT @Aczmendiwebtv: [792] Aczmendi Risale-i Nur Sohbetleri 02.08.2021 (Müslim Gündüz Efendi)\n",
      "https://t.co/1fzUbXgWC3\n",
      "\n",
      "#Aczmendi #Aczmendiweb…\n",
      "RT @melK_Mz: Kitabına eğilmiş çocuk \n",
      "Aşını pişiren kadın,\n",
      "Tarlasını süren çiftçi,\n",
      "Tezgahtaki sanatkar;\n",
      "Fenalık düşünmeye vakit bulamaz..\n",
      "A.…\n",
      "RT @GSBgenclik: Haftaya hızlı bir giriş yapıyoruz.\n",
      "\n",
      "Gençler Arası Kültür ve Sanat Yarışmalarımızın finalleri başladı.🎬\n",
      "\n",
      "Gelişmeler için GSB…\n",
      "RT @aRaL_____: “”\n",
      "    kaybetmek” yapımda yok; 💅👀\n",
      "____________________vazgeçmek’😎\n",
      "çok daha hoşuma gidiyor.\n",
      "\n",
      "___🤷‍♀️🤦‍♀️🙃🥳\n",
      "\n",
      "günaydınn yeni gü…\n",
      "RT @SedaOztrkn: “BAĞNAZ BİR TOPLUM YARATMANIN EN BİLİNDİK YOLU, ÖĞRETMEDEN İNANDIRMAKTIR”#pazartesi #Corona #COVID #VAKA86306\n",
      "RT @melK_Mz: Allahım, Senden bugünün hayrını, fethini, yardımını, nurunu, bereket ve hidayetini istiyor, bugünde ve bundan sonraki günlerde…\n",
      "RT @melK_Mz: #HayırlıHaftalar\n",
      "#pazartesi kombinim :) https://t.co/mJzoYj9A6j\n",
      "RT @melK_Mz: Dünya meşgalesine beş dakika kahve molası ☕️☕️ \n",
      "#pazartesi https://t.co/3oXIC0WE1u\n",
      "RT @melK_Mz: Ömür defterimizden yeni bir sayfa, yeni bir gün yeni bir hafta..\n",
      "Hayırla huzurla inşallah..\n",
      "#HayırlıHaftalar \n",
      "#pazartesi https…\n",
      "RT @melK_Mz: Kitabına eğilmiş çocuk \n",
      "Aşını pişiren kadın,\n",
      "Tarlasını süren çiftçi,\n",
      "Tezgahtaki sanatkar;\n",
      "Fenalık düşünmeye vakit bulamaz..\n",
      "A.…\n"
     ]
    }
   ],
   "source": [
    "for tweet in results:\n",
    "    print(tweet.text)"
   ]
  },
  {
   "cell_type": "code",
   "execution_count": null,
   "id": "74e80d6b-c76d-47ae-ba4c-076a3e2bdc52",
   "metadata": {},
   "outputs": [],
   "source": []
  },
  {
   "cell_type": "markdown",
   "id": "dd0b2997-064e-4a34-aec0-02b2762c6a01",
   "metadata": {},
   "source": [
    "## DataFrame'e çevirmek"
   ]
  },
  {
   "cell_type": "code",
   "execution_count": 66,
   "id": "d83792ce-1104-451c-8965-a4c421f1fca6",
   "metadata": {},
   "outputs": [],
   "source": [
    "import pandas as pd"
   ]
  },
  {
   "cell_type": "code",
   "execution_count": 73,
   "id": "de962e4b-7cb3-4c1c-9550-ca2083019890",
   "metadata": {},
   "outputs": [],
   "source": [
    "def tweets_to_df(results):\n",
    "    data = [[tw.id,\n",
    "           tw.text,\n",
    "           tw.created_at,\n",
    "           tw.retweet_count,\n",
    "           tw.author.screen_name,\n",
    "           tw.author.followers_count,\n",
    "           tw.author.location,\n",
    "           tw.entities.get('hashtags')] for tw in results]\n",
    "    \n",
    "    columns = ['id','text','created_at','retweet_count','user_screen_name','user_followers_count','user_location','Hashtags']\n",
    "    \n",
    "    return pd.DataFrame(data,columns=columns)"
   ]
  },
  {
   "cell_type": "code",
   "execution_count": 74,
   "id": "3f443498-fd8c-4f68-bda4-3a2ba52706f0",
   "metadata": {},
   "outputs": [
    {
     "data": {
      "text/html": [
       "<div>\n",
       "<style scoped>\n",
       "    .dataframe tbody tr th:only-of-type {\n",
       "        vertical-align: middle;\n",
       "    }\n",
       "\n",
       "    .dataframe tbody tr th {\n",
       "        vertical-align: top;\n",
       "    }\n",
       "\n",
       "    .dataframe thead th {\n",
       "        text-align: right;\n",
       "    }\n",
       "</style>\n",
       "<table border=\"1\" class=\"dataframe\">\n",
       "  <thead>\n",
       "    <tr style=\"text-align: right;\">\n",
       "      <th></th>\n",
       "      <th>id</th>\n",
       "      <th>text</th>\n",
       "      <th>created_at</th>\n",
       "      <th>retweet_count</th>\n",
       "      <th>user_screen_name</th>\n",
       "      <th>user_followers_count</th>\n",
       "      <th>user_location</th>\n",
       "      <th>Hashtags</th>\n",
       "    </tr>\n",
       "  </thead>\n",
       "  <tbody>\n",
       "    <tr>\n",
       "      <th>0</th>\n",
       "      <td>1424333767737491458</td>\n",
       "      <td>RT @KazNurhan: Yeşilin tonu  bile değişmiş.Vat...</td>\n",
       "      <td>2021-08-08 11:36:47</td>\n",
       "      <td>265</td>\n",
       "      <td>realiteagenda</td>\n",
       "      <td>1679</td>\n",
       "      <td>Turkey</td>\n",
       "      <td>[{'text': 'GerginimÇünkü', 'indices': [84, 98]...</td>\n",
       "    </tr>\n",
       "    <tr>\n",
       "      <th>1</th>\n",
       "      <td>1424333453999448068</td>\n",
       "      <td>.\\n\\nCemaat’ten, Devlet’e yürüyüşün adıdır, Hİ...</td>\n",
       "      <td>2021-08-08 11:35:32</td>\n",
       "      <td>0</td>\n",
       "      <td>MehmetAli_Bicer</td>\n",
       "      <td>418</td>\n",
       "      <td>SEYHAN / ADANA</td>\n",
       "      <td>[{'text': 'HicriYılbası', 'indices': [101, 114]}]</td>\n",
       "    </tr>\n",
       "    <tr>\n",
       "      <th>2</th>\n",
       "      <td>1424331026432679940</td>\n",
       "      <td>RT @mavilosyonn: 🔥BAYLAR-BAYANLAR🔥\\n\\n❎1-1,5 ş...</td>\n",
       "      <td>2021-08-08 11:25:54</td>\n",
       "      <td>4</td>\n",
       "      <td>kadirsinas1</td>\n",
       "      <td>448</td>\n",
       "      <td>Hakkın yanında</td>\n",
       "      <td>[]</td>\n",
       "    </tr>\n",
       "    <tr>\n",
       "      <th>3</th>\n",
       "      <td>1424328359882936322</td>\n",
       "      <td>RT @mavilosyonn: 🔥BAYLAR-BAYANLAR🔥\\n\\n❎1-1,5 ş...</td>\n",
       "      <td>2021-08-08 11:15:18</td>\n",
       "      <td>4</td>\n",
       "      <td>mavilosyonn</td>\n",
       "      <td>4696</td>\n",
       "      <td></td>\n",
       "      <td>[]</td>\n",
       "    </tr>\n",
       "    <tr>\n",
       "      <th>4</th>\n",
       "      <td>1424326192333733890</td>\n",
       "      <td>RT @HTopbulut: Huzur dolu,\\nkeyifli bir gün ol...</td>\n",
       "      <td>2021-08-08 11:06:41</td>\n",
       "      <td>13</td>\n",
       "      <td>TugayHatayli</td>\n",
       "      <td>64363</td>\n",
       "      <td>İzmir, Türkiye [Man]</td>\n",
       "      <td>[{'text': 'Günaydın', 'indices': [102, 111]}, ...</td>\n",
       "    </tr>\n",
       "    <tr>\n",
       "      <th>...</th>\n",
       "      <td>...</td>\n",
       "      <td>...</td>\n",
       "      <td>...</td>\n",
       "      <td>...</td>\n",
       "      <td>...</td>\n",
       "      <td>...</td>\n",
       "      <td>...</td>\n",
       "      <td>...</td>\n",
       "    </tr>\n",
       "    <tr>\n",
       "      <th>95</th>\n",
       "      <td>1424030335403237381</td>\n",
       "      <td>RT @melK_Mz: Allahım, Senden bugünün hayrını, ...</td>\n",
       "      <td>2021-08-07 15:31:03</td>\n",
       "      <td>129</td>\n",
       "      <td>Tamer13887363</td>\n",
       "      <td>1357</td>\n",
       "      <td></td>\n",
       "      <td>[]</td>\n",
       "    </tr>\n",
       "    <tr>\n",
       "      <th>96</th>\n",
       "      <td>1424030284366979084</td>\n",
       "      <td>RT @melK_Mz: #HayırlıHaftalar\\n#pazartesi komb...</td>\n",
       "      <td>2021-08-07 15:30:51</td>\n",
       "      <td>96</td>\n",
       "      <td>Tamer13887363</td>\n",
       "      <td>1357</td>\n",
       "      <td></td>\n",
       "      <td>[{'text': 'HayırlıHaftalar', 'indices': [13, 2...</td>\n",
       "    </tr>\n",
       "    <tr>\n",
       "      <th>97</th>\n",
       "      <td>1424030038433976328</td>\n",
       "      <td>RT @melK_Mz: Dünya meşgalesine beş dakika kahv...</td>\n",
       "      <td>2021-08-07 15:29:53</td>\n",
       "      <td>117</td>\n",
       "      <td>Tamer13887363</td>\n",
       "      <td>1357</td>\n",
       "      <td></td>\n",
       "      <td>[{'text': 'pazartesi', 'indices': [61, 71]}]</td>\n",
       "    </tr>\n",
       "    <tr>\n",
       "      <th>98</th>\n",
       "      <td>1424029915998035971</td>\n",
       "      <td>RT @melK_Mz: Ömür defterimizden yeni bir sayfa...</td>\n",
       "      <td>2021-08-07 15:29:23</td>\n",
       "      <td>130</td>\n",
       "      <td>Tamer13887363</td>\n",
       "      <td>1357</td>\n",
       "      <td></td>\n",
       "      <td>[{'text': 'HayırlıHaftalar', 'indices': [105, ...</td>\n",
       "    </tr>\n",
       "    <tr>\n",
       "      <th>99</th>\n",
       "      <td>1424029789615177733</td>\n",
       "      <td>RT @melK_Mz: Kitabına eğilmiş çocuk \\nAşını pi...</td>\n",
       "      <td>2021-08-07 15:28:53</td>\n",
       "      <td>104</td>\n",
       "      <td>Tamer13887363</td>\n",
       "      <td>1357</td>\n",
       "      <td></td>\n",
       "      <td>[]</td>\n",
       "    </tr>\n",
       "  </tbody>\n",
       "</table>\n",
       "<p>100 rows × 8 columns</p>\n",
       "</div>"
      ],
      "text/plain": [
       "                     id                                               text  \\\n",
       "0   1424333767737491458  RT @KazNurhan: Yeşilin tonu  bile değişmiş.Vat...   \n",
       "1   1424333453999448068  .\\n\\nCemaat’ten, Devlet’e yürüyüşün adıdır, Hİ...   \n",
       "2   1424331026432679940  RT @mavilosyonn: 🔥BAYLAR-BAYANLAR🔥\\n\\n❎1-1,5 ş...   \n",
       "3   1424328359882936322  RT @mavilosyonn: 🔥BAYLAR-BAYANLAR🔥\\n\\n❎1-1,5 ş...   \n",
       "4   1424326192333733890  RT @HTopbulut: Huzur dolu,\\nkeyifli bir gün ol...   \n",
       "..                  ...                                                ...   \n",
       "95  1424030335403237381  RT @melK_Mz: Allahım, Senden bugünün hayrını, ...   \n",
       "96  1424030284366979084  RT @melK_Mz: #HayırlıHaftalar\\n#pazartesi komb...   \n",
       "97  1424030038433976328  RT @melK_Mz: Dünya meşgalesine beş dakika kahv...   \n",
       "98  1424029915998035971  RT @melK_Mz: Ömür defterimizden yeni bir sayfa...   \n",
       "99  1424029789615177733  RT @melK_Mz: Kitabına eğilmiş çocuk \\nAşını pi...   \n",
       "\n",
       "            created_at  retweet_count user_screen_name  user_followers_count  \\\n",
       "0  2021-08-08 11:36:47            265    realiteagenda                  1679   \n",
       "1  2021-08-08 11:35:32              0  MehmetAli_Bicer                   418   \n",
       "2  2021-08-08 11:25:54              4      kadirsinas1                   448   \n",
       "3  2021-08-08 11:15:18              4      mavilosyonn                  4696   \n",
       "4  2021-08-08 11:06:41             13     TugayHatayli                 64363   \n",
       "..                 ...            ...              ...                   ...   \n",
       "95 2021-08-07 15:31:03            129    Tamer13887363                  1357   \n",
       "96 2021-08-07 15:30:51             96    Tamer13887363                  1357   \n",
       "97 2021-08-07 15:29:53            117    Tamer13887363                  1357   \n",
       "98 2021-08-07 15:29:23            130    Tamer13887363                  1357   \n",
       "99 2021-08-07 15:28:53            104    Tamer13887363                  1357   \n",
       "\n",
       "           user_location                                           Hashtags  \n",
       "0                 Turkey  [{'text': 'GerginimÇünkü', 'indices': [84, 98]...  \n",
       "1         SEYHAN / ADANA  [{'text': 'HicriYılbası', 'indices': [101, 114]}]  \n",
       "2         Hakkın yanında                                                 []  \n",
       "3                                                                        []  \n",
       "4   İzmir, Türkiye [Man]  [{'text': 'Günaydın', 'indices': [102, 111]}, ...  \n",
       "..                   ...                                                ...  \n",
       "95                                                                       []  \n",
       "96                        [{'text': 'HayırlıHaftalar', 'indices': [13, 2...  \n",
       "97                             [{'text': 'pazartesi', 'indices': [61, 71]}]  \n",
       "98                        [{'text': 'HayırlıHaftalar', 'indices': [105, ...  \n",
       "99                                                                       []  \n",
       "\n",
       "[100 rows x 8 columns]"
      ]
     },
     "execution_count": 74,
     "metadata": {},
     "output_type": "execute_result"
    }
   ],
   "source": [
    "tweets_to_df(results)"
   ]
  },
  {
   "cell_type": "code",
   "execution_count": null,
   "id": "8a1ac085-959f-453d-aff2-6b210f45011c",
   "metadata": {},
   "outputs": [],
   "source": []
  },
  {
   "cell_type": "markdown",
   "id": "4707cdc8-d80b-4be8-864f-5f149ec2bd01",
   "metadata": {},
   "source": [
    "## Profil Analizi"
   ]
  },
  {
   "cell_type": "code",
   "execution_count": 78,
   "id": "8f3852dc-aa88-4953-adaa-16536e308e2e",
   "metadata": {},
   "outputs": [],
   "source": [
    "user = api.get_user('murat_aksit')"
   ]
  },
  {
   "cell_type": "code",
   "execution_count": null,
   "id": "e47f5b8a-b8e7-4584-bc1a-223675a6d2f0",
   "metadata": {},
   "outputs": [],
   "source": [
    "# name"
   ]
  },
  {
   "cell_type": "code",
   "execution_count": 79,
   "id": "a65e98bc-2648-43cb-8f48-2fc859f230ef",
   "metadata": {},
   "outputs": [
    {
     "data": {
      "text/plain": [
       "'Murat AKŞİT'"
      ]
     },
     "execution_count": 79,
     "metadata": {},
     "output_type": "execute_result"
    }
   ],
   "source": [
    "user.name"
   ]
  },
  {
   "cell_type": "code",
   "execution_count": null,
   "id": "afa4178a-c4b1-4dfc-962d-91805cbb08f3",
   "metadata": {},
   "outputs": [],
   "source": [
    "# user_id"
   ]
  },
  {
   "cell_type": "code",
   "execution_count": 80,
   "id": "ce3419ca-d6a0-4e6b-8d69-bb95f7112965",
   "metadata": {},
   "outputs": [
    {
     "data": {
      "text/plain": [
       "441826887"
      ]
     },
     "execution_count": 80,
     "metadata": {},
     "output_type": "execute_result"
    }
   ],
   "source": [
    "user.id"
   ]
  },
  {
   "cell_type": "code",
   "execution_count": 83,
   "id": "2461ca7c-b75a-42fa-8a18-9e558b0ad582",
   "metadata": {},
   "outputs": [],
   "source": [
    "# profilinde kayıtlı olan url"
   ]
  },
  {
   "cell_type": "code",
   "execution_count": 81,
   "id": "c8ee9c83-ab72-47c0-abb1-3564cbd64595",
   "metadata": {},
   "outputs": [
    {
     "data": {
      "text/plain": [
       "'https://t.co/4cLbT62fMx'"
      ]
     },
     "execution_count": 81,
     "metadata": {},
     "output_type": "execute_result"
    }
   ],
   "source": [
    "user.url"
   ]
  },
  {
   "cell_type": "code",
   "execution_count": 84,
   "id": "1b6f96cb-6dde-49ad-bcbc-eba7d5197653",
   "metadata": {},
   "outputs": [],
   "source": [
    "# hesap doğrulanmış mı"
   ]
  },
  {
   "cell_type": "code",
   "execution_count": 82,
   "id": "8c8f7054-dfa2-4c6c-99b9-ad495789cdaa",
   "metadata": {},
   "outputs": [
    {
     "data": {
      "text/plain": [
       "False"
      ]
     },
     "execution_count": 82,
     "metadata": {},
     "output_type": "execute_result"
    }
   ],
   "source": [
    "user.verified"
   ]
  },
  {
   "cell_type": "code",
   "execution_count": 85,
   "id": "31e4fe75-1d86-47c8-828d-82366a31479b",
   "metadata": {},
   "outputs": [],
   "source": [
    "# username"
   ]
  },
  {
   "cell_type": "code",
   "execution_count": 86,
   "id": "c8fcc699-ca66-4c1f-9747-a25eb039858e",
   "metadata": {},
   "outputs": [
    {
     "data": {
      "text/plain": [
       "'murat_aksit'"
      ]
     },
     "execution_count": 86,
     "metadata": {},
     "output_type": "execute_result"
    }
   ],
   "source": [
    "user.screen_name"
   ]
  },
  {
   "cell_type": "code",
   "execution_count": 87,
   "id": "a52d7fac-02f6-40c7-95ce-9bbff68e0976",
   "metadata": {},
   "outputs": [],
   "source": [
    "# lokasyon"
   ]
  },
  {
   "cell_type": "code",
   "execution_count": 88,
   "id": "08dd3c8a-b67b-4c7c-858e-90b405176657",
   "metadata": {},
   "outputs": [
    {
     "data": {
      "text/plain": [
       "'İstanbul, Türkiye'"
      ]
     },
     "execution_count": 88,
     "metadata": {},
     "output_type": "execute_result"
    }
   ],
   "source": [
    "user.location"
   ]
  },
  {
   "cell_type": "code",
   "execution_count": 89,
   "id": "ac124ec5-ac5e-4914-9a68-75183d0a65ee",
   "metadata": {},
   "outputs": [],
   "source": [
    "# status count"
   ]
  },
  {
   "cell_type": "code",
   "execution_count": 90,
   "id": "23539be0-2548-4ced-9542-94dc714db95c",
   "metadata": {},
   "outputs": [
    {
     "data": {
      "text/plain": [
       "6182"
      ]
     },
     "execution_count": 90,
     "metadata": {},
     "output_type": "execute_result"
    }
   ],
   "source": [
    "user.statuses_count"
   ]
  },
  {
   "cell_type": "code",
   "execution_count": 91,
   "id": "3f5767b5-63ae-4dad-85a8-dd2fbdb82f31",
   "metadata": {},
   "outputs": [],
   "source": [
    "# favoriler sayısı"
   ]
  },
  {
   "cell_type": "code",
   "execution_count": 92,
   "id": "35802314-ac2f-41d3-936c-03f1cc560477",
   "metadata": {},
   "outputs": [
    {
     "data": {
      "text/plain": [
       "2969"
      ]
     },
     "execution_count": 92,
     "metadata": {},
     "output_type": "execute_result"
    }
   ],
   "source": [
    "user.favourites_count"
   ]
  },
  {
   "cell_type": "code",
   "execution_count": 93,
   "id": "894c7cb2-3f42-4c4e-98af-467be82e09e7",
   "metadata": {},
   "outputs": [],
   "source": [
    "# friends count"
   ]
  },
  {
   "cell_type": "code",
   "execution_count": 96,
   "id": "3379a0c0-acd1-4de3-9637-4df06d3c7304",
   "metadata": {},
   "outputs": [
    {
     "data": {
      "text/plain": [
       "949"
      ]
     },
     "execution_count": 96,
     "metadata": {},
     "output_type": "execute_result"
    }
   ],
   "source": [
    "user.friends_count"
   ]
  },
  {
   "cell_type": "code",
   "execution_count": 97,
   "id": "c539eb83-7c0c-4c12-b062-eb7ed8fdd785",
   "metadata": {},
   "outputs": [],
   "source": [
    "# user'ın timeline'nında attığı tweetlere erişim..."
   ]
  },
  {
   "cell_type": "code",
   "execution_count": 98,
   "id": "50440c7e-24b1-49cb-81ad-d1cf57952bc4",
   "metadata": {},
   "outputs": [],
   "source": [
    "tweets = api.user_timeline(id= 'mvahitkeskin')"
   ]
  },
  {
   "cell_type": "code",
   "execution_count": 99,
   "id": "3f8f6708-2f2b-4a0c-9ff6-dcb87c648236",
   "metadata": {
    "collapsed": true,
    "jupyter": {
     "outputs_hidden": true
    },
    "tags": []
   },
   "outputs": [
    {
     "name": "stdout",
     "output_type": "stream",
     "text": [
      "RT @miuulcom: #MiuulPodcast'in 3. bolumunde -AI ve Azure alanında 2008 yılından günümüze Microsoft MVP ünvanına sahip olan deveload kurucus…\n",
      "@turkerkilic “Anlamak sevinçle gelir, kabullenmek kederle.”\n",
      "@sel_inkoca Teşekkürler Selin 🐝\n",
      "100.000 tekil öğrenci  🎉 🥳\n",
      "\n",
      "Veri Bilimi Okulu 100.000 tekil öğrenciye (156.000 çoklu) ulaştı 🤩\n",
      "\n",
      "Veri Bilimi eksenin… https://t.co/diO0WxiPAF\n",
      "@ilginnsila Niye böyle güzel paylaşımları daha çok görmüyoruz 😁 Açmam bak.\n",
      "@GozdeOzsezer Tebrikler 🎉\n",
      "@Jausska Evet ideal buradan ilerleyebilirsiniz.\n",
      "@onderseren 0\n",
      "@GuneyGuneyan 11 yıldır televizyon izlemiyorum 😎\n",
      "RT @canitti: Tamamen rastgelelikten doğan bir fraktal...\n",
      "\n",
      "Altıgenin içinde istediğiniz yerde bir nokta seçin, herhangi bir köşe ile üçgene…\n",
      "@hyperfalll @deeplearningtr @udemy Biz de henüz net bir şekilde anlayamadık.\n",
      "RT @deeplearningtr: EMEĞE SAYGI! @udemy’nin en sevilen ve bu ekosisteme ciddi katkıları olmuş ilgili kategorilerde çok satan kurslarının eğ…\n",
      "@ozkan_altunb @omer_colakoglu Kursların tamamı sıfırdan.\n",
      "RT @fuatbeser: (Dikkate alınacağını hiç düşünmüyorum ama) benim çözüm önerilerim şöyle: \n",
      "\n",
      "1. Teknik tarafta zaten kaliteli online eğitimler…\n",
      "RT @sezginildes: Veri bilimi öncülerinden olan @mvahitkeskin  \n",
      "00.a Öğrenmeyi öğrenmek\n",
      "00.b Kendi problemlerinizi çözebilmek\n",
      "00.c Tabi ki,…\n",
      "Ücretsiz Veri Bilimi ve Yapay Zekaya Giriş Eğitimi:\n",
      "\n",
      "Yapay Zeka Çağına Hazır mısınız?\n",
      "Derin Öğrenme Uygulamaları\n",
      "Ya… https://t.co/aofuSmdV5R\n",
      "RT @hll_mavi: Bu kursu bir aydır kullanıyorum, Python, veri bilimi ve makine ögrenmesi gibi böylesine içeriği zengin ve önemli konuların da…\n",
      "RT @MusabFatihKaya: Türkiye de Veri Bilimi/Yapay Zekanın lideri @mvahitkeskin Hocanın eğitimini, hangi sektör de çalışıyor olursa olsun her…\n",
      "5 gün geçerli indirim:\n",
      "\n",
      "(50+ Saat) Python A-Z™: Veri Bilimi ve Machine Learning\n",
      "\n",
      "https://t.co/tBSa5Zrqik\n",
      "\n",
      "(2020) Py… https://t.co/QgE8dtP4DV\n"
     ]
    }
   ],
   "source": [
    "for tw in tweets:\n",
    "    print(tw.text)"
   ]
  },
  {
   "cell_type": "code",
   "execution_count": 103,
   "id": "d5764f3b-e374-41d0-973d-463ef44654ca",
   "metadata": {},
   "outputs": [],
   "source": [
    "# timeline to DF"
   ]
  },
  {
   "cell_type": "code",
   "execution_count": 148,
   "id": "b441645d-aecc-4406-976b-05de79c579fb",
   "metadata": {},
   "outputs": [],
   "source": [
    "import pandas as pd\n",
    "\n",
    "def timeline_df(tweets):\n",
    "    \n",
    "    data = [[tw.id,\n",
    "             tw.created_at,\n",
    "             tw.text,\n",
    "             tw.favorite_count,\n",
    "             tw.retweet_count,\n",
    "             tw.source] for tw in tweets]\n",
    "    \n",
    "    columns = ['id','created_at','text','favorite_count','retweet_count','source']\n",
    "    \n",
    "    return pd.DataFrame(data,columns=columns)"
   ]
  },
  {
   "cell_type": "code",
   "execution_count": 107,
   "id": "a7a5a187-e61b-4275-a1ba-17d5039bad6e",
   "metadata": {},
   "outputs": [
    {
     "data": {
      "text/html": [
       "<div>\n",
       "<style scoped>\n",
       "    .dataframe tbody tr th:only-of-type {\n",
       "        vertical-align: middle;\n",
       "    }\n",
       "\n",
       "    .dataframe tbody tr th {\n",
       "        vertical-align: top;\n",
       "    }\n",
       "\n",
       "    .dataframe thead th {\n",
       "        text-align: right;\n",
       "    }\n",
       "</style>\n",
       "<table border=\"1\" class=\"dataframe\">\n",
       "  <thead>\n",
       "    <tr style=\"text-align: right;\">\n",
       "      <th></th>\n",
       "      <th>id</th>\n",
       "      <th>created_at</th>\n",
       "      <th>text</th>\n",
       "      <th>favorite_count</th>\n",
       "      <th>retweet_count</th>\n",
       "      <th>source</th>\n",
       "    </tr>\n",
       "  </thead>\n",
       "  <tbody>\n",
       "    <tr>\n",
       "      <th>0</th>\n",
       "      <td>1356385180555079680</td>\n",
       "      <td>2021-02-01 23:33:22</td>\n",
       "      <td>RT @miuulcom: #MiuulPodcast'in 3. bolumunde -A...</td>\n",
       "      <td>0</td>\n",
       "      <td>3</td>\n",
       "      <td>Twitter for iPhone</td>\n",
       "    </tr>\n",
       "    <tr>\n",
       "      <th>1</th>\n",
       "      <td>1340078322206859267</td>\n",
       "      <td>2020-12-18 23:35:44</td>\n",
       "      <td>@turkerkilic “Anlamak sevinçle gelir, kabullen...</td>\n",
       "      <td>2</td>\n",
       "      <td>0</td>\n",
       "      <td>Twitter for iPhone</td>\n",
       "    </tr>\n",
       "    <tr>\n",
       "      <th>2</th>\n",
       "      <td>1337721107428872194</td>\n",
       "      <td>2020-12-12 11:29:00</td>\n",
       "      <td>@sel_inkoca Teşekkürler Selin 🐝</td>\n",
       "      <td>0</td>\n",
       "      <td>0</td>\n",
       "      <td>Twitter for iPhone</td>\n",
       "    </tr>\n",
       "    <tr>\n",
       "      <th>3</th>\n",
       "      <td>1337575324331208705</td>\n",
       "      <td>2020-12-12 01:49:42</td>\n",
       "      <td>100.000 tekil öğrenci  🎉 🥳\\n\\nVeri Bilimi Okul...</td>\n",
       "      <td>100</td>\n",
       "      <td>2</td>\n",
       "      <td>Twitter for iPhone</td>\n",
       "    </tr>\n",
       "    <tr>\n",
       "      <th>4</th>\n",
       "      <td>1314526028656771075</td>\n",
       "      <td>2020-10-09 11:20:02</td>\n",
       "      <td>@ilginnsila Niye böyle güzel paylaşımları daha...</td>\n",
       "      <td>1</td>\n",
       "      <td>0</td>\n",
       "      <td>Twitter for iPhone</td>\n",
       "    </tr>\n",
       "    <tr>\n",
       "      <th>5</th>\n",
       "      <td>1304178886348017669</td>\n",
       "      <td>2020-09-10 22:04:11</td>\n",
       "      <td>@GozdeOzsezer Tebrikler 🎉</td>\n",
       "      <td>1</td>\n",
       "      <td>0</td>\n",
       "      <td>Twitter for iPhone</td>\n",
       "    </tr>\n",
       "    <tr>\n",
       "      <th>6</th>\n",
       "      <td>1302053967460012032</td>\n",
       "      <td>2020-09-05 01:20:31</td>\n",
       "      <td>@Jausska Evet ideal buradan ilerleyebilirsiniz.</td>\n",
       "      <td>0</td>\n",
       "      <td>0</td>\n",
       "      <td>Twitter Web App</td>\n",
       "    </tr>\n",
       "    <tr>\n",
       "      <th>7</th>\n",
       "      <td>1282459663167094785</td>\n",
       "      <td>2020-07-12 23:39:45</td>\n",
       "      <td>@onderseren 0</td>\n",
       "      <td>7</td>\n",
       "      <td>0</td>\n",
       "      <td>Twitter for iPhone</td>\n",
       "    </tr>\n",
       "    <tr>\n",
       "      <th>8</th>\n",
       "      <td>1282458708396707841</td>\n",
       "      <td>2020-07-12 23:35:57</td>\n",
       "      <td>@GuneyGuneyan 11 yıldır televizyon izlemiyorum 😎</td>\n",
       "      <td>0</td>\n",
       "      <td>0</td>\n",
       "      <td>Twitter for iPhone</td>\n",
       "    </tr>\n",
       "    <tr>\n",
       "      <th>9</th>\n",
       "      <td>1280507414882779144</td>\n",
       "      <td>2020-07-07 14:22:13</td>\n",
       "      <td>RT @canitti: Tamamen rastgelelikten doğan bir ...</td>\n",
       "      <td>0</td>\n",
       "      <td>517</td>\n",
       "      <td>Twitter for iPhone</td>\n",
       "    </tr>\n",
       "    <tr>\n",
       "      <th>10</th>\n",
       "      <td>1270120642571100166</td>\n",
       "      <td>2020-06-08 22:28:53</td>\n",
       "      <td>@hyperfalll @deeplearningtr @udemy Biz de henü...</td>\n",
       "      <td>1</td>\n",
       "      <td>0</td>\n",
       "      <td>Twitter for iPhone</td>\n",
       "    </tr>\n",
       "    <tr>\n",
       "      <th>11</th>\n",
       "      <td>1270119262250831877</td>\n",
       "      <td>2020-06-08 22:23:24</td>\n",
       "      <td>RT @deeplearningtr: EMEĞE SAYGI! @udemy’nin en...</td>\n",
       "      <td>0</td>\n",
       "      <td>26</td>\n",
       "      <td>Twitter for iPhone</td>\n",
       "    </tr>\n",
       "    <tr>\n",
       "      <th>12</th>\n",
       "      <td>1265270724123648001</td>\n",
       "      <td>2020-05-26 13:17:02</td>\n",
       "      <td>@ozkan_altunb @omer_colakoglu Kursların tamamı...</td>\n",
       "      <td>0</td>\n",
       "      <td>0</td>\n",
       "      <td>Twitter for iPhone</td>\n",
       "    </tr>\n",
       "    <tr>\n",
       "      <th>13</th>\n",
       "      <td>1264734897429757965</td>\n",
       "      <td>2020-05-25 01:47:51</td>\n",
       "      <td>RT @fuatbeser: (Dikkate alınacağını hiç düşünm...</td>\n",
       "      <td>0</td>\n",
       "      <td>2</td>\n",
       "      <td>Twitter for iPhone</td>\n",
       "    </tr>\n",
       "    <tr>\n",
       "      <th>14</th>\n",
       "      <td>1259879829589102597</td>\n",
       "      <td>2020-05-11 16:15:33</td>\n",
       "      <td>RT @sezginildes: Veri bilimi öncülerinden olan...</td>\n",
       "      <td>0</td>\n",
       "      <td>1</td>\n",
       "      <td>Twitter Web App</td>\n",
       "    </tr>\n",
       "    <tr>\n",
       "      <th>15</th>\n",
       "      <td>1257860653764816896</td>\n",
       "      <td>2020-05-06 02:32:04</td>\n",
       "      <td>Ücretsiz Veri Bilimi ve Yapay Zekaya Giriş Eği...</td>\n",
       "      <td>76</td>\n",
       "      <td>13</td>\n",
       "      <td>Twitter Web App</td>\n",
       "    </tr>\n",
       "    <tr>\n",
       "      <th>16</th>\n",
       "      <td>1257860362134786052</td>\n",
       "      <td>2020-05-06 02:30:54</td>\n",
       "      <td>RT @hll_mavi: Bu kursu bir aydır kullanıyorum,...</td>\n",
       "      <td>0</td>\n",
       "      <td>3</td>\n",
       "      <td>Twitter Web App</td>\n",
       "    </tr>\n",
       "    <tr>\n",
       "      <th>17</th>\n",
       "      <td>1257303000365719553</td>\n",
       "      <td>2020-05-04 13:36:09</td>\n",
       "      <td>RT @MusabFatihKaya: Türkiye de Veri Bilimi/Yap...</td>\n",
       "      <td>0</td>\n",
       "      <td>1</td>\n",
       "      <td>Twitter for iPhone</td>\n",
       "    </tr>\n",
       "    <tr>\n",
       "      <th>18</th>\n",
       "      <td>1256193455010779136</td>\n",
       "      <td>2020-05-01 12:07:13</td>\n",
       "      <td>5 gün geçerli indirim:\\n\\n(50+ Saat) Python A-...</td>\n",
       "      <td>43</td>\n",
       "      <td>8</td>\n",
       "      <td>Twitter Web App</td>\n",
       "    </tr>\n",
       "  </tbody>\n",
       "</table>\n",
       "</div>"
      ],
      "text/plain": [
       "                     id          created_at  \\\n",
       "0   1356385180555079680 2021-02-01 23:33:22   \n",
       "1   1340078322206859267 2020-12-18 23:35:44   \n",
       "2   1337721107428872194 2020-12-12 11:29:00   \n",
       "3   1337575324331208705 2020-12-12 01:49:42   \n",
       "4   1314526028656771075 2020-10-09 11:20:02   \n",
       "5   1304178886348017669 2020-09-10 22:04:11   \n",
       "6   1302053967460012032 2020-09-05 01:20:31   \n",
       "7   1282459663167094785 2020-07-12 23:39:45   \n",
       "8   1282458708396707841 2020-07-12 23:35:57   \n",
       "9   1280507414882779144 2020-07-07 14:22:13   \n",
       "10  1270120642571100166 2020-06-08 22:28:53   \n",
       "11  1270119262250831877 2020-06-08 22:23:24   \n",
       "12  1265270724123648001 2020-05-26 13:17:02   \n",
       "13  1264734897429757965 2020-05-25 01:47:51   \n",
       "14  1259879829589102597 2020-05-11 16:15:33   \n",
       "15  1257860653764816896 2020-05-06 02:32:04   \n",
       "16  1257860362134786052 2020-05-06 02:30:54   \n",
       "17  1257303000365719553 2020-05-04 13:36:09   \n",
       "18  1256193455010779136 2020-05-01 12:07:13   \n",
       "\n",
       "                                                 text  favorite_count  \\\n",
       "0   RT @miuulcom: #MiuulPodcast'in 3. bolumunde -A...               0   \n",
       "1   @turkerkilic “Anlamak sevinçle gelir, kabullen...               2   \n",
       "2                     @sel_inkoca Teşekkürler Selin 🐝               0   \n",
       "3   100.000 tekil öğrenci  🎉 🥳\\n\\nVeri Bilimi Okul...             100   \n",
       "4   @ilginnsila Niye böyle güzel paylaşımları daha...               1   \n",
       "5                           @GozdeOzsezer Tebrikler 🎉               1   \n",
       "6     @Jausska Evet ideal buradan ilerleyebilirsiniz.               0   \n",
       "7                                       @onderseren 0               7   \n",
       "8    @GuneyGuneyan 11 yıldır televizyon izlemiyorum 😎               0   \n",
       "9   RT @canitti: Tamamen rastgelelikten doğan bir ...               0   \n",
       "10  @hyperfalll @deeplearningtr @udemy Biz de henü...               1   \n",
       "11  RT @deeplearningtr: EMEĞE SAYGI! @udemy’nin en...               0   \n",
       "12  @ozkan_altunb @omer_colakoglu Kursların tamamı...               0   \n",
       "13  RT @fuatbeser: (Dikkate alınacağını hiç düşünm...               0   \n",
       "14  RT @sezginildes: Veri bilimi öncülerinden olan...               0   \n",
       "15  Ücretsiz Veri Bilimi ve Yapay Zekaya Giriş Eği...              76   \n",
       "16  RT @hll_mavi: Bu kursu bir aydır kullanıyorum,...               0   \n",
       "17  RT @MusabFatihKaya: Türkiye de Veri Bilimi/Yap...               0   \n",
       "18  5 gün geçerli indirim:\\n\\n(50+ Saat) Python A-...              43   \n",
       "\n",
       "    retweet_count              source  \n",
       "0               3  Twitter for iPhone  \n",
       "1               0  Twitter for iPhone  \n",
       "2               0  Twitter for iPhone  \n",
       "3               2  Twitter for iPhone  \n",
       "4               0  Twitter for iPhone  \n",
       "5               0  Twitter for iPhone  \n",
       "6               0     Twitter Web App  \n",
       "7               0  Twitter for iPhone  \n",
       "8               0  Twitter for iPhone  \n",
       "9             517  Twitter for iPhone  \n",
       "10              0  Twitter for iPhone  \n",
       "11             26  Twitter for iPhone  \n",
       "12              0  Twitter for iPhone  \n",
       "13              2  Twitter for iPhone  \n",
       "14              1     Twitter Web App  \n",
       "15             13     Twitter Web App  \n",
       "16              3     Twitter Web App  \n",
       "17              1  Twitter for iPhone  \n",
       "18              8     Twitter Web App  "
      ]
     },
     "execution_count": 107,
     "metadata": {},
     "output_type": "execute_result"
    }
   ],
   "source": [
    "timeline_df(tweets)"
   ]
  },
  {
   "cell_type": "code",
   "execution_count": null,
   "id": "51895db9-6b07-441e-96ee-f2c7ea6e0c92",
   "metadata": {},
   "outputs": [],
   "source": []
  },
  {
   "cell_type": "code",
   "execution_count": null,
   "id": "02e468df-4c07-4e87-b62f-e846fb18090e",
   "metadata": {},
   "outputs": [],
   "source": []
  },
  {
   "cell_type": "markdown",
   "id": "8254104e-bf75-470a-a3b0-e2931f78030e",
   "metadata": {},
   "source": [
    "### Profilin Enleri"
   ]
  },
  {
   "cell_type": "code",
   "execution_count": 108,
   "id": "e4a1bcef-c01a-4c65-bb0c-505d881e23d4",
   "metadata": {},
   "outputs": [],
   "source": [
    "# fatih portakaldan 1000 tweet çekelim"
   ]
  },
  {
   "cell_type": "code",
   "execution_count": 149,
   "id": "0a90531b-d577-407f-9798-c9cc0f1bfd40",
   "metadata": {},
   "outputs": [],
   "source": [
    "tweets = api.user_timeline(id= 'fatihportakal',count=1000)"
   ]
  },
  {
   "cell_type": "code",
   "execution_count": 150,
   "id": "0756b788-d0d3-46ae-93e4-b56d0055e0c4",
   "metadata": {},
   "outputs": [],
   "source": [
    "# tweets => df"
   ]
  },
  {
   "cell_type": "code",
   "execution_count": 151,
   "id": "23f7e6ce-2a9a-4624-a402-69e7a2c848a1",
   "metadata": {},
   "outputs": [],
   "source": [
    "df = timeline_df(tweets)"
   ]
  },
  {
   "cell_type": "code",
   "execution_count": 152,
   "id": "9ff1b01d-b298-4d60-bc78-6f29e8299211",
   "metadata": {},
   "outputs": [
    {
     "data": {
      "text/plain": [
       "(200, 6)"
      ]
     },
     "execution_count": 152,
     "metadata": {},
     "output_type": "execute_result"
    }
   ],
   "source": [
    "df.shape"
   ]
  },
  {
   "cell_type": "code",
   "execution_count": 153,
   "id": "bb4b463c-da79-421d-86c1-043e4f64f5dd",
   "metadata": {},
   "outputs": [
    {
     "data": {
      "text/html": [
       "<div>\n",
       "<style scoped>\n",
       "    .dataframe tbody tr th:only-of-type {\n",
       "        vertical-align: middle;\n",
       "    }\n",
       "\n",
       "    .dataframe tbody tr th {\n",
       "        vertical-align: top;\n",
       "    }\n",
       "\n",
       "    .dataframe thead th {\n",
       "        text-align: right;\n",
       "    }\n",
       "</style>\n",
       "<table border=\"1\" class=\"dataframe\">\n",
       "  <thead>\n",
       "    <tr style=\"text-align: right;\">\n",
       "      <th></th>\n",
       "      <th>id</th>\n",
       "      <th>created_at</th>\n",
       "      <th>text</th>\n",
       "      <th>favorite_count</th>\n",
       "      <th>retweet_count</th>\n",
       "      <th>source</th>\n",
       "    </tr>\n",
       "  </thead>\n",
       "  <tbody>\n",
       "    <tr>\n",
       "      <th>0</th>\n",
       "      <td>1423992637166653443</td>\n",
       "      <td>2021-08-07 13:01:15</td>\n",
       "      <td>Sedat Peker’in söyledikleri, yazdıkları sadece...</td>\n",
       "      <td>57129</td>\n",
       "      <td>5074</td>\n",
       "      <td>Twitter for iPhone</td>\n",
       "    </tr>\n",
       "    <tr>\n",
       "      <th>1</th>\n",
       "      <td>1423907140771667974</td>\n",
       "      <td>2021-08-07 07:21:31</td>\n",
       "      <td>Harikasınız… https://t.co/oreVCVf2Ce</td>\n",
       "      <td>3218</td>\n",
       "      <td>50</td>\n",
       "      <td>Twitter for iPhone</td>\n",
       "    </tr>\n",
       "    <tr>\n",
       "      <th>2</th>\n",
       "      <td>1423907019568959489</td>\n",
       "      <td>2021-08-07 07:21:03</td>\n",
       "      <td>RT @medyafaresi: #SonDakika Busenaz Sürmeneli ...</td>\n",
       "      <td>0</td>\n",
       "      <td>43</td>\n",
       "      <td>Twitter for iPhone</td>\n",
       "    </tr>\n",
       "    <tr>\n",
       "      <th>3</th>\n",
       "      <td>1423466899514576900</td>\n",
       "      <td>2021-08-06 02:12:10</td>\n",
       "      <td>RT @fatihportakal: Korkutarak, kaba kuvvetle y...</td>\n",
       "      <td>0</td>\n",
       "      <td>315</td>\n",
       "      <td>Twitter for iPhone</td>\n",
       "    </tr>\n",
       "    <tr>\n",
       "      <th>4</th>\n",
       "      <td>1423466771823140865</td>\n",
       "      <td>2021-08-06 02:11:39</td>\n",
       "      <td>Korkutarak, kaba kuvvetle yıldıracaklarını san...</td>\n",
       "      <td>4540</td>\n",
       "      <td>315</td>\n",
       "      <td>Twitter for iPhone</td>\n",
       "    </tr>\n",
       "  </tbody>\n",
       "</table>\n",
       "</div>"
      ],
      "text/plain": [
       "                    id          created_at  \\\n",
       "0  1423992637166653443 2021-08-07 13:01:15   \n",
       "1  1423907140771667974 2021-08-07 07:21:31   \n",
       "2  1423907019568959489 2021-08-07 07:21:03   \n",
       "3  1423466899514576900 2021-08-06 02:12:10   \n",
       "4  1423466771823140865 2021-08-06 02:11:39   \n",
       "\n",
       "                                                text  favorite_count  \\\n",
       "0  Sedat Peker’in söyledikleri, yazdıkları sadece...           57129   \n",
       "1               Harikasınız… https://t.co/oreVCVf2Ce            3218   \n",
       "2  RT @medyafaresi: #SonDakika Busenaz Sürmeneli ...               0   \n",
       "3  RT @fatihportakal: Korkutarak, kaba kuvvetle y...               0   \n",
       "4  Korkutarak, kaba kuvvetle yıldıracaklarını san...            4540   \n",
       "\n",
       "   retweet_count              source  \n",
       "0           5074  Twitter for iPhone  \n",
       "1             50  Twitter for iPhone  \n",
       "2             43  Twitter for iPhone  \n",
       "3            315  Twitter for iPhone  \n",
       "4            315  Twitter for iPhone  "
      ]
     },
     "execution_count": 153,
     "metadata": {},
     "output_type": "execute_result"
    }
   ],
   "source": [
    "df.head()"
   ]
  },
  {
   "cell_type": "code",
   "execution_count": 115,
   "id": "d66530a2-6002-442c-b0d9-ba5c3779c512",
   "metadata": {},
   "outputs": [],
   "source": [
    "# en çok like alan tweet'i"
   ]
  },
  {
   "cell_type": "code",
   "execution_count": 154,
   "id": "a6399cc7-3bb9-46f1-85be-4b6264c08b2e",
   "metadata": {},
   "outputs": [
    {
     "data": {
      "text/html": [
       "<div>\n",
       "<style scoped>\n",
       "    .dataframe tbody tr th:only-of-type {\n",
       "        vertical-align: middle;\n",
       "    }\n",
       "\n",
       "    .dataframe tbody tr th {\n",
       "        vertical-align: top;\n",
       "    }\n",
       "\n",
       "    .dataframe thead th {\n",
       "        text-align: right;\n",
       "    }\n",
       "</style>\n",
       "<table border=\"1\" class=\"dataframe\">\n",
       "  <thead>\n",
       "    <tr style=\"text-align: right;\">\n",
       "      <th></th>\n",
       "      <th>id</th>\n",
       "      <th>created_at</th>\n",
       "      <th>text</th>\n",
       "      <th>favorite_count</th>\n",
       "      <th>retweet_count</th>\n",
       "      <th>source</th>\n",
       "    </tr>\n",
       "  </thead>\n",
       "  <tbody>\n",
       "    <tr>\n",
       "      <th>124</th>\n",
       "      <td>1411543286066581504</td>\n",
       "      <td>2021-07-04 04:31:59</td>\n",
       "      <td>Hadi AKP’yi bırak, ipin ucu kaçtığı için Peker...</td>\n",
       "      <td>79151</td>\n",
       "      <td>8261</td>\n",
       "      <td>Twitter for iPhone</td>\n",
       "    </tr>\n",
       "    <tr>\n",
       "      <th>0</th>\n",
       "      <td>1423992637166653443</td>\n",
       "      <td>2021-08-07 13:01:15</td>\n",
       "      <td>Sedat Peker’in söyledikleri, yazdıkları sadece...</td>\n",
       "      <td>57129</td>\n",
       "      <td>5074</td>\n",
       "      <td>Twitter for iPhone</td>\n",
       "    </tr>\n",
       "    <tr>\n",
       "      <th>135</th>\n",
       "      <td>1410298522340052994</td>\n",
       "      <td>2021-06-30 18:05:44</td>\n",
       "      <td>Çalıp çırpıp, kul hakkı yiyip, yalanı düstur e...</td>\n",
       "      <td>47399</td>\n",
       "      <td>4538</td>\n",
       "      <td>Twitter for iPhone</td>\n",
       "    </tr>\n",
       "    <tr>\n",
       "      <th>183</th>\n",
       "      <td>1405051005767766017</td>\n",
       "      <td>2021-06-16 06:33:59</td>\n",
       "      <td>Sedat Peker’in onca iddiasından sonra yaşananl...</td>\n",
       "      <td>44596</td>\n",
       "      <td>2819</td>\n",
       "      <td>Twitter for iPhone</td>\n",
       "    </tr>\n",
       "    <tr>\n",
       "      <th>147</th>\n",
       "      <td>1408871947807690752</td>\n",
       "      <td>2021-06-26 19:37:02</td>\n",
       "      <td>Deniz Baykal ne diyecek merak ediyorum? Korkma...</td>\n",
       "      <td>44326</td>\n",
       "      <td>3780</td>\n",
       "      <td>Twitter for iPhone</td>\n",
       "    </tr>\n",
       "  </tbody>\n",
       "</table>\n",
       "</div>"
      ],
      "text/plain": [
       "                      id          created_at  \\\n",
       "124  1411543286066581504 2021-07-04 04:31:59   \n",
       "0    1423992637166653443 2021-08-07 13:01:15   \n",
       "135  1410298522340052994 2021-06-30 18:05:44   \n",
       "183  1405051005767766017 2021-06-16 06:33:59   \n",
       "147  1408871947807690752 2021-06-26 19:37:02   \n",
       "\n",
       "                                                  text  favorite_count  \\\n",
       "124  Hadi AKP’yi bırak, ipin ucu kaçtığı için Peker...           79151   \n",
       "0    Sedat Peker’in söyledikleri, yazdıkları sadece...           57129   \n",
       "135  Çalıp çırpıp, kul hakkı yiyip, yalanı düstur e...           47399   \n",
       "183  Sedat Peker’in onca iddiasından sonra yaşananl...           44596   \n",
       "147  Deniz Baykal ne diyecek merak ediyorum? Korkma...           44326   \n",
       "\n",
       "     retweet_count              source  \n",
       "124           8261  Twitter for iPhone  \n",
       "0             5074  Twitter for iPhone  \n",
       "135           4538  Twitter for iPhone  \n",
       "183           2819  Twitter for iPhone  \n",
       "147           3780  Twitter for iPhone  "
      ]
     },
     "execution_count": 154,
     "metadata": {},
     "output_type": "execute_result"
    }
   ],
   "source": [
    "df.sort_values('favorite_count',ascending=False).head()"
   ]
  },
  {
   "cell_type": "code",
   "execution_count": 155,
   "id": "e0ea44f9-f7b0-4c96-b333-355fad8f2cdf",
   "metadata": {},
   "outputs": [],
   "source": [
    "# en çok retweet'lenen tweeti"
   ]
  },
  {
   "cell_type": "code",
   "execution_count": 156,
   "id": "9dde25e1-42ab-489b-8142-8c5307d84f00",
   "metadata": {},
   "outputs": [
    {
     "data": {
      "text/html": [
       "<div>\n",
       "<style scoped>\n",
       "    .dataframe tbody tr th:only-of-type {\n",
       "        vertical-align: middle;\n",
       "    }\n",
       "\n",
       "    .dataframe tbody tr th {\n",
       "        vertical-align: top;\n",
       "    }\n",
       "\n",
       "    .dataframe thead th {\n",
       "        text-align: right;\n",
       "    }\n",
       "</style>\n",
       "<table border=\"1\" class=\"dataframe\">\n",
       "  <thead>\n",
       "    <tr style=\"text-align: right;\">\n",
       "      <th></th>\n",
       "      <th>id</th>\n",
       "      <th>created_at</th>\n",
       "      <th>text</th>\n",
       "      <th>favorite_count</th>\n",
       "      <th>retweet_count</th>\n",
       "      <th>source</th>\n",
       "    </tr>\n",
       "  </thead>\n",
       "  <tbody>\n",
       "    <tr>\n",
       "      <th>124</th>\n",
       "      <td>1411543286066581504</td>\n",
       "      <td>2021-07-04 04:31:59</td>\n",
       "      <td>Hadi AKP’yi bırak, ipin ucu kaçtığı için Peker...</td>\n",
       "      <td>79151</td>\n",
       "      <td>8261</td>\n",
       "      <td>Twitter for iPhone</td>\n",
       "    </tr>\n",
       "    <tr>\n",
       "      <th>10</th>\n",
       "      <td>1422822299368099842</td>\n",
       "      <td>2021-08-04 07:30:45</td>\n",
       "      <td>547.000 dekar alan yanmis şu ana kadar. Kül ol...</td>\n",
       "      <td>40079</td>\n",
       "      <td>6434</td>\n",
       "      <td>Twitter for iPhone</td>\n",
       "    </tr>\n",
       "    <tr>\n",
       "      <th>25</th>\n",
       "      <td>1421854569030725632</td>\n",
       "      <td>2021-08-01 15:25:20</td>\n",
       "      <td>Bu insanların çaya hiç ihtiyacı yok. Suya ihti...</td>\n",
       "      <td>31634</td>\n",
       "      <td>5441</td>\n",
       "      <td>Twitter for iPhone</td>\n",
       "    </tr>\n",
       "    <tr>\n",
       "      <th>0</th>\n",
       "      <td>1423992637166653443</td>\n",
       "      <td>2021-08-07 13:01:15</td>\n",
       "      <td>Sedat Peker’in söyledikleri, yazdıkları sadece...</td>\n",
       "      <td>57129</td>\n",
       "      <td>5074</td>\n",
       "      <td>Twitter for iPhone</td>\n",
       "    </tr>\n",
       "    <tr>\n",
       "      <th>135</th>\n",
       "      <td>1410298522340052994</td>\n",
       "      <td>2021-06-30 18:05:44</td>\n",
       "      <td>Çalıp çırpıp, kul hakkı yiyip, yalanı düstur e...</td>\n",
       "      <td>47399</td>\n",
       "      <td>4538</td>\n",
       "      <td>Twitter for iPhone</td>\n",
       "    </tr>\n",
       "  </tbody>\n",
       "</table>\n",
       "</div>"
      ],
      "text/plain": [
       "                      id          created_at  \\\n",
       "124  1411543286066581504 2021-07-04 04:31:59   \n",
       "10   1422822299368099842 2021-08-04 07:30:45   \n",
       "25   1421854569030725632 2021-08-01 15:25:20   \n",
       "0    1423992637166653443 2021-08-07 13:01:15   \n",
       "135  1410298522340052994 2021-06-30 18:05:44   \n",
       "\n",
       "                                                  text  favorite_count  \\\n",
       "124  Hadi AKP’yi bırak, ipin ucu kaçtığı için Peker...           79151   \n",
       "10   547.000 dekar alan yanmis şu ana kadar. Kül ol...           40079   \n",
       "25   Bu insanların çaya hiç ihtiyacı yok. Suya ihti...           31634   \n",
       "0    Sedat Peker’in söyledikleri, yazdıkları sadece...           57129   \n",
       "135  Çalıp çırpıp, kul hakkı yiyip, yalanı düstur e...           47399   \n",
       "\n",
       "     retweet_count              source  \n",
       "124           8261  Twitter for iPhone  \n",
       "10            6434  Twitter for iPhone  \n",
       "25            5441  Twitter for iPhone  \n",
       "0             5074  Twitter for iPhone  \n",
       "135           4538  Twitter for iPhone  "
      ]
     },
     "execution_count": 156,
     "metadata": {},
     "output_type": "execute_result"
    }
   ],
   "source": [
    "df.sort_values('retweet_count',ascending=False).head()"
   ]
  },
  {
   "cell_type": "code",
   "execution_count": null,
   "id": "8ebeba6c-82e3-40ab-830e-a8b6ed53b225",
   "metadata": {},
   "outputs": [],
   "source": []
  },
  {
   "cell_type": "markdown",
   "id": "6f4265c6-be1e-4ab9-88c5-a105f017fc2a",
   "metadata": {},
   "source": [
    "### Retweet & Favori Sayılarının Dağılımlarının Çıkarılması"
   ]
  },
  {
   "cell_type": "code",
   "execution_count": 157,
   "id": "f62f6780-04bf-4e60-ba30-20a1a7e49182",
   "metadata": {},
   "outputs": [
    {
     "data": {
      "text/html": [
       "<div>\n",
       "<style scoped>\n",
       "    .dataframe tbody tr th:only-of-type {\n",
       "        vertical-align: middle;\n",
       "    }\n",
       "\n",
       "    .dataframe tbody tr th {\n",
       "        vertical-align: top;\n",
       "    }\n",
       "\n",
       "    .dataframe thead th {\n",
       "        text-align: right;\n",
       "    }\n",
       "</style>\n",
       "<table border=\"1\" class=\"dataframe\">\n",
       "  <thead>\n",
       "    <tr style=\"text-align: right;\">\n",
       "      <th></th>\n",
       "      <th>id</th>\n",
       "      <th>created_at</th>\n",
       "      <th>text</th>\n",
       "      <th>favorite_count</th>\n",
       "      <th>retweet_count</th>\n",
       "      <th>source</th>\n",
       "    </tr>\n",
       "  </thead>\n",
       "  <tbody>\n",
       "    <tr>\n",
       "      <th>0</th>\n",
       "      <td>1423992637166653443</td>\n",
       "      <td>2021-08-07 13:01:15</td>\n",
       "      <td>Sedat Peker’in söyledikleri, yazdıkları sadece...</td>\n",
       "      <td>57129</td>\n",
       "      <td>5074</td>\n",
       "      <td>Twitter for iPhone</td>\n",
       "    </tr>\n",
       "    <tr>\n",
       "      <th>1</th>\n",
       "      <td>1423907140771667974</td>\n",
       "      <td>2021-08-07 07:21:31</td>\n",
       "      <td>Harikasınız… https://t.co/oreVCVf2Ce</td>\n",
       "      <td>3218</td>\n",
       "      <td>50</td>\n",
       "      <td>Twitter for iPhone</td>\n",
       "    </tr>\n",
       "    <tr>\n",
       "      <th>2</th>\n",
       "      <td>1423907019568959489</td>\n",
       "      <td>2021-08-07 07:21:03</td>\n",
       "      <td>RT @medyafaresi: #SonDakika Busenaz Sürmeneli ...</td>\n",
       "      <td>0</td>\n",
       "      <td>43</td>\n",
       "      <td>Twitter for iPhone</td>\n",
       "    </tr>\n",
       "    <tr>\n",
       "      <th>3</th>\n",
       "      <td>1423466899514576900</td>\n",
       "      <td>2021-08-06 02:12:10</td>\n",
       "      <td>RT @fatihportakal: Korkutarak, kaba kuvvetle y...</td>\n",
       "      <td>0</td>\n",
       "      <td>315</td>\n",
       "      <td>Twitter for iPhone</td>\n",
       "    </tr>\n",
       "    <tr>\n",
       "      <th>4</th>\n",
       "      <td>1423466771823140865</td>\n",
       "      <td>2021-08-06 02:11:39</td>\n",
       "      <td>Korkutarak, kaba kuvvetle yıldıracaklarını san...</td>\n",
       "      <td>4540</td>\n",
       "      <td>315</td>\n",
       "      <td>Twitter for iPhone</td>\n",
       "    </tr>\n",
       "  </tbody>\n",
       "</table>\n",
       "</div>"
      ],
      "text/plain": [
       "                    id          created_at  \\\n",
       "0  1423992637166653443 2021-08-07 13:01:15   \n",
       "1  1423907140771667974 2021-08-07 07:21:31   \n",
       "2  1423907019568959489 2021-08-07 07:21:03   \n",
       "3  1423466899514576900 2021-08-06 02:12:10   \n",
       "4  1423466771823140865 2021-08-06 02:11:39   \n",
       "\n",
       "                                                text  favorite_count  \\\n",
       "0  Sedat Peker’in söyledikleri, yazdıkları sadece...           57129   \n",
       "1               Harikasınız… https://t.co/oreVCVf2Ce            3218   \n",
       "2  RT @medyafaresi: #SonDakika Busenaz Sürmeneli ...               0   \n",
       "3  RT @fatihportakal: Korkutarak, kaba kuvvetle y...               0   \n",
       "4  Korkutarak, kaba kuvvetle yıldıracaklarını san...            4540   \n",
       "\n",
       "   retweet_count              source  \n",
       "0           5074  Twitter for iPhone  \n",
       "1             50  Twitter for iPhone  \n",
       "2             43  Twitter for iPhone  \n",
       "3            315  Twitter for iPhone  \n",
       "4            315  Twitter for iPhone  "
      ]
     },
     "execution_count": 157,
     "metadata": {},
     "output_type": "execute_result"
    }
   ],
   "source": [
    "df.head()"
   ]
  },
  {
   "cell_type": "code",
   "execution_count": 158,
   "id": "837f8cb2-a7ca-4877-ab7c-51dde11a2f34",
   "metadata": {},
   "outputs": [],
   "source": [
    "# imports"
   ]
  },
  {
   "cell_type": "code",
   "execution_count": 159,
   "id": "5f46d357-e680-4e9e-a89c-a99995b4bd0f",
   "metadata": {},
   "outputs": [],
   "source": [
    "%config InlineBackend.figure_format = 'retina'\n",
    "import seaborn as sns\n",
    "import matplotlib.pyplot as plt"
   ]
  },
  {
   "cell_type": "code",
   "execution_count": 160,
   "id": "46521486-b7e9-4d89-91be-9b88669e213c",
   "metadata": {},
   "outputs": [],
   "source": [
    "# distplot - favorite_count"
   ]
  },
  {
   "cell_type": "code",
   "execution_count": 161,
   "id": "d630b01d-a2df-47c3-80e8-fa858ebe788e",
   "metadata": {},
   "outputs": [
    {
     "data": {
      "text/plain": [
       "(-100.0, 30000.0)"
      ]
     },
     "execution_count": 161,
     "metadata": {},
     "output_type": "execute_result"
    },
    {
     "data": {
      "image/png": "[encoded data removed]",
      "text/plain": [
       "<Figure size 360x360 with 1 Axes>"
      ]
     },
     "metadata": {
      "image/png": {
       "height": 351,
       "width": 364
      },
      "needs_background": "light"
     },
     "output_type": "display_data"
    }
   ],
   "source": [
    "sns.displot(df.favorite_count, kde=True, color='blue');\n",
    "plt.xlim(-100,30000)"
   ]
  },
  {
   "cell_type": "code",
   "execution_count": null,
   "id": "13184353-9767-4b65-a90f-1b331a30808f",
   "metadata": {},
   "outputs": [],
   "source": []
  },
  {
   "cell_type": "code",
   "execution_count": 162,
   "id": "cad0fa06-60ff-41df-b0fa-52f709da08bd",
   "metadata": {},
   "outputs": [],
   "source": [
    "# distplot - retweet_count"
   ]
  },
  {
   "cell_type": "code",
   "execution_count": 163,
   "id": "1eed4449-2e8a-44a1-aa6d-79546233c320",
   "metadata": {},
   "outputs": [
    {
     "data": {
      "text/plain": [
       "(-100.0, 4000.0)"
      ]
     },
     "execution_count": 163,
     "metadata": {},
     "output_type": "execute_result"
    },
    {
     "data": {
      "image/png": "[encoded data removed]",
      "text/plain": [
       "<Figure size 360x360 with 1 Axes>"
      ]
     },
     "metadata": {
      "image/png": {
       "height": 351,
       "width": 365
      },
      "needs_background": "light"
     },
     "output_type": "display_data"
    }
   ],
   "source": [
    "sns.displot(df.retweet_count, kde=True, color='blue');\n",
    "plt.xlim(-100,4000 )"
   ]
  },
  {
   "cell_type": "code",
   "execution_count": null,
   "id": "0eeed5a4-7e76-4dd7-adca-d7f00b2dbf35",
   "metadata": {},
   "outputs": [],
   "source": []
  },
  {
   "cell_type": "code",
   "execution_count": 164,
   "id": "e36355b7-df2f-4480-a24f-2a22f92588b3",
   "metadata": {},
   "outputs": [],
   "source": [
    "# en beğenilen tweetler için \n",
    "\n",
    "# favorite_count > mean + std\n",
    "# retweet_count > mean + std\n",
    "\n",
    "# birlikte"
   ]
  },
  {
   "cell_type": "code",
   "execution_count": null,
   "id": "42f5baca-4349-4d4d-ab07-edb8bec3cbae",
   "metadata": {},
   "outputs": [],
   "source": []
  },
  {
   "cell_type": "markdown",
   "id": "696f6b94-ca34-45b8-965f-0d13dfa154cf",
   "metadata": {},
   "source": [
    "### Tweet-Saat Dağılımı\n",
    "Kullanıcının tweet-atılan_saat dağılımını inceleyelim...# created_at üzerinden gideceğiz..."
   ]
  },
  {
   "cell_type": "code",
   "execution_count": null,
   "id": "fdd48526-6552-4b13-96f7-0a1cc988e44c",
   "metadata": {},
   "outputs": [],
   "source": [
    "# created_at üzerinden gideceğiz..."
   ]
  },
  {
   "cell_type": "code",
   "execution_count": 166,
   "id": "3d0f77c0-a55b-425b-b077-80a4ba9821d5",
   "metadata": {},
   "outputs": [
    {
     "data": {
      "text/html": [
       "<div>\n",
       "<style scoped>\n",
       "    .dataframe tbody tr th:only-of-type {\n",
       "        vertical-align: middle;\n",
       "    }\n",
       "\n",
       "    .dataframe tbody tr th {\n",
       "        vertical-align: top;\n",
       "    }\n",
       "\n",
       "    .dataframe thead th {\n",
       "        text-align: right;\n",
       "    }\n",
       "</style>\n",
       "<table border=\"1\" class=\"dataframe\">\n",
       "  <thead>\n",
       "    <tr style=\"text-align: right;\">\n",
       "      <th></th>\n",
       "      <th>id</th>\n",
       "      <th>created_at</th>\n",
       "      <th>text</th>\n",
       "      <th>favorite_count</th>\n",
       "      <th>retweet_count</th>\n",
       "      <th>source</th>\n",
       "    </tr>\n",
       "  </thead>\n",
       "  <tbody>\n",
       "    <tr>\n",
       "      <th>0</th>\n",
       "      <td>1423992637166653443</td>\n",
       "      <td>2021-08-07 13:01:15</td>\n",
       "      <td>Sedat Peker’in söyledikleri, yazdıkları sadece...</td>\n",
       "      <td>57129</td>\n",
       "      <td>5074</td>\n",
       "      <td>Twitter for iPhone</td>\n",
       "    </tr>\n",
       "    <tr>\n",
       "      <th>1</th>\n",
       "      <td>1423907140771667974</td>\n",
       "      <td>2021-08-07 07:21:31</td>\n",
       "      <td>Harikasınız… https://t.co/oreVCVf2Ce</td>\n",
       "      <td>3218</td>\n",
       "      <td>50</td>\n",
       "      <td>Twitter for iPhone</td>\n",
       "    </tr>\n",
       "    <tr>\n",
       "      <th>2</th>\n",
       "      <td>1423907019568959489</td>\n",
       "      <td>2021-08-07 07:21:03</td>\n",
       "      <td>RT @medyafaresi: #SonDakika Busenaz Sürmeneli ...</td>\n",
       "      <td>0</td>\n",
       "      <td>43</td>\n",
       "      <td>Twitter for iPhone</td>\n",
       "    </tr>\n",
       "    <tr>\n",
       "      <th>3</th>\n",
       "      <td>1423466899514576900</td>\n",
       "      <td>2021-08-06 02:12:10</td>\n",
       "      <td>RT @fatihportakal: Korkutarak, kaba kuvvetle y...</td>\n",
       "      <td>0</td>\n",
       "      <td>315</td>\n",
       "      <td>Twitter for iPhone</td>\n",
       "    </tr>\n",
       "    <tr>\n",
       "      <th>4</th>\n",
       "      <td>1423466771823140865</td>\n",
       "      <td>2021-08-06 02:11:39</td>\n",
       "      <td>Korkutarak, kaba kuvvetle yıldıracaklarını san...</td>\n",
       "      <td>4540</td>\n",
       "      <td>315</td>\n",
       "      <td>Twitter for iPhone</td>\n",
       "    </tr>\n",
       "  </tbody>\n",
       "</table>\n",
       "</div>"
      ],
      "text/plain": [
       "                    id          created_at  \\\n",
       "0  1423992637166653443 2021-08-07 13:01:15   \n",
       "1  1423907140771667974 2021-08-07 07:21:31   \n",
       "2  1423907019568959489 2021-08-07 07:21:03   \n",
       "3  1423466899514576900 2021-08-06 02:12:10   \n",
       "4  1423466771823140865 2021-08-06 02:11:39   \n",
       "\n",
       "                                                text  favorite_count  \\\n",
       "0  Sedat Peker’in söyledikleri, yazdıkları sadece...           57129   \n",
       "1               Harikasınız… https://t.co/oreVCVf2Ce            3218   \n",
       "2  RT @medyafaresi: #SonDakika Busenaz Sürmeneli ...               0   \n",
       "3  RT @fatihportakal: Korkutarak, kaba kuvvetle y...               0   \n",
       "4  Korkutarak, kaba kuvvetle yıldıracaklarını san...            4540   \n",
       "\n",
       "   retweet_count              source  \n",
       "0           5074  Twitter for iPhone  \n",
       "1             50  Twitter for iPhone  \n",
       "2             43  Twitter for iPhone  \n",
       "3            315  Twitter for iPhone  \n",
       "4            315  Twitter for iPhone  "
      ]
     },
     "execution_count": 166,
     "metadata": {},
     "output_type": "execute_result"
    }
   ],
   "source": [
    "df.head() "
   ]
  },
  {
   "cell_type": "markdown",
   "id": "089dff5d-6827-4c1f-9e4e-1870be771138",
   "metadata": {},
   "source": [
    "#### Saatler üzerinden dağılım"
   ]
  },
  {
   "cell_type": "code",
   "execution_count": 167,
   "id": "73473b19-3d4d-4d27-98b5-62734a23727f",
   "metadata": {},
   "outputs": [],
   "source": [
    "df['tweet_saati'] = df['created_at'].apply(lambda x : x.strftime('%H')) # %H => saat için"
   ]
  },
  {
   "cell_type": "code",
   "execution_count": 170,
   "id": "c6b25a63-a885-48b8-9a8d-b621e635d510",
   "metadata": {},
   "outputs": [],
   "source": [
    "# histogram yapabilmek için saat verisini int yapmamız lazım"
   ]
  },
  {
   "cell_type": "code",
   "execution_count": 169,
   "id": "c16e6551-9acf-45bf-86c8-392f06a2cbc6",
   "metadata": {},
   "outputs": [],
   "source": [
    "df['tweet_saati'] = pd.to_numeric(df['tweet_saati'])"
   ]
  },
  {
   "cell_type": "code",
   "execution_count": 173,
   "id": "340b93d2-b72b-413c-95eb-1a384eb36dbc",
   "metadata": {},
   "outputs": [
    {
     "data": {
      "image/png": "[encoded data removed]",
      "text/plain": [
       "<Figure size 432x288 with 1 Axes>"
      ]
     },
     "metadata": {
      "image/png": {
       "height": 262,
       "width": 369
      },
      "needs_background": "light"
     },
     "output_type": "display_data"
    }
   ],
   "source": [
    "sns.distplot(df.tweet_saati,kde=False,color='blue');"
   ]
  },
  {
   "cell_type": "code",
   "execution_count": 174,
   "id": "49779289-a7fa-47b4-86f1-3e12c4921f60",
   "metadata": {},
   "outputs": [],
   "source": [
    "# 8 ile 10 arasında haber sunulduğunda peek atmış\n",
    "\n",
    "# 14-16 arası, en fazla tweet atma zamanı"
   ]
  },
  {
   "cell_type": "markdown",
   "id": "3ed8cb29-f97c-40d6-ac61-9587cf854c72",
   "metadata": {},
   "source": [
    "#### Günler üzerinden Dağılım"
   ]
  },
  {
   "cell_type": "code",
   "execution_count": 179,
   "id": "03428cd3-c175-4935-b167-0e63068c6cc6",
   "metadata": {},
   "outputs": [],
   "source": [
    "df['gunler'] = df['created_at'].dt.day_name()"
   ]
  },
  {
   "cell_type": "code",
   "execution_count": 180,
   "id": "d8a93022-e236-44ae-9f82-74a85a727996",
   "metadata": {},
   "outputs": [
    {
     "data": {
      "text/html": [
       "<div>\n",
       "<style scoped>\n",
       "    .dataframe tbody tr th:only-of-type {\n",
       "        vertical-align: middle;\n",
       "    }\n",
       "\n",
       "    .dataframe tbody tr th {\n",
       "        vertical-align: top;\n",
       "    }\n",
       "\n",
       "    .dataframe thead th {\n",
       "        text-align: right;\n",
       "    }\n",
       "</style>\n",
       "<table border=\"1\" class=\"dataframe\">\n",
       "  <thead>\n",
       "    <tr style=\"text-align: right;\">\n",
       "      <th></th>\n",
       "      <th>id</th>\n",
       "      <th>created_at</th>\n",
       "      <th>text</th>\n",
       "      <th>favorite_count</th>\n",
       "      <th>retweet_count</th>\n",
       "      <th>source</th>\n",
       "      <th>tweet_saati</th>\n",
       "      <th>gunler</th>\n",
       "    </tr>\n",
       "  </thead>\n",
       "  <tbody>\n",
       "    <tr>\n",
       "      <th>0</th>\n",
       "      <td>1423992637166653443</td>\n",
       "      <td>2021-08-07 13:01:15</td>\n",
       "      <td>Sedat Peker’in söyledikleri, yazdıkları sadece...</td>\n",
       "      <td>57129</td>\n",
       "      <td>5074</td>\n",
       "      <td>Twitter for iPhone</td>\n",
       "      <td>13</td>\n",
       "      <td>Saturday</td>\n",
       "    </tr>\n",
       "    <tr>\n",
       "      <th>1</th>\n",
       "      <td>1423907140771667974</td>\n",
       "      <td>2021-08-07 07:21:31</td>\n",
       "      <td>Harikasınız… https://t.co/oreVCVf2Ce</td>\n",
       "      <td>3218</td>\n",
       "      <td>50</td>\n",
       "      <td>Twitter for iPhone</td>\n",
       "      <td>7</td>\n",
       "      <td>Saturday</td>\n",
       "    </tr>\n",
       "    <tr>\n",
       "      <th>2</th>\n",
       "      <td>1423907019568959489</td>\n",
       "      <td>2021-08-07 07:21:03</td>\n",
       "      <td>RT @medyafaresi: #SonDakika Busenaz Sürmeneli ...</td>\n",
       "      <td>0</td>\n",
       "      <td>43</td>\n",
       "      <td>Twitter for iPhone</td>\n",
       "      <td>7</td>\n",
       "      <td>Saturday</td>\n",
       "    </tr>\n",
       "    <tr>\n",
       "      <th>3</th>\n",
       "      <td>1423466899514576900</td>\n",
       "      <td>2021-08-06 02:12:10</td>\n",
       "      <td>RT @fatihportakal: Korkutarak, kaba kuvvetle y...</td>\n",
       "      <td>0</td>\n",
       "      <td>315</td>\n",
       "      <td>Twitter for iPhone</td>\n",
       "      <td>2</td>\n",
       "      <td>Friday</td>\n",
       "    </tr>\n",
       "    <tr>\n",
       "      <th>4</th>\n",
       "      <td>1423466771823140865</td>\n",
       "      <td>2021-08-06 02:11:39</td>\n",
       "      <td>Korkutarak, kaba kuvvetle yıldıracaklarını san...</td>\n",
       "      <td>4540</td>\n",
       "      <td>315</td>\n",
       "      <td>Twitter for iPhone</td>\n",
       "      <td>2</td>\n",
       "      <td>Friday</td>\n",
       "    </tr>\n",
       "  </tbody>\n",
       "</table>\n",
       "</div>"
      ],
      "text/plain": [
       "                    id          created_at  \\\n",
       "0  1423992637166653443 2021-08-07 13:01:15   \n",
       "1  1423907140771667974 2021-08-07 07:21:31   \n",
       "2  1423907019568959489 2021-08-07 07:21:03   \n",
       "3  1423466899514576900 2021-08-06 02:12:10   \n",
       "4  1423466771823140865 2021-08-06 02:11:39   \n",
       "\n",
       "                                                text  favorite_count  \\\n",
       "0  Sedat Peker’in söyledikleri, yazdıkları sadece...           57129   \n",
       "1               Harikasınız… https://t.co/oreVCVf2Ce            3218   \n",
       "2  RT @medyafaresi: #SonDakika Busenaz Sürmeneli ...               0   \n",
       "3  RT @fatihportakal: Korkutarak, kaba kuvvetle y...               0   \n",
       "4  Korkutarak, kaba kuvvetle yıldıracaklarını san...            4540   \n",
       "\n",
       "   retweet_count              source  tweet_saati    gunler  \n",
       "0           5074  Twitter for iPhone           13  Saturday  \n",
       "1             50  Twitter for iPhone            7  Saturday  \n",
       "2             43  Twitter for iPhone            7  Saturday  \n",
       "3            315  Twitter for iPhone            2    Friday  \n",
       "4            315  Twitter for iPhone            2    Friday  "
      ]
     },
     "execution_count": 180,
     "metadata": {},
     "output_type": "execute_result"
    }
   ],
   "source": [
    "df.head()"
   ]
  },
  {
   "cell_type": "code",
   "execution_count": 181,
   "id": "a43e0143-f5ab-4fee-a779-4ce109f7765d",
   "metadata": {},
   "outputs": [],
   "source": [
    "# barplot"
   ]
  },
  {
   "cell_type": "code",
   "execution_count": 191,
   "id": "3fe1fd82-de25-436a-8fc8-c1bf8b78706d",
   "metadata": {},
   "outputs": [],
   "source": [
    "day_freq = df.groupby('gunler').count()['id']"
   ]
  },
  {
   "cell_type": "code",
   "execution_count": 192,
   "id": "d4859f99-9377-48fa-bdc7-8358fc5d5a89",
   "metadata": {},
   "outputs": [
    {
     "data": {
      "image/png": "[encoded data removed]",
      "text/plain": [
       "<Figure size 432x288 with 1 Axes>"
      ]
     },
     "metadata": {
      "image/png": {
       "height": 248,
       "width": 427
      },
      "needs_background": "light"
     },
     "output_type": "display_data"
    }
   ],
   "source": [
    "day_freq.plot.barh();"
   ]
  },
  {
   "cell_type": "code",
   "execution_count": null,
   "id": "040eb075-892b-4b37-aaa6-55eafab637b1",
   "metadata": {},
   "outputs": [],
   "source": []
  },
  {
   "cell_type": "markdown",
   "id": "0f8d7f88-ad8f-4e09-b1d4-71cac9a89ebc",
   "metadata": {},
   "source": [
    "### Tweet Atma Kaynakların Belirlenmesi"
   ]
  },
  {
   "cell_type": "code",
   "execution_count": 188,
   "id": "5c26d1f8-f834-4312-8f91-4047a1099253",
   "metadata": {},
   "outputs": [],
   "source": [
    "# kaynakları kullanma sıklığının değeri"
   ]
  },
  {
   "cell_type": "code",
   "execution_count": 187,
   "id": "1ff248d4-6961-4717-afe2-999764f9d80b",
   "metadata": {},
   "outputs": [],
   "source": [
    "device_freq = df.groupby('source').count()['id']"
   ]
  },
  {
   "cell_type": "code",
   "execution_count": 189,
   "id": "be48ba90-5d11-4eca-a6d9-7bcd239fd92f",
   "metadata": {},
   "outputs": [
    {
     "data": {
      "image/png": "[encoded data removed]",
      "text/plain": [
       "<Figure size 432x288 with 1 Axes>"
      ]
     },
     "metadata": {
      "image/png": {
       "height": 248,
       "width": 457
      },
      "needs_background": "light"
     },
     "output_type": "display_data"
    }
   ],
   "source": [
    "device_freq.plot.barh();"
   ]
  },
  {
   "cell_type": "code",
   "execution_count": 190,
   "id": "7cad0c36-a689-4aca-a3bd-31ca8a727cc0",
   "metadata": {},
   "outputs": [],
   "source": [
    "# pivot tablo ile saat aralığına bakmak"
   ]
  },
  {
   "cell_type": "code",
   "execution_count": 194,
   "id": "5f6fa9c5-2b5d-4ed1-a764-2e1cc3f6696d",
   "metadata": {},
   "outputs": [
    {
     "data": {
      "text/html": [
       "<div>\n",
       "<style scoped>\n",
       "    .dataframe tbody tr th:only-of-type {\n",
       "        vertical-align: middle;\n",
       "    }\n",
       "\n",
       "    .dataframe tbody tr th {\n",
       "        vertical-align: top;\n",
       "    }\n",
       "\n",
       "    .dataframe thead th {\n",
       "        text-align: right;\n",
       "    }\n",
       "</style>\n",
       "<table border=\"1\" class=\"dataframe\">\n",
       "  <thead>\n",
       "    <tr style=\"text-align: right;\">\n",
       "      <th></th>\n",
       "      <th></th>\n",
       "      <th></th>\n",
       "      <th>tweet_saati</th>\n",
       "    </tr>\n",
       "    <tr>\n",
       "      <th>source</th>\n",
       "      <th>tweet_saati</th>\n",
       "      <th>gunler</th>\n",
       "      <th></th>\n",
       "    </tr>\n",
       "  </thead>\n",
       "  <tbody>\n",
       "    <tr>\n",
       "      <th rowspan=\"11\" valign=\"top\">Twitter for iPhone</th>\n",
       "      <th>1</th>\n",
       "      <th>Wednesday</th>\n",
       "      <td>1</td>\n",
       "    </tr>\n",
       "    <tr>\n",
       "      <th>2</th>\n",
       "      <th>Friday</th>\n",
       "      <td>2</td>\n",
       "    </tr>\n",
       "    <tr>\n",
       "      <th rowspan=\"2\" valign=\"top\">3</th>\n",
       "      <th>Saturday</th>\n",
       "      <td>1</td>\n",
       "    </tr>\n",
       "    <tr>\n",
       "      <th>Sunday</th>\n",
       "      <td>2</td>\n",
       "    </tr>\n",
       "    <tr>\n",
       "      <th>4</th>\n",
       "      <th>Friday</th>\n",
       "      <td>3</td>\n",
       "    </tr>\n",
       "    <tr>\n",
       "      <th>...</th>\n",
       "      <th>...</th>\n",
       "      <td>...</td>\n",
       "    </tr>\n",
       "    <tr>\n",
       "      <th rowspan=\"3\" valign=\"top\">19</th>\n",
       "      <th>Thursday</th>\n",
       "      <td>1</td>\n",
       "    </tr>\n",
       "    <tr>\n",
       "      <th>Tuesday</th>\n",
       "      <td>1</td>\n",
       "    </tr>\n",
       "    <tr>\n",
       "      <th>Wednesday</th>\n",
       "      <td>1</td>\n",
       "    </tr>\n",
       "    <tr>\n",
       "      <th>20</th>\n",
       "      <th>Thursday</th>\n",
       "      <td>1</td>\n",
       "    </tr>\n",
       "    <tr>\n",
       "      <th>22</th>\n",
       "      <th>Wednesday</th>\n",
       "      <td>1</td>\n",
       "    </tr>\n",
       "  </tbody>\n",
       "</table>\n",
       "<p>80 rows × 1 columns</p>\n",
       "</div>"
      ],
      "text/plain": [
       "                                          tweet_saati\n",
       "source             tweet_saati gunler                \n",
       "Twitter for iPhone 1           Wednesday            1\n",
       "                   2           Friday               2\n",
       "                   3           Saturday             1\n",
       "                               Sunday               2\n",
       "                   4           Friday               3\n",
       "...                                               ...\n",
       "                   19          Thursday             1\n",
       "                               Tuesday              1\n",
       "                               Wednesday            1\n",
       "                   20          Thursday             1\n",
       "                   22          Wednesday            1\n",
       "\n",
       "[80 rows x 1 columns]"
      ]
     },
     "execution_count": 194,
     "metadata": {},
     "output_type": "execute_result"
    }
   ],
   "source": [
    "df.groupby(['source','tweet_saati','gunler'])[['tweet_saati']].count()"
   ]
  },
  {
   "cell_type": "code",
   "execution_count": null,
   "id": "85afe6de-0659-4b9d-a332-fb8235a5b4f4",
   "metadata": {},
   "outputs": [],
   "source": []
  },
  {
   "cell_type": "markdown",
   "id": "c34d728a-5b77-4f70-a7a5-d0430c4d0148",
   "metadata": {},
   "source": [
    "### Takipçi ve Arkadaşların Analizi"
   ]
  },
  {
   "cell_type": "code",
   "execution_count": 195,
   "id": "6554ad63-30de-463f-95aa-b665ce4372e9",
   "metadata": {},
   "outputs": [],
   "source": [
    "user = api.get_user(id = 'fatihportakal')"
   ]
  },
  {
   "cell_type": "code",
   "execution_count": 197,
   "id": "5404ec7e-d822-44e9-b6ba-08061e070f3c",
   "metadata": {},
   "outputs": [],
   "source": [
    "# followers"
   ]
  },
  {
   "cell_type": "code",
   "execution_count": 198,
   "id": "ffa34e11-5cf1-4041-b559-e9a78e0cbbd6",
   "metadata": {},
   "outputs": [
    {
     "name": "stdout",
     "output_type": "stream",
     "text": [
      "murvet_altintas\n",
      "kaan20002\n",
      "Diyar_65Ka\n",
      "Emirhan16059204\n",
      "Saffetoban1\n",
      "HseyinT60662870\n",
      "fusun47467416\n",
      "msezer4587\n",
      "SundusEmine\n",
      "CevriyeErdogan6\n",
      "emine_uzunoglu\n",
      "atszsosylg1283\n",
      "nigerianjoev2\n",
      "Mustafa76448652\n",
      "ozlemseren4\n",
      "MerveKA98276173\n",
      "korkaksuriyeli\n",
      "pilavc_ismail\n",
      "SibelKayaldere2\n",
      "gormezzafer1978\n"
     ]
    }
   ],
   "source": [
    "for friend in user.followers():\n",
    "    print(friend.screen_name)"
   ]
  },
  {
   "cell_type": "code",
   "execution_count": 199,
   "id": "1dd9a426-3dd8-4de5-af78-00e9b66440ed",
   "metadata": {},
   "outputs": [],
   "source": [
    "# friends"
   ]
  },
  {
   "cell_type": "code",
   "execution_count": 200,
   "id": "328c6315-8fe8-467d-8333-63e35643eccb",
   "metadata": {},
   "outputs": [
    {
     "name": "stdout",
     "output_type": "stream",
     "text": [
      "blend1601\n",
      "sorgulayankitap\n",
      "armaganportakal\n"
     ]
    }
   ],
   "source": [
    "for friend in user.friends():\n",
    "    print(friend.screen_name)"
   ]
  },
  {
   "cell_type": "code",
   "execution_count": 201,
   "id": "96d6f948-e174-438f-be1b-8cf6f5ffda0b",
   "metadata": {},
   "outputs": [],
   "source": [
    "friends = user.friends()\n",
    "followers = user.followers()"
   ]
  },
  {
   "cell_type": "code",
   "execution_count": null,
   "id": "87ea41ef-45b5-4e55-9f3c-f57b4ef4bd8a",
   "metadata": {},
   "outputs": [],
   "source": []
  },
  {
   "cell_type": "code",
   "execution_count": 204,
   "id": "49b98116-f82b-4f5d-8af2-263ffedd18f9",
   "metadata": {},
   "outputs": [],
   "source": [
    "import pandas as pd\n",
    "\n",
    "def friends_df(takipçi):\n",
    "    \n",
    "    data = [[k.id,\n",
    "             k.created_at,\n",
    "             k.screen_name,\n",
    "             k.location,\n",
    "             k.followers_count,\n",
    "             k.statuses_count,\n",
    "             k.friends_count,\n",
    "             k.favourites_count] for k in takipçi]\n",
    "    \n",
    "    \n",
    "    columns = ['id','created_at','screen_name','location','followers_count','statuses_count','friends_count','favourites_count']\n",
    "    \n",
    "    return pd.DataFrame(data,columns=columns)"
   ]
  },
  {
   "cell_type": "code",
   "execution_count": 206,
   "id": "ed096324-11f5-4800-8b76-5a2c2a11aa64",
   "metadata": {},
   "outputs": [
    {
     "data": {
      "text/html": [
       "<div>\n",
       "<style scoped>\n",
       "    .dataframe tbody tr th:only-of-type {\n",
       "        vertical-align: middle;\n",
       "    }\n",
       "\n",
       "    .dataframe tbody tr th {\n",
       "        vertical-align: top;\n",
       "    }\n",
       "\n",
       "    .dataframe thead th {\n",
       "        text-align: right;\n",
       "    }\n",
       "</style>\n",
       "<table border=\"1\" class=\"dataframe\">\n",
       "  <thead>\n",
       "    <tr style=\"text-align: right;\">\n",
       "      <th></th>\n",
       "      <th>id</th>\n",
       "      <th>created_at</th>\n",
       "      <th>screen_name</th>\n",
       "      <th>location</th>\n",
       "      <th>followers_count</th>\n",
       "      <th>statuses_count</th>\n",
       "      <th>friends_count</th>\n",
       "      <th>favourites_count</th>\n",
       "    </tr>\n",
       "  </thead>\n",
       "  <tbody>\n",
       "    <tr>\n",
       "      <th>0</th>\n",
       "      <td>421889545</td>\n",
       "      <td>2011-11-26 14:31:41</td>\n",
       "      <td>salihakopan</td>\n",
       "      <td></td>\n",
       "      <td>2</td>\n",
       "      <td>5</td>\n",
       "      <td>66</td>\n",
       "      <td>25</td>\n",
       "    </tr>\n",
       "    <tr>\n",
       "      <th>1</th>\n",
       "      <td>1424451114943057923</td>\n",
       "      <td>2021-08-08 19:23:52</td>\n",
       "      <td>AliDurmuscelebi</td>\n",
       "      <td></td>\n",
       "      <td>0</td>\n",
       "      <td>0</td>\n",
       "      <td>35</td>\n",
       "      <td>0</td>\n",
       "    </tr>\n",
       "    <tr>\n",
       "      <th>2</th>\n",
       "      <td>1307699736615555079</td>\n",
       "      <td>2020-09-20 15:15:12</td>\n",
       "      <td>yakupel07234940</td>\n",
       "      <td></td>\n",
       "      <td>0</td>\n",
       "      <td>1</td>\n",
       "      <td>34</td>\n",
       "      <td>6</td>\n",
       "    </tr>\n",
       "    <tr>\n",
       "      <th>3</th>\n",
       "      <td>1424450161590288389</td>\n",
       "      <td>2021-08-08 19:19:41</td>\n",
       "      <td>murvet_altintas</td>\n",
       "      <td></td>\n",
       "      <td>0</td>\n",
       "      <td>0</td>\n",
       "      <td>44</td>\n",
       "      <td>0</td>\n",
       "    </tr>\n",
       "    <tr>\n",
       "      <th>4</th>\n",
       "      <td>113311964</td>\n",
       "      <td>2010-02-11 10:40:23</td>\n",
       "      <td>kaan20002</td>\n",
       "      <td></td>\n",
       "      <td>15</td>\n",
       "      <td>682</td>\n",
       "      <td>67</td>\n",
       "      <td>263</td>\n",
       "    </tr>\n",
       "    <tr>\n",
       "      <th>5</th>\n",
       "      <td>1424449866999205892</td>\n",
       "      <td>2021-08-08 19:19:09</td>\n",
       "      <td>Diyar_65Ka</td>\n",
       "      <td></td>\n",
       "      <td>0</td>\n",
       "      <td>0</td>\n",
       "      <td>17</td>\n",
       "      <td>3</td>\n",
       "    </tr>\n",
       "    <tr>\n",
       "      <th>6</th>\n",
       "      <td>1424339053168758785</td>\n",
       "      <td>2021-08-08 11:57:55</td>\n",
       "      <td>Emirhan16059204</td>\n",
       "      <td></td>\n",
       "      <td>0</td>\n",
       "      <td>0</td>\n",
       "      <td>9</td>\n",
       "      <td>0</td>\n",
       "    </tr>\n",
       "    <tr>\n",
       "      <th>7</th>\n",
       "      <td>1424426471406424241</td>\n",
       "      <td>2021-08-08 17:46:18</td>\n",
       "      <td>Saffetoban1</td>\n",
       "      <td></td>\n",
       "      <td>0</td>\n",
       "      <td>0</td>\n",
       "      <td>57</td>\n",
       "      <td>0</td>\n",
       "    </tr>\n",
       "    <tr>\n",
       "      <th>8</th>\n",
       "      <td>1422295093973856260</td>\n",
       "      <td>2021-08-02 20:36:44</td>\n",
       "      <td>HseyinT60662870</td>\n",
       "      <td></td>\n",
       "      <td>0</td>\n",
       "      <td>0</td>\n",
       "      <td>21</td>\n",
       "      <td>0</td>\n",
       "    </tr>\n",
       "    <tr>\n",
       "      <th>9</th>\n",
       "      <td>1369963365695696898</td>\n",
       "      <td>2021-03-11 10:48:36</td>\n",
       "      <td>fusun47467416</td>\n",
       "      <td></td>\n",
       "      <td>0</td>\n",
       "      <td>0</td>\n",
       "      <td>10</td>\n",
       "      <td>0</td>\n",
       "    </tr>\n",
       "    <tr>\n",
       "      <th>10</th>\n",
       "      <td>1381891645428408321</td>\n",
       "      <td>2021-04-13 08:47:11</td>\n",
       "      <td>msezer4587</td>\n",
       "      <td></td>\n",
       "      <td>141</td>\n",
       "      <td>2748</td>\n",
       "      <td>804</td>\n",
       "      <td>6601</td>\n",
       "    </tr>\n",
       "    <tr>\n",
       "      <th>11</th>\n",
       "      <td>1424452390426714112</td>\n",
       "      <td>2021-08-08 19:28:20</td>\n",
       "      <td>SundusEmine</td>\n",
       "      <td></td>\n",
       "      <td>0</td>\n",
       "      <td>0</td>\n",
       "      <td>7</td>\n",
       "      <td>0</td>\n",
       "    </tr>\n",
       "    <tr>\n",
       "      <th>12</th>\n",
       "      <td>1424451403158798340</td>\n",
       "      <td>2021-08-08 19:24:49</td>\n",
       "      <td>CevriyeErdogan6</td>\n",
       "      <td></td>\n",
       "      <td>0</td>\n",
       "      <td>0</td>\n",
       "      <td>34</td>\n",
       "      <td>0</td>\n",
       "    </tr>\n",
       "    <tr>\n",
       "      <th>13</th>\n",
       "      <td>3430461585</td>\n",
       "      <td>2015-08-18 19:58:38</td>\n",
       "      <td>emine_uzunoglu</td>\n",
       "      <td></td>\n",
       "      <td>17</td>\n",
       "      <td>1</td>\n",
       "      <td>36</td>\n",
       "      <td>60</td>\n",
       "    </tr>\n",
       "    <tr>\n",
       "      <th>14</th>\n",
       "      <td>1419310542334930948</td>\n",
       "      <td>2021-07-25 14:56:31</td>\n",
       "      <td>atszsosylg1283</td>\n",
       "      <td></td>\n",
       "      <td>23</td>\n",
       "      <td>1</td>\n",
       "      <td>774</td>\n",
       "      <td>128</td>\n",
       "    </tr>\n",
       "    <tr>\n",
       "      <th>15</th>\n",
       "      <td>1366855792863940752</td>\n",
       "      <td>2021-03-02 20:59:58</td>\n",
       "      <td>nigerianjoev2</td>\n",
       "      <td></td>\n",
       "      <td>0</td>\n",
       "      <td>36</td>\n",
       "      <td>59</td>\n",
       "      <td>5</td>\n",
       "    </tr>\n",
       "    <tr>\n",
       "      <th>16</th>\n",
       "      <td>1424373318434574351</td>\n",
       "      <td>2021-08-08 14:14:12</td>\n",
       "      <td>Mustafa76448652</td>\n",
       "      <td></td>\n",
       "      <td>0</td>\n",
       "      <td>5</td>\n",
       "      <td>72</td>\n",
       "      <td>0</td>\n",
       "    </tr>\n",
       "    <tr>\n",
       "      <th>17</th>\n",
       "      <td>1424451347382943752</td>\n",
       "      <td>2021-08-08 19:24:27</td>\n",
       "      <td>ozlemseren4</td>\n",
       "      <td></td>\n",
       "      <td>0</td>\n",
       "      <td>0</td>\n",
       "      <td>15</td>\n",
       "      <td>0</td>\n",
       "    </tr>\n",
       "    <tr>\n",
       "      <th>18</th>\n",
       "      <td>1133800381023182849</td>\n",
       "      <td>2019-05-29 18:20:50</td>\n",
       "      <td>MerveKA98276173</td>\n",
       "      <td>İstanbul, Türkiye</td>\n",
       "      <td>10</td>\n",
       "      <td>82</td>\n",
       "      <td>48</td>\n",
       "      <td>738</td>\n",
       "    </tr>\n",
       "    <tr>\n",
       "      <th>19</th>\n",
       "      <td>1363930349911293955</td>\n",
       "      <td>2021-02-22 19:15:22</td>\n",
       "      <td>korkaksuriyeli</td>\n",
       "      <td></td>\n",
       "      <td>0</td>\n",
       "      <td>14</td>\n",
       "      <td>25</td>\n",
       "      <td>0</td>\n",
       "    </tr>\n",
       "  </tbody>\n",
       "</table>\n",
       "</div>"
      ],
      "text/plain": [
       "                     id          created_at      screen_name  \\\n",
       "0             421889545 2011-11-26 14:31:41      salihakopan   \n",
       "1   1424451114943057923 2021-08-08 19:23:52  AliDurmuscelebi   \n",
       "2   1307699736615555079 2020-09-20 15:15:12  yakupel07234940   \n",
       "3   1424450161590288389 2021-08-08 19:19:41  murvet_altintas   \n",
       "4             113311964 2010-02-11 10:40:23        kaan20002   \n",
       "5   1424449866999205892 2021-08-08 19:19:09       Diyar_65Ka   \n",
       "6   1424339053168758785 2021-08-08 11:57:55  Emirhan16059204   \n",
       "7   1424426471406424241 2021-08-08 17:46:18      Saffetoban1   \n",
       "8   1422295093973856260 2021-08-02 20:36:44  HseyinT60662870   \n",
       "9   1369963365695696898 2021-03-11 10:48:36    fusun47467416   \n",
       "10  1381891645428408321 2021-04-13 08:47:11       msezer4587   \n",
       "11  1424452390426714112 2021-08-08 19:28:20      SundusEmine   \n",
       "12  1424451403158798340 2021-08-08 19:24:49  CevriyeErdogan6   \n",
       "13           3430461585 2015-08-18 19:58:38   emine_uzunoglu   \n",
       "14  1419310542334930948 2021-07-25 14:56:31   atszsosylg1283   \n",
       "15  1366855792863940752 2021-03-02 20:59:58    nigerianjoev2   \n",
       "16  1424373318434574351 2021-08-08 14:14:12  Mustafa76448652   \n",
       "17  1424451347382943752 2021-08-08 19:24:27      ozlemseren4   \n",
       "18  1133800381023182849 2019-05-29 18:20:50  MerveKA98276173   \n",
       "19  1363930349911293955 2021-02-22 19:15:22   korkaksuriyeli   \n",
       "\n",
       "             location  followers_count  statuses_count  friends_count  \\\n",
       "0                                    2               5             66   \n",
       "1                                    0               0             35   \n",
       "2                                    0               1             34   \n",
       "3                                    0               0             44   \n",
       "4                                   15             682             67   \n",
       "5                                    0               0             17   \n",
       "6                                    0               0              9   \n",
       "7                                    0               0             57   \n",
       "8                                    0               0             21   \n",
       "9                                    0               0             10   \n",
       "10                                 141            2748            804   \n",
       "11                                   0               0              7   \n",
       "12                                   0               0             34   \n",
       "13                                  17               1             36   \n",
       "14                                  23               1            774   \n",
       "15                                   0              36             59   \n",
       "16                                   0               5             72   \n",
       "17                                   0               0             15   \n",
       "18  İstanbul, Türkiye               10              82             48   \n",
       "19                                   0              14             25   \n",
       "\n",
       "    favourites_count  \n",
       "0                 25  \n",
       "1                  0  \n",
       "2                  6  \n",
       "3                  0  \n",
       "4                263  \n",
       "5                  3  \n",
       "6                  0  \n",
       "7                  0  \n",
       "8                  0  \n",
       "9                  0  \n",
       "10              6601  \n",
       "11                 0  \n",
       "12                 0  \n",
       "13                60  \n",
       "14               128  \n",
       "15                 5  \n",
       "16                 0  \n",
       "17                 0  \n",
       "18               738  \n",
       "19                 0  "
      ]
     },
     "execution_count": 206,
     "metadata": {},
     "output_type": "execute_result"
    }
   ],
   "source": [
    "friends_df(followers)"
   ]
  },
  {
   "cell_type": "code",
   "execution_count": null,
   "id": "f7becd1a-5786-408f-baa1-74f97d6bd6ca",
   "metadata": {},
   "outputs": [],
   "source": []
  },
  {
   "cell_type": "code",
   "execution_count": null,
   "id": "56fb06aa-fd98-4651-9935-23c5d3444db2",
   "metadata": {},
   "outputs": [],
   "source": []
  },
  {
   "cell_type": "code",
   "execution_count": null,
   "id": "93c634e9-5ff4-4cb3-bf2c-48c1ca629b24",
   "metadata": {},
   "outputs": [],
   "source": []
  },
  {
   "cell_type": "code",
   "execution_count": null,
   "id": "a8ea1acc-e5a1-473b-8f0c-661a54a6006c",
   "metadata": {},
   "outputs": [],
   "source": []
  },
  {
   "cell_type": "code",
   "execution_count": null,
   "id": "3a46c112-c0a5-4a1d-bfd2-afad440ae06d",
   "metadata": {},
   "outputs": [],
   "source": []
  }
 ],
 "metadata": {
  "kernelspec": {
   "display_name": "Python 3 (ipykernel)",
   "language": "python",
   "name": "python3"
  },
  "language_info": {
   "codemirror_mode": {
    "name": "ipython",
    "version": 3
   },
   "file_extension": ".py",
   "mimetype": "text/x-python",
   "name": "python",
   "nbconvert_exporter": "python",
   "pygments_lexer": "ipython3",
   "version": "3.8.10"
  }
 },
 "nbformat": 4,
 "nbformat_minor": 5
}
