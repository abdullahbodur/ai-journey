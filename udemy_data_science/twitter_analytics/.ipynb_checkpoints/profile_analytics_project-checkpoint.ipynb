{
 "cells": [
  {
   "cell_type": "code",
   "execution_count": 4,
   "id": "82225efb-aa58-47ef-bfd6-98cc8b4a32d8",
   "metadata": {},
   "outputs": [],
   "source": [
    "from warnings import filterwarnings\n",
    "filterwarnings('ignore')"
   ]
  },
  {
   "cell_type": "code",
   "execution_count": null,
   "id": "f5565c8c-2a32-48ae-a04d-a2a19dee0084",
   "metadata": {},
   "outputs": [],
   "source": []
  },
  {
   "cell_type": "markdown",
   "id": "42906843-72c1-417d-8149-397e85afcf5f",
   "metadata": {},
   "source": [
    "## API Bağlantısının Yapılması"
   ]
  },
  {
   "cell_type": "code",
   "execution_count": 5,
   "id": "5aecb0a3-011d-49ec-ac43-0130ab57a845",
   "metadata": {},
   "outputs": [],
   "source": [
    "import tweepy,codecs"
   ]
  },
  {
   "cell_type": "code",
   "execution_count": 6,
   "id": "e80e08ed-13d5-4a2d-8a77-0e28269ad646",
   "metadata": {},
   "outputs": [],
   "source": [
    "# keys"
   ]
  },
  {
   "cell_type": "code",
   "execution_count": 7,
   "id": "986abea1-3815-4e2b-92f6-01ad27ead0e5",
   "metadata": {},
   "outputs": [],
   "source": [
    "consumer_key = 'GoZTyDDaHOQ1YreBZViTyDFTE'\n",
    "consumer_secret = 'YxUt3pGFfkmCHz6Mbo77dLhPA1dCPilyDQXpXg8bz0e97Ssp7B'\n",
    "access_token = '967443566648872961-Q8gso7kaTOF2fD9Lm9INadLKF2qCH9B'\n",
    "access_token_secret = 'QYKILttsvXVqg9aerSGuTJGiCbk6AVLMJKnZJEd80qTaZ'\n",
    "\n",
    "auth = tweepy.OAuthHandler(consumer_key,consumer_secret)\n",
    "auth.set_access_token(access_token,access_token_secret)\n",
    "api = tweepy.API(auth)"
   ]
  },
  {
   "cell_type": "markdown",
   "id": "0f08a865-dd6f-4320-ada6-b4a4a40d7384",
   "metadata": {},
   "source": [
    "## Takipçi Segmentasyonu\n",
    "amacımız takipçilerimiz analiz edip takipçilerimizin kendi tweet etki güçlerini ölçmek istiyoruz..."
   ]
  },
  {
   "cell_type": "code",
   "execution_count": 9,
   "id": "9c589306-59d2-44d1-b062-35983071473b",
   "metadata": {},
   "outputs": [],
   "source": [
    "user = api.get_user(id = 'fatihportakal')"
   ]
  },
  {
   "cell_type": "code",
   "execution_count": 10,
   "id": "6d87a81b-af04-4242-af3c-2fed2a428cfd",
   "metadata": {},
   "outputs": [],
   "source": [
    "followers = user.followers()"
   ]
  },
  {
   "cell_type": "code",
   "execution_count": 12,
   "id": "89dde5b7-a029-4f99-b92a-e19337c30e01",
   "metadata": {},
   "outputs": [],
   "source": [
    "import pandas as pd\n",
    "\n",
    "def friends_df(takipçi):\n",
    "    \n",
    "    data = [[k.id,\n",
    "             k.created_at,\n",
    "             k.screen_name,\n",
    "             k.location,\n",
    "             k.followers_count,\n",
    "             k.statuses_count,\n",
    "             k.friends_count,\n",
    "             k.favourites_count] for k in takipçi]\n",
    "    \n",
    "    \n",
    "    columns = ['id','created_at','screen_name','location','followers_count','statuses_count','friends_count','favourites_count']\n",
    "    \n",
    "    return pd.DataFrame(data,columns=columns)"
   ]
  },
  {
   "cell_type": "code",
   "execution_count": 14,
   "id": "00d83ea5-81c1-4727-a444-f45ad15cdc79",
   "metadata": {},
   "outputs": [],
   "source": [
    "df = friends_df(followers)"
   ]
  },
  {
   "cell_type": "code",
   "execution_count": null,
   "id": "140456b2-b01a-4db0-9332-9c796fae78ec",
   "metadata": {},
   "outputs": [],
   "source": []
  },
  {
   "cell_type": "code",
   "execution_count": 15,
   "id": "dcd439b4-0c03-4afb-ab6f-232f612c2e9e",
   "metadata": {},
   "outputs": [
    {
     "data": {
      "text/html": [
       "<div>\n",
       "<style scoped>\n",
       "    .dataframe tbody tr th:only-of-type {\n",
       "        vertical-align: middle;\n",
       "    }\n",
       "\n",
       "    .dataframe tbody tr th {\n",
       "        vertical-align: top;\n",
       "    }\n",
       "\n",
       "    .dataframe thead th {\n",
       "        text-align: right;\n",
       "    }\n",
       "</style>\n",
       "<table border=\"1\" class=\"dataframe\">\n",
       "  <thead>\n",
       "    <tr style=\"text-align: right;\">\n",
       "      <th></th>\n",
       "      <th>id</th>\n",
       "      <th>created_at</th>\n",
       "      <th>screen_name</th>\n",
       "      <th>location</th>\n",
       "      <th>followers_count</th>\n",
       "      <th>statuses_count</th>\n",
       "      <th>friends_count</th>\n",
       "      <th>favourites_count</th>\n",
       "    </tr>\n",
       "  </thead>\n",
       "  <tbody>\n",
       "    <tr>\n",
       "      <th>0</th>\n",
       "      <td>1423073121729454088</td>\n",
       "      <td>2021-08-05 00:07:28</td>\n",
       "      <td>Meryem51853387</td>\n",
       "      <td></td>\n",
       "      <td>174</td>\n",
       "      <td>0</td>\n",
       "      <td>11</td>\n",
       "      <td>0</td>\n",
       "    </tr>\n",
       "    <tr>\n",
       "      <th>1</th>\n",
       "      <td>827073211649159168</td>\n",
       "      <td>2017-02-02 08:36:34</td>\n",
       "      <td>Mhrgl01</td>\n",
       "      <td>Midyat, Türkiye</td>\n",
       "      <td>21</td>\n",
       "      <td>548</td>\n",
       "      <td>33</td>\n",
       "      <td>158</td>\n",
       "    </tr>\n",
       "    <tr>\n",
       "      <th>2</th>\n",
       "      <td>1424463017207607302</td>\n",
       "      <td>2021-08-08 20:10:50</td>\n",
       "      <td>Altindararzu89</td>\n",
       "      <td></td>\n",
       "      <td>0</td>\n",
       "      <td>0</td>\n",
       "      <td>9</td>\n",
       "      <td>0</td>\n",
       "    </tr>\n",
       "    <tr>\n",
       "      <th>3</th>\n",
       "      <td>1424235238323015682</td>\n",
       "      <td>2021-08-08 05:05:37</td>\n",
       "      <td>MehmetBozaciog2</td>\n",
       "      <td></td>\n",
       "      <td>0</td>\n",
       "      <td>2</td>\n",
       "      <td>24</td>\n",
       "      <td>1</td>\n",
       "    </tr>\n",
       "    <tr>\n",
       "      <th>4</th>\n",
       "      <td>1424463355864092678</td>\n",
       "      <td>2021-08-08 20:11:56</td>\n",
       "      <td>iamSoulflyy</td>\n",
       "      <td></td>\n",
       "      <td>0</td>\n",
       "      <td>0</td>\n",
       "      <td>5</td>\n",
       "      <td>0</td>\n",
       "    </tr>\n",
       "  </tbody>\n",
       "</table>\n",
       "</div>"
      ],
      "text/plain": [
       "                    id          created_at      screen_name         location  \\\n",
       "0  1423073121729454088 2021-08-05 00:07:28   Meryem51853387                    \n",
       "1   827073211649159168 2017-02-02 08:36:34          Mhrgl01  Midyat, Türkiye   \n",
       "2  1424463017207607302 2021-08-08 20:10:50   Altindararzu89                    \n",
       "3  1424235238323015682 2021-08-08 05:05:37  MehmetBozaciog2                    \n",
       "4  1424463355864092678 2021-08-08 20:11:56      iamSoulflyy                    \n",
       "\n",
       "   followers_count  statuses_count  friends_count  favourites_count  \n",
       "0              174               0             11                 0  \n",
       "1               21             548             33               158  \n",
       "2                0               0              9                 0  \n",
       "3                0               2             24                 1  \n",
       "4                0               0              5                 0  "
      ]
     },
     "execution_count": 15,
     "metadata": {},
     "output_type": "execute_result"
    }
   ],
   "source": [
    "df.head()"
   ]
  },
  {
   "cell_type": "code",
   "execution_count": 16,
   "id": "ceff2977-1102-4713-a3c7-74af48c767f6",
   "metadata": {},
   "outputs": [],
   "source": [
    "# screen_name => index"
   ]
  },
  {
   "cell_type": "code",
   "execution_count": 17,
   "id": "532d6ec7-c32c-4bf7-a3eb-d5978cf7a9c4",
   "metadata": {},
   "outputs": [],
   "source": [
    "df.index = df.screen_name"
   ]
  },
  {
   "cell_type": "code",
   "execution_count": 19,
   "id": "bd077e1a-2fb1-4c09-98a0-c02a3ceb2b55",
   "metadata": {},
   "outputs": [],
   "source": [
    "# segmentasyon datasını seçelim"
   ]
  },
  {
   "cell_type": "code",
   "execution_count": 20,
   "id": "cebfe26b-0d22-4423-b17a-a0b830533678",
   "metadata": {},
   "outputs": [],
   "source": [
    "s_data = df[['followers_count','statuses_count']]"
   ]
  },
  {
   "cell_type": "code",
   "execution_count": 21,
   "id": "d3185345-9dff-4db0-aa02-95f411128609",
   "metadata": {},
   "outputs": [
    {
     "name": "stdout",
     "output_type": "stream",
     "text": [
      "<class 'pandas.core.frame.DataFrame'>\n",
      "Index: 20 entries, Meryem51853387 to Unal0311\n",
      "Data columns (total 2 columns):\n",
      " #   Column           Non-Null Count  Dtype\n",
      "---  ------           --------------  -----\n",
      " 0   followers_count  20 non-null     int64\n",
      " 1   statuses_count   20 non-null     int64\n",
      "dtypes: int64(2)\n",
      "memory usage: 480.0+ bytes\n"
     ]
    }
   ],
   "source": [
    "s_data.info()"
   ]
  },
  {
   "cell_type": "code",
   "execution_count": 23,
   "id": "b8194dbe-f141-4b0b-aa17-ca6d3d681ef4",
   "metadata": {},
   "outputs": [
    {
     "data": {
      "text/html": [
       "<div>\n",
       "<style scoped>\n",
       "    .dataframe tbody tr th:only-of-type {\n",
       "        vertical-align: middle;\n",
       "    }\n",
       "\n",
       "    .dataframe tbody tr th {\n",
       "        vertical-align: top;\n",
       "    }\n",
       "\n",
       "    .dataframe thead th {\n",
       "        text-align: right;\n",
       "    }\n",
       "</style>\n",
       "<table border=\"1\" class=\"dataframe\">\n",
       "  <thead>\n",
       "    <tr style=\"text-align: right;\">\n",
       "      <th></th>\n",
       "      <th>followers_count</th>\n",
       "      <th>statuses_count</th>\n",
       "    </tr>\n",
       "    <tr>\n",
       "      <th>screen_name</th>\n",
       "      <th></th>\n",
       "      <th></th>\n",
       "    </tr>\n",
       "  </thead>\n",
       "  <tbody>\n",
       "    <tr>\n",
       "      <th>Meryem51853387</th>\n",
       "      <td>174</td>\n",
       "      <td>0</td>\n",
       "    </tr>\n",
       "    <tr>\n",
       "      <th>Mhrgl01</th>\n",
       "      <td>21</td>\n",
       "      <td>548</td>\n",
       "    </tr>\n",
       "    <tr>\n",
       "      <th>Altindararzu89</th>\n",
       "      <td>0</td>\n",
       "      <td>0</td>\n",
       "    </tr>\n",
       "    <tr>\n",
       "      <th>MehmetBozaciog2</th>\n",
       "      <td>0</td>\n",
       "      <td>2</td>\n",
       "    </tr>\n",
       "    <tr>\n",
       "      <th>iamSoulflyy</th>\n",
       "      <td>0</td>\n",
       "      <td>0</td>\n",
       "    </tr>\n",
       "  </tbody>\n",
       "</table>\n",
       "</div>"
      ],
      "text/plain": [
       "                 followers_count  statuses_count\n",
       "screen_name                                     \n",
       "Meryem51853387               174               0\n",
       "Mhrgl01                       21             548\n",
       "Altindararzu89                 0               0\n",
       "MehmetBozaciog2                0               2\n",
       "iamSoulflyy                    0               0"
      ]
     },
     "execution_count": 23,
     "metadata": {},
     "output_type": "execute_result"
    }
   ],
   "source": [
    "s_data.head()"
   ]
  },
  {
   "cell_type": "code",
   "execution_count": 25,
   "id": "d9eb2c7b-6fd2-482c-b73b-71fc6e502563",
   "metadata": {},
   "outputs": [],
   "source": [
    "# amacımız followers_count * statuses_count\n",
    "# 0 değerleri bu değeri etkisizleştirdiğinden 0 değerleri yerine 0.01 verelim..."
   ]
  },
  {
   "cell_type": "code",
   "execution_count": 27,
   "id": "bb8939f1-008e-4dd9-a0f4-9c9a7a631b8e",
   "metadata": {},
   "outputs": [],
   "source": [
    "s_data = s_data + 0.01"
   ]
  },
  {
   "cell_type": "code",
   "execution_count": 29,
   "id": "25c81aff-5b3b-4f2f-8f80-f871ef98764e",
   "metadata": {},
   "outputs": [
    {
     "data": {
      "text/html": [
       "<div>\n",
       "<style scoped>\n",
       "    .dataframe tbody tr th:only-of-type {\n",
       "        vertical-align: middle;\n",
       "    }\n",
       "\n",
       "    .dataframe tbody tr th {\n",
       "        vertical-align: top;\n",
       "    }\n",
       "\n",
       "    .dataframe thead th {\n",
       "        text-align: right;\n",
       "    }\n",
       "</style>\n",
       "<table border=\"1\" class=\"dataframe\">\n",
       "  <thead>\n",
       "    <tr style=\"text-align: right;\">\n",
       "      <th></th>\n",
       "      <th>followers_count</th>\n",
       "      <th>statuses_count</th>\n",
       "    </tr>\n",
       "    <tr>\n",
       "      <th>screen_name</th>\n",
       "      <th></th>\n",
       "      <th></th>\n",
       "    </tr>\n",
       "  </thead>\n",
       "  <tbody>\n",
       "    <tr>\n",
       "      <th>Meryem51853387</th>\n",
       "      <td>174.01</td>\n",
       "      <td>0.01</td>\n",
       "    </tr>\n",
       "    <tr>\n",
       "      <th>Mhrgl01</th>\n",
       "      <td>21.01</td>\n",
       "      <td>548.01</td>\n",
       "    </tr>\n",
       "    <tr>\n",
       "      <th>Altindararzu89</th>\n",
       "      <td>0.01</td>\n",
       "      <td>0.01</td>\n",
       "    </tr>\n",
       "    <tr>\n",
       "      <th>MehmetBozaciog2</th>\n",
       "      <td>0.01</td>\n",
       "      <td>2.01</td>\n",
       "    </tr>\n",
       "    <tr>\n",
       "      <th>iamSoulflyy</th>\n",
       "      <td>0.01</td>\n",
       "      <td>0.01</td>\n",
       "    </tr>\n",
       "    <tr>\n",
       "      <th>onderyildiz221</th>\n",
       "      <td>6.01</td>\n",
       "      <td>11.01</td>\n",
       "    </tr>\n",
       "    <tr>\n",
       "      <th>Haydar64498472</th>\n",
       "      <td>0.01</td>\n",
       "      <td>0.01</td>\n",
       "    </tr>\n",
       "    <tr>\n",
       "      <th>filizkaraali2</th>\n",
       "      <td>56.01</td>\n",
       "      <td>21.01</td>\n",
       "    </tr>\n",
       "    <tr>\n",
       "      <th>ahmtkrtl19034</th>\n",
       "      <td>194.01</td>\n",
       "      <td>882.01</td>\n",
       "    </tr>\n",
       "    <tr>\n",
       "      <th>SedatCo05004013</th>\n",
       "      <td>0.01</td>\n",
       "      <td>0.01</td>\n",
       "    </tr>\n",
       "    <tr>\n",
       "      <th>serdariyi</th>\n",
       "      <td>21.01</td>\n",
       "      <td>45.01</td>\n",
       "    </tr>\n",
       "    <tr>\n",
       "      <th>ilyasguller79</th>\n",
       "      <td>0.01</td>\n",
       "      <td>0.01</td>\n",
       "    </tr>\n",
       "    <tr>\n",
       "      <th>LdDurugul</th>\n",
       "      <td>156.01</td>\n",
       "      <td>0.01</td>\n",
       "    </tr>\n",
       "    <tr>\n",
       "      <th>FerdaneOzsahin</th>\n",
       "      <td>0.01</td>\n",
       "      <td>0.01</td>\n",
       "    </tr>\n",
       "    <tr>\n",
       "      <th>ZackyKandemir</th>\n",
       "      <td>6.01</td>\n",
       "      <td>0.01</td>\n",
       "    </tr>\n",
       "    <tr>\n",
       "      <th>Serdar4Turgay</th>\n",
       "      <td>0.01</td>\n",
       "      <td>0.01</td>\n",
       "    </tr>\n",
       "    <tr>\n",
       "      <th>enis52368669</th>\n",
       "      <td>0.01</td>\n",
       "      <td>0.01</td>\n",
       "    </tr>\n",
       "    <tr>\n",
       "      <th>be_hadiii</th>\n",
       "      <td>0.01</td>\n",
       "      <td>0.01</td>\n",
       "    </tr>\n",
       "    <tr>\n",
       "      <th>bilaldogan19</th>\n",
       "      <td>4.01</td>\n",
       "      <td>0.01</td>\n",
       "    </tr>\n",
       "    <tr>\n",
       "      <th>Unal0311</th>\n",
       "      <td>0.01</td>\n",
       "      <td>0.01</td>\n",
       "    </tr>\n",
       "  </tbody>\n",
       "</table>\n",
       "</div>"
      ],
      "text/plain": [
       "                 followers_count  statuses_count\n",
       "screen_name                                     \n",
       "Meryem51853387            174.01            0.01\n",
       "Mhrgl01                    21.01          548.01\n",
       "Altindararzu89              0.01            0.01\n",
       "MehmetBozaciog2             0.01            2.01\n",
       "iamSoulflyy                 0.01            0.01\n",
       "onderyildiz221              6.01           11.01\n",
       "Haydar64498472              0.01            0.01\n",
       "filizkaraali2              56.01           21.01\n",
       "ahmtkrtl19034             194.01          882.01\n",
       "SedatCo05004013             0.01            0.01\n",
       "serdariyi                  21.01           45.01\n",
       "ilyasguller79               0.01            0.01\n",
       "LdDurugul                 156.01            0.01\n",
       "FerdaneOzsahin              0.01            0.01\n",
       "ZackyKandemir               6.01            0.01\n",
       "Serdar4Turgay               0.01            0.01\n",
       "enis52368669                0.01            0.01\n",
       "be_hadiii                   0.01            0.01\n",
       "bilaldogan19                4.01            0.01\n",
       "Unal0311                    0.01            0.01"
      ]
     },
     "execution_count": 29,
     "metadata": {},
     "output_type": "execute_result"
    }
   ],
   "source": [
    "s_data"
   ]
  },
  {
   "cell_type": "code",
   "execution_count": null,
   "id": "c48d6a61-890f-4fef-a0a9-cb222f3b1a66",
   "metadata": {},
   "outputs": [],
   "source": []
  }
 ],
 "metadata": {
  "kernelspec": {
   "display_name": "Python 3 (ipykernel)",
   "language": "python",
   "name": "python3"
  },
  "language_info": {
   "codemirror_mode": {
    "name": "ipython",
    "version": 3
   },
   "file_extension": ".py",
   "mimetype": "text/x-python",
   "name": "python",
   "nbconvert_exporter": "python",
   "pygments_lexer": "ipython3",
   "version": "3.8.10"
  }
 },
 "nbformat": 4,
 "nbformat_minor": 5
}
